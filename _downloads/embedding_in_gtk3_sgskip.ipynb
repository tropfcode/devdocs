{
  "metadata": {
    "language_info": {
      "version": "3.5.3",
      "codemirror_mode": {
        "version": 3,
        "name": "ipython"
      },
      "file_extension": ".py",
      "name": "python",
      "nbconvert_exporter": "python",
      "mimetype": "text/x-python",
      "pygments_lexer": "ipython3"
    },
    "kernelspec": {
      "display_name": "Python 3",
      "language": "python",
      "name": "python3"
    }
  },
  "cells": [
    {
      "execution_count": null,
      "cell_type": "code",
      "metadata": {
        "collapsed": false
      },
      "source": [
        "%matplotlib inline"
      ],
      "outputs": []
    },
    {
      "metadata": {},
      "cell_type": "markdown",
      "source": [
        "\n# Embedding In GTK3\n\n\ndemonstrate adding a FigureCanvasGTK3Agg widget to a Gtk.ScrolledWindow\nusing GTK3 accessed via pygobject\n\n"
      ]
    },
    {
      "execution_count": null,
      "cell_type": "code",
      "metadata": {
        "collapsed": false
      },
      "source": [
        "from gi.repository import Gtk\n\nfrom matplotlib.figure import Figure\nfrom numpy import arange, sin, pi\nfrom matplotlib.backends.backend_gtk3agg import FigureCanvasGTK3Agg as FigureCanvas\n\nwin = Gtk.Window()\nwin.connect(\"delete-event\", Gtk.main_quit)\nwin.set_default_size(400, 300)\nwin.set_title(\"Embedding in GTK\")\n\nf = Figure(figsize=(5, 4), dpi=100)\na = f.add_subplot(111)\nt = arange(0.0, 3.0, 0.01)\ns = sin(2*pi*t)\na.plot(t, s)\n\nsw = Gtk.ScrolledWindow()\nwin.add(sw)\n# A scrolled window border goes outside the scrollbars and viewport\nsw.set_border_width(10)\n\ncanvas = FigureCanvas(f)  # a Gtk.DrawingArea\ncanvas.set_size_request(800, 600)\nsw.add_with_viewport(canvas)\n\nwin.show_all()\nGtk.main()"
      ],
      "outputs": []
    }
  ],
  "nbformat": 4,
  "nbformat_minor": 0
}
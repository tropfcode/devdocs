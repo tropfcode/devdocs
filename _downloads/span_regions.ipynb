{
  "metadata": {
    "language_info": {
      "version": "3.5.3",
      "codemirror_mode": {
        "version": 3,
        "name": "ipython"
      },
      "file_extension": ".py",
      "name": "python",
      "nbconvert_exporter": "python",
      "mimetype": "text/x-python",
      "pygments_lexer": "ipython3"
    },
    "kernelspec": {
      "display_name": "Python 3",
      "language": "python",
      "name": "python3"
    }
  },
  "cells": [
    {
      "execution_count": null,
      "cell_type": "code",
      "metadata": {
        "collapsed": false
      },
      "source": [
        "%matplotlib inline"
      ],
      "outputs": []
    },
    {
      "metadata": {},
      "cell_type": "markdown",
      "source": [
        "\n# Using span_where\n\n\nIllustrate some helper functions for shading regions where a logical\nmask is True\n\nSee :meth:`matplotlib.collections.BrokenBarHCollection.span_where`\n\n"
      ]
    },
    {
      "execution_count": null,
      "cell_type": "code",
      "metadata": {
        "collapsed": false
      },
      "source": [
        "import numpy as np\nimport matplotlib.pyplot as plt\nimport matplotlib.collections as collections\n\n\nt = np.arange(0.0, 2, 0.01)\ns1 = np.sin(2*np.pi*t)\ns2 = 1.2*np.sin(4*np.pi*t)\n\n\nfig, ax = plt.subplots()\nax.set_title('using span_where')\nax.plot(t, s1, color='black')\nax.axhline(0, color='black', lw=2)\n\ncollection = collections.BrokenBarHCollection.span_where(\n    t, ymin=0, ymax=1, where=s1 > 0, facecolor='green', alpha=0.5)\nax.add_collection(collection)\n\ncollection = collections.BrokenBarHCollection.span_where(\n    t, ymin=-1, ymax=0, where=s1 < 0, facecolor='red', alpha=0.5)\nax.add_collection(collection)\n\n\nplt.show()"
      ],
      "outputs": []
    }
  ],
  "nbformat": 4,
  "nbformat_minor": 0
}
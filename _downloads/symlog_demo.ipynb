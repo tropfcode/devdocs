{
  "metadata": {
    "language_info": {
      "version": "3.5.3",
      "codemirror_mode": {
        "version": 3,
        "name": "ipython"
      },
      "file_extension": ".py",
      "name": "python",
      "nbconvert_exporter": "python",
      "mimetype": "text/x-python",
      "pygments_lexer": "ipython3"
    },
    "kernelspec": {
      "display_name": "Python 3",
      "language": "python",
      "name": "python3"
    }
  },
  "cells": [
    {
      "execution_count": null,
      "cell_type": "code",
      "metadata": {
        "collapsed": false
      },
      "source": [
        "%matplotlib inline"
      ],
      "outputs": []
    },
    {
      "metadata": {},
      "cell_type": "markdown",
      "source": [
        "\n# Symlog Demo\n\n\nExample use of symlog (symmetric log) axis scaling.\n\n"
      ]
    },
    {
      "execution_count": null,
      "cell_type": "code",
      "metadata": {
        "collapsed": false
      },
      "source": [
        "import matplotlib.pyplot as plt\nimport numpy as np\n\ndt = 0.01\nx = np.arange(-50.0, 50.0, dt)\ny = np.arange(0, 100.0, dt)\n\nplt.subplot(311)\nplt.plot(x, y)\nplt.xscale('symlog')\nplt.ylabel('symlogx')\nplt.grid(True)\nplt.gca().xaxis.grid(True, which='minor')  # minor grid on too\n\nplt.subplot(312)\nplt.plot(y, x)\nplt.yscale('symlog')\nplt.ylabel('symlogy')\n\nplt.subplot(313)\nplt.plot(x, np.sin(x / 3.0))\nplt.xscale('symlog')\nplt.yscale('symlog', linthreshy=0.015)\nplt.grid(True)\nplt.ylabel('symlog both')\n\nplt.tight_layout()\nplt.show()"
      ],
      "outputs": []
    }
  ],
  "nbformat": 4,
  "nbformat_minor": 0
}
{
  "metadata": {
    "language_info": {
      "version": "3.5.3",
      "codemirror_mode": {
        "version": 3,
        "name": "ipython"
      },
      "file_extension": ".py",
      "name": "python",
      "nbconvert_exporter": "python",
      "mimetype": "text/x-python",
      "pygments_lexer": "ipython3"
    },
    "kernelspec": {
      "display_name": "Python 3",
      "language": "python",
      "name": "python3"
    }
  },
  "cells": [
    {
      "execution_count": null,
      "cell_type": "code",
      "metadata": {
        "collapsed": false
      },
      "source": [
        "%matplotlib inline"
      ],
      "outputs": []
    },
    {
      "metadata": {},
      "cell_type": "markdown",
      "source": [
        "\n# Font Indexing\n\n\nA little example that shows how the various indexing into the font\ntables relate to one another.  Mainly for mpl developers....\n\n\n"
      ]
    },
    {
      "execution_count": null,
      "cell_type": "code",
      "metadata": {
        "collapsed": false
      },
      "source": [
        "from __future__ import print_function\nimport matplotlib\nfrom matplotlib.ft2font import FT2Font, KERNING_DEFAULT, KERNING_UNFITTED, KERNING_UNSCALED\n\n\n#fname = '/usr/share/fonts/sfd/FreeSans.ttf'\nfname = matplotlib.get_data_path() + '/fonts/ttf/DejaVuSans.ttf'\nfont = FT2Font(fname)\nfont.set_charmap(0)\n\ncodes = font.get_charmap().items()\n#dsu = [(ccode, glyphind) for ccode, glyphind in codes]\n#dsu.sort()\n#for ccode, glyphind in dsu:\n#    try: name = font.get_glyph_name(glyphind)\n#    except RuntimeError: pass\n#    else: print('% 4d % 4d %s %s' % (glyphind, ccode, hex(int(ccode)), name))\n\n\n# make a charname to charcode and glyphind dictionary\ncoded = {}\nglyphd = {}\nfor ccode, glyphind in codes:\n    name = font.get_glyph_name(glyphind)\n    coded[name] = ccode\n    glyphd[name] = glyphind\n\ncode = coded['A']\nglyph = font.load_char(code)\n#print(glyph.bbox)\nprint(glyphd['A'], glyphd['V'], coded['A'], coded['V'])\nprint('AV', font.get_kerning(glyphd['A'], glyphd['V'], KERNING_DEFAULT))\nprint('AV', font.get_kerning(glyphd['A'], glyphd['V'], KERNING_UNFITTED))\nprint('AV', font.get_kerning(glyphd['A'], glyphd['V'], KERNING_UNSCALED))\nprint('AV', font.get_kerning(glyphd['A'], glyphd['T'], KERNING_UNSCALED))"
      ],
      "outputs": []
    }
  ],
  "nbformat": 4,
  "nbformat_minor": 0
}
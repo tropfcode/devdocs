{
  "metadata": {
    "language_info": {
      "version": "3.5.3",
      "codemirror_mode": {
        "version": 3,
        "name": "ipython"
      },
      "file_extension": ".py",
      "name": "python",
      "nbconvert_exporter": "python",
      "mimetype": "text/x-python",
      "pygments_lexer": "ipython3"
    },
    "kernelspec": {
      "display_name": "Python 3",
      "language": "python",
      "name": "python3"
    }
  },
  "cells": [
    {
      "execution_count": null,
      "cell_type": "code",
      "metadata": {
        "collapsed": false
      },
      "source": [
        "%matplotlib inline"
      ],
      "outputs": []
    },
    {
      "metadata": {},
      "cell_type": "markdown",
      "source": [
        "\n# Matplotlib Logos\n\n\nDisplays some matplotlib logos.\n\nThanks to Tony Yu <tsyu80@gmail.com> for the logo design\n\n"
      ]
    },
    {
      "execution_count": null,
      "cell_type": "code",
      "metadata": {
        "collapsed": false
      },
      "source": [
        "import numpy as np\nimport matplotlib as mpl\nimport matplotlib.pyplot as plt\nimport matplotlib.cm as cm\n\nmpl.rcParams['xtick.labelsize'] = 10\nmpl.rcParams['ytick.labelsize'] = 12\nmpl.rcParams['axes.edgecolor'] = 'gray'\n\n\naxalpha = 0.05\nfigcolor = 'white'\ndpi = 80\nfig = plt.figure(figsize=(6, 1.1), dpi=dpi)\nfig.patch.set_edgecolor(figcolor)\nfig.patch.set_facecolor(figcolor)\n\n\ndef add_math_background():\n    ax = fig.add_axes([0., 0., 1., 1.])\n\n    text = []\n    text.append(\n        (r\"$W^{3\\beta}_{\\delta_1 \\rho_1 \\sigma_2} = \"\n         r\"U^{3\\beta}_{\\delta_1 \\rho_1} + \\frac{1}{8 \\pi 2}\"\n         r\"\\int^{\\alpha_2}_{\\alpha_2} d \\alpha^\\prime_2 \"\n         r\"\\left[\\frac{ U^{2\\beta}_{\\delta_1 \\rho_1} - \"\n         r\"\\alpha^\\prime_2U^{1\\beta}_{\\rho_1 \\sigma_2} \"\n         r\"}{U^{0\\beta}_{\\rho_1 \\sigma_2}}\\right]$\", (0.7, 0.2), 20))\n    text.append((r\"$\\frac{d\\rho}{d t} + \\rho \\vec{v}\\cdot\\nabla\\vec{v} \"\n                 r\"= -\\nabla p + \\mu\\nabla^2 \\vec{v} + \\rho \\vec{g}$\",\n                 (0.35, 0.9), 20))\n    text.append((r\"$\\int_{-\\infty}^\\infty e^{-x^2}dx=\\sqrt{\\pi}$\",\n                 (0.15, 0.3), 25))\n    text.append((r\"$F_G = G\\frac{m_1m_2}{r^2}$\",\n                 (0.85, 0.7), 30))\n    for eq, (x, y), size in text:\n        ax.text(x, y, eq, ha='center', va='center', color=\"#11557c\",\n                alpha=0.25, transform=ax.transAxes, fontsize=size)\n    ax.set_axis_off()\n    return ax\n\n\ndef add_matplotlib_text(ax):\n    ax.text(0.95, 0.5, 'matplotlib', color='#11557c', fontsize=65,\n            ha='right', va='center', alpha=1.0, transform=ax.transAxes)\n\n\ndef add_polar_bar():\n    ax = fig.add_axes([0.025, 0.075, 0.2, 0.85], projection='polar')\n\n    ax.patch.set_alpha(axalpha)\n    ax.set_axisbelow(True)\n    N = 7\n    arc = 2. * np.pi\n    theta = np.arange(0.0, arc, arc/N)\n    radii = 10 * np.array([0.2, 0.6, 0.8, 0.7, 0.4, 0.5, 0.8])\n    width = np.pi / 4 * np.array([0.4, 0.4, 0.6, 0.8, 0.2, 0.5, 0.3])\n    bars = ax.bar(theta, radii, width=width, bottom=0.0)\n    for r, bar in zip(radii, bars):\n        bar.set_facecolor(cm.jet(r/10.))\n        bar.set_alpha(0.6)\n\n    for label in ax.get_xticklabels() + ax.get_yticklabels():\n        label.set_visible(False)\n\n    for line in ax.get_ygridlines() + ax.get_xgridlines():\n        line.set_lw(0.8)\n        line.set_alpha(0.9)\n        line.set_ls('-')\n        line.set_color('0.5')\n\n    ax.set_yticks(np.arange(1, 9, 2))\n    ax.set_rmax(9)\n\n\nif __name__ == '__main__':\n    main_axes = add_math_background()\n    add_polar_bar()\n    add_matplotlib_text(main_axes)\n    plt.show()"
      ],
      "outputs": []
    }
  ],
  "nbformat": 4,
  "nbformat_minor": 0
}
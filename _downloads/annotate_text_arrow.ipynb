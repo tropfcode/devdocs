{
  "metadata": {
    "language_info": {
      "version": "3.5.3",
      "codemirror_mode": {
        "version": 3,
        "name": "ipython"
      },
      "file_extension": ".py",
      "name": "python",
      "nbconvert_exporter": "python",
      "mimetype": "text/x-python",
      "pygments_lexer": "ipython3"
    },
    "kernelspec": {
      "display_name": "Python 3",
      "language": "python",
      "name": "python3"
    }
  },
  "cells": [
    {
      "execution_count": null,
      "cell_type": "code",
      "metadata": {
        "collapsed": false
      },
      "source": [
        "%matplotlib inline"
      ],
      "outputs": []
    },
    {
      "metadata": {},
      "cell_type": "markdown",
      "source": [
        "\n# Annotate Text Arrow\n\n\n\n"
      ]
    },
    {
      "execution_count": null,
      "cell_type": "code",
      "metadata": {
        "collapsed": false
      },
      "source": [
        "import numpy as np\nimport matplotlib.pyplot as plt\n\nfig, ax = plt.subplots(figsize=(5, 5))\nax.set_aspect(1)\n\nx1 = -1 + np.random.randn(100)\ny1 = -1 + np.random.randn(100)\nx2 = 1. + np.random.randn(100)\ny2 = 1. + np.random.randn(100)\n\nax.scatter(x1, y1, color=\"r\")\nax.scatter(x2, y2, color=\"g\")\n\nbbox_props = dict(boxstyle=\"round\", fc=\"w\", ec=\"0.5\", alpha=0.9)\nax.text(-2, -2, \"Sample A\", ha=\"center\", va=\"center\", size=20,\n        bbox=bbox_props)\nax.text(2, 2, \"Sample B\", ha=\"center\", va=\"center\", size=20,\n        bbox=bbox_props)\n\n\nbbox_props = dict(boxstyle=\"rarrow\", fc=(0.8, 0.9, 0.9), ec=\"b\", lw=2)\nt = ax.text(0, 0, \"Direction\", ha=\"center\", va=\"center\", rotation=45,\n            size=15,\n            bbox=bbox_props)\n\nbb = t.get_bbox_patch()\nbb.set_boxstyle(\"rarrow\", pad=0.6)\n\nax.set_xlim(-4, 4)\nax.set_ylim(-4, 4)\n\nplt.show()"
      ],
      "outputs": []
    }
  ],
  "nbformat": 4,
  "nbformat_minor": 0
}
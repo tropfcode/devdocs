{
  "metadata": {
    "language_info": {
      "version": "3.5.3",
      "codemirror_mode": {
        "version": 3,
        "name": "ipython"
      },
      "file_extension": ".py",
      "name": "python",
      "nbconvert_exporter": "python",
      "mimetype": "text/x-python",
      "pygments_lexer": "ipython3"
    },
    "kernelspec": {
      "display_name": "Python 3",
      "language": "python",
      "name": "python3"
    }
  },
  "cells": [
    {
      "execution_count": null,
      "cell_type": "code",
      "metadata": {
        "collapsed": false
      },
      "source": [
        "%matplotlib inline"
      ],
      "outputs": []
    },
    {
      "metadata": {},
      "cell_type": "markdown",
      "source": [
        "\n# Markevery Demo\n\n\nThis example demonstrates the various options for showing a marker at a\nsubset of data points using the ``markevery`` property of a Line2D object.\n\nInteger arguments are fairly intuitive.  e.g. ``markevery=5`` will plot every\n5th marker starting from the first data point.\n\nFloat arguments allow markers to be spaced at approximately equal distances\nalong the line.  The theoretical distance along the line between markers is\ndetermined by multiplying the display-coordinate distance of the axes\nbounding-box diagonal by the value of ``markevery``.  The data points closest\nto the theoretical distances will be shown.\n\nA slice or list/array can also be used with ``markevery`` to specify the\nmarkers to show.\n\n\n"
      ]
    },
    {
      "execution_count": null,
      "cell_type": "code",
      "metadata": {
        "collapsed": false
      },
      "source": [
        "from __future__ import division\nimport numpy as np\nimport matplotlib.pyplot as plt\nimport matplotlib.gridspec as gridspec\n\n# define a list of markevery cases to plot\ncases = [None,\n         8,\n         (30, 8),\n         [16, 24, 30], [0, -1],\n         slice(100, 200, 3),\n         0.1, 0.3, 1.5,\n         (0.0, 0.1), (0.45, 0.1)]\n\n# define the figure size and grid layout properties\nfigsize = (10, 8)\ncols = 3\ngs = gridspec.GridSpec(len(cases) // cols + 1, cols)\ngs.update(hspace=0.4)\n# define the data for cartesian plots\ndelta = 0.11\nx = np.linspace(0, 10 - 2 * delta, 200) + delta\ny = np.sin(x) + 1.0 + delta"
      ],
      "outputs": []
    },
    {
      "metadata": {},
      "cell_type": "markdown",
      "source": [
        "Plot each markevery case for linear x and y scales\n\n"
      ]
    },
    {
      "execution_count": null,
      "cell_type": "code",
      "metadata": {
        "collapsed": false
      },
      "source": [
        "fig1 = plt.figure(num=1, figsize=figsize)\nax = []\nfor i, case in enumerate(cases):\n    row = (i // cols)\n    col = i % cols\n    ax.append(fig1.add_subplot(gs[row, col]))\n    ax[-1].set_title('markevery=%s' % str(case))\n    ax[-1].plot(x, y, 'o', ls='-', ms=4, markevery=case)"
      ],
      "outputs": []
    },
    {
      "metadata": {},
      "cell_type": "markdown",
      "source": [
        "Plot each markevery case for log x and y scales\n\n"
      ]
    },
    {
      "execution_count": null,
      "cell_type": "code",
      "metadata": {
        "collapsed": false
      },
      "source": [
        "fig2 = plt.figure(num=2, figsize=figsize)\naxlog = []\nfor i, case in enumerate(cases):\n    row = (i // cols)\n    col = i % cols\n    axlog.append(fig2.add_subplot(gs[row, col]))\n    axlog[-1].set_title('markevery=%s' % str(case))\n    axlog[-1].set_xscale('log')\n    axlog[-1].set_yscale('log')\n    axlog[-1].plot(x, y, 'o', ls='-', ms=4, markevery=case)\nfig2.tight_layout()"
      ],
      "outputs": []
    },
    {
      "metadata": {},
      "cell_type": "markdown",
      "source": [
        "Plot each markevery case for linear x and y scales but zoomed in\nnote the behaviour when zoomed in.  When a start marker offset is specified\nit is always interpreted with respect to the first data point which might be\ndifferent to the first visible data point.\n\n"
      ]
    },
    {
      "execution_count": null,
      "cell_type": "code",
      "metadata": {
        "collapsed": false
      },
      "source": [
        "fig3 = plt.figure(num=3, figsize=figsize)\naxzoom = []\nfor i, case in enumerate(cases):\n    row = (i // cols)\n    col = i % cols\n    axzoom.append(fig3.add_subplot(gs[row, col]))\n    axzoom[-1].set_title('markevery=%s' % str(case))\n    axzoom[-1].plot(x, y, 'o', ls='-', ms=4, markevery=case)\n    axzoom[-1].set_xlim((6, 6.7))\n    axzoom[-1].set_ylim((1.1, 1.7))\nfig3.tight_layout()\n\n# define data for polar plots\nr = np.linspace(0, 3.0, 200)\ntheta = 2 * np.pi * r"
      ],
      "outputs": []
    },
    {
      "metadata": {},
      "cell_type": "markdown",
      "source": [
        "Plot each markevery case for polar plots\n\n"
      ]
    },
    {
      "execution_count": null,
      "cell_type": "code",
      "metadata": {
        "collapsed": false
      },
      "source": [
        "fig4 = plt.figure(num=4, figsize=figsize)\naxpolar = []\nfor i, case in enumerate(cases):\n    row = (i // cols)\n    col = i % cols\n    axpolar.append(fig4.add_subplot(gs[row, col], projection='polar'))\n    axpolar[-1].set_title('markevery=%s' % str(case))\n    axpolar[-1].plot(theta, r, 'o', ls='-', ms=4, markevery=case)\nfig4.tight_layout()\n\nplt.show()"
      ],
      "outputs": []
    }
  ],
  "nbformat": 4,
  "nbformat_minor": 0
}
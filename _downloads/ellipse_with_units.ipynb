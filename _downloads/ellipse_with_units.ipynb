{
  "metadata": {
    "language_info": {
      "version": "3.5.3",
      "codemirror_mode": {
        "version": 3,
        "name": "ipython"
      },
      "file_extension": ".py",
      "name": "python",
      "nbconvert_exporter": "python",
      "mimetype": "text/x-python",
      "pygments_lexer": "ipython3"
    },
    "kernelspec": {
      "display_name": "Python 3",
      "language": "python",
      "name": "python3"
    }
  },
  "cells": [
    {
      "execution_count": null,
      "cell_type": "code",
      "metadata": {
        "collapsed": false
      },
      "source": [
        "%matplotlib inline"
      ],
      "outputs": []
    },
    {
      "metadata": {},
      "cell_type": "markdown",
      "source": [
        "\n# Ellipse With Units\n\n\nCompare the ellipse generated with arcs versus a polygonal approximation\n\n.. only:: builder_html\n\n   This example requires :download:`basic_units.py <basic_units.py>`\n\n"
      ]
    },
    {
      "execution_count": null,
      "cell_type": "code",
      "metadata": {
        "collapsed": false
      },
      "source": [
        "from basic_units import cm\nimport numpy as np\nfrom matplotlib import patches\nimport matplotlib.pyplot as plt\n\n\nxcenter, ycenter = 0.38*cm, 0.52*cm\nwidth, height = 1e-1*cm, 3e-1*cm\nangle = -30\n\ntheta = np.deg2rad(np.arange(0.0, 360.0, 1.0))\nx = 0.5 * width * np.cos(theta)\ny = 0.5 * height * np.sin(theta)\n\nrtheta = np.radians(angle)\nR = np.array([\n    [np.cos(rtheta), -np.sin(rtheta)],\n    [np.sin(rtheta),  np.cos(rtheta)],\n    ])\n\n\nx, y = np.dot(R, np.array([x, y]))\nx += xcenter\ny += ycenter"
      ],
      "outputs": []
    },
    {
      "execution_count": null,
      "cell_type": "code",
      "metadata": {
        "collapsed": false
      },
      "source": [
        "fig = plt.figure()\nax = fig.add_subplot(211, aspect='auto')\nax.fill(x, y, alpha=0.2, facecolor='yellow',\n        edgecolor='yellow', linewidth=1, zorder=1)\n\ne1 = patches.Ellipse((xcenter, ycenter), width, height,\n                     angle=angle, linewidth=2, fill=False, zorder=2)\n\nax.add_patch(e1)\n\nax = fig.add_subplot(212, aspect='equal')\nax.fill(x, y, alpha=0.2, facecolor='green', edgecolor='green', zorder=1)\ne2 = patches.Ellipse((xcenter, ycenter), width, height,\n                     angle=angle, linewidth=2, fill=False, zorder=2)\n\n\nax.add_patch(e2)\nfig.savefig('ellipse_compare')"
      ],
      "outputs": []
    },
    {
      "execution_count": null,
      "cell_type": "code",
      "metadata": {
        "collapsed": false
      },
      "source": [
        "fig = plt.figure()\nax = fig.add_subplot(211, aspect='auto')\nax.fill(x, y, alpha=0.2, facecolor='yellow',\n        edgecolor='yellow', linewidth=1, zorder=1)\n\ne1 = patches.Arc((xcenter, ycenter), width, height,\n                 angle=angle, linewidth=2, fill=False, zorder=2)\n\nax.add_patch(e1)\n\nax = fig.add_subplot(212, aspect='equal')\nax.fill(x, y, alpha=0.2, facecolor='green', edgecolor='green', zorder=1)\ne2 = patches.Arc((xcenter, ycenter), width, height,\n                 angle=angle, linewidth=2, fill=False, zorder=2)\n\n\nax.add_patch(e2)\nfig.savefig('arc_compare')\n\nplt.show()"
      ],
      "outputs": []
    }
  ],
  "nbformat": 4,
  "nbformat_minor": 0
}
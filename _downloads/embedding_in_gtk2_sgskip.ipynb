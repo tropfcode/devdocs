{
  "metadata": {
    "language_info": {
      "version": "3.5.3",
      "codemirror_mode": {
        "version": 3,
        "name": "ipython"
      },
      "file_extension": ".py",
      "name": "python",
      "nbconvert_exporter": "python",
      "mimetype": "text/x-python",
      "pygments_lexer": "ipython3"
    },
    "kernelspec": {
      "display_name": "Python 3",
      "language": "python",
      "name": "python3"
    }
  },
  "cells": [
    {
      "execution_count": null,
      "cell_type": "code",
      "metadata": {
        "collapsed": false
      },
      "source": [
        "%matplotlib inline"
      ],
      "outputs": []
    },
    {
      "metadata": {},
      "cell_type": "markdown",
      "source": [
        "\n# Embedding In GTK2\n\n\nshow how to add a matplotlib FigureCanvasGTK or FigureCanvasGTKAgg widget and\na toolbar to a gtk.Window\n\n"
      ]
    },
    {
      "execution_count": null,
      "cell_type": "code",
      "metadata": {
        "collapsed": false
      },
      "source": [
        "import gtk\n\nfrom matplotlib.figure import Figure\nfrom numpy import arange, sin, pi\n\n# uncomment to select /GTK/GTKAgg/GTKCairo\n#from matplotlib.backends.backend_gtk import FigureCanvasGTK as FigureCanvas\nfrom matplotlib.backends.backend_gtkagg import FigureCanvasGTKAgg as FigureCanvas\n#from matplotlib.backends.backend_gtkcairo import FigureCanvasGTKCairo as FigureCanvas\n\n# or NavigationToolbar for classic\n#from matplotlib.backends.backend_gtk import NavigationToolbar2GTK as NavigationToolbar\nfrom matplotlib.backends.backend_gtkagg import NavigationToolbar2GTKAgg as NavigationToolbar\n\n# implement the default mpl key bindings\nfrom matplotlib.backend_bases import key_press_handler\n\nwin = gtk.Window()\nwin.connect(\"destroy\", lambda x: gtk.main_quit())\nwin.set_default_size(400, 300)\nwin.set_title(\"Embedding in GTK\")\n\nvbox = gtk.VBox()\nwin.add(vbox)\n\nfig = Figure(figsize=(5, 4), dpi=100)\nax = fig.add_subplot(111)\nt = arange(0.0, 3.0, 0.01)\ns = sin(2*pi*t)\n\nax.plot(t, s)\n\n\ncanvas = FigureCanvas(fig)  # a gtk.DrawingArea\nvbox.pack_start(canvas)\ntoolbar = NavigationToolbar(canvas, win)\nvbox.pack_start(toolbar, False, False)\n\n\ndef on_key_event(event):\n    print('you pressed %s' % event.key)\n    key_press_handler(event, canvas, toolbar)\n\ncanvas.mpl_connect('key_press_event', on_key_event)\n\nwin.show_all()\ngtk.main()"
      ],
      "outputs": []
    }
  ],
  "nbformat": 4,
  "nbformat_minor": 0
}
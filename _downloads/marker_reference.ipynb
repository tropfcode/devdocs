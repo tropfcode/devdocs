{
  "metadata": {
    "language_info": {
      "version": "3.5.3",
      "codemirror_mode": {
        "version": 3,
        "name": "ipython"
      },
      "file_extension": ".py",
      "name": "python",
      "nbconvert_exporter": "python",
      "mimetype": "text/x-python",
      "pygments_lexer": "ipython3"
    },
    "kernelspec": {
      "display_name": "Python 3",
      "language": "python",
      "name": "python3"
    }
  },
  "cells": [
    {
      "execution_count": null,
      "cell_type": "code",
      "metadata": {
        "collapsed": false
      },
      "source": [
        "%matplotlib inline"
      ],
      "outputs": []
    },
    {
      "metadata": {},
      "cell_type": "markdown",
      "source": [
        "\n# Filled and unfilled-marker types\n\n\nReference for filled- and unfilled-marker types included with Matplotlib.\n\n"
      ]
    },
    {
      "execution_count": null,
      "cell_type": "code",
      "metadata": {
        "collapsed": false
      },
      "source": [
        "from six import iteritems\nimport numpy as np\nimport matplotlib.pyplot as plt\nfrom matplotlib.lines import Line2D\n\n\npoints = np.ones(3)  # Draw 3 points for each line\ntext_style = dict(horizontalalignment='right', verticalalignment='center',\n                  fontsize=12, fontdict={'family': 'monospace'})\nmarker_style = dict(linestyle=':', color='cornflowerblue', markersize=10)\n\n\ndef format_axes(ax):\n    ax.margins(0.2)\n    ax.set_axis_off()\n\n\ndef nice_repr(text):\n    return repr(text).lstrip('u')\n\n\ndef split_list(a_list):\n    i_half = len(a_list) // 2\n    return (a_list[:i_half], a_list[i_half:])"
      ],
      "outputs": []
    },
    {
      "metadata": {},
      "cell_type": "markdown",
      "source": [
        "Plot all un-filled markers\n\n"
      ]
    },
    {
      "execution_count": null,
      "cell_type": "code",
      "metadata": {
        "collapsed": false
      },
      "source": [
        "fig, axes = plt.subplots(ncols=2)\n\n# Filter out filled markers and marker settings that do nothing.\n# We use iteritems from six to make sure that we get an iterator\n# in both python 2 and 3\nunfilled_markers = [m for m, func in iteritems(Line2D.markers)\n                    if func != 'nothing' and m not in Line2D.filled_markers]\n# Reverse-sort for pretty. We use our own sort key which is essentially\n# a python3 compatible reimplementation of python2 sort.\nunfilled_markers = sorted(unfilled_markers,\n                          key=lambda x: (str(type(x)), str(x)))[::-1]\nfor ax, markers in zip(axes, split_list(unfilled_markers)):\n    for y, marker in enumerate(markers):\n        ax.text(-0.5, y, nice_repr(marker), **text_style)\n        ax.plot(y * points, marker=marker, **marker_style)\n        format_axes(ax)\nfig.suptitle('un-filled markers', fontsize=14)"
      ],
      "outputs": []
    },
    {
      "metadata": {},
      "cell_type": "markdown",
      "source": [
        "Plot all filled markers.\n\n"
      ]
    },
    {
      "execution_count": null,
      "cell_type": "code",
      "metadata": {
        "collapsed": false
      },
      "source": [
        "fig, axes = plt.subplots(ncols=2)\nfor ax, markers in zip(axes, split_list(Line2D.filled_markers)):\n    for y, marker in enumerate(markers):\n        ax.text(-0.5, y, nice_repr(marker), **text_style)\n        ax.plot(y * points, marker=marker, **marker_style)\n        format_axes(ax)\nfig.suptitle('filled markers', fontsize=14)\n\nplt.show()"
      ],
      "outputs": []
    }
  ],
  "nbformat": 4,
  "nbformat_minor": 0
}
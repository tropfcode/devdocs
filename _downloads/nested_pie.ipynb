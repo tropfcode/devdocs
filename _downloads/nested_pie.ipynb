{
  "metadata": {
    "language_info": {
      "version": "3.5.3",
      "codemirror_mode": {
        "version": 3,
        "name": "ipython"
      },
      "file_extension": ".py",
      "name": "python",
      "nbconvert_exporter": "python",
      "mimetype": "text/x-python",
      "pygments_lexer": "ipython3"
    },
    "kernelspec": {
      "display_name": "Python 3",
      "language": "python",
      "name": "python3"
    }
  },
  "cells": [
    {
      "execution_count": null,
      "cell_type": "code",
      "metadata": {
        "collapsed": false
      },
      "source": [
        "%matplotlib inline"
      ],
      "outputs": []
    },
    {
      "metadata": {},
      "cell_type": "markdown",
      "source": [
        "\n# Nested pie charts\n\n\nThe following examples show two ways to build a nested pie chart\nin Matplotlib.\n\n\n"
      ]
    },
    {
      "execution_count": null,
      "cell_type": "code",
      "metadata": {
        "collapsed": false
      },
      "source": [
        "from matplotlib import pyplot as plt\nimport numpy as np"
      ],
      "outputs": []
    },
    {
      "metadata": {},
      "cell_type": "markdown",
      "source": [
        "The most straightforward way to build a pie chart is to use the\n:meth:`pie method <matplotlib.axes.Axes.pie>`\n\nIn this case, pie takes values corresponding to counts in a group.\nWe'll first generate some fake data, corresponding to three groups.\nIn the outer circle, we'll treat each number as belonging to its\nown group. In the inner circle, we'll plot them as members of their\noriginal 3 groups.\n\n"
      ]
    },
    {
      "execution_count": null,
      "cell_type": "code",
      "metadata": {
        "collapsed": false
      },
      "source": [
        "vals = np.array([[1, 2, 3, 4], [2, 3, 4, 5], [3, 4, 5, 6]])\nfig, ax = plt.subplots()\nax.pie(vals.flatten(), radius=1.2,\n       colors=plt.rcParams[\"axes.prop_cycle\"].by_key()[\"color\"][:vals.shape[1]])\nax.pie(vals.sum(axis=1), radius=1)\nax.set(aspect=\"equal\", title='Pie plot with `ax.pie`')\n\nplt.show()"
      ],
      "outputs": []
    },
    {
      "metadata": {},
      "cell_type": "markdown",
      "source": [
        "However, you can accomplish the same output by using a bar plot on\naxes with a polar coordinate system. This may give more flexibility on\nthe exact design of the plot.\n\nIn this case, we need to map x-values of the bar chart onto radians of\na circle.\n\n"
      ]
    },
    {
      "execution_count": null,
      "cell_type": "code",
      "metadata": {
        "collapsed": false
      },
      "source": [
        "fig, ax = plt.subplots(subplot_kw=dict(polar=True))\n\nleft_inner = np.arange(0.0, 2 * np.pi, 2 * np.pi / 6)\nleft_middle = np.arange(0.0, 2 * np.pi, 2 * np.pi / 12)\nleft_outer = np.arange(0.0, 2 * np.pi, 2 * np.pi / 9)\n\nax.bar(left=left_inner,\n       width=2 * np.pi / 6, bottom=0, color='C0',\n       linewidth=2, edgecolor='w',\n       height=np.zeros_like(left_inner) + 5)\n\nax.bar(left=left_middle,\n       width=2 * np.pi / 12, bottom=5, color='C1',\n       linewidth=2, edgecolor='w',\n       height=np.zeros_like(left_middle) + 2)\n\nax.bar(left=left_outer,\n       width=2 * np.pi / 9, bottom=7, color='C2',\n       linewidth=2, edgecolor='w',\n       height=np.zeros_like(left_outer) + 3)\n\nax.set(title=\"Pie plot with `ax.bar` and polar coordinates\")\nax.set_axis_off()\nplt.show()"
      ],
      "outputs": []
    }
  ],
  "nbformat": 4,
  "nbformat_minor": 0
}
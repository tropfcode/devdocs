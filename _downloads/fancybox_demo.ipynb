{
  "metadata": {
    "language_info": {
      "version": "3.5.3",
      "codemirror_mode": {
        "version": 3,
        "name": "ipython"
      },
      "file_extension": ".py",
      "name": "python",
      "nbconvert_exporter": "python",
      "mimetype": "text/x-python",
      "pygments_lexer": "ipython3"
    },
    "kernelspec": {
      "display_name": "Python 3",
      "language": "python",
      "name": "python3"
    }
  },
  "cells": [
    {
      "execution_count": null,
      "cell_type": "code",
      "metadata": {
        "collapsed": false
      },
      "source": [
        "%matplotlib inline"
      ],
      "outputs": []
    },
    {
      "metadata": {},
      "cell_type": "markdown",
      "source": [
        "\n# Fancybox Demo\n\n\nPlotting fancy boxes with Matplotlib.\n\nThe following examples show how to plot boxes with different\nvisual properties.\n\n"
      ]
    },
    {
      "execution_count": null,
      "cell_type": "code",
      "metadata": {
        "collapsed": false
      },
      "source": [
        "import matplotlib.pyplot as plt\nimport matplotlib.transforms as mtransforms\nimport matplotlib.patches as mpatch\nfrom matplotlib.patches import FancyBboxPatch"
      ],
      "outputs": []
    },
    {
      "metadata": {},
      "cell_type": "markdown",
      "source": [
        "First we'll show some sample boxes with fancybox.\n\n"
      ]
    },
    {
      "execution_count": null,
      "cell_type": "code",
      "metadata": {
        "collapsed": false
      },
      "source": [
        "styles = mpatch.BoxStyle.get_styles()\nspacing = 1.2\n\nfigheight = (spacing * len(styles) + .5)\nfig1 = plt.figure(1, (4 / 1.5, figheight / 1.5))\nfontsize = 0.3 * 72\n\nfor i, stylename in enumerate(sorted(styles)):\n    fig1.text(0.5, (spacing * (len(styles) - i) - 0.5) / figheight, stylename,\n              ha=\"center\",\n              size=fontsize,\n              transform=fig1.transFigure,\n              bbox=dict(boxstyle=stylename, fc=\"w\", ec=\"k\"))\n\nplt.show()"
      ],
      "outputs": []
    },
    {
      "metadata": {},
      "cell_type": "markdown",
      "source": [
        "Next we'll show off multiple fancy boxes at once.\n\n"
      ]
    },
    {
      "execution_count": null,
      "cell_type": "code",
      "metadata": {
        "collapsed": false
      },
      "source": [
        "# Bbox object around which the fancy box will be drawn.\nbb = mtransforms.Bbox([[0.3, 0.4], [0.7, 0.6]])\n\n\ndef draw_bbox(ax, bb):\n    # boxstyle=square with pad=0, i.e. bbox itself.\n    p_bbox = FancyBboxPatch((bb.xmin, bb.ymin),\n                            abs(bb.width), abs(bb.height),\n                            boxstyle=\"square,pad=0.\",\n                            ec=\"k\", fc=\"none\", zorder=10.,\n                            )\n    ax.add_patch(p_bbox)\n\n\ndef test1(ax):\n\n    # a fancy box with round corners. pad=0.1\n    p_fancy = FancyBboxPatch((bb.xmin, bb.ymin),\n                             abs(bb.width), abs(bb.height),\n                             boxstyle=\"round,pad=0.1\",\n                             fc=(1., .8, 1.),\n                             ec=(1., 0.5, 1.))\n\n    ax.add_patch(p_fancy)\n\n    ax.text(0.1, 0.8,\n            r' boxstyle=\"round,pad=0.1\"',\n            size=10, transform=ax.transAxes)\n\n    # draws control points for the fancy box.\n    # l = p_fancy.get_path().vertices\n    # ax.plot(l[:,0], l[:,1], \".\")\n\n    # draw the original bbox in black\n    draw_bbox(ax, bb)\n\n\ndef test2(ax):\n\n    # bbox=round has two optional argument. pad and rounding_size.\n    # They can be set during the initialization.\n    p_fancy = FancyBboxPatch((bb.xmin, bb.ymin),\n                             abs(bb.width), abs(bb.height),\n                             boxstyle=\"round,pad=0.1\",\n                             fc=(1., .8, 1.),\n                             ec=(1., 0.5, 1.))\n\n    ax.add_patch(p_fancy)\n\n    # boxstyle and its argument can be later modified with\n    # set_boxstyle method. Note that the old attributes are simply\n    # forgotten even if the boxstyle name is same.\n\n    p_fancy.set_boxstyle(\"round,pad=0.1, rounding_size=0.2\")\n    # or\n    # p_fancy.set_boxstyle(\"round\", pad=0.1, rounding_size=0.2)\n\n    ax.text(0.1, 0.8,\n            ' boxstyle=\"round,pad=0.1\\n rounding_size=0.2\"',\n            size=10, transform=ax.transAxes)\n\n    # draws control points for the fancy box.\n    # l = p_fancy.get_path().vertices\n    # ax.plot(l[:,0], l[:,1], \".\")\n\n    draw_bbox(ax, bb)\n\n\ndef test3(ax):\n\n    # mutation_scale determine overall scale of the mutation,\n    # i.e. both pad and rounding_size is scaled according to this\n    # value.\n    p_fancy = FancyBboxPatch((bb.xmin, bb.ymin),\n                             abs(bb.width), abs(bb.height),\n                             boxstyle=\"round,pad=0.1\",\n                             mutation_scale=2.,\n                             fc=(1., .8, 1.),\n                             ec=(1., 0.5, 1.))\n\n    ax.add_patch(p_fancy)\n\n    ax.text(0.1, 0.8,\n            ' boxstyle=\"round,pad=0.1\"\\n mutation_scale=2',\n            size=10, transform=ax.transAxes)\n\n    # draws control points for the fancy box.\n    # l = p_fancy.get_path().vertices\n    # ax.plot(l[:,0], l[:,1], \".\")\n\n    draw_bbox(ax, bb)\n\n\ndef test4(ax):\n\n    # When the aspect ratio of the axes is not 1, the fancy box may\n    # not be what you expected (green)\n\n    p_fancy = FancyBboxPatch((bb.xmin, bb.ymin),\n                             abs(bb.width), abs(bb.height),\n                             boxstyle=\"round,pad=0.2\",\n                             fc=\"none\",\n                             ec=(0., .5, 0.), zorder=4)\n\n    ax.add_patch(p_fancy)\n\n    # You can compensate this by setting the mutation_aspect (pink).\n    p_fancy = FancyBboxPatch((bb.xmin, bb.ymin),\n                             abs(bb.width), abs(bb.height),\n                             boxstyle=\"round,pad=0.3\",\n                             mutation_aspect=.5,\n                             fc=(1., 0.8, 1.),\n                             ec=(1., 0.5, 1.))\n\n    ax.add_patch(p_fancy)\n\n    ax.text(0.1, 0.8,\n            ' boxstyle=\"round,pad=0.3\"\\n mutation_aspect=.5',\n            size=10, transform=ax.transAxes)\n\n    draw_bbox(ax, bb)\n\n\ndef test_all():\n    plt.clf()\n\n    ax = plt.subplot(2, 2, 1)\n    test1(ax)\n    ax.set_xlim(0., 1.)\n    ax.set_ylim(0., 1.)\n    ax.set_title(\"test1\")\n    ax.set_aspect(1.)\n\n    ax = plt.subplot(2, 2, 2)\n    ax.set_title(\"test2\")\n    test2(ax)\n    ax.set_xlim(0., 1.)\n    ax.set_ylim(0., 1.)\n    ax.set_aspect(1.)\n\n    ax = plt.subplot(2, 2, 3)\n    ax.set_title(\"test3\")\n    test3(ax)\n    ax.set_xlim(0., 1.)\n    ax.set_ylim(0., 1.)\n    ax.set_aspect(1)\n\n    ax = plt.subplot(2, 2, 4)\n    ax.set_title(\"test4\")\n    test4(ax)\n    ax.set_xlim(-0.5, 1.5)\n    ax.set_ylim(0., 1.)\n    ax.set_aspect(2.)\n\n    plt.draw()\n    plt.show()\n\n\ntest_all()"
      ],
      "outputs": []
    }
  ],
  "nbformat": 4,
  "nbformat_minor": 0
}
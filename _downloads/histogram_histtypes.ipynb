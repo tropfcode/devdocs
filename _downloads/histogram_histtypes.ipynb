{
  "metadata": {
    "language_info": {
      "version": "3.5.3",
      "codemirror_mode": {
        "version": 3,
        "name": "ipython"
      },
      "file_extension": ".py",
      "name": "python",
      "nbconvert_exporter": "python",
      "mimetype": "text/x-python",
      "pygments_lexer": "ipython3"
    },
    "kernelspec": {
      "display_name": "Python 3",
      "language": "python",
      "name": "python3"
    }
  },
  "cells": [
    {
      "execution_count": null,
      "cell_type": "code",
      "metadata": {
        "collapsed": false
      },
      "source": [
        "%matplotlib inline"
      ],
      "outputs": []
    },
    {
      "metadata": {},
      "cell_type": "markdown",
      "source": [
        "\n================================================================\nDemo of the histogram function's different ``histtype`` settings\n================================================================\n\n* Histogram with step curve that has a color fill.\n* Histogram with custom and unequal bin widths.\n\nSelecting different bin counts and sizes can significantly affect the\nshape of a histogram. The Astropy docs have a great section on how to\nselect these parameters:\nhttp://docs.astropy.org/en/stable/visualization/histogram.html\n\n"
      ]
    },
    {
      "execution_count": null,
      "cell_type": "code",
      "metadata": {
        "collapsed": false
      },
      "source": [
        "import numpy as np\nimport matplotlib.pyplot as plt\n\nnp.random.seed(19680801)\n\nmu = 200\nsigma = 25\nx = np.random.normal(mu, sigma, size=100)\n\nfig, (ax0, ax1) = plt.subplots(ncols=2, figsize=(8, 4))\n\nax0.hist(x, 20, normed=1, histtype='stepfilled', facecolor='g', alpha=0.75)\nax0.set_title('stepfilled')\n\n# Create a histogram by providing the bin edges (unequally spaced).\nbins = [100, 150, 180, 195, 205, 220, 250, 300]\nax1.hist(x, bins, normed=1, histtype='bar', rwidth=0.8)\nax1.set_title('unequal bins')\n\nfig.tight_layout()\nplt.show()"
      ],
      "outputs": []
    }
  ],
  "nbformat": 4,
  "nbformat_minor": 0
}
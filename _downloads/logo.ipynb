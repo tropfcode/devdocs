{
  "metadata": {
    "language_info": {
      "version": "3.5.3",
      "codemirror_mode": {
        "version": 3,
        "name": "ipython"
      },
      "file_extension": ".py",
      "name": "python",
      "nbconvert_exporter": "python",
      "mimetype": "text/x-python",
      "pygments_lexer": "ipython3"
    },
    "kernelspec": {
      "display_name": "Python 3",
      "language": "python",
      "name": "python3"
    }
  },
  "cells": [
    {
      "execution_count": null,
      "cell_type": "code",
      "metadata": {
        "collapsed": false
      },
      "source": [
        "%matplotlib inline"
      ],
      "outputs": []
    },
    {
      "metadata": {},
      "cell_type": "markdown",
      "source": [
        "\n# Logo\n\n\nThis file generates an old version of the Matplotlib logo.\n\n"
      ]
    },
    {
      "execution_count": null,
      "cell_type": "code",
      "metadata": {
        "collapsed": false
      },
      "source": [
        "from __future__ import print_function\n# Above import not necessary for Python 3 onwards. Recommend taking this\n# out in examples in the future, since we should all move to Python 3.\nimport matplotlib.pyplot as plt\nimport numpy as np\nimport matplotlib.cbook as cbook\n\n# convert data to mV\ndatafile = cbook.get_sample_data('membrane.dat', asfileobj=False)\nprint('loading', datafile)\n\nx = 1000 * 0.1 * np.fromstring(open(datafile, 'rb').read(), np.float32)\n# 0.0005 is the sample interval\nt = 0.0005 * np.arange(len(x))\nplt.figure(1, figsize=(7, 1), dpi=100)\nax = plt.subplot(111, facecolor='y')\nplt.plot(t, x)\nplt.text(0.5, 0.5, 'matplotlib', color='r',\n         fontsize=40, fontname=['Courier', 'DejaVu Sans Mono'],\n         horizontalalignment='center',\n         verticalalignment='center',\n         transform=ax.transAxes,\n         )\nplt.axis([1, 1.72, -60, 10])\nplt.gca().set_xticklabels([])\nplt.gca().set_yticklabels([])\n\nplt.show()"
      ],
      "outputs": []
    }
  ],
  "nbformat": 4,
  "nbformat_minor": 0
}
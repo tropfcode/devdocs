{
  "metadata": {
    "language_info": {
      "version": "3.5.3",
      "codemirror_mode": {
        "version": 3,
        "name": "ipython"
      },
      "file_extension": ".py",
      "name": "python",
      "nbconvert_exporter": "python",
      "mimetype": "text/x-python",
      "pygments_lexer": "ipython3"
    },
    "kernelspec": {
      "display_name": "Python 3",
      "language": "python",
      "name": "python3"
    }
  },
  "cells": [
    {
      "execution_count": null,
      "cell_type": "code",
      "metadata": {
        "collapsed": false
      },
      "source": [
        "%matplotlib inline"
      ],
      "outputs": []
    },
    {
      "metadata": {},
      "cell_type": "markdown",
      "source": [
        "\n# Embedding In Wx2\n\n\nAn example of how to use wx or wxagg in an application with the new\ntoolbar - comment out the setA_toolbar line for no toolbar\n\n"
      ]
    },
    {
      "execution_count": null,
      "cell_type": "code",
      "metadata": {
        "collapsed": false
      },
      "source": [
        "# Matplotlib requires wxPython 2.8+\n# set the wxPython version in lib\\site-packages\\wx.pth file\n# or if you have wxversion installed un-comment the lines below\n#import wxversion\n#wxversion.ensureMinimal('2.8')\n\nfrom numpy import arange, sin, pi\n\nimport matplotlib\n\n# uncomment the following to use wx rather than wxagg\n#matplotlib.use('WX')\n#from matplotlib.backends.backend_wx import FigureCanvasWx as FigureCanvas\n\n# comment out the following to use wx rather than wxagg\nmatplotlib.use('WXAgg')\nfrom matplotlib.backends.backend_wxagg import FigureCanvasWxAgg as FigureCanvas\n\nfrom matplotlib.backends.backend_wx import NavigationToolbar2Wx\n\nfrom matplotlib.figure import Figure\n\nimport wx\nimport wx.lib.mixins.inspection as WIT\n\n\nclass CanvasFrame(wx.Frame):\n    def __init__(self):\n        wx.Frame.__init__(self, None, -1,\n                          'CanvasFrame', size=(550, 350))\n\n        self.figure = Figure()\n        self.axes = self.figure.add_subplot(111)\n        t = arange(0.0, 3.0, 0.01)\n        s = sin(2 * pi * t)\n\n        self.axes.plot(t, s)\n        self.canvas = FigureCanvas(self, -1, self.figure)\n\n        self.sizer = wx.BoxSizer(wx.VERTICAL)\n        self.sizer.Add(self.canvas, 1, wx.LEFT | wx.TOP | wx.EXPAND)\n        self.SetSizer(self.sizer)\n        self.Fit()\n\n        self.add_toolbar()  # comment this out for no toolbar\n\n    def add_toolbar(self):\n        self.toolbar = NavigationToolbar2Wx(self.canvas)\n        self.toolbar.Realize()\n        # By adding toolbar in sizer, we are able to put it at the bottom\n        # of the frame - so appearance is closer to GTK version.\n        self.sizer.Add(self.toolbar, 0, wx.LEFT | wx.EXPAND)\n        # update the axes menu on the toolbar\n        self.toolbar.update()\n\n\n# alternatively you could use\n#class App(wx.App):\nclass App(WIT.InspectableApp):\n    def OnInit(self):\n        'Create the main window and insert the custom frame'\n        self.Init()\n        frame = CanvasFrame()\n        frame.Show(True)\n\n        return True\n\napp = App(0)\napp.MainLoop()"
      ],
      "outputs": []
    }
  ],
  "nbformat": 4,
  "nbformat_minor": 0
}
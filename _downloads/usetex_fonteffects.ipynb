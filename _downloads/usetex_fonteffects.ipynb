{
  "metadata": {
    "language_info": {
      "version": "3.5.3",
      "codemirror_mode": {
        "version": 3,
        "name": "ipython"
      },
      "file_extension": ".py",
      "name": "python",
      "nbconvert_exporter": "python",
      "mimetype": "text/x-python",
      "pygments_lexer": "ipython3"
    },
    "kernelspec": {
      "display_name": "Python 3",
      "language": "python",
      "name": "python3"
    }
  },
  "cells": [
    {
      "execution_count": null,
      "cell_type": "code",
      "metadata": {
        "collapsed": false
      },
      "source": [
        "%matplotlib inline"
      ],
      "outputs": []
    },
    {
      "metadata": {},
      "cell_type": "markdown",
      "source": [
        "\n# Usetex Fonteffects\n\n\nThis script demonstrates that font effects specified in your pdftex.map\nare now supported in pdf usetex.\n\n"
      ]
    },
    {
      "execution_count": null,
      "cell_type": "code",
      "metadata": {
        "collapsed": false
      },
      "source": [
        "import matplotlib\nimport matplotlib.pyplot as plt\nmatplotlib.rc('text', usetex=True)\n\n\ndef setfont(font):\n    return r'\\font\\a %s at 14pt\\a ' % font\n\n\nfor y, font, text in zip(range(5),\n                         ['ptmr8r', 'ptmri8r', 'ptmro8r',\n                          'ptmr8rn', 'ptmrr8re'],\n                         ['Nimbus Roman No9 L ' + x for x in\n                          ['', 'Italics (real italics for comparison)',\n                           '(slanted)', '(condensed)', '(extended)']]):\n    plt.text(0, y, setfont(font) + text)\n\nplt.ylim(-1, 5)\nplt.xlim(-0.2, 0.6)\nplt.setp(plt.gca(), frame_on=False, xticks=(), yticks=())\nplt.title('Usetex font effects')\nplt.savefig('usetex_fonteffects.pdf')"
      ],
      "outputs": []
    }
  ],
  "nbformat": 4,
  "nbformat_minor": 0
}
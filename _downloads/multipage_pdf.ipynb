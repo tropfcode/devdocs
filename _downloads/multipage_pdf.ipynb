{
  "metadata": {
    "language_info": {
      "version": "3.5.3",
      "codemirror_mode": {
        "version": 3,
        "name": "ipython"
      },
      "file_extension": ".py",
      "name": "python",
      "nbconvert_exporter": "python",
      "mimetype": "text/x-python",
      "pygments_lexer": "ipython3"
    },
    "kernelspec": {
      "display_name": "Python 3",
      "language": "python",
      "name": "python3"
    }
  },
  "cells": [
    {
      "execution_count": null,
      "cell_type": "code",
      "metadata": {
        "collapsed": false
      },
      "source": [
        "%matplotlib inline"
      ],
      "outputs": []
    },
    {
      "metadata": {},
      "cell_type": "markdown",
      "source": [
        "\n# Multipage PDF\n\n\nThis is a demo of creating a pdf file with several pages,\nas well as adding metadata and annotations to pdf files.\n\n"
      ]
    },
    {
      "execution_count": null,
      "cell_type": "code",
      "metadata": {
        "collapsed": false
      },
      "source": [
        "import datetime\nimport numpy as np\nfrom matplotlib.backends.backend_pdf import PdfPages\nimport matplotlib.pyplot as plt\n\n# Create the PdfPages object to which we will save the pages:\n# The with statement makes sure that the PdfPages object is closed properly at\n# the end of the block, even if an Exception occurs.\nwith PdfPages('multipage_pdf.pdf') as pdf:\n    plt.figure(figsize=(3, 3))\n    plt.plot(range(7), [3, 1, 4, 1, 5, 9, 2], 'r-o')\n    plt.title('Page One')\n    pdf.savefig()  # saves the current figure into a pdf page\n    plt.close()\n\n    # if LaTeX is not installed or error caught, change to `usetex=False`\n    plt.rc('text', usetex=True)\n    plt.figure(figsize=(8, 6))\n    x = np.arange(0, 5, 0.1)\n    plt.plot(x, np.sin(x), 'b-')\n    plt.title('Page Two')\n    pdf.attach_note(\"plot of sin(x)\")  # you can add a pdf note to\n                                       # attach metadata to a page\n    pdf.savefig()\n    plt.close()\n\n    plt.rc('text', usetex=False)\n    fig = plt.figure(figsize=(4, 5))\n    plt.plot(x, x*x, 'ko')\n    plt.title('Page Three')\n    pdf.savefig(fig)  # or you can pass a Figure object to pdf.savefig\n    plt.close()\n\n    # We can also set the file's metadata via the PdfPages object:\n    d = pdf.infodict()\n    d['Title'] = 'Multipage PDF Example'\n    d['Author'] = u'Jouni K. Sepp\\xe4nen'\n    d['Subject'] = 'How to create a multipage pdf file and set its metadata'\n    d['Keywords'] = 'PdfPages multipage keywords author title subject'\n    d['CreationDate'] = datetime.datetime(2009, 11, 13)\n    d['ModDate'] = datetime.datetime.today()"
      ],
      "outputs": []
    }
  ],
  "nbformat": 4,
  "nbformat_minor": 0
}
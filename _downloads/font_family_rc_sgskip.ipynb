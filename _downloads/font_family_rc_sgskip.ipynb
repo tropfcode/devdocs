{
  "metadata": {
    "language_info": {
      "version": "3.5.3",
      "codemirror_mode": {
        "version": 3,
        "name": "ipython"
      },
      "file_extension": ".py",
      "name": "python",
      "nbconvert_exporter": "python",
      "mimetype": "text/x-python",
      "pygments_lexer": "ipython3"
    },
    "kernelspec": {
      "display_name": "Python 3",
      "language": "python",
      "name": "python3"
    }
  },
  "cells": [
    {
      "execution_count": null,
      "cell_type": "code",
      "metadata": {
        "collapsed": false
      },
      "source": [
        "%matplotlib inline"
      ],
      "outputs": []
    },
    {
      "metadata": {},
      "cell_type": "markdown",
      "source": [
        "\n# Configuring the font family\n\n\nYou can explicitly set which font family is picked up for a given font\nstyle (e.g., 'serif', 'sans-serif', or 'monospace').\n\nIn the example below, we only allow one font family (Tahoma) for the\nsan-serif font style.  You the default family with the font.family rc\nparam, e.g.,::\n\n  rcParams['font.family'] = 'sans-serif'\n\nand for the font.family you set a list of font styles to try to find\nin order::\n\n  rcParams['font.sans-serif'] = ['Tahoma', 'DejaVu Sans',\n                                 'Lucida Grande', 'Verdana']\n\n\n"
      ]
    },
    {
      "execution_count": null,
      "cell_type": "code",
      "metadata": {
        "collapsed": false
      },
      "source": [
        "from matplotlib import rcParams\nrcParams['font.family'] = 'sans-serif'\nrcParams['font.sans-serif'] = ['Tahoma']\nimport matplotlib.pyplot as plt\n\nfig, ax = plt.subplots()\nax.plot([1, 2, 3], label='test')\n\nax.legend()\nplt.show()"
      ],
      "outputs": []
    }
  ],
  "nbformat": 4,
  "nbformat_minor": 0
}
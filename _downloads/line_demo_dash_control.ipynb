{
  "metadata": {
    "language_info": {
      "version": "3.5.3",
      "codemirror_mode": {
        "version": 3,
        "name": "ipython"
      },
      "file_extension": ".py",
      "name": "python",
      "nbconvert_exporter": "python",
      "mimetype": "text/x-python",
      "pygments_lexer": "ipython3"
    },
    "kernelspec": {
      "display_name": "Python 3",
      "language": "python",
      "name": "python3"
    }
  },
  "cells": [
    {
      "execution_count": null,
      "cell_type": "code",
      "metadata": {
        "collapsed": false
      },
      "source": [
        "%matplotlib inline"
      ],
      "outputs": []
    },
    {
      "metadata": {},
      "cell_type": "markdown",
      "source": [
        "\n# A simple plot with a custom dashed line\n\n\nA Line object's ``set_dashes`` method allows you to specify dashes with\na series of on/off lengths (in points).\n\n"
      ]
    },
    {
      "execution_count": null,
      "cell_type": "code",
      "metadata": {
        "collapsed": false
      },
      "source": [
        "import numpy as np\nimport matplotlib.pyplot as plt\n\n\nx = np.linspace(0, 10, 500)\ndashes = [10, 5, 100, 5]  # 10 points on, 5 off, 100 on, 5 off\n\nfig, ax = plt.subplots()\nline1, = ax.plot(x, np.sin(x), '--', linewidth=2,\n                 label='Dashes set retroactively')\nline1.set_dashes(dashes)\n\nline2, = ax.plot(x, -1 * np.sin(x), dashes=[30, 5, 10, 5],\n                 label='Dashes set proactively')\n\nax.legend(loc='lower right')\nplt.show()"
      ],
      "outputs": []
    }
  ],
  "nbformat": 4,
  "nbformat_minor": 0
}
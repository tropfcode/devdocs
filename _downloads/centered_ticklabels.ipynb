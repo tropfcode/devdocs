{
  "metadata": {
    "language_info": {
      "version": "3.5.3",
      "codemirror_mode": {
        "version": 3,
        "name": "ipython"
      },
      "file_extension": ".py",
      "name": "python",
      "nbconvert_exporter": "python",
      "mimetype": "text/x-python",
      "pygments_lexer": "ipython3"
    },
    "kernelspec": {
      "display_name": "Python 3",
      "language": "python",
      "name": "python3"
    }
  },
  "cells": [
    {
      "execution_count": null,
      "cell_type": "code",
      "metadata": {
        "collapsed": false
      },
      "source": [
        "%matplotlib inline"
      ],
      "outputs": []
    },
    {
      "metadata": {},
      "cell_type": "markdown",
      "source": [
        "\n# Centered Ticklabels\n\n\nsometimes it is nice to have ticklabels centered.  Matplotlib currently\nassociates a label with a tick, and the label can be aligned\n'center', 'left', or 'right' using the horizontal alignment property::\n\n\n    for label in ax.xaxis.get_xticklabels():\n        label.set_horizontalalignment('right')\n\nbut this doesn't help center the label between ticks.  One solution\nis to \"fake it\".  Use the minor ticks to place a tick centered\nbetween the major ticks.  Here is an example that labels the months,\ncentered between the ticks\n\n"
      ]
    },
    {
      "execution_count": null,
      "cell_type": "code",
      "metadata": {
        "collapsed": false
      },
      "source": [
        "import numpy as np\nimport matplotlib.cbook as cbook\nimport matplotlib.dates as dates\nimport matplotlib.ticker as ticker\nimport matplotlib.pyplot as plt\n\n# load some financial data; apple's stock price\nwith cbook.get_sample_data('aapl.npz') as fh:\n    r = np.load(fh)['price_data'].view(np.recarray)\nr = r[-250:]  # get the last 250 days\n# Matplotlib works better with datetime.datetime than np.datetime64, but the\n# latter is more portable.\ndate = r.date.astype('O')\n\nfig, ax = plt.subplots()\nax.plot(date, r.adj_close)\n\nax.xaxis.set_major_locator(dates.MonthLocator())\nax.xaxis.set_minor_locator(dates.MonthLocator(bymonthday=15))\n\nax.xaxis.set_major_formatter(ticker.NullFormatter())\nax.xaxis.set_minor_formatter(dates.DateFormatter('%b'))\n\nfor tick in ax.xaxis.get_minor_ticks():\n    tick.tick1line.set_markersize(0)\n    tick.tick2line.set_markersize(0)\n    tick.label1.set_horizontalalignment('center')\n\nimid = len(r) // 2\nax.set_xlabel(str(date[imid].year))\nplt.show()"
      ],
      "outputs": []
    }
  ],
  "nbformat": 4,
  "nbformat_minor": 0
}
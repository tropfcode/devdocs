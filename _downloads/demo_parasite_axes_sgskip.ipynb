{
  "metadata": {
    "language_info": {
      "version": "3.5.3",
      "codemirror_mode": {
        "version": 3,
        "name": "ipython"
      },
      "file_extension": ".py",
      "name": "python",
      "nbconvert_exporter": "python",
      "mimetype": "text/x-python",
      "pygments_lexer": "ipython3"
    },
    "kernelspec": {
      "display_name": "Python 3",
      "language": "python",
      "name": "python3"
    }
  },
  "cells": [
    {
      "execution_count": null,
      "cell_type": "code",
      "metadata": {
        "collapsed": false
      },
      "source": [
        "%matplotlib inline"
      ],
      "outputs": []
    },
    {
      "metadata": {},
      "cell_type": "markdown",
      "source": [
        "\n# Demo Parasite Axes\n\n\n\n"
      ]
    },
    {
      "execution_count": null,
      "cell_type": "code",
      "metadata": {
        "collapsed": false
      },
      "source": [
        "from mpl_toolkits.axisartist.parasite_axes import HostAxes, ParasiteAxes\nimport matplotlib.pyplot as plt\n\nif __name__ == \"__main__\":\n    fig = plt.figure(1)\n\n    host = HostAxes(fig, [0.15, 0.1, 0.65, 0.8])\n    par1 = ParasiteAxes(host, sharex=host)\n    par2 = ParasiteAxes(host, sharex=host)\n    host.parasites.append(par1)\n    host.parasites.append(par2)\n\n    host.set_ylabel(\"Density\")\n    host.set_xlabel(\"Distance\")\n\n    host.axis[\"right\"].set_visible(False)\n    par1.axis[\"right\"].set_visible(True)\n    par1.set_ylabel(\"Temperature\")\n\n    par1.axis[\"right\"].major_ticklabels.set_visible(True)\n    par1.axis[\"right\"].label.set_visible(True)\n\n    par2.set_ylabel(\"Velocity\")\n    offset = (60, 0)\n    new_axisline = par2._grid_helper.new_fixed_axis\n    par2.axis[\"right2\"] = new_axisline(loc=\"right\",\n                                       axes=par2,\n                                       offset=offset)\n\n    fig.add_axes(host)\n\n    host.set_xlim(0, 2)\n    host.set_ylim(0, 2)\n\n    host.set_xlabel(\"Distance\")\n    host.set_ylabel(\"Density\")\n    par1.set_ylabel(\"Temperature\")\n\n    p1, = host.plot([0, 1, 2], [0, 1, 2], label=\"Density\")\n    p2, = par1.plot([0, 1, 2], [0, 3, 2], label=\"Temperature\")\n    p3, = par2.plot([0, 1, 2], [50, 30, 15], label=\"Velocity\")\n\n    par1.set_ylim(0, 4)\n    par2.set_ylim(1, 65)\n\n    host.legend()\n\n    host.axis[\"left\"].label.set_color(p1.get_color())\n    par1.axis[\"right\"].label.set_color(p2.get_color())\n    par2.axis[\"right2\"].label.set_color(p3.get_color())\n\n    plt.show()"
      ],
      "outputs": []
    }
  ],
  "nbformat": 4,
  "nbformat_minor": 0
}
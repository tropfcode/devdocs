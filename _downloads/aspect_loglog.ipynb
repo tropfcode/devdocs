{
  "metadata": {
    "language_info": {
      "version": "3.5.3",
      "codemirror_mode": {
        "version": 3,
        "name": "ipython"
      },
      "file_extension": ".py",
      "name": "python",
      "nbconvert_exporter": "python",
      "mimetype": "text/x-python",
      "pygments_lexer": "ipython3"
    },
    "kernelspec": {
      "display_name": "Python 3",
      "language": "python",
      "name": "python3"
    }
  },
  "cells": [
    {
      "execution_count": null,
      "cell_type": "code",
      "metadata": {
        "collapsed": false
      },
      "source": [
        "%matplotlib inline"
      ],
      "outputs": []
    },
    {
      "metadata": {},
      "cell_type": "markdown",
      "source": [
        "\n# Loglog Aspect\n\n\n\n"
      ]
    },
    {
      "execution_count": null,
      "cell_type": "code",
      "metadata": {
        "collapsed": false
      },
      "source": [
        "import matplotlib.pyplot as plt\n\nfig, (ax1, ax2) = plt.subplots(1, 2)\nax1.set_xscale(\"log\")\nax1.set_yscale(\"log\")\nax1.set_xlim(1e1, 1e3)\nax1.set_ylim(1e2, 1e3)\nax1.set_aspect(1)\nax1.set_title(\"adjustable = box\")\n\nax2.set_xscale(\"log\")\nax2.set_yscale(\"log\")\nax2.set_adjustable(\"datalim\")\nax2.plot([1, 3, 10], [1, 9, 100], \"o-\")\nax2.set_xlim(1e-1, 1e2)\nax2.set_ylim(1e-1, 1e3)\nax2.set_aspect(1)\nax2.set_title(\"adjustable = datalim\")\n\nplt.draw()\nplt.show()"
      ],
      "outputs": []
    }
  ],
  "nbformat": 4,
  "nbformat_minor": 0
}
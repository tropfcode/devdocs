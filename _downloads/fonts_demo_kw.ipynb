{
  "metadata": {
    "language_info": {
      "version": "3.5.3",
      "codemirror_mode": {
        "version": 3,
        "name": "ipython"
      },
      "file_extension": ".py",
      "name": "python",
      "nbconvert_exporter": "python",
      "mimetype": "text/x-python",
      "pygments_lexer": "ipython3"
    },
    "kernelspec": {
      "display_name": "Python 3",
      "language": "python",
      "name": "python3"
    }
  },
  "cells": [
    {
      "execution_count": null,
      "cell_type": "code",
      "metadata": {
        "collapsed": false
      },
      "source": [
        "%matplotlib inline"
      ],
      "outputs": []
    },
    {
      "metadata": {},
      "cell_type": "markdown",
      "source": [
        "\n# Fonts Demo Kw\n\n\nSame as fonts_demo using kwargs.  If you prefer a more pythonic, OO\nstyle of coding, see examples/fonts_demo.py.\n\n\n"
      ]
    },
    {
      "execution_count": null,
      "cell_type": "code",
      "metadata": {
        "collapsed": false
      },
      "source": [
        "from matplotlib.font_manager import FontProperties\nimport matplotlib.pyplot as plt\nimport numpy as np\n\nplt.subplot(111, facecolor='w')\nalignment = {'horizontalalignment': 'center', 'verticalalignment': 'baseline'}\n\n# Show family options\n\nfamilies = ['serif', 'sans-serif', 'cursive', 'fantasy', 'monospace']\n\nt = plt.text(-0.8, 0.9, 'family', size='large', **alignment)\n\nyp = [0.8, 0.7, 0.6, 0.5, 0.4, 0.3, 0.2]\n\nfor k, family in enumerate(families):\n    t = plt.text(-0.8, yp[k], family, family=family, **alignment)\n\n# Show style options\n\nstyles = ['normal', 'italic', 'oblique']\n\nt = plt.text(-0.4, 0.9, 'style', **alignment)\n\nfor k, style in enumerate(styles):\n    t = plt.text(-0.4, yp[k], style, family='sans-serif', style=style,\n                 **alignment)\n\n# Show variant options\n\nvariants = ['normal', 'small-caps']\n\nt = plt.text(0.0, 0.9, 'variant', **alignment)\n\nfor k, variant in enumerate(variants):\n    t = plt.text(0.0, yp[k], variant, family='serif', variant=variant,\n                 **alignment)\n\n# Show weight options\n\nweights = ['light', 'normal', 'medium', 'semibold', 'bold', 'heavy', 'black']\n\nt = plt.text(0.4, 0.9, 'weight', **alignment)\n\nfor k, weight in enumerate(weights):\n    t = plt.text(0.4, yp[k], weight, weight=weight,\n                 **alignment)\n\n# Show size options\n\nsizes = ['xx-small', 'x-small', 'small', 'medium', 'large',\n         'x-large', 'xx-large']\n\nt = plt.text(0.8, 0.9, 'size', **alignment)\n\nfor k, size in enumerate(sizes):\n    t = plt.text(0.8, yp[k], size, size=size,\n                 **alignment)\n\nx = -0.4\n# Show bold italic\nt = plt.text(x, 0.1, 'bold italic', style='italic',\n             weight='bold', size='x-small',\n             **alignment)\n\nt = plt.text(x, 0.2, 'bold italic',\n             style='italic', weight='bold', size='medium',\n             **alignment)\n\nt = plt.text(x, 0.3, 'bold italic',\n             style='italic', weight='bold', size='x-large',\n             **alignment)\n\nplt.axis([-1, 1, 0, 1])\n\nplt.show()"
      ],
      "outputs": []
    }
  ],
  "nbformat": 4,
  "nbformat_minor": 0
}
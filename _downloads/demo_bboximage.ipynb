{
  "metadata": {
    "language_info": {
      "version": "3.5.3",
      "codemirror_mode": {
        "version": 3,
        "name": "ipython"
      },
      "file_extension": ".py",
      "name": "python",
      "nbconvert_exporter": "python",
      "mimetype": "text/x-python",
      "pygments_lexer": "ipython3"
    },
    "kernelspec": {
      "display_name": "Python 3",
      "language": "python",
      "name": "python3"
    }
  },
  "cells": [
    {
      "execution_count": null,
      "cell_type": "code",
      "metadata": {
        "collapsed": false
      },
      "source": [
        "%matplotlib inline"
      ],
      "outputs": []
    },
    {
      "metadata": {},
      "cell_type": "markdown",
      "source": [
        "\n# Demo BboxImage\n\n\n\n"
      ]
    },
    {
      "execution_count": null,
      "cell_type": "code",
      "metadata": {
        "collapsed": false
      },
      "source": [
        "import matplotlib.pyplot as plt\nimport numpy as np\nfrom matplotlib.image import BboxImage\nfrom matplotlib.transforms import Bbox, TransformedBbox\n\nif __name__ == \"__main__\":\n\n    fig = plt.figure(1)\n    ax = plt.subplot(121)\n\n    txt = ax.text(0.5, 0.5, \"test\", size=30, ha=\"center\", color=\"w\")\n    kwargs = dict()\n\n    bbox_image = BboxImage(txt.get_window_extent,\n                           norm=None,\n                           origin=None,\n                           clip_on=False,\n                           **kwargs\n                           )\n    a = np.arange(256).reshape(1, 256)/256.\n    bbox_image.set_data(a)\n    ax.add_artist(bbox_image)\n\n    ax = plt.subplot(122)\n    a = np.linspace(0, 1, 256).reshape(1, -1)\n    a = np.vstack((a, a))\n\n    maps = sorted(\n        m for m in plt.cm.cmap_d\n        if not m.endswith(\"_r\") and  # Skip reversed colormaps.\n        not m.startswith(('spectral', 'Vega'))  # Skip deprecated colormaps.\n    )\n\n    # fig.subplots_adjust(top=0.99, bottom=0.01, left=0.2, right=0.99)\n\n    ncol = 2\n    nrow = len(maps)//ncol + 1\n\n    xpad_fraction = 0.3\n    dx = 1./(ncol + xpad_fraction*(ncol - 1))\n\n    ypad_fraction = 0.3\n    dy = 1./(nrow + ypad_fraction*(nrow - 1))\n\n    for i, m in enumerate(maps):\n        ix, iy = divmod(i, nrow)\n        # plt.figimage(a, 10, i*10, cmap=plt.get_cmap(m), origin='lower')\n        bbox0 = Bbox.from_bounds(ix*dx*(1 + xpad_fraction),\n                                 1. - iy*dy*(1 + ypad_fraction) - dy,\n                                 dx, dy)\n        bbox = TransformedBbox(bbox0, ax.transAxes)\n\n        bbox_image = BboxImage(bbox,\n                               cmap=plt.get_cmap(m),\n                               norm=None,\n                               origin=None,\n                               **kwargs\n                               )\n\n        bbox_image.set_data(a)\n        ax.add_artist(bbox_image)\n\n    plt.draw()\n    plt.show()"
      ],
      "outputs": []
    }
  ],
  "nbformat": 4,
  "nbformat_minor": 0
}
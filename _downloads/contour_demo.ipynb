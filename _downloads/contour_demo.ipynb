{
  "metadata": {
    "language_info": {
      "version": "3.5.3",
      "codemirror_mode": {
        "version": 3,
        "name": "ipython"
      },
      "file_extension": ".py",
      "name": "python",
      "nbconvert_exporter": "python",
      "mimetype": "text/x-python",
      "pygments_lexer": "ipython3"
    },
    "kernelspec": {
      "display_name": "Python 3",
      "language": "python",
      "name": "python3"
    }
  },
  "cells": [
    {
      "execution_count": null,
      "cell_type": "code",
      "metadata": {
        "collapsed": false
      },
      "source": [
        "%matplotlib inline"
      ],
      "outputs": []
    },
    {
      "metadata": {},
      "cell_type": "markdown",
      "source": [
        "\n# Contour Demo\n\n\nIllustrate simple contour plotting, contours on an image with\na colorbar for the contours, and labelled contours.\n\nSee also contour_image.py.\n\n"
      ]
    },
    {
      "execution_count": null,
      "cell_type": "code",
      "metadata": {
        "collapsed": false
      },
      "source": [
        "import matplotlib\nimport numpy as np\nimport matplotlib.cm as cm\nimport matplotlib.mlab as mlab\nimport matplotlib.pyplot as plt\n\nmatplotlib.rcParams['xtick.direction'] = 'out'\nmatplotlib.rcParams['ytick.direction'] = 'out'\n\ndelta = 0.025\nx = np.arange(-3.0, 3.0, delta)\ny = np.arange(-2.0, 2.0, delta)\nX, Y = np.meshgrid(x, y)\nZ1 = mlab.bivariate_normal(X, Y, 1.0, 1.0, 0.0, 0.0)\nZ2 = mlab.bivariate_normal(X, Y, 1.5, 0.5, 1, 1)\n# difference of Gaussians\nZ = 10.0 * (Z2 - Z1)"
      ],
      "outputs": []
    },
    {
      "metadata": {},
      "cell_type": "markdown",
      "source": [
        "Create a simple contour plot with labels using default colors.  The\ninline argument to clabel will control whether the labels are draw\nover the line segments of the contour, removing the lines beneath\nthe label\n\n"
      ]
    },
    {
      "execution_count": null,
      "cell_type": "code",
      "metadata": {
        "collapsed": false
      },
      "source": [
        "plt.figure()\nCS = plt.contour(X, Y, Z)\nplt.clabel(CS, inline=1, fontsize=10)\nplt.title('Simplest default with labels')"
      ],
      "outputs": []
    },
    {
      "metadata": {},
      "cell_type": "markdown",
      "source": [
        "contour labels can be placed manually by providing list of positions\n(in data coordinate). See ginput_manual_clabel.py for interactive\nplacement.\n\n"
      ]
    },
    {
      "execution_count": null,
      "cell_type": "code",
      "metadata": {
        "collapsed": false
      },
      "source": [
        "plt.figure()\nCS = plt.contour(X, Y, Z)\nmanual_locations = [(-1, -1.4), (-0.62, -0.7), (-2, 0.5), (1.7, 1.2), (2.0, 1.4), (2.4, 1.7)]\nplt.clabel(CS, inline=1, fontsize=10, manual=manual_locations)\nplt.title('labels at selected locations')"
      ],
      "outputs": []
    },
    {
      "metadata": {},
      "cell_type": "markdown",
      "source": [
        "You can force all the contours to be the same color.\n\n"
      ]
    },
    {
      "execution_count": null,
      "cell_type": "code",
      "metadata": {
        "collapsed": false
      },
      "source": [
        "plt.figure()\nCS = plt.contour(X, Y, Z, 6,\n                 colors='k',  # negative contours will be dashed by default\n                 )\nplt.clabel(CS, fontsize=9, inline=1)\nplt.title('Single color - negative contours dashed')"
      ],
      "outputs": []
    },
    {
      "metadata": {},
      "cell_type": "markdown",
      "source": [
        "You can set negative contours to be solid instead of dashed:\n\n"
      ]
    },
    {
      "execution_count": null,
      "cell_type": "code",
      "metadata": {
        "collapsed": false
      },
      "source": [
        "matplotlib.rcParams['contour.negative_linestyle'] = 'solid'\nplt.figure()\nCS = plt.contour(X, Y, Z, 6,\n                 colors='k',  # negative contours will be dashed by default\n                 )\nplt.clabel(CS, fontsize=9, inline=1)\nplt.title('Single color - negative contours solid')"
      ],
      "outputs": []
    },
    {
      "metadata": {},
      "cell_type": "markdown",
      "source": [
        "And you can manually specify the colors of the contour\n\n"
      ]
    },
    {
      "execution_count": null,
      "cell_type": "code",
      "metadata": {
        "collapsed": false
      },
      "source": [
        "plt.figure()\nCS = plt.contour(X, Y, Z, 6,\n                 linewidths=np.arange(.5, 4, .5),\n                 colors=('r', 'green', 'blue', (1, 1, 0), '#afeeee', '0.5')\n                 )\nplt.clabel(CS, fontsize=9, inline=1)\nplt.title('Crazy lines')"
      ],
      "outputs": []
    },
    {
      "metadata": {},
      "cell_type": "markdown",
      "source": [
        "Or you can use a colormap to specify the colors; the default\ncolormap will be used for the contour lines\n\n"
      ]
    },
    {
      "execution_count": null,
      "cell_type": "code",
      "metadata": {
        "collapsed": false
      },
      "source": [
        "plt.figure()\nim = plt.imshow(Z, interpolation='bilinear', origin='lower',\n                cmap=cm.gray, extent=(-3, 3, -2, 2))\nlevels = np.arange(-1.2, 1.6, 0.2)\nCS = plt.contour(Z, levels,\n                 origin='lower',\n                 linewidths=2,\n                 extent=(-3, 3, -2, 2))\n\n# Thicken the zero contour.\nzc = CS.collections[6]\nplt.setp(zc, linewidth=4)\n\nplt.clabel(CS, levels[1::2],  # label every second level\n           inline=1,\n           fmt='%1.1f',\n           fontsize=14)\n\n# make a colorbar for the contour lines\nCB = plt.colorbar(CS, shrink=0.8, extend='both')\n\nplt.title('Lines with colorbar')\n#plt.hot()  # Now change the colormap for the contour lines and colorbar\nplt.flag()\n\n# We can still add a colorbar for the image, too.\nCBI = plt.colorbar(im, orientation='horizontal', shrink=0.8)\n\n# This makes the original colorbar look a bit out of place,\n# so let's improve its position.\n\nl, b, w, h = plt.gca().get_position().bounds\nll, bb, ww, hh = CB.ax.get_position().bounds\nCB.ax.set_position([ll, b + 0.1*h, ww, h*0.8])\n\n\nplt.show()"
      ],
      "outputs": []
    }
  ],
  "nbformat": 4,
  "nbformat_minor": 0
}
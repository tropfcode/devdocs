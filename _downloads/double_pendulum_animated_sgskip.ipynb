{
  "metadata": {
    "language_info": {
      "version": "3.5.3",
      "codemirror_mode": {
        "version": 3,
        "name": "ipython"
      },
      "file_extension": ".py",
      "name": "python",
      "nbconvert_exporter": "python",
      "mimetype": "text/x-python",
      "pygments_lexer": "ipython3"
    },
    "kernelspec": {
      "display_name": "Python 3",
      "language": "python",
      "name": "python3"
    }
  },
  "cells": [
    {
      "execution_count": null,
      "cell_type": "code",
      "metadata": {
        "collapsed": false
      },
      "source": [
        "%matplotlib inline"
      ],
      "outputs": []
    },
    {
      "metadata": {},
      "cell_type": "markdown",
      "source": [
        "\n# The double pendulum problem\n\n\nThis animation illustrates the double pendulum problem.\n\nDouble pendulum formula translated from the C code at\nhttp://www.physics.usyd.edu.au/~wheat/dpend_html/solve_dpend.c\n\n"
      ]
    },
    {
      "execution_count": null,
      "cell_type": "code",
      "metadata": {
        "collapsed": false
      },
      "source": [
        "from numpy import sin, cos\nimport numpy as np\nimport matplotlib.pyplot as plt\nimport scipy.integrate as integrate\nimport matplotlib.animation as animation\n\nG = 9.8  # acceleration due to gravity, in m/s^2\nL1 = 1.0  # length of pendulum 1 in m\nL2 = 1.0  # length of pendulum 2 in m\nM1 = 1.0  # mass of pendulum 1 in kg\nM2 = 1.0  # mass of pendulum 2 in kg\n\n\ndef derivs(state, t):\n\n    dydx = np.zeros_like(state)\n    dydx[0] = state[1]\n\n    del_ = state[2] - state[0]\n    den1 = (M1 + M2)*L1 - M2*L1*cos(del_)*cos(del_)\n    dydx[1] = (M2*L1*state[1]*state[1]*sin(del_)*cos(del_) +\n               M2*G*sin(state[2])*cos(del_) +\n               M2*L2*state[3]*state[3]*sin(del_) -\n               (M1 + M2)*G*sin(state[0]))/den1\n\n    dydx[2] = state[3]\n\n    den2 = (L2/L1)*den1\n    dydx[3] = (-M2*L2*state[3]*state[3]*sin(del_)*cos(del_) +\n               (M1 + M2)*G*sin(state[0])*cos(del_) -\n               (M1 + M2)*L1*state[1]*state[1]*sin(del_) -\n               (M1 + M2)*G*sin(state[2]))/den2\n\n    return dydx\n\n# create a time array from 0..100 sampled at 0.05 second steps\ndt = 0.05\nt = np.arange(0.0, 20, dt)\n\n# th1 and th2 are the initial angles (degrees)\n# w10 and w20 are the initial angular velocities (degrees per second)\nth1 = 120.0\nw1 = 0.0\nth2 = -10.0\nw2 = 0.0\n\n# initial state\nstate = np.radians([th1, w1, th2, w2])\n\n# integrate your ODE using scipy.integrate.\ny = integrate.odeint(derivs, state, t)\n\nx1 = L1*sin(y[:, 0])\ny1 = -L1*cos(y[:, 0])\n\nx2 = L2*sin(y[:, 2]) + x1\ny2 = -L2*cos(y[:, 2]) + y1\n\nfig = plt.figure()\nax = fig.add_subplot(111, autoscale_on=False, xlim=(-2, 2), ylim=(-2, 2))\nax.set_aspect('equal')\nax.grid()\n\nline, = ax.plot([], [], 'o-', lw=2)\ntime_template = 'time = %.1fs'\ntime_text = ax.text(0.05, 0.9, '', transform=ax.transAxes)\n\n\ndef init():\n    line.set_data([], [])\n    time_text.set_text('')\n    return line, time_text\n\n\ndef animate(i):\n    thisx = [0, x1[i], x2[i]]\n    thisy = [0, y1[i], y2[i]]\n\n    line.set_data(thisx, thisy)\n    time_text.set_text(time_template % (i*dt))\n    return line, time_text\n\nani = animation.FuncAnimation(fig, animate, np.arange(1, len(y)),\n                              interval=25, blit=True, init_func=init)\n\n# ani.save('double_pendulum.mp4', fps=15)\nplt.show()"
      ],
      "outputs": []
    }
  ],
  "nbformat": 4,
  "nbformat_minor": 0
}
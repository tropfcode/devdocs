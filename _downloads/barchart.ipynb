{
  "metadata": {
    "language_info": {
      "version": "3.5.3",
      "codemirror_mode": {
        "version": 3,
        "name": "ipython"
      },
      "file_extension": ".py",
      "name": "python",
      "nbconvert_exporter": "python",
      "mimetype": "text/x-python",
      "pygments_lexer": "ipython3"
    },
    "kernelspec": {
      "display_name": "Python 3",
      "language": "python",
      "name": "python3"
    }
  },
  "cells": [
    {
      "execution_count": null,
      "cell_type": "code",
      "metadata": {
        "collapsed": false
      },
      "source": [
        "%matplotlib inline"
      ],
      "outputs": []
    },
    {
      "metadata": {},
      "cell_type": "markdown",
      "source": [
        "\n# Barchart\n\n\nA bar plot with errorbars and height labels on individual bars\n\n"
      ]
    },
    {
      "execution_count": null,
      "cell_type": "code",
      "metadata": {
        "collapsed": false
      },
      "source": [
        "import numpy as np\nimport matplotlib.pyplot as plt\n\nN = 5\nmen_means = (20, 35, 30, 35, 27)\nmen_std = (2, 3, 4, 1, 2)\n\nind = np.arange(N)  # the x locations for the groups\nwidth = 0.35       # the width of the bars\n\nfig, ax = plt.subplots()\nrects1 = ax.bar(ind, men_means, width, color='r', yerr=men_std)\n\nwomen_means = (25, 32, 34, 20, 25)\nwomen_std = (3, 5, 2, 3, 3)\nrects2 = ax.bar(ind + width, women_means, width, color='y', yerr=women_std)\n\n# add some text for labels, title and axes ticks\nax.set_ylabel('Scores')\nax.set_title('Scores by group and gender')\nax.set_xticks(ind + width / 2)\nax.set_xticklabels(('G1', 'G2', 'G3', 'G4', 'G5'))\n\nax.legend((rects1[0], rects2[0]), ('Men', 'Women'))\n\n\ndef autolabel(rects):\n    \"\"\"\n    Attach a text label above each bar displaying its height\n    \"\"\"\n    for rect in rects:\n        height = rect.get_height()\n        ax.text(rect.get_x() + rect.get_width()/2., 1.05*height,\n                '%d' % int(height),\n                ha='center', va='bottom')\n\nautolabel(rects1)\nautolabel(rects2)\n\nplt.show()"
      ],
      "outputs": []
    }
  ],
  "nbformat": 4,
  "nbformat_minor": 0
}
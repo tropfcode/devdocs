{
  "metadata": {
    "language_info": {
      "version": "3.5.3",
      "codemirror_mode": {
        "version": 3,
        "name": "ipython"
      },
      "file_extension": ".py",
      "name": "python",
      "nbconvert_exporter": "python",
      "mimetype": "text/x-python",
      "pygments_lexer": "ipython3"
    },
    "kernelspec": {
      "display_name": "Python 3",
      "language": "python",
      "name": "python3"
    }
  },
  "cells": [
    {
      "execution_count": null,
      "cell_type": "code",
      "metadata": {
        "collapsed": false
      },
      "source": [
        "%matplotlib inline"
      ],
      "outputs": []
    },
    {
      "metadata": {},
      "cell_type": "markdown",
      "source": [
        "\n# Scatter Hist\n\n\n\n"
      ]
    },
    {
      "execution_count": null,
      "cell_type": "code",
      "metadata": {
        "collapsed": false
      },
      "source": [
        "import numpy as np\nimport matplotlib.pyplot as plt\nfrom mpl_toolkits.axes_grid1 import make_axes_locatable\n\n# Fixing random state for reproducibility\nnp.random.seed(19680801)\n\n\n# the random data\nx = np.random.randn(1000)\ny = np.random.randn(1000)\n\n\nfig, axScatter = plt.subplots(figsize=(5.5, 5.5))\n\n# the scatter plot:\naxScatter.scatter(x, y)\naxScatter.set_aspect(1.)\n\n# create new axes on the right and on the top of the current axes\n# The first argument of the new_vertical(new_horizontal) method is\n# the height (width) of the axes to be created in inches.\ndivider = make_axes_locatable(axScatter)\naxHistx = divider.append_axes(\"top\", 1.2, pad=0.1, sharex=axScatter)\naxHisty = divider.append_axes(\"right\", 1.2, pad=0.1, sharey=axScatter)\n\n# make some labels invisible\nplt.setp(axHistx.get_xticklabels() + axHisty.get_yticklabels(),\n         visible=False)\n\n# now determine nice limits by hand:\nbinwidth = 0.25\nxymax = max(np.max(np.abs(x)), np.max(np.abs(y)))\nlim = (int(xymax/binwidth) + 1)*binwidth\n\nbins = np.arange(-lim, lim + binwidth, binwidth)\naxHistx.hist(x, bins=bins)\naxHisty.hist(y, bins=bins, orientation='horizontal')\n\n# the xaxis of axHistx and yaxis of axHisty are shared with axScatter,\n# thus there is no need to manually adjust the xlim and ylim of these\n# axis.\n\n#axHistx.axis[\"bottom\"].major_ticklabels.set_visible(False)\nfor tl in axHistx.get_xticklabels():\n    tl.set_visible(False)\naxHistx.set_yticks([0, 50, 100])\n\n#axHisty.axis[\"left\"].major_ticklabels.set_visible(False)\nfor tl in axHisty.get_yticklabels():\n    tl.set_visible(False)\naxHisty.set_xticks([0, 50, 100])\n\nplt.draw()\nplt.show()"
      ],
      "outputs": []
    }
  ],
  "nbformat": 4,
  "nbformat_minor": 0
}
{
  "metadata": {
    "language_info": {
      "version": "3.5.3",
      "codemirror_mode": {
        "version": 3,
        "name": "ipython"
      },
      "file_extension": ".py",
      "name": "python",
      "nbconvert_exporter": "python",
      "mimetype": "text/x-python",
      "pygments_lexer": "ipython3"
    },
    "kernelspec": {
      "display_name": "Python 3",
      "language": "python",
      "name": "python3"
    }
  },
  "cells": [
    {
      "execution_count": null,
      "cell_type": "code",
      "metadata": {
        "collapsed": false
      },
      "source": [
        "%matplotlib inline"
      ],
      "outputs": []
    },
    {
      "metadata": {},
      "cell_type": "markdown",
      "source": [
        "\n# Ftface Props\n\n\nThis is a demo script to show you how to use all the properties of an\nFT2Font object.  These describe global font properties.  For\nindividual character metrics, use the Glyph object, as returned by\nload_char\n\n"
      ]
    },
    {
      "execution_count": null,
      "cell_type": "code",
      "metadata": {
        "collapsed": false
      },
      "source": [
        "from __future__ import print_function\nimport matplotlib\nimport matplotlib.ft2font as ft\n\n\n#fname = '/usr/local/share/matplotlib/VeraIt.ttf'\nfname = matplotlib.get_data_path() + '/fonts/ttf/DejaVuSans-Oblique.ttf'\n#fname = '/usr/local/share/matplotlib/cmr10.ttf'\n\nfont = ft.FT2Font(fname)\n\nprint('Num faces   :', font.num_faces)        # number of faces in file\nprint('Num glyphs  :', font.num_glyphs)       # number of glyphs in the face\nprint('Family name :', font.family_name)      # face family name\nprint('Style name  :', font.style_name)       # face style name\nprint('PS name     :', font.postscript_name)  # the postscript name\nprint('Num fixed   :', font.num_fixed_sizes)  # number of embedded bitmap in face\n\n# the following are only available if face.scalable\nif font.scalable:\n    # the face global bounding box (xmin, ymin, xmax, ymax)\n    print('Bbox                :', font.bbox)\n    # number of font units covered by the EM\n    print('EM                  :', font.units_per_EM)\n    # the ascender in 26.6 units\n    print('Ascender            :', font.ascender)\n    # the descender in 26.6 units\n    print('Descender           :', font.descender)\n    # the height in 26.6 units\n    print('Height              :', font.height)\n    # maximum horizontal cursor advance\n    print('Max adv width       :', font.max_advance_width)\n    # same for vertical layout\n    print('Max adv height      :', font.max_advance_height)\n    # vertical position of the underline bar\n    print('Underline pos       :', font.underline_position)\n    # vertical thickness of the underline\n    print('Underline thickness :', font.underline_thickness)\n\nfor style in ('Italic',\n              'Bold',\n              'Scalable',\n              'Fixed sizes',\n              'Fixed width',\n              'SFNT',\n              'Horizontal',\n              'Vertical',\n              'Kerning',\n              'Fast glyphs',\n              'Multiple masters',\n              'Glyph names',\n              'External stream'):\n    bitpos = getattr(ft, style.replace(' ', '_').upper()) - 1\n    print('%-17s:' % style, bool(font.style_flags & (1 << bitpos)))\n\nprint(dir(font))\n\nprint(font.get_kerning)"
      ],
      "outputs": []
    }
  ],
  "nbformat": 4,
  "nbformat_minor": 0
}
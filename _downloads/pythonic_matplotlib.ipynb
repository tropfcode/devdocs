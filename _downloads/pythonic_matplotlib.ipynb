{
  "metadata": {
    "language_info": {
      "version": "3.5.3",
      "codemirror_mode": {
        "version": 3,
        "name": "ipython"
      },
      "file_extension": ".py",
      "name": "python",
      "nbconvert_exporter": "python",
      "mimetype": "text/x-python",
      "pygments_lexer": "ipython3"
    },
    "kernelspec": {
      "display_name": "Python 3",
      "language": "python",
      "name": "python3"
    }
  },
  "cells": [
    {
      "execution_count": null,
      "cell_type": "code",
      "metadata": {
        "collapsed": false
      },
      "source": [
        "%matplotlib inline"
      ],
      "outputs": []
    },
    {
      "metadata": {},
      "cell_type": "markdown",
      "source": [
        "\n# Pythonic Matplotlib\n\n\nSome people prefer to write more pythonic, object-oriented code\nrather than use the pyplot interface to matplotlib.  This example shows\nyou how.\n\nUnless you are an application developer, I recommend using part of the\npyplot interface, particularly the figure, close, subplot, axes, and\nshow commands.  These hide a lot of complexity from you that you don't\nneed to see in normal figure creation, like instantiating DPI\ninstances, managing the bounding boxes of the figure elements,\ncreating and realizing GUI windows and embedding figures in them.\n\n\nIf you are an application developer and want to embed matplotlib in\nyour application, follow the lead of examples/embedding_in_wx.py,\nexamples/embedding_in_gtk.py or examples/embedding_in_tk.py.  In this\ncase you will want to control the creation of all your figures,\nembedding them in application windows, etc.\n\nIf you are a web application developer, you may want to use the\nexample in webapp_demo.py, which shows how to use the backend agg\nfigure canvas directly, with none of the globals (current figure,\ncurrent axes) that are present in the pyplot interface.  Note that\nthere is no reason why the pyplot interface won't work for web\napplication developers, however.\n\nIf you see an example in the examples dir written in pyplot interface,\nand you want to emulate that using the true python method calls, there\nis an easy mapping.  Many of those examples use 'set' to control\nfigure properties.  Here's how to map those commands onto instance\nmethods\n\nThe syntax of set is::\n\n    plt.setp(object or sequence, somestring, attribute)\n\nif called with an object, set calls::\n\n    object.set_somestring(attribute)\n\nif called with a sequence, set does::\n\n    for object in sequence:\n       object.set_somestring(attribute)\n\nSo for your example, if a is your axes object, you can do::\n\n    a.set_xticklabels([])\n    a.set_yticklabels([])\n    a.set_xticks([])\n    a.set_yticks([])\n\n"
      ]
    },
    {
      "execution_count": null,
      "cell_type": "code",
      "metadata": {
        "collapsed": false
      },
      "source": [
        "from matplotlib.pyplot import figure, show\nfrom numpy import arange, sin, pi\n\nt = arange(0.0, 1.0, 0.01)\n\nfig = figure(1)\n\nax1 = fig.add_subplot(211)\nax1.plot(t, sin(2*pi*t))\nax1.grid(True)\nax1.set_ylim((-2, 2))\nax1.set_ylabel('1 Hz')\nax1.set_title('A sine wave or two')\n\nfor label in ax1.get_xticklabels():\n    label.set_color('r')\n\n\nax2 = fig.add_subplot(212)\nax2.plot(t, sin(2*2*pi*t))\nax2.grid(True)\nax2.set_ylim((-2, 2))\nl = ax2.set_xlabel('Hi mom')\nl.set_color('g')\nl.set_fontsize('large')\n\nshow()"
      ],
      "outputs": []
    }
  ],
  "nbformat": 4,
  "nbformat_minor": 0
}
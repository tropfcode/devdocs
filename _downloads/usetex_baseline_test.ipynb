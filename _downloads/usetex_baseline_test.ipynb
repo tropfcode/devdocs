{
  "metadata": {
    "language_info": {
      "version": "3.5.3",
      "codemirror_mode": {
        "version": 3,
        "name": "ipython"
      },
      "file_extension": ".py",
      "name": "python",
      "nbconvert_exporter": "python",
      "mimetype": "text/x-python",
      "pygments_lexer": "ipython3"
    },
    "kernelspec": {
      "display_name": "Python 3",
      "language": "python",
      "name": "python3"
    }
  },
  "cells": [
    {
      "execution_count": null,
      "cell_type": "code",
      "metadata": {
        "collapsed": false
      },
      "source": [
        "%matplotlib inline"
      ],
      "outputs": []
    },
    {
      "metadata": {},
      "cell_type": "markdown",
      "source": [
        "\n# Usetex Baseline Test\n\n\n\n"
      ]
    },
    {
      "execution_count": null,
      "cell_type": "code",
      "metadata": {
        "collapsed": false
      },
      "source": [
        "import matplotlib\nimport matplotlib.pyplot as plt\nimport matplotlib.axes as maxes\n\nfrom matplotlib import rcParams\nrcParams['text.usetex'] = True\nrcParams['text.latex.unicode'] = True\n\n\nclass Axes(maxes.Axes):\n    \"\"\"\n    A hackish way to simultaneously draw texts w/ usetex=True and\n    usetex=False in the same figure. It does not work in the ps backend.\n    \"\"\"\n\n    def __init__(self, *kl, **kw):\n        self.usetex = kw.pop(\"usetex\", \"False\")\n        self.preview = kw.pop(\"preview\", \"False\")\n\n        maxes.Axes.__init__(self, *kl, **kw)\n\n    def draw(self, renderer):\n        usetex = plt.rcParams[\"text.usetex\"]\n        preview = plt.rcParams[\"text.latex.preview\"]\n        plt.rcParams[\"text.usetex\"] = self.usetex\n        plt.rcParams[\"text.latex.preview\"] = self.preview\n\n        maxes.Axes.draw(self, renderer)\n\n        plt.rcParams[\"text.usetex\"] = usetex\n        plt.rcParams[\"text.latex.preview\"] = preview\n\n\nsubplot = maxes.subplot_class_factory(Axes)\n\n\ndef test_window_extent(ax, usetex, preview):\n\n    va = \"baseline\"\n    ax.xaxis.set_visible(False)\n    ax.yaxis.set_visible(False)\n\n    text_kw = dict(va=va,\n                   size=50,\n                   bbox=dict(pad=0., ec=\"k\", fc=\"none\"))\n\n    test_strings = [\"lg\", r\"$\\frac{1}{2}\\pi$\",\n                    r\"$p^{3^A}$\", r\"$p_{3_2}$\"]\n\n    ax.axvline(0, color=\"r\")\n\n    for i, s in enumerate(test_strings):\n\n        ax.axhline(i, color=\"r\")\n        ax.text(0., 3 - i, s, **text_kw)\n\n    ax.set_xlim(-0.1, 1.1)\n    ax.set_ylim(-.8, 3.9)\n\n    ax.set_title(\"usetex=%s\\npreview=%s\" % (str(usetex), str(preview)))\n\n\nfig = plt.figure(figsize=(2 * 3, 6.5))\n\nfor i, usetex, preview in [[0, False, False],\n                           [1, True, False],\n                           [2, True, True]]:\n    ax = subplot(fig, 1, 3, i + 1, usetex=usetex, preview=preview)\n    fig.add_subplot(ax)\n    fig.subplots_adjust(top=0.85)\n\n    test_window_extent(ax, usetex=usetex, preview=preview)\n\n\nplt.draw()\nplt.show()"
      ],
      "outputs": []
    }
  ],
  "nbformat": 4,
  "nbformat_minor": 0
}
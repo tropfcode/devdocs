{
  "metadata": {
    "language_info": {
      "version": "3.5.3",
      "codemirror_mode": {
        "version": 3,
        "name": "ipython"
      },
      "file_extension": ".py",
      "name": "python",
      "nbconvert_exporter": "python",
      "mimetype": "text/x-python",
      "pygments_lexer": "ipython3"
    },
    "kernelspec": {
      "display_name": "Python 3",
      "language": "python",
      "name": "python3"
    }
  },
  "cells": [
    {
      "execution_count": null,
      "cell_type": "code",
      "metadata": {
        "collapsed": false
      },
      "source": [
        "%matplotlib inline"
      ],
      "outputs": []
    },
    {
      "metadata": {},
      "cell_type": "markdown",
      "source": [
        "\n# Demo Ticklabel Alignment\n\n\n\n"
      ]
    },
    {
      "execution_count": null,
      "cell_type": "code",
      "metadata": {
        "collapsed": false
      },
      "source": [
        "import matplotlib.pyplot as plt\nimport mpl_toolkits.axisartist as axisartist\n\n\ndef setup_axes(fig, rect):\n    ax = axisartist.Subplot(fig, rect)\n    fig.add_subplot(ax)\n\n    ax.set_yticks([0.2, 0.8])\n    ax.set_yticklabels([\"short\", \"loooong\"])\n    ax.set_xticks([0.2, 0.8])\n    ax.set_xticklabels([r\"$\\frac{1}{2}\\pi$\", r\"$\\pi$\"])\n\n    return ax\n\n\nfig = plt.figure(1, figsize=(3, 5))\nfig.subplots_adjust(left=0.5, hspace=0.7)\n\nax = setup_axes(fig, 311)\nax.set_ylabel(\"ha=right\")\nax.set_xlabel(\"va=baseline\")\n\nax = setup_axes(fig, 312)\nax.axis[\"left\"].major_ticklabels.set_ha(\"center\")\nax.axis[\"bottom\"].major_ticklabels.set_va(\"top\")\nax.set_ylabel(\"ha=center\")\nax.set_xlabel(\"va=top\")\n\nax = setup_axes(fig, 313)\nax.axis[\"left\"].major_ticklabels.set_ha(\"left\")\nax.axis[\"bottom\"].major_ticklabels.set_va(\"bottom\")\nax.set_ylabel(\"ha=left\")\nax.set_xlabel(\"va=bottom\")\n\nplt.show()"
      ],
      "outputs": []
    }
  ],
  "nbformat": 4,
  "nbformat_minor": 0
}
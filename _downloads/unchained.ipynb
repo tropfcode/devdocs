{
  "metadata": {
    "language_info": {
      "version": "3.5.3",
      "codemirror_mode": {
        "version": 3,
        "name": "ipython"
      },
      "file_extension": ".py",
      "name": "python",
      "nbconvert_exporter": "python",
      "mimetype": "text/x-python",
      "pygments_lexer": "ipython3"
    },
    "kernelspec": {
      "display_name": "Python 3",
      "language": "python",
      "name": "python3"
    }
  },
  "cells": [
    {
      "execution_count": null,
      "cell_type": "code",
      "metadata": {
        "collapsed": false
      },
      "source": [
        "%matplotlib inline"
      ],
      "outputs": []
    },
    {
      "metadata": {},
      "cell_type": "markdown",
      "source": [
        "\n========================\nMATPLOTLIB **UNCHAINED**\n========================\n\nComparative path demonstration of frequency from a fake signal of a pulsar.\n(mostly known because of the cover for Joy Division's Unknown Pleasures)\n\nAuthor: Nicolas P. Rougier\n\n"
      ]
    },
    {
      "execution_count": null,
      "cell_type": "code",
      "metadata": {
        "collapsed": false
      },
      "source": [
        "import numpy as np\nimport matplotlib.pyplot as plt\nimport matplotlib.animation as animation\n\n# Fixing random state for reproducibility\nnp.random.seed(19680801)\n\n\n# Create new Figure with black background\nfig = plt.figure(figsize=(8, 8), facecolor='black')\n\n# Add a subplot with no frame\nax = plt.subplot(111, frameon=False)\n\n# Generate random data\ndata = np.random.uniform(0, 1, (64, 75))\nX = np.linspace(-1, 1, data.shape[-1])\nG = 1.5 * np.exp(-4 * X * X)\n\n# Generate line plots\nlines = []\nfor i in range(len(data)):\n    # Small reduction of the X extents to get a cheap perspective effect\n    xscale = 1 - i / 200.\n    # Same for linewidth (thicker strokes on bottom)\n    lw = 1.5 - i / 100.0\n    line, = ax.plot(xscale * X, i + G * data[i], color=\"w\", lw=lw)\n    lines.append(line)\n\n# Set y limit (or first line is cropped because of thickness)\nax.set_ylim(-1, 70)\n\n# No ticks\nax.set_xticks([])\nax.set_yticks([])\n\n# 2 part titles to get different font weights\nax.text(0.5, 1.0, \"MATPLOTLIB \", transform=ax.transAxes,\n        ha=\"right\", va=\"bottom\", color=\"w\",\n        family=\"sans-serif\", fontweight=\"light\", fontsize=16)\nax.text(0.5, 1.0, \"UNCHAINED\", transform=ax.transAxes,\n        ha=\"left\", va=\"bottom\", color=\"w\",\n        family=\"sans-serif\", fontweight=\"bold\", fontsize=16)\n\n\ndef update(*args):\n    # Shift all data to the right\n    data[:, 1:] = data[:, :-1]\n\n    # Fill-in new values\n    data[:, 0] = np.random.uniform(0, 1, len(data))\n\n    # Update data\n    for i in range(len(data)):\n        lines[i].set_ydata(i + G * data[i])\n\n    # Return modified artists\n    return lines\n\n# Construct the animation, using the update function as the animation\n# director.\nanim = animation.FuncAnimation(fig, update, interval=10)\nplt.show()"
      ],
      "outputs": []
    }
  ],
  "nbformat": 4,
  "nbformat_minor": 0
}
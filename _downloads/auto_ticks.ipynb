{
  "metadata": {
    "language_info": {
      "version": "3.5.3",
      "codemirror_mode": {
        "version": 3,
        "name": "ipython"
      },
      "file_extension": ".py",
      "name": "python",
      "nbconvert_exporter": "python",
      "mimetype": "text/x-python",
      "pygments_lexer": "ipython3"
    },
    "kernelspec": {
      "display_name": "Python 3",
      "language": "python",
      "name": "python3"
    }
  },
  "cells": [
    {
      "execution_count": null,
      "cell_type": "code",
      "metadata": {
        "collapsed": false
      },
      "source": [
        "%matplotlib inline"
      ],
      "outputs": []
    },
    {
      "metadata": {},
      "cell_type": "markdown",
      "source": [
        "\n# Automatically setting tick labels\n\n\nSetting the behavior of tick auto-placement.\n\nIf you don't explicitly set tick positions / labels, Matplotlib will attempt\nto choose them both automatically based on the displayed data and its limits.\n\nBy default, this attempts to choose tick positions that are distributed\nalong the axis:\n\n"
      ]
    },
    {
      "execution_count": null,
      "cell_type": "code",
      "metadata": {
        "collapsed": false
      },
      "source": [
        "import matplotlib.pyplot as plt\nimport numpy as np\nnp.random.seed(19680801)\n\nfig, ax = plt.subplots()\ndots = np.arange(10) / 100. + .03\nx, y = np.meshgrid(dots, dots)\ndata = [x.ravel(), y.ravel()]\nax.scatter(*data, c=data[1])"
      ],
      "outputs": []
    },
    {
      "metadata": {},
      "cell_type": "markdown",
      "source": [
        "Sometimes choosing evenly-distributed ticks results in strange tick numbers.\nIf you'd like Matplotlib to keep ticks located at round numbers, you can\nchange this behavior with the following rcParams value:\n\n"
      ]
    },
    {
      "execution_count": null,
      "cell_type": "code",
      "metadata": {
        "collapsed": false
      },
      "source": [
        "print(plt.rcParams['axes.autolimit_mode'])\n\n# Now change this value and see the results\nwith plt.rc_context({'axes.autolimit_mode': 'round_numbers'}):\n    fig, ax = plt.subplots()\n    ax.scatter(*data, c=data[1])"
      ],
      "outputs": []
    },
    {
      "metadata": {},
      "cell_type": "markdown",
      "source": [
        "You can also alter the margins of the axes around the data by\nwith ``axes.(x,y)margin``:\n\n"
      ]
    },
    {
      "execution_count": null,
      "cell_type": "code",
      "metadata": {
        "collapsed": false
      },
      "source": [
        "with plt.rc_context({'axes.autolimit_mode': 'round_numbers',\n                     'axes.xmargin': .8,\n                     'axes.ymargin': .8}):\n    fig, ax = plt.subplots()\n    ax.scatter(*data, c=data[1])\n\nplt.show()"
      ],
      "outputs": []
    }
  ],
  "nbformat": 4,
  "nbformat_minor": 0
}
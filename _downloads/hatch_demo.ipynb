{
  "metadata": {
    "language_info": {
      "version": "3.5.3",
      "codemirror_mode": {
        "version": 3,
        "name": "ipython"
      },
      "file_extension": ".py",
      "name": "python",
      "nbconvert_exporter": "python",
      "mimetype": "text/x-python",
      "pygments_lexer": "ipython3"
    },
    "kernelspec": {
      "display_name": "Python 3",
      "language": "python",
      "name": "python3"
    }
  },
  "cells": [
    {
      "execution_count": null,
      "cell_type": "code",
      "metadata": {
        "collapsed": false
      },
      "source": [
        "%matplotlib inline"
      ],
      "outputs": []
    },
    {
      "metadata": {},
      "cell_type": "markdown",
      "source": [
        "\n# Hatch Demo\n\n\nHatching (pattern filled polygons) is supported currently in the PS,\nPDF, SVG and Agg backends only.\n\n"
      ]
    },
    {
      "execution_count": null,
      "cell_type": "code",
      "metadata": {
        "collapsed": false
      },
      "source": [
        "import matplotlib.pyplot as plt\nfrom matplotlib.patches import Ellipse, Polygon\n\nfig = plt.figure()\nax1 = fig.add_subplot(131)\nax1.bar(range(1, 5), range(1, 5), color='red', edgecolor='black', hatch=\"/\")\nax1.bar(range(1, 5), [6] * 4, bottom=range(1, 5),\n        color='blue', edgecolor='black', hatch='//')\nax1.set_xticks([1.5, 2.5, 3.5, 4.5])\n\nax2 = fig.add_subplot(132)\nbars = ax2.bar(range(1, 5), range(1, 5), color='yellow', ecolor='black') + \\\n    ax2.bar(range(1, 5), [6] * 4, bottom=range(1, 5),\n            color='green', ecolor='black')\nax2.set_xticks([1.5, 2.5, 3.5, 4.5])\n\npatterns = ('-', '+', 'x', '\\\\', '*', 'o', 'O', '.')\nfor bar, pattern in zip(bars, patterns):\n    bar.set_hatch(pattern)\n\nax3 = fig.add_subplot(133)\nax3.fill([1, 3, 3, 1], [1, 1, 2, 2], fill=False, hatch='\\\\')\nax3.add_patch(Ellipse((4, 1.5), 4, 0.5, fill=False, hatch='*'))\nax3.add_patch(Polygon([[0, 0], [4, 1.1], [6, 2.5], [2, 1.4]], closed=True,\n                      fill=False, hatch='/'))\nax3.set_xlim((0, 6))\nax3.set_ylim((0, 2.5))\n\nplt.show()"
      ],
      "outputs": []
    }
  ],
  "nbformat": 4,
  "nbformat_minor": 0
}
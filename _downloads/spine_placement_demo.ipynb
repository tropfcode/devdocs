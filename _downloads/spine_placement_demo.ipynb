{
  "metadata": {
    "language_info": {
      "version": "3.5.3",
      "codemirror_mode": {
        "version": 3,
        "name": "ipython"
      },
      "file_extension": ".py",
      "name": "python",
      "nbconvert_exporter": "python",
      "mimetype": "text/x-python",
      "pygments_lexer": "ipython3"
    },
    "kernelspec": {
      "display_name": "Python 3",
      "language": "python",
      "name": "python3"
    }
  },
  "cells": [
    {
      "execution_count": null,
      "cell_type": "code",
      "metadata": {
        "collapsed": false
      },
      "source": [
        "%matplotlib inline"
      ],
      "outputs": []
    },
    {
      "metadata": {},
      "cell_type": "markdown",
      "source": [
        "\n# Spine Placement Demo\n\n\nAdjusting the location and appearance of axis spines.\n\n"
      ]
    },
    {
      "execution_count": null,
      "cell_type": "code",
      "metadata": {
        "collapsed": false
      },
      "source": [
        "import numpy as np\nimport matplotlib.pyplot as plt"
      ],
      "outputs": []
    },
    {
      "execution_count": null,
      "cell_type": "code",
      "metadata": {
        "collapsed": false
      },
      "source": [
        "fig = plt.figure()\nx = np.linspace(-np.pi, np.pi, 100)\ny = 2 * np.sin(x)\n\nax = fig.add_subplot(2, 2, 1)\nax.set_title('centered spines')\nax.plot(x, y)\nax.spines['left'].set_position('center')\nax.spines['right'].set_color('none')\nax.spines['bottom'].set_position('center')\nax.spines['top'].set_color('none')\nax.spines['left'].set_smart_bounds(True)\nax.spines['bottom'].set_smart_bounds(True)\nax.xaxis.set_ticks_position('bottom')\nax.yaxis.set_ticks_position('left')\n\nax = fig.add_subplot(2, 2, 2)\nax.set_title('zeroed spines')\nax.plot(x, y)\nax.spines['left'].set_position('zero')\nax.spines['right'].set_color('none')\nax.spines['bottom'].set_position('zero')\nax.spines['top'].set_color('none')\nax.spines['left'].set_smart_bounds(True)\nax.spines['bottom'].set_smart_bounds(True)\nax.xaxis.set_ticks_position('bottom')\nax.yaxis.set_ticks_position('left')\n\nax = fig.add_subplot(2, 2, 3)\nax.set_title('spines at axes (0.6, 0.1)')\nax.plot(x, y)\nax.spines['left'].set_position(('axes', 0.6))\nax.spines['right'].set_color('none')\nax.spines['bottom'].set_position(('axes', 0.1))\nax.spines['top'].set_color('none')\nax.spines['left'].set_smart_bounds(True)\nax.spines['bottom'].set_smart_bounds(True)\nax.xaxis.set_ticks_position('bottom')\nax.yaxis.set_ticks_position('left')\n\nax = fig.add_subplot(2, 2, 4)\nax.set_title('spines at data (1, 2)')\nax.plot(x, y)\nax.spines['left'].set_position(('data', 1))\nax.spines['right'].set_color('none')\nax.spines['bottom'].set_position(('data', 2))\nax.spines['top'].set_color('none')\nax.spines['left'].set_smart_bounds(True)\nax.spines['bottom'].set_smart_bounds(True)\nax.xaxis.set_ticks_position('bottom')\nax.yaxis.set_ticks_position('left')"
      ],
      "outputs": []
    },
    {
      "metadata": {},
      "cell_type": "markdown",
      "source": [
        "Define a method that adjusts the location of the axis spines\n\n"
      ]
    },
    {
      "execution_count": null,
      "cell_type": "code",
      "metadata": {
        "collapsed": false
      },
      "source": [
        "def adjust_spines(ax, spines):\n    for loc, spine in ax.spines.items():\n        if loc in spines:\n            spine.set_position(('outward', 10))  # outward by 10 points\n            spine.set_smart_bounds(True)\n        else:\n            spine.set_color('none')  # don't draw spine\n\n    # turn off ticks where there is no spine\n    if 'left' in spines:\n        ax.yaxis.set_ticks_position('left')\n    else:\n        # no yaxis ticks\n        ax.yaxis.set_ticks([])\n\n    if 'bottom' in spines:\n        ax.xaxis.set_ticks_position('bottom')\n    else:\n        # no xaxis ticks\n        ax.xaxis.set_ticks([])"
      ],
      "outputs": []
    },
    {
      "metadata": {},
      "cell_type": "markdown",
      "source": [
        "Create another figure using our new ``adjust_spines`` method\n\n"
      ]
    },
    {
      "execution_count": null,
      "cell_type": "code",
      "metadata": {
        "collapsed": false
      },
      "source": [
        "fig = plt.figure()\n\nx = np.linspace(0, 2 * np.pi, 100)\ny = 2 * np.sin(x)\n\nax = fig.add_subplot(2, 2, 1)\nax.plot(x, y, clip_on=False)\nadjust_spines(ax, ['left'])\n\nax = fig.add_subplot(2, 2, 2)\nax.plot(x, y, clip_on=False)\nadjust_spines(ax, [])\n\nax = fig.add_subplot(2, 2, 3)\nax.plot(x, y, clip_on=False)\nadjust_spines(ax, ['left', 'bottom'])\n\nax = fig.add_subplot(2, 2, 4)\nax.plot(x, y, clip_on=False)\nadjust_spines(ax, ['bottom'])\n\nplt.show()"
      ],
      "outputs": []
    }
  ],
  "nbformat": 4,
  "nbformat_minor": 0
}
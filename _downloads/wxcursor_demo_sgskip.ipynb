{
  "metadata": {
    "language_info": {
      "version": "3.5.3",
      "codemirror_mode": {
        "version": 3,
        "name": "ipython"
      },
      "file_extension": ".py",
      "name": "python",
      "nbconvert_exporter": "python",
      "mimetype": "text/x-python",
      "pygments_lexer": "ipython3"
    },
    "kernelspec": {
      "display_name": "Python 3",
      "language": "python",
      "name": "python3"
    }
  },
  "cells": [
    {
      "execution_count": null,
      "cell_type": "code",
      "metadata": {
        "collapsed": false
      },
      "source": [
        "%matplotlib inline"
      ],
      "outputs": []
    },
    {
      "metadata": {},
      "cell_type": "markdown",
      "source": [
        "\n# WXcursor Demo\n\n\nExample to draw a cursor and report the data coords in wx\n\n"
      ]
    },
    {
      "execution_count": null,
      "cell_type": "code",
      "metadata": {
        "collapsed": false
      },
      "source": [
        "# matplotlib requires wxPython 2.8+\n# set the wxPython version in lib\\site-packages\\wx.pth file\n# or if you have wxversion installed un-comment the lines below\n#import wxversion\n#wxversion.ensureMinimal('2.8')\n\nimport matplotlib\nmatplotlib.use('WXAgg')\n\nfrom matplotlib.backends.backend_wxagg import FigureCanvasWxAgg as FigureCanvas\nfrom matplotlib.backends.backend_wx import NavigationToolbar2Wx, wxc\nfrom matplotlib.figure import Figure\nfrom numpy import arange, sin, pi\n\nimport wx\n\n\nclass CanvasFrame(wx.Frame):\n    def __init__(self, ):\n        wx.Frame.__init__(self, None, -1,\n                          'CanvasFrame', size=(550, 350))\n\n        self.SetBackgroundColour(wxc.NamedColour(\"WHITE\"))\n\n        self.figure = Figure()\n        self.axes = self.figure.add_subplot(111)\n        t = arange(0.0, 3.0, 0.01)\n        s = sin(2*pi*t)\n\n        self.axes.plot(t, s)\n        self.axes.set_xlabel('t')\n        self.axes.set_ylabel('sin(t)')\n        self.figure_canvas = FigureCanvas(self, -1, self.figure)\n\n        # Note that event is a MplEvent\n        self.figure_canvas.mpl_connect('motion_notify_event', self.UpdateStatusBar)\n        self.figure_canvas.Bind(wx.EVT_ENTER_WINDOW, self.ChangeCursor)\n\n        self.sizer = wx.BoxSizer(wx.VERTICAL)\n        self.sizer.Add(self.figure_canvas, 1, wx.LEFT | wx.TOP | wx.GROW)\n        self.SetSizer(self.sizer)\n        self.Fit()\n\n        self.statusBar = wx.StatusBar(self, -1)\n        self.SetStatusBar(self.statusBar)\n\n        self.toolbar = NavigationToolbar2Wx(self.figure_canvas)\n        self.sizer.Add(self.toolbar, 0, wx.LEFT | wx.EXPAND)\n        self.toolbar.Show()\n\n    def ChangeCursor(self, event):\n        self.figure_canvas.SetCursor(wxc.StockCursor(wx.CURSOR_BULLSEYE))\n\n    def UpdateStatusBar(self, event):\n        if event.inaxes:\n            x, y = event.xdata, event.ydata\n            self.statusBar.SetStatusText((\"x= \" + str(x) +\n                                          \"  y=\" + str(y)),\n                                         0)\n\n\nclass App(wx.App):\n    def OnInit(self):\n        'Create the main window and insert the custom frame'\n        frame = CanvasFrame()\n        self.SetTopWindow(frame)\n        frame.Show(True)\n        return True\n\nif __name__ == '__main__':\n    app = App(0)\n    app.MainLoop()"
      ],
      "outputs": []
    }
  ],
  "nbformat": 4,
  "nbformat_minor": 0
}
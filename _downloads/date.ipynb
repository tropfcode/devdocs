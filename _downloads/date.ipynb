{
  "metadata": {
    "language_info": {
      "version": "3.5.3",
      "codemirror_mode": {
        "version": 3,
        "name": "ipython"
      },
      "file_extension": ".py",
      "name": "python",
      "nbconvert_exporter": "python",
      "mimetype": "text/x-python",
      "pygments_lexer": "ipython3"
    },
    "kernelspec": {
      "display_name": "Python 3",
      "language": "python",
      "name": "python3"
    }
  },
  "cells": [
    {
      "execution_count": null,
      "cell_type": "code",
      "metadata": {
        "collapsed": false
      },
      "source": [
        "%matplotlib inline"
      ],
      "outputs": []
    },
    {
      "metadata": {},
      "cell_type": "markdown",
      "source": [
        "\n# Date tick labels\n\n\nShow how to make date plots in matplotlib using date tick locators and\nformatters.  See major_minor_demo1.py for more information on\ncontrolling major and minor ticks\n\nAll matplotlib date plotting is done by converting date instances into\ndays since the 0001-01-01 UTC.  The conversion, tick locating and\nformatting is done behind the scenes so this is most transparent to\nyou.  The dates module provides several converter functions date2num\nand num2date\n\n\n"
      ]
    },
    {
      "execution_count": null,
      "cell_type": "code",
      "metadata": {
        "collapsed": false
      },
      "source": [
        "import datetime\nimport numpy as np\nimport matplotlib.pyplot as plt\nimport matplotlib.dates as mdates\nimport matplotlib.cbook as cbook\n\nyears = mdates.YearLocator()   # every year\nmonths = mdates.MonthLocator()  # every month\nyearsFmt = mdates.DateFormatter('%Y')\n\n# Load a numpy record array from yahoo csv data with fields date, open, close,\n# volume, adj_close from the mpl-data/example directory. The record array\n# stores the date as an np.datetime64 with a day unit ('D') in the date column.\nwith cbook.get_sample_data('goog.npz') as datafile:\n    r = np.load(datafile)['price_data'].view(np.recarray)\n# Matplotlib works better with datetime.datetime than np.datetime64, but the\n# latter is more portable.\ndate = r.date.astype('O')\n\nfig, ax = plt.subplots()\nax.plot(date, r.adj_close)\n\n\n# format the ticks\nax.xaxis.set_major_locator(years)\nax.xaxis.set_major_formatter(yearsFmt)\nax.xaxis.set_minor_locator(months)\n\ndatemin = datetime.date(date.min().year, 1, 1)\ndatemax = datetime.date(date.max().year + 1, 1, 1)\nax.set_xlim(datemin, datemax)\n\n\n# format the coords message box\ndef price(x):\n    return '$%1.2f' % x\nax.format_xdata = mdates.DateFormatter('%Y-%m-%d')\nax.format_ydata = price\nax.grid(True)\n\n# rotates and right aligns the x labels, and moves the bottom of the\n# axes up to make room for them\nfig.autofmt_xdate()\n\nplt.show()"
      ],
      "outputs": []
    }
  ],
  "nbformat": 4,
  "nbformat_minor": 0
}
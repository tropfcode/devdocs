{
  "metadata": {
    "language_info": {
      "version": "3.5.3",
      "codemirror_mode": {
        "version": 3,
        "name": "ipython"
      },
      "file_extension": ".py",
      "name": "python",
      "nbconvert_exporter": "python",
      "mimetype": "text/x-python",
      "pygments_lexer": "ipython3"
    },
    "kernelspec": {
      "display_name": "Python 3",
      "language": "python",
      "name": "python3"
    }
  },
  "cells": [
    {
      "execution_count": null,
      "cell_type": "code",
      "metadata": {
        "collapsed": false
      },
      "source": [
        "%matplotlib inline"
      ],
      "outputs": []
    },
    {
      "metadata": {},
      "cell_type": "markdown",
      "source": [
        "\n# Lasso Demo\n\n\nShow how to use a lasso to select a set of points and get the indices\nof the selected points.  A callback is used to change the color of the\nselected points\n\nThis is currently a proof-of-concept implementation (though it is\nusable as is).  There will be some refinement of the API.\n\n"
      ]
    },
    {
      "execution_count": null,
      "cell_type": "code",
      "metadata": {
        "collapsed": false
      },
      "source": [
        "from matplotlib.widgets import Lasso\nfrom matplotlib.collections import RegularPolyCollection\nfrom matplotlib import colors as mcolors, path\n\nimport matplotlib.pyplot as plt\nfrom numpy import nonzero\nfrom numpy.random import rand\n\n\nclass Datum(object):\n    colorin = mcolors.to_rgba(\"red\")\n    colorout = mcolors.to_rgba(\"blue\")\n\n    def __init__(self, x, y, include=False):\n        self.x = x\n        self.y = y\n        if include:\n            self.color = self.colorin\n        else:\n            self.color = self.colorout\n\n\nclass LassoManager(object):\n    def __init__(self, ax, data):\n        self.axes = ax\n        self.canvas = ax.figure.canvas\n        self.data = data\n\n        self.Nxy = len(data)\n\n        facecolors = [d.color for d in data]\n        self.xys = [(d.x, d.y) for d in data]\n        self.collection = RegularPolyCollection(\n            6, sizes=(100,),\n            facecolors=facecolors,\n            offsets=self.xys,\n            transOffset=ax.transData)\n\n        ax.add_collection(self.collection)\n\n        self.cid = self.canvas.mpl_connect('button_press_event', self.onpress)\n\n    def callback(self, verts):\n        facecolors = self.collection.get_facecolors()\n        p = path.Path(verts)\n        ind = p.contains_points(self.xys)\n        for i in range(len(self.xys)):\n            if ind[i]:\n                facecolors[i] = Datum.colorin\n            else:\n                facecolors[i] = Datum.colorout\n\n        self.canvas.draw_idle()\n        self.canvas.widgetlock.release(self.lasso)\n        del self.lasso\n\n    def onpress(self, event):\n        if self.canvas.widgetlock.locked():\n            return\n        if event.inaxes is None:\n            return\n        self.lasso = Lasso(event.inaxes,\n                           (event.xdata, event.ydata),\n                           self.callback)\n        # acquire a lock on the widget drawing\n        self.canvas.widgetlock(self.lasso)\n\nif __name__ == '__main__':\n\n    data = [Datum(*xy) for xy in rand(100, 2)]\n    ax = plt.axes(xlim=(0, 1), ylim=(0, 1), autoscale_on=False)\n    ax.set_title('Lasso points using left mouse button')\n\n    lman = LassoManager(ax, data)\n\n    plt.show()"
      ],
      "outputs": []
    }
  ],
  "nbformat": 4,
  "nbformat_minor": 0
}
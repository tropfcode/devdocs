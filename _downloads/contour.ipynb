{
  "metadata": {
    "language_info": {
      "version": "3.5.3",
      "codemirror_mode": {
        "version": 3,
        "name": "ipython"
      },
      "file_extension": ".py",
      "name": "python",
      "nbconvert_exporter": "python",
      "mimetype": "text/x-python",
      "pygments_lexer": "ipython3"
    },
    "kernelspec": {
      "display_name": "Python 3",
      "language": "python",
      "name": "python3"
    }
  },
  "cells": [
    {
      "execution_count": null,
      "cell_type": "code",
      "metadata": {
        "collapsed": false
      },
      "source": [
        "%matplotlib inline"
      ],
      "outputs": []
    },
    {
      "metadata": {},
      "cell_type": "markdown",
      "source": [
        "\n# Frontpage contour example\n\n\nThis example reproduces the frontpage contour example.\n\n"
      ]
    },
    {
      "execution_count": null,
      "cell_type": "code",
      "metadata": {
        "collapsed": false
      },
      "source": [
        "import matplotlib.pyplot as plt\nimport numpy as np\nfrom matplotlib import mlab, cm\n\nextent = (-3, 3, -3, 3)\n\ndelta = 0.5\nx = np.arange(-3.0, 4.001, delta)\ny = np.arange(-4.0, 3.001, delta)\nX, Y = np.meshgrid(x, y)\nZ1 = mlab.bivariate_normal(X, Y, 1.0, 1.0, 0.0, -0.5)\nZ2 = mlab.bivariate_normal(X, Y, 1.5, 0.5, 1, 1)\nZ = (Z1 - Z2) * 10\n\nlevels = np.linspace(-2.0, 1.601, 40)\nnorm = cm.colors.Normalize(vmax=abs(Z).max(), vmin=-abs(Z).max())\n\nfig, ax = plt.subplots()\ncset1 = ax.contourf(\n    X, Y, Z, levels,\n    norm=norm)\nax.set_xlim(-3, 3)\nax.set_ylim(-3, 3)\nax.set_xticks([])\nax.set_yticks([])\nfig.savefig(\"contour_frontpage.png\", dpi=25)  # results in 160x120 px image"
      ],
      "outputs": []
    }
  ],
  "nbformat": 4,
  "nbformat_minor": 0
}
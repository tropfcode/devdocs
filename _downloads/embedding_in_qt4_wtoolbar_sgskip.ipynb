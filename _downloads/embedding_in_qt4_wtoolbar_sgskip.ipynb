{
  "metadata": {
    "language_info": {
      "version": "3.5.3",
      "codemirror_mode": {
        "version": 3,
        "name": "ipython"
      },
      "file_extension": ".py",
      "name": "python",
      "nbconvert_exporter": "python",
      "mimetype": "text/x-python",
      "pygments_lexer": "ipython3"
    },
    "kernelspec": {
      "display_name": "Python 3",
      "language": "python",
      "name": "python3"
    }
  },
  "cells": [
    {
      "execution_count": null,
      "cell_type": "code",
      "metadata": {
        "collapsed": false
      },
      "source": [
        "%matplotlib inline"
      ],
      "outputs": []
    },
    {
      "metadata": {},
      "cell_type": "markdown",
      "source": [
        "\n# Embedding In QT4 Wtoolbar\n\n\n\n"
      ]
    },
    {
      "execution_count": null,
      "cell_type": "code",
      "metadata": {
        "collapsed": false
      },
      "source": [
        "from __future__ import print_function\n\nimport sys\n\nimport numpy as np\n\nimport matplotlib\nmatplotlib.use(\"Qt4Agg\")\nfrom matplotlib.backend_bases import key_press_handler\nfrom matplotlib.backends.backend_qt4agg import (\n    FigureCanvasQTAgg as FigureCanvas,\n    NavigationToolbar2QT as NavigationToolbar)\nfrom matplotlib.backends.qt_compat import QtCore, QtGui\nfrom matplotlib.figure import Figure\n\n\nclass AppForm(QtGui.QMainWindow):\n    def __init__(self, parent=None):\n        QtGui.QMainWindow.__init__(self, parent)\n        self.data = self.get_data2()\n        self.create_main_frame()\n        self.on_draw()\n\n    def create_main_frame(self):\n        self.main_frame = QtGui.QWidget()\n\n        self.fig = Figure((5.0, 4.0), dpi=100)\n        self.canvas = FigureCanvas(self.fig)\n        self.canvas.setParent(self.main_frame)\n        self.canvas.setFocusPolicy(QtCore.Qt.StrongFocus)\n        self.canvas.setFocus()\n\n        self.mpl_toolbar = NavigationToolbar(self.canvas, self.main_frame)\n\n        self.canvas.mpl_connect('key_press_event', self.on_key_press)\n\n        vbox = QtGui.QVBoxLayout()\n        vbox.addWidget(self.canvas)  # the matplotlib canvas\n        vbox.addWidget(self.mpl_toolbar)\n        self.main_frame.setLayout(vbox)\n        self.setCentralWidget(self.main_frame)\n\n    def get_data2(self):\n        return np.arange(20).reshape([4, 5]).copy()\n\n    def on_draw(self):\n        self.fig.clear()\n        self.axes = self.fig.add_subplot(111)\n        self.axes.imshow(self.data, interpolation='nearest')\n        self.canvas.draw()\n\n    def on_key_press(self, event):\n        print('you pressed', event.key)\n        # implement the default mpl key press events described at\n        # http://matplotlib.org/users/navigation_toolbar.html#navigation-keyboard-shortcuts\n        key_press_handler(event, self.canvas, self.mpl_toolbar)\n\n\ndef main():\n    app = QtGui.QApplication(sys.argv)\n    form = AppForm()\n    form.show()\n    app.exec_()\n\n\nif __name__ == \"__main__\":\n    main()"
      ],
      "outputs": []
    }
  ],
  "nbformat": 4,
  "nbformat_minor": 0
}
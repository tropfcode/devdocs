{
  "metadata": {
    "language_info": {
      "version": "3.5.3",
      "codemirror_mode": {
        "version": 3,
        "name": "ipython"
      },
      "file_extension": ".py",
      "name": "python",
      "nbconvert_exporter": "python",
      "mimetype": "text/x-python",
      "pygments_lexer": "ipython3"
    },
    "kernelspec": {
      "display_name": "Python 3",
      "language": "python",
      "name": "python3"
    }
  },
  "cells": [
    {
      "execution_count": null,
      "cell_type": "code",
      "metadata": {
        "collapsed": false
      },
      "source": [
        "%matplotlib inline"
      ],
      "outputs": []
    },
    {
      "metadata": {},
      "cell_type": "markdown",
      "source": [
        "\n# Radio Buttons\n\n\n\n"
      ]
    },
    {
      "execution_count": null,
      "cell_type": "code",
      "metadata": {
        "collapsed": false
      },
      "source": [
        "import numpy as np\nimport matplotlib.pyplot as plt\nfrom matplotlib.widgets import RadioButtons\n\nt = np.arange(0.0, 2.0, 0.01)\ns0 = np.sin(2*np.pi*t)\ns1 = np.sin(4*np.pi*t)\ns2 = np.sin(8*np.pi*t)\n\nfig, ax = plt.subplots()\nl, = ax.plot(t, s0, lw=2, color='red')\nplt.subplots_adjust(left=0.3)\n\naxcolor = 'lightgoldenrodyellow'\nrax = plt.axes([0.05, 0.7, 0.15, 0.15], facecolor=axcolor)\nradio = RadioButtons(rax, ('2 Hz', '4 Hz', '8 Hz'))\n\n\ndef hzfunc(label):\n    hzdict = {'2 Hz': s0, '4 Hz': s1, '8 Hz': s2}\n    ydata = hzdict[label]\n    l.set_ydata(ydata)\n    plt.draw()\nradio.on_clicked(hzfunc)\n\nrax = plt.axes([0.05, 0.4, 0.15, 0.15], facecolor=axcolor)\nradio2 = RadioButtons(rax, ('red', 'blue', 'green'))\n\n\ndef colorfunc(label):\n    l.set_color(label)\n    plt.draw()\nradio2.on_clicked(colorfunc)\n\nrax = plt.axes([0.05, 0.1, 0.15, 0.15], facecolor=axcolor)\nradio3 = RadioButtons(rax, ('-', '--', '-.', 'steps', ':'))\n\n\ndef stylefunc(label):\n    l.set_linestyle(label)\n    plt.draw()\nradio3.on_clicked(stylefunc)\n\nplt.show()"
      ],
      "outputs": []
    }
  ],
  "nbformat": 4,
  "nbformat_minor": 0
}
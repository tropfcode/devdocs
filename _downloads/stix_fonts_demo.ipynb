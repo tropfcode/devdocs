{
  "metadata": {
    "language_info": {
      "version": "3.5.3",
      "codemirror_mode": {
        "version": 3,
        "name": "ipython"
      },
      "file_extension": ".py",
      "name": "python",
      "nbconvert_exporter": "python",
      "mimetype": "text/x-python",
      "pygments_lexer": "ipython3"
    },
    "kernelspec": {
      "display_name": "Python 3",
      "language": "python",
      "name": "python3"
    }
  },
  "cells": [
    {
      "execution_count": null,
      "cell_type": "code",
      "metadata": {
        "collapsed": false
      },
      "source": [
        "%matplotlib inline"
      ],
      "outputs": []
    },
    {
      "metadata": {},
      "cell_type": "markdown",
      "source": [
        "\n# STIX Fonts Demo\n\n\n\n"
      ]
    },
    {
      "execution_count": null,
      "cell_type": "code",
      "metadata": {
        "collapsed": false
      },
      "source": [
        "from __future__ import unicode_literals\n\nimport subprocess\nimport sys\nimport re\nimport gc\nimport matplotlib.pyplot as plt\nimport numpy as np\n\nstests = [\n    r'$\\mathcircled{123} \\mathrm{\\mathcircled{123}}'\n    r' \\mathbf{\\mathcircled{123}}$',\n    r'$\\mathsf{Sans \\Omega} \\mathrm{\\mathsf{Sans \\Omega}}'\n    r' \\mathbf{\\mathsf{Sans \\Omega}}$',\n    r'$\\mathtt{Monospace}$',\n    r'$\\mathcal{CALLIGRAPHIC}$',\n    r'$\\mathbb{Blackboard \\pi}$',\n    r'$\\mathrm{\\mathbb{Blackboard \\pi}}$',\n    r'$\\mathbf{\\mathbb{Blackboard \\pi}}$',\n    r'$\\mathfrak{Fraktur} \\mathbf{\\mathfrak{Fraktur}}$',\n    r'$\\mathscr{Script}$']\n\nif sys.maxunicode > 0xffff:\n    s = r'Direct Unicode: $\\u23ce \\mathrm{\\ue0f2 \\U0001D538}$'\n\n\ndef doall():\n    tests = stests\n\n    plt.figure(figsize=(8, (len(tests) * 1) + 2))\n    plt.plot([0, 0], 'r')\n    plt.grid(False)\n    plt.axis([0, 3, -len(tests), 0])\n    plt.yticks(np.arange(len(tests)) * -1)\n    for i, s in enumerate(tests):\n        plt.text(0.1, -i, s, fontsize=32)\n\n    plt.savefig('stix_fonts_example')\n    plt.show()\n\n\nif '--latex' in sys.argv:\n    fd = open(\"stix_fonts_examples.ltx\", \"w\")\n    fd.write(\"\\\\documentclass{article}\\n\")\n    fd.write(\"\\\\begin{document}\\n\")\n    fd.write(\"\\\\begin{enumerate}\\n\")\n\n    for i, s in enumerate(stests):\n        s = re.sub(r\"(?<!\\\\)\\$\", \"$$\", s)\n        fd.write(\"\\\\item %s\\n\" % s)\n\n    fd.write(\"\\\\end{enumerate}\\n\")\n    fd.write(\"\\\\end{document}\\n\")\n    fd.close()\n\n    subprocess.call([\"pdflatex\", \"stix_fonts_examples.ltx\"])\nelse:\n    doall()"
      ],
      "outputs": []
    }
  ],
  "nbformat": 4,
  "nbformat_minor": 0
}
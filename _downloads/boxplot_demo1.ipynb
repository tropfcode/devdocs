{
  "metadata": {
    "language_info": {
      "version": "3.5.3",
      "codemirror_mode": {
        "version": 3,
        "name": "ipython"
      },
      "file_extension": ".py",
      "name": "python",
      "nbconvert_exporter": "python",
      "mimetype": "text/x-python",
      "pygments_lexer": "ipython3"
    },
    "kernelspec": {
      "display_name": "Python 3",
      "language": "python",
      "name": "python3"
    }
  },
  "cells": [
    {
      "execution_count": null,
      "cell_type": "code",
      "metadata": {
        "collapsed": false
      },
      "source": [
        "%matplotlib inline"
      ],
      "outputs": []
    },
    {
      "metadata": {},
      "cell_type": "markdown",
      "source": [
        "\n# Boxplots\n\n\nVisualizing boxplots with matplotlib.\n\nThe following examples show off how to visualize boxplots with\nMatplotlib. There are many options to control their appearance and\nthe statistics that they use to summarize the data.\n\n\n"
      ]
    },
    {
      "execution_count": null,
      "cell_type": "code",
      "metadata": {
        "collapsed": false
      },
      "source": [
        "import matplotlib.pyplot as plt\nimport numpy as np\nfrom matplotlib.patches import Polygon\n\n\n# Fixing random state for reproducibility\nnp.random.seed(19680801)\n\n# fake up some data\nspread = np.random.rand(50) * 100\ncenter = np.ones(25) * 50\nflier_high = np.random.rand(10) * 100 + 100\nflier_low = np.random.rand(10) * -100\ndata = np.concatenate((spread, center, flier_high, flier_low), 0)\n\nfig, axs = plt.subplots(2, 3)\n\n# basic plot\naxs[0, 0].boxplot(data)\naxs[0, 0].set_title('basic plot')\n\n# notched plot\naxs[0, 1].boxplot(data, 1)\naxs[0, 1].set_title('notched plot')\n\n# change outlier point symbols\naxs[0, 2].boxplot(data, 0, 'gD')\naxs[0, 2].set_title('change outlier\\npoint symbols')\n\n# don't show outlier points\naxs[1, 0].boxplot(data, 0, '')\naxs[1, 0].set_title(\"don't show\\noutlier points\")\n\n# horizontal boxes\naxs[1, 1].boxplot(data, 0, 'rs', 0)\naxs[1, 1].set_title('horizontal boxes')\n\n# change whisker length\naxs[1, 2].boxplot(data, 0, 'rs', 0, 0.75)\naxs[1, 2].set_title('change whisker length')\n\nfig.subplots_adjust(left=0.08, right=0.98, bottom=0.05, top=0.9,\n                    hspace=0.4, wspace=0.3)\n\n# fake up some more data\nspread = np.random.rand(50) * 100\ncenter = np.ones(25) * 40\nflier_high = np.random.rand(10) * 100 + 100\nflier_low = np.random.rand(10) * -100\nd2 = np.concatenate((spread, center, flier_high, flier_low), 0)\ndata.shape = (-1, 1)\nd2.shape = (-1, 1)\n# Making a 2-D array only works if all the columns are the\n# same length.  If they are not, then use a list instead.\n# This is actually more efficient because boxplot converts\n# a 2-D array into a list of vectors internally anyway.\ndata = [data, d2, d2[::2, 0]]\n\n# Multiple box plots on one Axes\nfig, ax = plt.subplots()\nax.boxplot(data)\n\nplt.show()"
      ],
      "outputs": []
    },
    {
      "metadata": {},
      "cell_type": "markdown",
      "source": [
        "Below we'll generate data from five different probability distributions,\neach with different characteristics. We want to play with how an IID\nbootstrap resample of the data preserves the distributional\nproperties of the original sample, and a boxplot is one visual tool\nto make this assessment\n\n"
      ]
    },
    {
      "execution_count": null,
      "cell_type": "code",
      "metadata": {
        "collapsed": false
      },
      "source": [
        "numDists = 5\nrandomDists = ['Normal(1,1)', ' Lognormal(1,1)', 'Exp(1)', 'Gumbel(6,4)',\n               'Triangular(2,9,11)']\nN = 500\n\nnorm = np.random.normal(1, 1, N)\nlogn = np.random.lognormal(1, 1, N)\nexpo = np.random.exponential(1, N)\ngumb = np.random.gumbel(6, 4, N)\ntria = np.random.triangular(2, 9, 11, N)\n\n# Generate some random indices that we'll use to resample the original data\n# arrays. For code brevity, just use the same random indices for each array\nbootstrapIndices = np.random.random_integers(0, N - 1, N)\nnormBoot = norm[bootstrapIndices]\nexpoBoot = expo[bootstrapIndices]\ngumbBoot = gumb[bootstrapIndices]\nlognBoot = logn[bootstrapIndices]\ntriaBoot = tria[bootstrapIndices]\n\ndata = [norm, normBoot, logn, lognBoot, expo, expoBoot, gumb, gumbBoot,\n        tria, triaBoot]\n\nfig, ax1 = plt.subplots(figsize=(10, 6))\nfig.canvas.set_window_title('A Boxplot Example')\nfig.subplots_adjust(left=0.075, right=0.95, top=0.9, bottom=0.25)\n\nbp = ax1.boxplot(data, notch=0, sym='+', vert=1, whis=1.5)\nplt.setp(bp['boxes'], color='black')\nplt.setp(bp['whiskers'], color='black')\nplt.setp(bp['fliers'], color='red', marker='+')\n\n# Add a horizontal grid to the plot, but make it very light in color\n# so we can use it for reading data values but not be distracting\nax1.yaxis.grid(True, linestyle='-', which='major', color='lightgrey',\n               alpha=0.5)\n\n# Hide these grid behind plot objects\nax1.set_axisbelow(True)\nax1.set_title('Comparison of IID Bootstrap Resampling Across Five Distributions')\nax1.set_xlabel('Distribution')\nax1.set_ylabel('Value')\n\n# Now fill the boxes with desired colors\nboxColors = ['darkkhaki', 'royalblue']\nnumBoxes = numDists*2\nmedians = list(range(numBoxes))\nfor i in range(numBoxes):\n    box = bp['boxes'][i]\n    boxX = []\n    boxY = []\n    for j in range(5):\n        boxX.append(box.get_xdata()[j])\n        boxY.append(box.get_ydata()[j])\n    boxCoords = list(zip(boxX, boxY))\n    # Alternate between Dark Khaki and Royal Blue\n    k = i % 2\n    boxPolygon = Polygon(boxCoords, facecolor=boxColors[k])\n    ax1.add_patch(boxPolygon)\n    # Now draw the median lines back over what we just filled in\n    med = bp['medians'][i]\n    medianX = []\n    medianY = []\n    for j in range(2):\n        medianX.append(med.get_xdata()[j])\n        medianY.append(med.get_ydata()[j])\n        ax1.plot(medianX, medianY, 'k')\n        medians[i] = medianY[0]\n    # Finally, overplot the sample averages, with horizontal alignment\n    # in the center of each box\n    ax1.plot([np.average(med.get_xdata())], [np.average(data[i])],\n             color='w', marker='*', markeredgecolor='k')\n\n# Set the axes ranges and axes labels\nax1.set_xlim(0.5, numBoxes + 0.5)\ntop = 40\nbottom = -5\nax1.set_ylim(bottom, top)\nax1.set_xticklabels(np.repeat(randomDists, 2),\n                    rotation=45, fontsize=8)\n\n# Due to the Y-axis scale being different across samples, it can be\n# hard to compare differences in medians across the samples. Add upper\n# X-axis tick labels with the sample medians to aid in comparison\n# (just use two decimal places of precision)\npos = np.arange(numBoxes) + 1\nupperLabels = [str(np.round(s, 2)) for s in medians]\nweights = ['bold', 'semibold']\nfor tick, label in zip(range(numBoxes), ax1.get_xticklabels()):\n    k = tick % 2\n    ax1.text(pos[tick], top - (top*0.05), upperLabels[tick],\n             horizontalalignment='center', size='x-small', weight=weights[k],\n             color=boxColors[k])\n\n# Finally, add a basic legend\nfig.text(0.80, 0.08, str(N) + ' Random Numbers',\n         backgroundcolor=boxColors[0], color='black', weight='roman',\n         size='x-small')\nfig.text(0.80, 0.045, 'IID Bootstrap Resample',\n         backgroundcolor=boxColors[1],\n         color='white', weight='roman', size='x-small')\nfig.text(0.80, 0.015, '*', color='white', backgroundcolor='silver',\n         weight='roman', size='medium')\nfig.text(0.815, 0.013, ' Average Value', color='black', weight='roman',\n         size='x-small')\n\nplt.show()"
      ],
      "outputs": []
    },
    {
      "metadata": {},
      "cell_type": "markdown",
      "source": [
        "Here we write a custom function to bootstrap confidence intervals.\nWe can then use the boxplot along with this function to show these intervals.\n\n"
      ]
    },
    {
      "execution_count": null,
      "cell_type": "code",
      "metadata": {
        "collapsed": false
      },
      "source": [
        "def fakeBootStrapper(n):\n    '''\n    This is just a placeholder for the user's method of\n    bootstrapping the median and its confidence intervals.\n\n    Returns an arbitrary median and confidence intervals\n    packed into a tuple\n    '''\n    if n == 1:\n        med = 0.1\n        CI = (-0.25, 0.25)\n    else:\n        med = 0.2\n        CI = (-0.35, 0.50)\n\n    return med, CI\n\ninc = 0.1\ne1 = np.random.normal(0, 1, size=(500,))\ne2 = np.random.normal(0, 1, size=(500,))\ne3 = np.random.normal(0, 1 + inc, size=(500,))\ne4 = np.random.normal(0, 1 + 2*inc, size=(500,))\n\ntreatments = [e1, e2, e3, e4]\nmed1, CI1 = fakeBootStrapper(1)\nmed2, CI2 = fakeBootStrapper(2)\nmedians = [None, None, med1, med2]\nconf_intervals = [None, None, CI1, CI2]\n\nfig, ax = plt.subplots()\npos = np.array(range(len(treatments))) + 1\nbp = ax.boxplot(treatments, sym='k+', positions=pos,\n                notch=1, bootstrap=5000,\n                usermedians=medians,\n                conf_intervals=conf_intervals)\n\nax.set_xlabel('treatment')\nax.set_ylabel('response')\nplt.setp(bp['whiskers'], color='k', linestyle='-')\nplt.setp(bp['fliers'], markersize=3.0)\nplt.show()"
      ],
      "outputs": []
    }
  ],
  "nbformat": 4,
  "nbformat_minor": 0
}
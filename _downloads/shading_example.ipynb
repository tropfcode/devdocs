{
  "metadata": {
    "language_info": {
      "version": "3.5.3",
      "codemirror_mode": {
        "version": 3,
        "name": "ipython"
      },
      "file_extension": ".py",
      "name": "python",
      "nbconvert_exporter": "python",
      "mimetype": "text/x-python",
      "pygments_lexer": "ipython3"
    },
    "kernelspec": {
      "display_name": "Python 3",
      "language": "python",
      "name": "python3"
    }
  },
  "cells": [
    {
      "execution_count": null,
      "cell_type": "code",
      "metadata": {
        "collapsed": false
      },
      "source": [
        "%matplotlib inline"
      ],
      "outputs": []
    },
    {
      "metadata": {},
      "cell_type": "markdown",
      "source": [
        "\n# Shading Example\n\n\n\n"
      ]
    },
    {
      "execution_count": null,
      "cell_type": "code",
      "metadata": {
        "collapsed": false
      },
      "source": [
        "import numpy as np\nimport matplotlib.pyplot as plt\nfrom matplotlib.colors import LightSource\nfrom matplotlib.cbook import get_sample_data\n\n# Example showing how to make shaded relief plots\n# like Mathematica\n# (http://reference.wolfram.com/mathematica/ref/ReliefPlot.html)\n# or Generic Mapping Tools\n# (http://gmt.soest.hawaii.edu/gmt/doc/gmt/html/GMT_Docs/node145.html)\n\n\ndef main():\n    # Test data\n    x, y = np.mgrid[-5:5:0.05, -5:5:0.05]\n    z = 5 * (np.sqrt(x**2 + y**2) + np.sin(x**2 + y**2))\n\n    filename = get_sample_data('jacksboro_fault_dem.npz', asfileobj=False)\n    with np.load(filename) as dem:\n        elev = dem['elevation']\n\n    fig = compare(z, plt.cm.copper)\n    fig.suptitle('HSV Blending Looks Best with Smooth Surfaces', y=0.95)\n\n    fig = compare(elev, plt.cm.gist_earth, ve=0.05)\n    fig.suptitle('Overlay Blending Looks Best with Rough Surfaces', y=0.95)\n\n    plt.show()\n\n\ndef compare(z, cmap, ve=1):\n    # Create subplots and hide ticks\n    fig, axes = plt.subplots(ncols=2, nrows=2)\n    for ax in axes.flat:\n        ax.set(xticks=[], yticks=[])\n\n    # Illuminate the scene from the northwest\n    ls = LightSource(azdeg=315, altdeg=45)\n\n    axes[0, 0].imshow(z, cmap=cmap)\n    axes[0, 0].set(xlabel='Colormapped Data')\n\n    axes[0, 1].imshow(ls.hillshade(z, vert_exag=ve), cmap='gray')\n    axes[0, 1].set(xlabel='Illumination Intensity')\n\n    rgb = ls.shade(z, cmap=cmap, vert_exag=ve, blend_mode='hsv')\n    axes[1, 0].imshow(rgb)\n    axes[1, 0].set(xlabel='Blend Mode: \"hsv\" (default)')\n\n    rgb = ls.shade(z, cmap=cmap, vert_exag=ve, blend_mode='overlay')\n    axes[1, 1].imshow(rgb)\n    axes[1, 1].set(xlabel='Blend Mode: \"overlay\"')\n\n    return fig\n\n\nif __name__ == '__main__':\n    main()"
      ],
      "outputs": []
    }
  ],
  "nbformat": 4,
  "nbformat_minor": 0
}
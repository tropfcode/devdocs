{
  "metadata": {
    "language_info": {
      "version": "3.5.3",
      "codemirror_mode": {
        "version": 3,
        "name": "ipython"
      },
      "file_extension": ".py",
      "name": "python",
      "nbconvert_exporter": "python",
      "mimetype": "text/x-python",
      "pygments_lexer": "ipython3"
    },
    "kernelspec": {
      "display_name": "Python 3",
      "language": "python",
      "name": "python3"
    }
  },
  "cells": [
    {
      "execution_count": null,
      "cell_type": "code",
      "metadata": {
        "collapsed": false
      },
      "source": [
        "%matplotlib inline"
      ],
      "outputs": []
    },
    {
      "metadata": {},
      "cell_type": "markdown",
      "source": [
        "\n# Demo New Colorbar\n\n\n\n"
      ]
    },
    {
      "execution_count": null,
      "cell_type": "code",
      "metadata": {
        "collapsed": false
      },
      "source": [
        "import matplotlib.pyplot as plt\nfrom mpl_toolkits.axes_grid1.colorbar import colorbar\n\n\nplt.rcParams[\"text.usetex\"] = False\n\nfig, (ax1, ax2) = plt.subplots(1, 2, figsize=(6, 3))\n\nim1 = ax1.imshow([[1, 2], [3, 4]])\ncb1 = fig.colorbar(im1, ax=ax1)\ncb1.ax.set_yticks([1, 3])\nax1.set_title(\"Original MPL's colorbar w/\\nset_yticks([1,3])\", size=10)\n\nim2 = ax2.imshow([[1, 2], [3, 4]])\ncb2 = colorbar(im2, ax=ax2)\ncb2.ax.set_yticks([1, 3])\nax2.set_title(\"AxesGrid's colorbar w/\\nset_yticks([1,3])\", size=10)\n\nplt.show()"
      ],
      "outputs": []
    }
  ],
  "nbformat": 4,
  "nbformat_minor": 0
}
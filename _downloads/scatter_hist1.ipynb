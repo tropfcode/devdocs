{
  "metadata": {
    "language_info": {
      "version": "3.5.3",
      "codemirror_mode": {
        "version": 3,
        "name": "ipython"
      },
      "file_extension": ".py",
      "name": "python",
      "nbconvert_exporter": "python",
      "mimetype": "text/x-python",
      "pygments_lexer": "ipython3"
    },
    "kernelspec": {
      "display_name": "Python 3",
      "language": "python",
      "name": "python3"
    }
  },
  "cells": [
    {
      "execution_count": null,
      "cell_type": "code",
      "metadata": {
        "collapsed": false
      },
      "source": [
        "%matplotlib inline"
      ],
      "outputs": []
    },
    {
      "metadata": {},
      "cell_type": "markdown",
      "source": [
        "\n# Scatter Hist\n\n\n\n"
      ]
    },
    {
      "execution_count": null,
      "cell_type": "code",
      "metadata": {
        "collapsed": false
      },
      "source": [
        "import numpy as np\nimport matplotlib.pyplot as plt\nfrom matplotlib.ticker import NullFormatter\n\n# Fixing random state for reproducibility\nnp.random.seed(19680801)\n\n\n# the random data\nx = np.random.randn(1000)\ny = np.random.randn(1000)\n\nnullfmt = NullFormatter()         # no labels\n\n# definitions for the axes\nleft, width = 0.1, 0.65\nbottom, height = 0.1, 0.65\nbottom_h = left_h = left + width + 0.02\n\nrect_scatter = [left, bottom, width, height]\nrect_histx = [left, bottom_h, width, 0.2]\nrect_histy = [left_h, bottom, 0.2, height]\n\n# start with a rectangular Figure\nplt.figure(1, figsize=(8, 8))\n\naxScatter = plt.axes(rect_scatter)\naxHistx = plt.axes(rect_histx)\naxHisty = plt.axes(rect_histy)\n\n# no labels\naxHistx.xaxis.set_major_formatter(nullfmt)\naxHisty.yaxis.set_major_formatter(nullfmt)\n\n# the scatter plot:\naxScatter.scatter(x, y)\n\n# now determine nice limits by hand:\nbinwidth = 0.25\nxymax = max(np.max(np.abs(x)), np.max(np.abs(y)))\nlim = (int(xymax/binwidth) + 1) * binwidth\n\naxScatter.set_xlim((-lim, lim))\naxScatter.set_ylim((-lim, lim))\n\nbins = np.arange(-lim, lim + binwidth, binwidth)\naxHistx.hist(x, bins=bins)\naxHisty.hist(y, bins=bins, orientation='horizontal')\n\naxHistx.set_xlim(axScatter.get_xlim())\naxHisty.set_ylim(axScatter.get_ylim())\n\nplt.show()"
      ],
      "outputs": []
    }
  ],
  "nbformat": 4,
  "nbformat_minor": 0
}
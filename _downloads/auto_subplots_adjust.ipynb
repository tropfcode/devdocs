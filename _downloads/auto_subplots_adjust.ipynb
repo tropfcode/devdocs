{
  "metadata": {
    "language_info": {
      "version": "3.5.3",
      "codemirror_mode": {
        "version": 3,
        "name": "ipython"
      },
      "file_extension": ".py",
      "name": "python",
      "nbconvert_exporter": "python",
      "mimetype": "text/x-python",
      "pygments_lexer": "ipython3"
    },
    "kernelspec": {
      "display_name": "Python 3",
      "language": "python",
      "name": "python3"
    }
  },
  "cells": [
    {
      "execution_count": null,
      "cell_type": "code",
      "metadata": {
        "collapsed": false
      },
      "source": [
        "%matplotlib inline"
      ],
      "outputs": []
    },
    {
      "metadata": {},
      "cell_type": "markdown",
      "source": [
        "\n# Auto Subplots Adjust\n\n\n\n"
      ]
    },
    {
      "execution_count": null,
      "cell_type": "code",
      "metadata": {
        "collapsed": false
      },
      "source": [
        "import matplotlib.pyplot as plt\nimport matplotlib.transforms as mtransforms\nfig = plt.figure()\nax = fig.add_subplot(111)\nax.plot(range(10))\nax.set_yticks((2,5,7))\nlabels = ax.set_yticklabels(('really, really, really', 'long', 'labels'))\n\ndef on_draw(event):\n   bboxes = []\n   for label in labels:\n       bbox = label.get_window_extent()\n       # the figure transform goes from relative coords->pixels and we\n       # want the inverse of that\n       bboxi = bbox.inverse_transformed(fig.transFigure)\n       bboxes.append(bboxi)\n\n   # this is the bbox that bounds all the bboxes, again in relative\n   # figure coords\n   bbox = mtransforms.Bbox.union(bboxes)\n   if fig.subplotpars.left < bbox.width:\n       # we need to move it over\n       fig.subplots_adjust(left=1.1*bbox.width) # pad a little\n       fig.canvas.draw()\n   return False\n\nfig.canvas.mpl_connect('draw_event', on_draw)\n\nplt.show()"
      ],
      "outputs": []
    }
  ],
  "nbformat": 4,
  "nbformat_minor": 0
}
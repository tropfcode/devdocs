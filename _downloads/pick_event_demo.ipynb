{
  "metadata": {
    "language_info": {
      "version": "3.5.3",
      "codemirror_mode": {
        "version": 3,
        "name": "ipython"
      },
      "file_extension": ".py",
      "name": "python",
      "nbconvert_exporter": "python",
      "mimetype": "text/x-python",
      "pygments_lexer": "ipython3"
    },
    "kernelspec": {
      "display_name": "Python 3",
      "language": "python",
      "name": "python3"
    }
  },
  "cells": [
    {
      "execution_count": null,
      "cell_type": "code",
      "metadata": {
        "collapsed": false
      },
      "source": [
        "%matplotlib inline"
      ],
      "outputs": []
    },
    {
      "metadata": {},
      "cell_type": "markdown",
      "source": [
        "\n# Pick Event Demo\n\n\n\nYou can enable picking by setting the \"picker\" property of an artist\n(for example, a matplotlib Line2D, Text, Patch, Polygon, AxesImage,\netc...)\n\nThere are a variety of meanings of the picker property\n\n    None -  picking is disabled for this artist (default)\n\n    boolean - if True then picking will be enabled and the\n      artist will fire a pick event if the mouse event is over\n      the artist\n\n    float - if picker is a number it is interpreted as an\n      epsilon tolerance in points and the artist will fire\n      off an event if it's data is within epsilon of the mouse\n      event.  For some artists like lines and patch collections,\n      the artist may provide additional data to the pick event\n      that is generated, for example, the indices of the data within\n      epsilon of the pick event\n\n    function - if picker is callable, it is a user supplied\n      function which determines whether the artist is hit by the\n      mouse event.\n\n         hit, props = picker(artist, mouseevent)\n\n      to determine the hit test.  If the mouse event is over the\n      artist, return hit=True and props is a dictionary of properties\n      you want added to the PickEvent attributes\n\n\nAfter you have enabled an artist for picking by setting the \"picker\"\nproperty, you need to connect to the figure canvas pick_event to get\npick callbacks on mouse press events.  For example,\n\n  def pick_handler(event):\n      mouseevent = event.mouseevent\n      artist = event.artist\n      # now do something with this...\n\n\nThe pick event (matplotlib.backend_bases.PickEvent) which is passed to\nyour callback is always fired with two attributes:\n\n  mouseevent - the mouse event that generate the pick event.  The\n    mouse event in turn has attributes like x and y (the coordinates in\n    display space, such as pixels from left, bottom) and xdata, ydata (the\n    coords in data space).  Additionally, you can get information about\n    which buttons were pressed, which keys were pressed, which Axes\n    the mouse is over, etc.  See matplotlib.backend_bases.MouseEvent\n    for details.\n\n  artist - the matplotlib.artist that generated the pick event.\n\nAdditionally, certain artists like Line2D and PatchCollection may\nattach additional meta data like the indices into the data that meet\nthe picker criteria (for example, all the points in the line that are within\nthe specified epsilon tolerance)\n\nThe examples below illustrate each of these methods.\n\n"
      ]
    },
    {
      "execution_count": null,
      "cell_type": "code",
      "metadata": {
        "collapsed": false
      },
      "source": [
        "from __future__ import print_function\nimport matplotlib.pyplot as plt\nfrom matplotlib.lines import Line2D\nfrom matplotlib.patches import Rectangle\nfrom matplotlib.text import Text\nfrom matplotlib.image import AxesImage\nimport numpy as np\nfrom numpy.random import rand\n\nif 1:  # simple picking, lines, rectangles and text\n    fig, (ax1, ax2) = plt.subplots(2, 1)\n    ax1.set_title('click on points, rectangles or text', picker=True)\n    ax1.set_ylabel('ylabel', picker=True, bbox=dict(facecolor='red'))\n    line, = ax1.plot(rand(100), 'o', picker=5)  # 5 points tolerance\n\n    # pick the rectangle\n    bars = ax2.bar(range(10), rand(10), picker=True)\n    for label in ax2.get_xticklabels():  # make the xtick labels pickable\n        label.set_picker(True)\n\n    def onpick1(event):\n        if isinstance(event.artist, Line2D):\n            thisline = event.artist\n            xdata = thisline.get_xdata()\n            ydata = thisline.get_ydata()\n            ind = event.ind\n            print('onpick1 line:', zip(np.take(xdata, ind), np.take(ydata, ind)))\n        elif isinstance(event.artist, Rectangle):\n            patch = event.artist\n            print('onpick1 patch:', patch.get_path())\n        elif isinstance(event.artist, Text):\n            text = event.artist\n            print('onpick1 text:', text.get_text())\n\n    fig.canvas.mpl_connect('pick_event', onpick1)\n\nif 1:  # picking with a custom hit test function\n    # you can define custom pickers by setting picker to a callable\n    # function.  The function has the signature\n    #\n    #  hit, props = func(artist, mouseevent)\n    #\n    # to determine the hit test.  if the mouse event is over the artist,\n    # return hit=True and props is a dictionary of\n    # properties you want added to the PickEvent attributes\n\n    def line_picker(line, mouseevent):\n        \"\"\"\n        find the points within a certain distance from the mouseclick in\n        data coords and attach some extra attributes, pickx and picky\n        which are the data points that were picked\n        \"\"\"\n        if mouseevent.xdata is None:\n            return False, dict()\n        xdata = line.get_xdata()\n        ydata = line.get_ydata()\n        maxd = 0.05\n        d = np.sqrt((xdata - mouseevent.xdata)**2. + (ydata - mouseevent.ydata)**2.)\n\n        ind = np.nonzero(np.less_equal(d, maxd))\n        if len(ind):\n            pickx = np.take(xdata, ind)\n            picky = np.take(ydata, ind)\n            props = dict(ind=ind, pickx=pickx, picky=picky)\n            return True, props\n        else:\n            return False, dict()\n\n    def onpick2(event):\n        print('onpick2 line:', event.pickx, event.picky)\n\n    fig, ax = plt.subplots()\n    ax.set_title('custom picker for line data')\n    line, = ax.plot(rand(100), rand(100), 'o', picker=line_picker)\n    fig.canvas.mpl_connect('pick_event', onpick2)\n\n\nif 1:  # picking on a scatter plot (matplotlib.collections.RegularPolyCollection)\n\n    x, y, c, s = rand(4, 100)\n\n    def onpick3(event):\n        ind = event.ind\n        print('onpick3 scatter:', ind, np.take(x, ind), np.take(y, ind))\n\n    fig, ax = plt.subplots()\n    col = ax.scatter(x, y, 100*s, c, picker=True)\n    #fig.savefig('pscoll.eps')\n    fig.canvas.mpl_connect('pick_event', onpick3)\n\nif 1:  # picking images (matplotlib.image.AxesImage)\n    fig, ax = plt.subplots()\n    im1 = ax.imshow(rand(10, 5), extent=(1, 2, 1, 2), picker=True)\n    im2 = ax.imshow(rand(5, 10), extent=(3, 4, 1, 2), picker=True)\n    im3 = ax.imshow(rand(20, 25), extent=(1, 2, 3, 4), picker=True)\n    im4 = ax.imshow(rand(30, 12), extent=(3, 4, 3, 4), picker=True)\n    ax.axis([0, 5, 0, 5])\n\n    def onpick4(event):\n        artist = event.artist\n        if isinstance(artist, AxesImage):\n            im = artist\n            A = im.get_array()\n            print('onpick4 image', A.shape)\n\n    fig.canvas.mpl_connect('pick_event', onpick4)\n\n\nplt.show()"
      ],
      "outputs": []
    }
  ],
  "nbformat": 4,
  "nbformat_minor": 0
}
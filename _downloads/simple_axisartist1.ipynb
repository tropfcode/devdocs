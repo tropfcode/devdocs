{
  "metadata": {
    "language_info": {
      "version": "3.5.3",
      "codemirror_mode": {
        "version": 3,
        "name": "ipython"
      },
      "file_extension": ".py",
      "name": "python",
      "nbconvert_exporter": "python",
      "mimetype": "text/x-python",
      "pygments_lexer": "ipython3"
    },
    "kernelspec": {
      "display_name": "Python 3",
      "language": "python",
      "name": "python3"
    }
  },
  "cells": [
    {
      "execution_count": null,
      "cell_type": "code",
      "metadata": {
        "collapsed": false
      },
      "source": [
        "%matplotlib inline"
      ],
      "outputs": []
    },
    {
      "metadata": {},
      "cell_type": "markdown",
      "source": [
        "\n# Simple Axisartist1\n\n\n\n"
      ]
    },
    {
      "execution_count": null,
      "cell_type": "code",
      "metadata": {
        "collapsed": false
      },
      "source": [
        "import matplotlib.pyplot as plt\nimport mpl_toolkits.axisartist as AA\n\nfig = plt.figure(1)\nfig.subplots_adjust(right=0.85)\nax = AA.Subplot(fig, 1, 1, 1)\nfig.add_subplot(ax)\n\n# make some axis invisible\nax.axis[\"bottom\", \"top\", \"right\"].set_visible(False)\n\n# make an new axis along the first axis axis (x-axis) which pass\n# through y=0.\nax.axis[\"y=0\"] = ax.new_floating_axis(nth_coord=0, value=0,\n                                      axis_direction=\"bottom\")\nax.axis[\"y=0\"].toggle(all=True)\nax.axis[\"y=0\"].label.set_text(\"y = 0\")\n\nax.set_ylim(-2, 4)\n\nplt.show()"
      ],
      "outputs": []
    }
  ],
  "nbformat": 4,
  "nbformat_minor": 0
}
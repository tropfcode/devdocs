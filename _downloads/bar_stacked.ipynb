{
  "metadata": {
    "language_info": {
      "version": "3.5.3",
      "codemirror_mode": {
        "version": 3,
        "name": "ipython"
      },
      "file_extension": ".py",
      "name": "python",
      "nbconvert_exporter": "python",
      "mimetype": "text/x-python",
      "pygments_lexer": "ipython3"
    },
    "kernelspec": {
      "display_name": "Python 3",
      "language": "python",
      "name": "python3"
    }
  },
  "cells": [
    {
      "execution_count": null,
      "cell_type": "code",
      "metadata": {
        "collapsed": false
      },
      "source": [
        "%matplotlib inline"
      ],
      "outputs": []
    },
    {
      "metadata": {},
      "cell_type": "markdown",
      "source": [
        "\n# Stacked Bar Graph\n\n\nThis is an example of creating a stacked bar plot with error bars\nusing `~matplotlib.pyplot.bar`.  Note the parameters *yerr* used for\nerror bars, and *bottom* to stack the women's bars on top of the men's\nbars.\n\n\n"
      ]
    },
    {
      "execution_count": null,
      "cell_type": "code",
      "metadata": {
        "collapsed": false
      },
      "source": [
        "import numpy as np\nimport matplotlib.pyplot as plt\n\n\nN = 5\nmenMeans = (20, 35, 30, 35, 27)\nwomenMeans = (25, 32, 34, 20, 25)\nmenStd = (2, 3, 4, 1, 2)\nwomenStd = (3, 5, 2, 3, 3)\nind = np.arange(N)    # the x locations for the groups\nwidth = 0.35       # the width of the bars: can also be len(x) sequence\n\np1 = plt.bar(ind, menMeans, width, yerr=menStd)\np2 = plt.bar(ind, womenMeans, width,\n             bottom=menMeans, yerr=womenStd)\n\nplt.ylabel('Scores')\nplt.title('Scores by group and gender')\nplt.xticks(ind, ('G1', 'G2', 'G3', 'G4', 'G5'))\nplt.yticks(np.arange(0, 81, 10))\nplt.legend((p1[0], p2[0]), ('Men', 'Women'))\n\nplt.show()"
      ],
      "outputs": []
    }
  ],
  "nbformat": 4,
  "nbformat_minor": 0
}
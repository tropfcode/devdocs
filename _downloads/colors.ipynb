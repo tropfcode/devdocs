{
  "metadata": {
    "language_info": {
      "version": "3.5.3",
      "codemirror_mode": {
        "version": 3,
        "name": "ipython"
      },
      "file_extension": ".py",
      "name": "python",
      "nbconvert_exporter": "python",
      "mimetype": "text/x-python",
      "pygments_lexer": "ipython3"
    },
    "kernelspec": {
      "display_name": "Python 3",
      "language": "python",
      "name": "python3"
    }
  },
  "cells": [
    {
      "execution_count": null,
      "cell_type": "code",
      "metadata": {
        "collapsed": false
      },
      "source": [
        "%matplotlib inline"
      ],
      "outputs": []
    },
    {
      "metadata": {},
      "cell_type": "markdown",
      "source": [
        "\n*****************\nSpecifying Colors\n*****************\n\nIn almost all places in matplotlib where a color can be specified by the user\nit can be provided as:\n\n* an RGB or RGBA tuple of float values in ``[0, 1]``\n  (e.g., ``(0.1, 0.2, 0.5)`` or  ``(0.1, 0.2, 0.5, 0.3)``)\n* a hex RGB or RGBA string (e.g., ``'#0F0F0F'`` or ``'#0F0F0F0F'``)\n* a string representation of a float value in ``[0, 1]``\n  inclusive for gray level (e.g., ``'0.5'``)\n* one of ``{'b', 'g', 'r', 'c', 'm', 'y', 'k', 'w'}``\n* a X11/CSS4 color name\n* a name from the `xkcd color survey <https://xkcd.com/color/rgb/>`__\n  prefixed with ``'xkcd:'`` (e.g., ``'xkcd:sky blue'``)\n* one of ``{'C0', 'C1', 'C2', 'C3', 'C4', 'C5', 'C6', 'C7', 'C8', 'C9'}``\n* one of ``{'tab:blue', 'tab:orange', 'tab:green',\n  'tab:red', 'tab:purple', 'tab:brown', 'tab:pink',\n  'tab:gray', 'tab:olive', 'tab:cyan'}`` which are the Tableau Colors from the\n  'T10' categorical palette (which is the default color cycle).\n\nAll string specifications of color are case-insensitive.\n\n\n``'CN'`` color selection\n------------------------\n\nColor can be specified by a string matching the regex ``C[0-9]``.\nThis can be passed any place that a color is currently accepted and\ncan be used as a 'single character color' in format-string to\n`matplotlib.Axes.plot`.\n\nThe single digit is the index into the default property cycle\n(``matplotlib.rcParams['axes.prop_cycle']``).  If the property cycle does not\ninclude ``'color'`` then black is returned.  The color is evaluated when the\nartist is created.  For example,\n\n"
      ]
    },
    {
      "execution_count": null,
      "cell_type": "code",
      "metadata": {
        "collapsed": false
      },
      "source": [
        "import numpy as np\nimport matplotlib.pyplot as plt\nimport matplotlib as mpl\n\nth = np.linspace(0, 2*np.pi, 128)\n\n\ndef demo(sty):\n    mpl.style.use(sty)\n    fig, ax = plt.subplots(figsize=(3, 3))\n\n    ax.set_title('style: {!r}'.format(sty), color='C0')\n\n    ax.plot(th, np.cos(th), 'C1', label='C1')\n    ax.plot(th, np.sin(th), 'C2', label='C2')\n    ax.legend()\n\ndemo('default')\ndemo('seaborn')"
      ],
      "outputs": []
    },
    {
      "metadata": {},
      "cell_type": "markdown",
      "source": [
        "will use the first color for the title and then plot using the second\nand third colors of each style's ``mpl.rcParams['axes.prop_cycle']``.\n\n\nxkcd v X11/CSS4\n---------------\n\nThe xkcd colors are derived from a user survey conducted by the\nwebcomic xkcd.  `Details of the survey are available on the xkcd blog\n<https://blog.xkcd.com/2010/05/03/color-survey-results/>`__.\n\nOut of 148 colors in the CSS color list, there are 95 name collisions\nbetween the X11/CSS4 names and the xkcd names, all but 3 of which have\ndifferent hex values.  For example ``'blue'`` maps to ``'#0000FF'``\nwhere as ``'xkcd:blue'`` maps to ``'#0343DF'``.  Due to these name\ncollisions all of the xkcd colors have ``'xkcd:'`` prefixed.  As noted in\nthe blog post, while it might be interesting to re-define the X11/CSS4 names\nbased on such a survey, we do not do so unilaterally.\n\nThe name collisions are shown in the table below; the color names\nwhere the hex values agree are shown in bold.\n\n"
      ]
    },
    {
      "execution_count": null,
      "cell_type": "code",
      "metadata": {
        "collapsed": false
      },
      "source": [
        "import matplotlib._color_data as mcd\nimport matplotlib.patches as mpatch\n\noverlap = {name for name in mcd.CSS4_COLORS\n           if \"xkcd:\" + name in mcd.XKCD_COLORS}\n\nfig = plt.figure(figsize=[4.8, 16])\nax = fig.add_axes([0, 0, 1, 1])\n\nfor j, n in enumerate(sorted(overlap, reverse=True)):\n    weight = None\n    cn = mcd.CSS4_COLORS[n]\n    xkcd = mcd.XKCD_COLORS[\"xkcd:\" + n].upper()\n    if cn == xkcd:\n        weight = 'bold'\n\n    r1 = mpatch.Rectangle((0, j), 1, 1, color=cn)\n    r2 = mpatch.Rectangle((1, j), 1, 1, color=xkcd)\n    txt = ax.text(2, j+.5, '  ' + n, va='center', fontsize=10,\n                  weight=weight)\n    ax.add_patch(r1)\n    ax.add_patch(r2)\n    ax.axhline(j, color='k')\n\nax.text(.5, j + 1.5, 'X11', ha='center', va='center')\nax.text(1.5, j + 1.5, 'xkcd', ha='center', va='center')\nax.set_xlim(0, 3)\nax.set_ylim(0, j + 2)\nax.axis('off')"
      ],
      "outputs": []
    }
  ],
  "nbformat": 4,
  "nbformat_minor": 0
}
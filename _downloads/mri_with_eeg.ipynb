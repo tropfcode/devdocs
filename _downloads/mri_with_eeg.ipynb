{
  "metadata": {
    "language_info": {
      "version": "3.5.3",
      "codemirror_mode": {
        "version": 3,
        "name": "ipython"
      },
      "file_extension": ".py",
      "name": "python",
      "nbconvert_exporter": "python",
      "mimetype": "text/x-python",
      "pygments_lexer": "ipython3"
    },
    "kernelspec": {
      "display_name": "Python 3",
      "language": "python",
      "name": "python3"
    }
  },
  "cells": [
    {
      "execution_count": null,
      "cell_type": "code",
      "metadata": {
        "collapsed": false
      },
      "source": [
        "%matplotlib inline"
      ],
      "outputs": []
    },
    {
      "metadata": {},
      "cell_type": "markdown",
      "source": [
        "\n# MRI With EEG\n\n\nDisplays a set of subplots with an MRI image, its intensity\nhistogram and some EEG traces.\n\n"
      ]
    },
    {
      "execution_count": null,
      "cell_type": "code",
      "metadata": {
        "collapsed": false
      },
      "source": [
        "from __future__ import division, print_function\n\nimport numpy as np\nimport matplotlib.pyplot as plt\nimport matplotlib.cbook as cbook\nimport matplotlib.cm as cm\n\nfrom matplotlib.collections import LineCollection\nfrom matplotlib.ticker import MultipleLocator\n\nfig = plt.figure(\"MRI_with_EEG\")\n\n# Load the MRI data (256x256 16 bit integers)\nwith cbook.get_sample_data('s1045.ima.gz') as dfile:\n    im = np.fromstring(dfile.read(), np.uint16).reshape((256, 256))\n\n# Plot the MRI image\nax0 = fig.add_subplot(2, 2, 1)\nax0.imshow(im, cmap=cm.gray)\nax0.axis('off')\n\n# Plot the histogram of MRI intensity\nax1 = fig.add_subplot(2, 2, 2)\nim = np.ravel(im)\nim = im[np.nonzero(im)]  # Ignore the background\nim = im / (2**16 - 1)  # Normalize\nax1.hist(im, bins=100)\nax1.xaxis.set_major_locator(MultipleLocator(0.4))\nax1.minorticks_on()\nax1.set_yticks([])\nax1.set_xlabel('Intensity (a.u.)')\nax1.set_ylabel('MRI density')\n\n# Load the EEG data\nnumSamples, numRows = 800, 4\nwith cbook.get_sample_data('eeg.dat') as eegfile:\n    data = np.fromfile(eegfile, dtype=float)\ndata.shape = (numSamples, numRows)\nt = 10.0 * np.arange(numSamples) / numSamples\n\n# Plot the EEG\nticklocs = []\nax2 = fig.add_subplot(2, 1, 2)\nax2.set_xlim(0, 10)\nax2.set_xticks(np.arange(10))\ndmin = data.min()\ndmax = data.max()\ndr = (dmax - dmin) * 0.7  # Crowd them a bit.\ny0 = dmin\ny1 = (numRows - 1) * dr + dmax\nax2.set_ylim(y0, y1)\n\nsegs = []\nfor i in range(numRows):\n    segs.append(np.hstack((t[:, np.newaxis], data[:, i, np.newaxis])))\n    ticklocs.append(i * dr)\n\noffsets = np.zeros((numRows, 2), dtype=float)\noffsets[:, 1] = ticklocs\n\nlines = LineCollection(segs, offsets=offsets, transOffset=None)\nax2.add_collection(lines)\n\n# Set the yticks to use axes coordinates on the y axis\nax2.set_yticks(ticklocs)\nax2.set_yticklabels(['PG3', 'PG5', 'PG7', 'PG9'])\n\nax2.set_xlabel('Time (s)')\n\n\nplt.tight_layout()\nplt.show()"
      ],
      "outputs": []
    }
  ],
  "nbformat": 4,
  "nbformat_minor": 0
}
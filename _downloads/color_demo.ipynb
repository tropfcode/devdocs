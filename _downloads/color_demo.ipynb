{
  "metadata": {
    "language_info": {
      "version": "3.5.3",
      "codemirror_mode": {
        "version": 3,
        "name": "ipython"
      },
      "file_extension": ".py",
      "name": "python",
      "nbconvert_exporter": "python",
      "mimetype": "text/x-python",
      "pygments_lexer": "ipython3"
    },
    "kernelspec": {
      "display_name": "Python 3",
      "language": "python",
      "name": "python3"
    }
  },
  "cells": [
    {
      "execution_count": null,
      "cell_type": "code",
      "metadata": {
        "collapsed": false
      },
      "source": [
        "%matplotlib inline"
      ],
      "outputs": []
    },
    {
      "metadata": {},
      "cell_type": "markdown",
      "source": [
        "\n# Color Demo\n\n\nmatplotlib gives you 5 ways to specify colors,\n\n    1) as a single letter string, ala MATLAB\n\n    2) as an html style hex string or html color name\n\n    3) as an R,G,B tuple, where R,G,B, range from 0-1\n\n    4) as a string representing a floating point number\n       from 0 to 1, corresponding to shades of gray.\n\n    5) as a special color \"Cn\", where n is a number 0-9 specifying the\n       nth color in the currently active color cycle.\n\nSee help(colors) for more info.\n\n"
      ]
    },
    {
      "execution_count": null,
      "cell_type": "code",
      "metadata": {
        "collapsed": false
      },
      "source": [
        "import matplotlib.pyplot as plt\nimport numpy as np\n\nt = np.arange(0.0, 2.0, 0.01)\ns = np.sin(2 * np.pi * t)\n\nfig, ax = plt.subplots(facecolor='darkslategray')\nax.plot(t, s, 'C1')\nax.set_xlabel('time (s)', color='C1')\nax.set_ylabel('voltage (mV)', color='0.5')  # grayscale color\nax.set_title('About as silly as it gets, folks', color='#afeeee')\n\nplt.show()"
      ],
      "outputs": []
    }
  ],
  "nbformat": 4,
  "nbformat_minor": 0
}
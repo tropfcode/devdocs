{
  "metadata": {
    "language_info": {
      "version": "3.5.3",
      "codemirror_mode": {
        "version": 3,
        "name": "ipython"
      },
      "file_extension": ".py",
      "name": "python",
      "nbconvert_exporter": "python",
      "mimetype": "text/x-python",
      "pygments_lexer": "ipython3"
    },
    "kernelspec": {
      "display_name": "Python 3",
      "language": "python",
      "name": "python3"
    }
  },
  "cells": [
    {
      "execution_count": null,
      "cell_type": "code",
      "metadata": {
        "collapsed": false
      },
      "source": [
        "%matplotlib inline"
      ],
      "outputs": []
    },
    {
      "metadata": {},
      "cell_type": "markdown",
      "source": [
        "\n# Barcode Demo\n\n\n\n"
      ]
    },
    {
      "execution_count": null,
      "cell_type": "code",
      "metadata": {
        "collapsed": false
      },
      "source": [
        "import matplotlib.pyplot as plt\nimport numpy as np\n\n# Fixing random state for reproducibility\nnp.random.seed(19680801)\n\n\n# the bar\nx = np.where(np.random.rand(500) > 0.7, 1.0, 0.0)\n\naxprops = dict(xticks=[], yticks=[])\nbarprops = dict(aspect='auto', cmap=plt.cm.binary, interpolation='nearest')\n\nfig = plt.figure()\n\n# a vertical barcode -- this is broken at present\nax = fig.add_axes([0.1, 0.3, 0.1, 0.6], **axprops)\nax.imshow(x.reshape((-1, 1)), **barprops)\n\n# a horizontal barcode\nax = fig.add_axes([0.3, 0.1, 0.6, 0.1], **axprops)\nax.imshow(x.reshape((1, -1)), **barprops)\n\n\nplt.show()"
      ],
      "outputs": []
    }
  ],
  "nbformat": 4,
  "nbformat_minor": 0
}
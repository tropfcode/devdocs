{
  "metadata": {
    "language_info": {
      "version": "3.5.3",
      "codemirror_mode": {
        "version": 3,
        "name": "ipython"
      },
      "file_extension": ".py",
      "name": "python",
      "nbconvert_exporter": "python",
      "mimetype": "text/x-python",
      "pygments_lexer": "ipython3"
    },
    "kernelspec": {
      "display_name": "Python 3",
      "language": "python",
      "name": "python3"
    }
  },
  "cells": [
    {
      "execution_count": null,
      "cell_type": "code",
      "metadata": {
        "collapsed": false
      },
      "source": [
        "%matplotlib inline"
      ],
      "outputs": []
    },
    {
      "metadata": {},
      "cell_type": "markdown",
      "source": [
        "\n# Barchart Demo\n\n\nBar charts of many shapes and sizes with Matplotlib.\n\nBar charts are useful for visualizing counts, or summary statistics\nwith error bars. These examples show a few ways to do this with Matplotlib.\n\n\n"
      ]
    },
    {
      "execution_count": null,
      "cell_type": "code",
      "metadata": {
        "collapsed": false
      },
      "source": [
        "# Credit: Josh Hemann\n\nimport numpy as np\nimport matplotlib.pyplot as plt\nfrom matplotlib.ticker import MaxNLocator\nfrom collections import namedtuple\n\n\nn_groups = 5\n\nmeans_men = (20, 35, 30, 35, 27)\nstd_men = (2, 3, 4, 1, 2)\n\nmeans_women = (25, 32, 34, 20, 25)\nstd_women = (3, 5, 2, 3, 3)\n\nfig, ax = plt.subplots()\n\nindex = np.arange(n_groups)\nbar_width = 0.35\n\nopacity = 0.4\nerror_config = {'ecolor': '0.3'}\n\nrects1 = ax.bar(index, means_men, bar_width,\n                alpha=opacity, color='b',\n                yerr=std_men, error_kw=error_config,\n                label='Men')\n\nrects2 = ax.bar(index + bar_width, means_women, bar_width,\n                alpha=opacity, color='r',\n                yerr=std_women, error_kw=error_config,\n                label='Women')\n\nax.set_xlabel('Group')\nax.set_ylabel('Scores')\nax.set_title('Scores by group and gender')\nax.set_xticks(index + bar_width / 2)\nax.set_xticklabels(('A', 'B', 'C', 'D', 'E'))\nax.legend()\n\nfig.tight_layout()\nplt.show()"
      ],
      "outputs": []
    },
    {
      "metadata": {},
      "cell_type": "markdown",
      "source": [
        "This example comes from an application in which grade school gym\nteachers wanted to be able to show parents how their child did across\na handful of fitness tests, and importantly, relative to how other\nchildren did. To extract the plotting code for demo purposes, we'll\njust make up some data for little Johnny Doe...\n\n"
      ]
    },
    {
      "execution_count": null,
      "cell_type": "code",
      "metadata": {
        "collapsed": false
      },
      "source": [
        "Student = namedtuple('Student', ['name', 'grade', 'gender'])\nScore = namedtuple('Score', ['score', 'percentile'])\n\n# GLOBAL CONSTANTS\ntestNames = ['Pacer Test', 'Flexed Arm\\n Hang', 'Mile Run', 'Agility',\n             'Push Ups']\ntestMeta = dict(zip(testNames, ['laps', 'sec', 'min:sec', 'sec', '']))\n\n\ndef attach_ordinal(num):\n    \"\"\"helper function to add ordinal string to integers\n\n    1 -> 1st\n    56 -> 56th\n    \"\"\"\n    suffixes = dict((str(i), v) for i, v in\n                    enumerate(['th', 'st', 'nd', 'rd', 'th',\n                               'th', 'th', 'th', 'th', 'th']))\n\n    v = str(num)\n    # special case early teens\n    if v in {'11', '12', '13'}:\n        return v + 'th'\n    return v + suffixes[v[-1]]\n\n\ndef format_score(scr, test):\n    \"\"\"\n    Build up the score labels for the right Y-axis by first\n    appending a carriage return to each string and then tacking on\n    the appropriate meta information (i.e., 'laps' vs 'seconds'). We\n    want the labels centered on the ticks, so if there is no meta\n    info (like for pushups) then don't add the carriage return to\n    the string\n    \"\"\"\n    md = testMeta[test]\n    if md:\n        return '{0}\\n{1}'.format(scr, md)\n    else:\n        return scr\n\n\ndef format_ycursor(y):\n    y = int(y)\n    if y < 0 or y >= len(testNames):\n        return ''\n    else:\n        return testNames[y]\n\n\ndef plot_student_results(student, scores, cohort_size):\n    #  create the figure\n    fig, ax1 = plt.subplots(figsize=(9, 7))\n    fig.subplots_adjust(left=0.115, right=0.88)\n    fig.canvas.set_window_title('Eldorado K-8 Fitness Chart')\n\n    pos = np.arange(len(testNames))\n\n    rects = ax1.barh(pos, [scores[k].percentile for k in testNames],\n                     align='center',\n                     height=0.5, color='m',\n                     tick_label=testNames)\n\n    ax1.set_title(student.name)\n\n    ax1.set_xlim([0, 100])\n    ax1.xaxis.set_major_locator(MaxNLocator(11))\n    ax1.xaxis.grid(True, linestyle='--', which='major',\n                   color='grey', alpha=.25)\n\n    # Plot a solid vertical gridline to highlight the median position\n    ax1.axvline(50, color='grey', alpha=0.25)\n    # set X-axis tick marks at the deciles\n    cohort_label = ax1.text(.5, -.07, 'Cohort Size: {0}'.format(cohort_size),\n                            horizontalalignment='center', size='small',\n                            transform=ax1.transAxes)\n\n    # Set the right-hand Y-axis ticks and labels\n    ax2 = ax1.twinx()\n\n    scoreLabels = [format_score(scores[k].score, k) for k in testNames]\n\n    # set the tick locations\n    ax2.set_yticks(pos)\n    # make sure that the limits are set equally on both yaxis so the\n    # ticks line up\n    ax2.set_ylim(ax1.get_ylim())\n\n    # set the tick labels\n    ax2.set_yticklabels(scoreLabels)\n\n    ax2.set_ylabel('Test Scores')\n\n    ax2.set_xlabel(('Percentile Ranking Across '\n                    '{grade} Grade {gender}s').format(\n                        grade=attach_ordinal(student.grade),\n                        gender=student.gender.title()))\n\n    rect_labels = []\n    # Lastly, write in the ranking inside each bar to aid in interpretation\n    for rect in rects:\n        # Rectangle widths are already integer-valued but are floating\n        # type, so it helps to remove the trailing decimal point and 0 by\n        # converting width to int type\n        width = int(rect.get_width())\n\n        rankStr = attach_ordinal(width)\n        # The bars aren't wide enough to print the ranking inside\n        if (width < 5):\n            # Shift the text to the right side of the right edge\n            xloc = width + 1\n            # Black against white background\n            clr = 'black'\n            align = 'left'\n        else:\n            # Shift the text to the left side of the right edge\n            xloc = 0.98*width\n            # White on magenta\n            clr = 'white'\n            align = 'right'\n\n        # Center the text vertically in the bar\n        yloc = rect.get_y() + rect.get_height()/2.0\n        label = ax1.text(xloc, yloc, rankStr, horizontalalignment=align,\n                         verticalalignment='center', color=clr, weight='bold',\n                         clip_on=True)\n        rect_labels.append(label)\n\n    # make the interactive mouse over give the bar title\n    ax2.fmt_ydata = format_ycursor\n    # return all of the artists created\n    return {'fig': fig,\n            'ax': ax1,\n            'ax_right': ax2,\n            'bars': rects,\n            'perc_labels': rect_labels,\n            'cohort_label': cohort_label}\n\nstudent = Student('Johnny Doe', 2, 'boy')\nscores = dict(zip(testNames,\n                  (Score(v, p) for v, p in\n                   zip(['7', '48', '12:52', '17', '14'],\n                       np.round(np.random.uniform(0, 1,\n                                                  len(testNames))*100, 0)))))\ncohort_size = 62  # The number of other 2nd grade boys\n\narts = plot_student_results(student, scores, cohort_size)\nplt.show()"
      ],
      "outputs": []
    }
  ],
  "nbformat": 4,
  "nbformat_minor": 0
}
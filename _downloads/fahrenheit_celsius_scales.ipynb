{
  "metadata": {
    "language_info": {
      "version": "3.5.3",
      "codemirror_mode": {
        "version": 3,
        "name": "ipython"
      },
      "file_extension": ".py",
      "name": "python",
      "nbconvert_exporter": "python",
      "mimetype": "text/x-python",
      "pygments_lexer": "ipython3"
    },
    "kernelspec": {
      "display_name": "Python 3",
      "language": "python",
      "name": "python3"
    }
  },
  "cells": [
    {
      "execution_count": null,
      "cell_type": "code",
      "metadata": {
        "collapsed": false
      },
      "source": [
        "%matplotlib inline"
      ],
      "outputs": []
    },
    {
      "metadata": {},
      "cell_type": "markdown",
      "source": [
        "\n# Different scales on the same axes\n\n\nDemo of how to display two scales on the left and right y axis.\n\nThis example uses the Fahrenheit and Celsius scales.\n\n"
      ]
    },
    {
      "execution_count": null,
      "cell_type": "code",
      "metadata": {
        "collapsed": false
      },
      "source": [
        "import matplotlib.pyplot as plt\nimport numpy as np\n\n\ndef fahrenheit2celsius(temp):\n    \"\"\"\n    Returns temperature in Celsius.\n    \"\"\"\n    return (5. / 9.) * (temp - 32)\n\n\ndef convert_ax_c_to_celsius(ax_f):\n    \"\"\"\n    Update second axis according with first axis.\n    \"\"\"\n    y1, y2 = ax_f.get_ylim()\n    ax_c.set_ylim(fahrenheit2celsius(y1), fahrenheit2celsius(y2))\n    ax_c.figure.canvas.draw()\n\nfig, ax_f = plt.subplots()\nax_c = ax_f.twinx()\n\n# automatically update ylim of ax2 when ylim of ax1 changes.\nax_f.callbacks.connect(\"ylim_changed\", convert_ax_c_to_celsius)\nax_f.plot(np.linspace(-40, 120, 100))\nax_f.set_xlim(0, 100)\n\nax_f.set_title('Two scales: Fahrenheit and Celsius')\nax_f.set_ylabel('Fahrenheit')\nax_c.set_ylabel('Celsius')\n\nplt.show()"
      ],
      "outputs": []
    }
  ],
  "nbformat": 4,
  "nbformat_minor": 0
}
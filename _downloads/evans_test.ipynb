{
  "metadata": {
    "language_info": {
      "version": "3.5.3",
      "codemirror_mode": {
        "version": 3,
        "name": "ipython"
      },
      "file_extension": ".py",
      "name": "python",
      "nbconvert_exporter": "python",
      "mimetype": "text/x-python",
      "pygments_lexer": "ipython3"
    },
    "kernelspec": {
      "display_name": "Python 3",
      "language": "python",
      "name": "python3"
    }
  },
  "cells": [
    {
      "execution_count": null,
      "cell_type": "code",
      "metadata": {
        "collapsed": false
      },
      "source": [
        "%matplotlib inline"
      ],
      "outputs": []
    },
    {
      "metadata": {},
      "cell_type": "markdown",
      "source": [
        "\n# Evans test\n\n\nA mockup \"Foo\" units class which supports\nconversion and different tick formatting depending on the \"unit\".\nHere the \"unit\" is just a scalar conversion factor, but this example shows mpl\nis entirely agnostic to what kind of units client packages use.\n\n\n"
      ]
    },
    {
      "execution_count": null,
      "cell_type": "code",
      "metadata": {
        "collapsed": false
      },
      "source": [
        "from matplotlib.cbook import iterable\nimport matplotlib.units as units\nimport matplotlib.ticker as ticker\nimport matplotlib.pyplot as plt\n\n\nclass Foo(object):\n    def __init__(self, val, unit=1.0):\n        self.unit = unit\n        self._val = val * unit\n\n    def value(self, unit):\n        if unit is None:\n            unit = self.unit\n        return self._val / unit\n\n\nclass FooConverter(object):\n    @staticmethod\n    def axisinfo(unit, axis):\n        'return the Foo AxisInfo'\n        if unit == 1.0 or unit == 2.0:\n            return units.AxisInfo(\n                majloc=ticker.IndexLocator(8, 0),\n                majfmt=ticker.FormatStrFormatter(\"VAL: %s\"),\n                label='foo',\n                )\n\n        else:\n            return None\n\n    @staticmethod\n    def convert(obj, unit, axis):\n        \"\"\"\n        convert obj using unit.  If obj is a sequence, return the\n        converted sequence\n        \"\"\"\n        if units.ConversionInterface.is_numlike(obj):\n            return obj\n\n        if iterable(obj):\n            return [o.value(unit) for o in obj]\n        else:\n            return obj.value(unit)\n\n    @staticmethod\n    def default_units(x, axis):\n        'return the default unit for x or None'\n        if iterable(x):\n            for thisx in x:\n                return thisx.unit\n        else:\n            return x.unit\n\n\nunits.registry[Foo] = FooConverter()\n\n# create some Foos\nx = []\nfor val in range(0, 50, 2):\n    x.append(Foo(val, 1.0))\n\n# and some arbitrary y data\ny = [i for i in range(len(x))]\n\n\n# plot specifying units\nfig = plt.figure()\nfig.suptitle(\"Custom units\")\nfig.subplots_adjust(bottom=0.2)\nax = fig.add_subplot(1, 2, 2)\nax.plot(x, y, 'o', xunits=2.0)\nfor label in ax.get_xticklabels():\n    label.set_rotation(30)\n    label.set_ha('right')\nax.set_title(\"xunits = 2.0\")\n\n\n# plot without specifying units; will use the None branch for axisinfo\nax = fig.add_subplot(1, 2, 1)\nax.plot(x, y)  # uses default units\nax.set_title('default units')\nfor label in ax.get_xticklabels():\n    label.set_rotation(30)\n    label.set_ha('right')\n\nplt.show()"
      ],
      "outputs": []
    }
  ],
  "nbformat": 4,
  "nbformat_minor": 0
}
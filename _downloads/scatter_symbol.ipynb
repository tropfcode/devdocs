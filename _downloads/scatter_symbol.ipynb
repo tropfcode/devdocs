{
  "metadata": {
    "language_info": {
      "version": "3.5.3",
      "codemirror_mode": {
        "version": 3,
        "name": "ipython"
      },
      "file_extension": ".py",
      "name": "python",
      "nbconvert_exporter": "python",
      "mimetype": "text/x-python",
      "pygments_lexer": "ipython3"
    },
    "kernelspec": {
      "display_name": "Python 3",
      "language": "python",
      "name": "python3"
    }
  },
  "cells": [
    {
      "execution_count": null,
      "cell_type": "code",
      "metadata": {
        "collapsed": false
      },
      "source": [
        "%matplotlib inline"
      ],
      "outputs": []
    },
    {
      "metadata": {},
      "cell_type": "markdown",
      "source": [
        "\n# Scatter Symbol\n\n\n\n"
      ]
    },
    {
      "execution_count": null,
      "cell_type": "code",
      "metadata": {
        "collapsed": false
      },
      "source": [
        "from matplotlib import pyplot as plt\nimport numpy as np\nimport matplotlib\n\n# Fixing random state for reproducibility\nnp.random.seed(19680801)\n\n\nx = np.arange(0.0, 50.0, 2.0)\ny = x ** 1.3 + np.random.rand(*x.shape) * 30.0\ns = np.random.rand(*x.shape) * 800 + 500\n\nplt.scatter(x, y, s, c=\"g\", alpha=0.5, marker=r'$\\clubsuit$',\n            label=\"Luck\")\nplt.xlabel(\"Leprechauns\")\nplt.ylabel(\"Gold\")\nplt.legend(loc=2)\nplt.show()"
      ],
      "outputs": []
    }
  ],
  "nbformat": 4,
  "nbformat_minor": 0
}
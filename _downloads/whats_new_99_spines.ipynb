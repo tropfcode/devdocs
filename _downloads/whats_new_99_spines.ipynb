{
  "metadata": {
    "language_info": {
      "version": "3.5.3",
      "codemirror_mode": {
        "version": 3,
        "name": "ipython"
      },
      "file_extension": ".py",
      "name": "python",
      "nbconvert_exporter": "python",
      "mimetype": "text/x-python",
      "pygments_lexer": "ipython3"
    },
    "kernelspec": {
      "display_name": "Python 3",
      "language": "python",
      "name": "python3"
    }
  },
  "cells": [
    {
      "execution_count": null,
      "cell_type": "code",
      "metadata": {
        "collapsed": false
      },
      "source": [
        "%matplotlib inline"
      ],
      "outputs": []
    },
    {
      "metadata": {},
      "cell_type": "markdown",
      "source": [
        "\n=====================\nWhats New 0.99 Spines\n=====================\n\n\n"
      ]
    },
    {
      "execution_count": null,
      "cell_type": "code",
      "metadata": {
        "collapsed": false
      },
      "source": [
        "import matplotlib.pyplot as plt\nimport numpy as np\n\n\ndef adjust_spines(ax,spines):\n    for loc, spine in ax.spines.items():\n        if loc in spines:\n            spine.set_position(('outward',10)) # outward by 10 points\n        else:\n            spine.set_color('none') # don't draw spine\n\n    # turn off ticks where there is no spine\n    if 'left' in spines:\n        ax.yaxis.set_ticks_position('left')\n    else:\n        # no yaxis ticks\n        ax.yaxis.set_ticks([])\n\n    if 'bottom' in spines:\n        ax.xaxis.set_ticks_position('bottom')\n    else:\n        # no xaxis ticks\n        ax.xaxis.set_ticks([])\n\nfig = plt.figure()\n\nx = np.linspace(0,2*np.pi,100)\ny = 2*np.sin(x)\n\nax = fig.add_subplot(2,2,1)\nax.plot(x,y)\nadjust_spines(ax,['left'])\n\nax = fig.add_subplot(2,2,2)\nax.plot(x,y)\nadjust_spines(ax,[])\n\nax = fig.add_subplot(2,2,3)\nax.plot(x,y)\nadjust_spines(ax,['left','bottom'])\n\nax = fig.add_subplot(2,2,4)\nax.plot(x,y)\nadjust_spines(ax,['bottom'])\n\nplt.show()"
      ],
      "outputs": []
    }
  ],
  "nbformat": 4,
  "nbformat_minor": 0
}
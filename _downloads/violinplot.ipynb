{
  "metadata": {
    "language_info": {
      "version": "3.5.3",
      "codemirror_mode": {
        "version": 3,
        "name": "ipython"
      },
      "file_extension": ".py",
      "name": "python",
      "nbconvert_exporter": "python",
      "mimetype": "text/x-python",
      "pygments_lexer": "ipython3"
    },
    "kernelspec": {
      "display_name": "Python 3",
      "language": "python",
      "name": "python3"
    }
  },
  "cells": [
    {
      "execution_count": null,
      "cell_type": "code",
      "metadata": {
        "collapsed": false
      },
      "source": [
        "%matplotlib inline"
      ],
      "outputs": []
    },
    {
      "metadata": {},
      "cell_type": "markdown",
      "source": [
        "\n# Violin plot basics\n\n\nViolin plots are similar to histograms and box plots in that they show\nan abstract representation of the probability distribution of the\nsample. Rather than showing counts of data points that fall into bins\nor order statistics, violin plots use kernel density estimation (KDE) to\ncompute an empirical distribution of the sample. That computation\nis controlled by several parameters. This example demonstrates how to\nmodify the number of points at which the KDE is evaluated (``points``)\nand how to modify the band-width of the KDE (``bw_method``).\n\nFor more information on violin plots and KDE, the scikit-learn docs\nhave a great section: http://scikit-learn.org/stable/modules/density.html\n\n"
      ]
    },
    {
      "execution_count": null,
      "cell_type": "code",
      "metadata": {
        "collapsed": false
      },
      "source": [
        "import random\nimport numpy as np\nimport matplotlib.pyplot as plt\n\n# Fixing random state for reproducibility\nnp.random.seed(19680801)\n\n\n# fake data\nfs = 10  # fontsize\npos = [1, 2, 4, 5, 7, 8]\ndata = [np.random.normal(0, std, size=100) for std in pos]\n\nfig, axes = plt.subplots(nrows=2, ncols=3, figsize=(6, 6))\n\naxes[0, 0].violinplot(data, pos, points=20, widths=0.3,\n                      showmeans=True, showextrema=True, showmedians=True)\naxes[0, 0].set_title('Custom violinplot 1', fontsize=fs)\n\naxes[0, 1].violinplot(data, pos, points=40, widths=0.5,\n                      showmeans=True, showextrema=True, showmedians=True,\n                      bw_method='silverman')\naxes[0, 1].set_title('Custom violinplot 2', fontsize=fs)\n\naxes[0, 2].violinplot(data, pos, points=60, widths=0.7, showmeans=True,\n                      showextrema=True, showmedians=True, bw_method=0.5)\naxes[0, 2].set_title('Custom violinplot 3', fontsize=fs)\n\naxes[1, 0].violinplot(data, pos, points=80, vert=False, widths=0.7,\n                      showmeans=True, showextrema=True, showmedians=True)\naxes[1, 0].set_title('Custom violinplot 4', fontsize=fs)\n\naxes[1, 1].violinplot(data, pos, points=100, vert=False, widths=0.9,\n                      showmeans=True, showextrema=True, showmedians=True,\n                      bw_method='silverman')\naxes[1, 1].set_title('Custom violinplot 5', fontsize=fs)\n\naxes[1, 2].violinplot(data, pos, points=200, vert=False, widths=1.1,\n                      showmeans=True, showextrema=True, showmedians=True,\n                      bw_method=0.5)\naxes[1, 2].set_title('Custom violinplot 6', fontsize=fs)\n\nfor ax in axes.flatten():\n    ax.set_yticklabels([])\n\nfig.suptitle(\"Violin Plotting Examples\")\nfig.subplots_adjust(hspace=0.4)\nplt.show()"
      ],
      "outputs": []
    }
  ],
  "nbformat": 4,
  "nbformat_minor": 0
}
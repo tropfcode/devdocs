{
  "metadata": {
    "language_info": {
      "version": "3.5.3",
      "codemirror_mode": {
        "version": 3,
        "name": "ipython"
      },
      "file_extension": ".py",
      "name": "python",
      "nbconvert_exporter": "python",
      "mimetype": "text/x-python",
      "pygments_lexer": "ipython3"
    },
    "kernelspec": {
      "display_name": "Python 3",
      "language": "python",
      "name": "python3"
    }
  },
  "cells": [
    {
      "execution_count": null,
      "cell_type": "code",
      "metadata": {
        "collapsed": false
      },
      "source": [
        "%matplotlib inline"
      ],
      "outputs": []
    },
    {
      "metadata": {},
      "cell_type": "markdown",
      "source": [
        "\n# Demo Curvelinear Grid\n\n\nCustom grid and ticklines.\n\nThis example demonstrates how to use GridHelperCurveLinear to define\ncustom grids and ticklines by applying a transformation on the grid.\nThis can be used, as showcase on the second plot, to create polar\nprojections in a rectangular box.\n\n"
      ]
    },
    {
      "execution_count": null,
      "cell_type": "code",
      "metadata": {
        "collapsed": false
      },
      "source": [
        "import numpy as np\n\nimport matplotlib.pyplot as plt\nimport matplotlib.cbook as cbook\n\nfrom mpl_toolkits.axisartist import Subplot\nfrom mpl_toolkits.axisartist import SubplotHost, \\\n    ParasiteAxesAuxTrans\nfrom mpl_toolkits.axisartist.grid_helper_curvelinear import \\\n    GridHelperCurveLinear\n\n\ndef curvelinear_test1(fig):\n    \"\"\"\n    grid for custom transform.\n    \"\"\"\n\n    def tr(x, y):\n        x, y = np.asarray(x), np.asarray(y)\n        return x, y - x\n\n    def inv_tr(x, y):\n        x, y = np.asarray(x), np.asarray(y)\n        return x, y + x\n\n    grid_helper = GridHelperCurveLinear((tr, inv_tr))\n\n    ax1 = Subplot(fig, 1, 2, 1, grid_helper=grid_helper)\n    # ax1 will have a ticks and gridlines defined by the given\n    # transform (+ transData of the Axes). Note that the transform of\n    # the Axes itself (i.e., transData) is not affected by the given\n    # transform.\n\n    fig.add_subplot(ax1)\n\n    xx, yy = tr([3, 6], [5.0, 10.])\n    ax1.plot(xx, yy, linewidth=2.0)\n\n    ax1.set_aspect(1.)\n    ax1.set_xlim(0, 10.)\n    ax1.set_ylim(0, 10.)\n\n    ax1.axis[\"t\"] = ax1.new_floating_axis(0, 3.)\n    ax1.axis[\"t2\"] = ax1.new_floating_axis(1, 7.)\n    ax1.grid(True, zorder=0)\n\n\nimport mpl_toolkits.axisartist.angle_helper as angle_helper\n\nfrom matplotlib.projections import PolarAxes\nfrom matplotlib.transforms import Affine2D\n\n\ndef curvelinear_test2(fig):\n    \"\"\"\n    polar projection, but in a rectangular box.\n    \"\"\"\n\n    # PolarAxes.PolarTransform takes radian. However, we want our coordinate\n    # system in degree\n    tr = Affine2D().scale(np.pi/180., 1.) + PolarAxes.PolarTransform()\n\n    # polar projection, which involves cycle, and also has limits in\n    # its coordinates, needs a special method to find the extremes\n    # (min, max of the coordinate within the view).\n\n    # 20, 20 : number of sampling points along x, y direction\n    extreme_finder = angle_helper.ExtremeFinderCycle(20, 20,\n                                                     lon_cycle=360,\n                                                     lat_cycle=None,\n                                                     lon_minmax=None,\n                                                     lat_minmax=(0, np.inf),\n                                                     )\n\n    grid_locator1 = angle_helper.LocatorDMS(12)\n    # Find a grid values appropriate for the coordinate (degree,\n    # minute, second).\n\n    tick_formatter1 = angle_helper.FormatterDMS()\n    # And also uses an appropriate formatter.  Note that,the\n    # acceptable Locator and Formatter class is a bit different than\n    # that of mpl's, and you cannot directly use mpl's Locator and\n    # Formatter here (but may be possible in the future).\n\n    grid_helper = GridHelperCurveLinear(tr,\n                                        extreme_finder=extreme_finder,\n                                        grid_locator1=grid_locator1,\n                                        tick_formatter1=tick_formatter1\n                                        )\n\n    ax1 = SubplotHost(fig, 1, 2, 2, grid_helper=grid_helper)\n\n    # make ticklabels of right and top axis visible.\n    ax1.axis[\"right\"].major_ticklabels.set_visible(True)\n    ax1.axis[\"top\"].major_ticklabels.set_visible(True)\n\n    # let right axis shows ticklabels for 1st coordinate (angle)\n    ax1.axis[\"right\"].get_helper().nth_coord_ticks = 0\n    # let bottom axis shows ticklabels for 2nd coordinate (radius)\n    ax1.axis[\"bottom\"].get_helper().nth_coord_ticks = 1\n\n    fig.add_subplot(ax1)\n\n    # A parasite axes with given transform\n    ax2 = ParasiteAxesAuxTrans(ax1, tr, \"equal\")\n    # note that ax2.transData == tr + ax1.transData\n    # Anything you draw in ax2 will match the ticks and grids of ax1.\n    ax1.parasites.append(ax2)\n    intp = cbook.simple_linear_interpolation\n    ax2.plot(intp(np.array([0, 30]), 50),\n             intp(np.array([10., 10.]), 50),\n             linewidth=2.0)\n\n    ax1.set_aspect(1.)\n    ax1.set_xlim(-5, 12)\n    ax1.set_ylim(-5, 10)\n\n    ax1.grid(True, zorder=0)\n\nif 1:\n    fig = plt.figure(1, figsize=(7, 4))\n    fig.clf()\n\n    curvelinear_test1(fig)\n    curvelinear_test2(fig)\n\n    plt.draw()\n    plt.show()"
      ],
      "outputs": []
    }
  ],
  "nbformat": 4,
  "nbformat_minor": 0
}
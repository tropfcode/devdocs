{
  "metadata": {
    "language_info": {
      "version": "3.5.3",
      "codemirror_mode": {
        "version": 3,
        "name": "ipython"
      },
      "file_extension": ".py",
      "name": "python",
      "nbconvert_exporter": "python",
      "mimetype": "text/x-python",
      "pygments_lexer": "ipython3"
    },
    "kernelspec": {
      "display_name": "Python 3",
      "language": "python",
      "name": "python3"
    }
  },
  "cells": [
    {
      "execution_count": null,
      "cell_type": "code",
      "metadata": {
        "collapsed": false
      },
      "source": [
        "%matplotlib inline"
      ],
      "outputs": []
    },
    {
      "metadata": {},
      "cell_type": "markdown",
      "source": [
        "\n# Demo Annotation Box\n\n\n\n"
      ]
    },
    {
      "execution_count": null,
      "cell_type": "code",
      "metadata": {
        "collapsed": false
      },
      "source": [
        "import matplotlib.pyplot as plt\nimport numpy as np\n\nfrom matplotlib.patches import Circle\nfrom matplotlib.offsetbox import (TextArea, DrawingArea, OffsetImage,\n                                  AnnotationBbox)\nfrom matplotlib.cbook import get_sample_data\n\n\nif 1:\n    fig, ax = plt.subplots()\n\n    # Define a 1st position to annotate (display it with a marker)\n    xy = (0.5, 0.7)\n    ax.plot(xy[0], xy[1], \".r\")\n\n    # Annotate the 1st position with a text box ('Test 1')\n    offsetbox = TextArea(\"Test 1\", minimumdescent=False)\n\n    ab = AnnotationBbox(offsetbox, xy,\n                        xybox=(-20, 40),\n                        xycoords='data',\n                        boxcoords=\"offset points\",\n                        arrowprops=dict(arrowstyle=\"->\"))\n    ax.add_artist(ab)\n\n    # Annotate the 1st position with another text box ('Test')\n    offsetbox = TextArea(\"Test\", minimumdescent=False)\n\n    ab = AnnotationBbox(offsetbox, xy,\n                        xybox=(1.02, xy[1]),\n                        xycoords='data',\n                        boxcoords=(\"axes fraction\", \"data\"),\n                        box_alignment=(0., 0.5),\n                        arrowprops=dict(arrowstyle=\"->\"))\n    ax.add_artist(ab)\n\n    # Define a 2nd position to annotate (don't display with a marker this time)\n    xy = [0.3, 0.55]\n\n    # Annotate the 2nd position with a circle patch\n    da = DrawingArea(20, 20, 0, 0)\n    p = Circle((10, 10), 10)\n    da.add_artist(p)\n\n    ab = AnnotationBbox(da, xy,\n                        xybox=(1.02, xy[1]),\n                        xycoords='data',\n                        boxcoords=(\"axes fraction\", \"data\"),\n                        box_alignment=(0., 0.5),\n                        arrowprops=dict(arrowstyle=\"->\"))\n\n    ax.add_artist(ab)\n\n    # Annotate the 2nd position with an image (a generated array of pixels)\n    arr = np.arange(100).reshape((10, 10))\n    im = OffsetImage(arr, zoom=2)\n    im.image.axes = ax\n\n    ab = AnnotationBbox(im, xy,\n                        xybox=(-50., 50.),\n                        xycoords='data',\n                        boxcoords=\"offset points\",\n                        pad=0.3,\n                        arrowprops=dict(arrowstyle=\"->\"))\n\n    ax.add_artist(ab)\n\n    # Annotate the 2nd position with another image (a Grace Hopper portrait)\n    fn = get_sample_data(\"grace_hopper.png\", asfileobj=False)\n    arr_img = plt.imread(fn, format='png')\n\n    imagebox = OffsetImage(arr_img, zoom=0.2)\n    imagebox.image.axes = ax\n\n    ab = AnnotationBbox(imagebox, xy,\n                        xybox=(120., -80.),\n                        xycoords='data',\n                        boxcoords=\"offset points\",\n                        pad=0.5,\n                        arrowprops=dict(\n                            arrowstyle=\"->\",\n                            connectionstyle=\"angle,angleA=0,angleB=90,rad=3\")\n                        )\n\n    ax.add_artist(ab)\n\n    # Fix the display limits to see everything\n    ax.set_xlim(0, 1)\n    ax.set_ylim(0, 1)\n\n    plt.show()"
      ],
      "outputs": []
    }
  ],
  "nbformat": 4,
  "nbformat_minor": 0
}
{
  "metadata": {
    "language_info": {
      "version": "3.5.3",
      "codemirror_mode": {
        "version": 3,
        "name": "ipython"
      },
      "file_extension": ".py",
      "name": "python",
      "nbconvert_exporter": "python",
      "mimetype": "text/x-python",
      "pygments_lexer": "ipython3"
    },
    "kernelspec": {
      "display_name": "Python 3",
      "language": "python",
      "name": "python3"
    }
  },
  "cells": [
    {
      "execution_count": null,
      "cell_type": "code",
      "metadata": {
        "collapsed": false
      },
      "source": [
        "%matplotlib inline"
      ],
      "outputs": []
    },
    {
      "metadata": {},
      "cell_type": "markdown",
      "source": [
        "\n# Modifying the coordinate formatter\n\n\nShow how to modify the coordinate formatter to report the image \"z\"\nvalue of the nearest pixel given x and y\n\n"
      ]
    },
    {
      "execution_count": null,
      "cell_type": "code",
      "metadata": {
        "collapsed": false
      },
      "source": [
        "import numpy as np\nimport matplotlib.pyplot as plt\n\n# Fixing random state for reproducibility\nnp.random.seed(19680801)\n\n\nX = 10*np.random.rand(5, 3)\n\nfig, ax = plt.subplots()\nax.imshow(X, interpolation='nearest')\n\nnumrows, numcols = X.shape\n\n\ndef format_coord(x, y):\n    col = int(x + 0.5)\n    row = int(y + 0.5)\n    if col >= 0 and col < numcols and row >= 0 and row < numrows:\n        z = X[row, col]\n        return 'x=%1.4f, y=%1.4f, z=%1.4f' % (x, y, z)\n    else:\n        return 'x=%1.4f, y=%1.4f' % (x, y)\n\nax.format_coord = format_coord\nplt.show()"
      ],
      "outputs": []
    }
  ],
  "nbformat": 4,
  "nbformat_minor": 0
}
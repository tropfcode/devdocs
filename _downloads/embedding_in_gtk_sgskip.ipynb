{
  "metadata": {
    "language_info": {
      "version": "3.5.3",
      "codemirror_mode": {
        "version": 3,
        "name": "ipython"
      },
      "file_extension": ".py",
      "name": "python",
      "nbconvert_exporter": "python",
      "mimetype": "text/x-python",
      "pygments_lexer": "ipython3"
    },
    "kernelspec": {
      "display_name": "Python 3",
      "language": "python",
      "name": "python3"
    }
  },
  "cells": [
    {
      "execution_count": null,
      "cell_type": "code",
      "metadata": {
        "collapsed": false
      },
      "source": [
        "%matplotlib inline"
      ],
      "outputs": []
    },
    {
      "metadata": {},
      "cell_type": "markdown",
      "source": [
        "\n# Embedding In GTK\n\n\nShow how to add a matplotlib FigureCanvasGTK or FigureCanvasGTKAgg widget to a\ngtk.Window\n\n"
      ]
    },
    {
      "execution_count": null,
      "cell_type": "code",
      "metadata": {
        "collapsed": false
      },
      "source": [
        "import gtk\n\nfrom matplotlib.figure import Figure\nfrom numpy import arange, sin, pi\n\n# uncomment to select /GTK/GTKAgg/GTKCairo\n#from matplotlib.backends.backend_gtk import FigureCanvasGTK as FigureCanvas\nfrom matplotlib.backends.backend_gtkagg import FigureCanvasGTKAgg as FigureCanvas\n#from matplotlib.backends.backend_gtkcairo import FigureCanvasGTKCairo as FigureCanvas\n\n\nwin = gtk.Window()\nwin.connect(\"destroy\", lambda x: gtk.main_quit())\nwin.set_default_size(400, 300)\nwin.set_title(\"Embedding in GTK\")\n\nf = Figure(figsize=(5, 4), dpi=100)\na = f.add_subplot(111)\nt = arange(0.0, 3.0, 0.01)\ns = sin(2*pi*t)\na.plot(t, s)\n\ncanvas = FigureCanvas(f)  # a gtk.DrawingArea\nwin.add(canvas)\n\nwin.show_all()\ngtk.main()"
      ],
      "outputs": []
    }
  ],
  "nbformat": 4,
  "nbformat_minor": 0
}
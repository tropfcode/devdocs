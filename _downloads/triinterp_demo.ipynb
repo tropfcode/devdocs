{
  "metadata": {
    "language_info": {
      "version": "3.5.3",
      "codemirror_mode": {
        "version": 3,
        "name": "ipython"
      },
      "file_extension": ".py",
      "name": "python",
      "nbconvert_exporter": "python",
      "mimetype": "text/x-python",
      "pygments_lexer": "ipython3"
    },
    "kernelspec": {
      "display_name": "Python 3",
      "language": "python",
      "name": "python3"
    }
  },
  "cells": [
    {
      "execution_count": null,
      "cell_type": "code",
      "metadata": {
        "collapsed": false
      },
      "source": [
        "%matplotlib inline"
      ],
      "outputs": []
    },
    {
      "metadata": {},
      "cell_type": "markdown",
      "source": [
        "\n# Triinterp Demo\n\n\nInterpolation from triangular grid to quad grid.\n\n"
      ]
    },
    {
      "execution_count": null,
      "cell_type": "code",
      "metadata": {
        "collapsed": false
      },
      "source": [
        "import matplotlib.pyplot as plt\nimport matplotlib.tri as mtri\nimport numpy as np\n\n# Create triangulation.\nx = np.asarray([0, 1, 2, 3, 0.5, 1.5, 2.5, 1, 2, 1.5])\ny = np.asarray([0, 0, 0, 0, 1.0, 1.0, 1.0, 2, 2, 3.0])\ntriangles = [[0, 1, 4], [1, 2, 5], [2, 3, 6], [1, 5, 4], [2, 6, 5], [4, 5, 7],\n             [5, 6, 8], [5, 8, 7], [7, 8, 9]]\ntriang = mtri.Triangulation(x, y, triangles)\n\n# Interpolate to regularly-spaced quad grid.\nz = np.cos(1.5 * x) * np.cos(1.5 * y)\nxi, yi = np.meshgrid(np.linspace(0, 3, 20), np.linspace(0, 3, 20))\n\ninterp_lin = mtri.LinearTriInterpolator(triang, z)\nzi_lin = interp_lin(xi, yi)\n\ninterp_cubic_geom = mtri.CubicTriInterpolator(triang, z, kind='geom')\nzi_cubic_geom = interp_cubic_geom(xi, yi)\n\ninterp_cubic_min_E = mtri.CubicTriInterpolator(triang, z, kind='min_E')\nzi_cubic_min_E = interp_cubic_min_E(xi, yi)\n\n\n# Plot the triangulation.\nplt.subplot(221)\nplt.tricontourf(triang, z)\nplt.triplot(triang, 'ko-')\nplt.title('Triangular grid')\n\n# Plot linear interpolation to quad grid.\nplt.subplot(222)\nplt.contourf(xi, yi, zi_lin)\nplt.plot(xi, yi, 'k-', lw=0.5, alpha=0.5)\nplt.plot(xi.T, yi.T, 'k-', lw=0.5, alpha=0.5)\nplt.title(\"Linear interpolation\")\n\n# Plot cubic interpolation to quad grid, kind=geom\nplt.subplot(223)\nplt.contourf(xi, yi, zi_cubic_geom)\nplt.plot(xi, yi, 'k-', lw=0.5, alpha=0.5)\nplt.plot(xi.T, yi.T, 'k-', lw=0.5, alpha=0.5)\nplt.title(\"Cubic interpolation,\\nkind='geom'\")\n\n# Plot cubic interpolation to quad grid, kind=min_E\nplt.subplot(224)\nplt.contourf(xi, yi, zi_cubic_min_E)\nplt.plot(xi, yi, 'k-', lw=0.5, alpha=0.5)\nplt.plot(xi.T, yi.T, 'k-', lw=0.5, alpha=0.5)\nplt.title(\"Cubic interpolation,\\nkind='min_E'\")\n\nplt.tight_layout()\nplt.show()"
      ],
      "outputs": []
    }
  ],
  "nbformat": 4,
  "nbformat_minor": 0
}
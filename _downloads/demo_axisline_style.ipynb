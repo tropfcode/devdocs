{
  "metadata": {
    "language_info": {
      "version": "3.5.3",
      "codemirror_mode": {
        "version": 3,
        "name": "ipython"
      },
      "file_extension": ".py",
      "name": "python",
      "nbconvert_exporter": "python",
      "mimetype": "text/x-python",
      "pygments_lexer": "ipython3"
    },
    "kernelspec": {
      "display_name": "Python 3",
      "language": "python",
      "name": "python3"
    }
  },
  "cells": [
    {
      "execution_count": null,
      "cell_type": "code",
      "metadata": {
        "collapsed": false
      },
      "source": [
        "%matplotlib inline"
      ],
      "outputs": []
    },
    {
      "metadata": {},
      "cell_type": "markdown",
      "source": [
        "\n# Axis line styles\n\n\nThis example shows some configurations for axis style.\n\n"
      ]
    },
    {
      "execution_count": null,
      "cell_type": "code",
      "metadata": {
        "collapsed": false
      },
      "source": [
        "from mpl_toolkits.axisartist.axislines import SubplotZero\nimport matplotlib.pyplot as plt\nimport numpy as np\n\nif 1:\n    fig = plt.figure(1)\n    ax = SubplotZero(fig, 111)\n    fig.add_subplot(ax)\n\n    for direction in [\"xzero\", \"yzero\"]:\n        # adds arrows at the ends of each axis\n        ax.axis[direction].set_axisline_style(\"-|>\")\n\n        # adds X and Y-axis from the origin\n        ax.axis[direction].set_visible(True)\n\n    for direction in [\"left\", \"right\", \"bottom\", \"top\"]:\n        # hides borders\n        ax.axis[direction].set_visible(False)\n\n    x = np.linspace(-0.5, 1., 100)\n    ax.plot(x, np.sin(x*np.pi))\n\n    plt.show()"
      ],
      "outputs": []
    }
  ],
  "nbformat": 4,
  "nbformat_minor": 0
}
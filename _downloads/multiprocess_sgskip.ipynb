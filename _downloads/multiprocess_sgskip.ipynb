{
  "metadata": {
    "language_info": {
      "version": "3.5.3",
      "codemirror_mode": {
        "version": 3,
        "name": "ipython"
      },
      "file_extension": ".py",
      "name": "python",
      "nbconvert_exporter": "python",
      "mimetype": "text/x-python",
      "pygments_lexer": "ipython3"
    },
    "kernelspec": {
      "display_name": "Python 3",
      "language": "python",
      "name": "python3"
    }
  },
  "cells": [
    {
      "execution_count": null,
      "cell_type": "code",
      "metadata": {
        "collapsed": false
      },
      "source": [
        "%matplotlib inline"
      ],
      "outputs": []
    },
    {
      "metadata": {},
      "cell_type": "markdown",
      "source": [
        "\n# Multiprocess\n\n\nDemo of using multiprocessing for generating data in one process and plotting\nin another.\n\nWritten by Robert Cimrman\n\n"
      ]
    },
    {
      "execution_count": null,
      "cell_type": "code",
      "metadata": {
        "collapsed": false
      },
      "source": [
        "from __future__ import print_function\nfrom six.moves import input\n\nimport time\nfrom multiprocessing import Process, Pipe\nimport numpy as np\n\nimport matplotlib\nmatplotlib.use('GtkAgg')\nimport matplotlib.pyplot as plt\nimport gobject\n\n# Fixing random state for reproducibility\nnp.random.seed(19680801)\n\n\nclass ProcessPlotter(object):\n    def __init__(self):\n        self.x = []\n        self.y = []\n\n    def terminate(self):\n        plt.close('all')\n\n    def poll_draw(self):\n\n        def call_back():\n            while self.pipe.poll():\n                command = self.pipe.recv()\n                if command is None:\n                    self.terminate()\n                    return False\n                else:\n                    self.x.append(command[0])\n                    self.y.append(command[1])\n                    self.ax.plot(self.x, self.y, 'ro')\n            self.fig.canvas.draw()\n            return True\n\n        return call_back\n\n    def __call__(self, pipe):\n        print('starting plotter...')\n\n        self.pipe = pipe\n        self.fig, self.ax = plt.subplots()\n        self.gid = gobject.timeout_add(1000, self.poll_draw())\n\n        print('...done')\n        plt.show()\n\n\nclass NBPlot(object):\n    def __init__(self):\n        self.plot_pipe, plotter_pipe = Pipe()\n        self.plotter = ProcessPlotter()\n        self.plot_process = Process(target=self.plotter,\n                                    args=(plotter_pipe,))\n        self.plot_process.daemon = True\n        self.plot_process.start()\n\n    def plot(self, finished=False):\n        send = self.plot_pipe.send\n        if finished:\n            send(None)\n        else:\n            data = np.random.random(2)\n            send(data)\n\n\ndef main():\n    pl = NBPlot()\n    for ii in range(10):\n        pl.plot()\n        time.sleep(0.5)\n    input('press Enter...')\n    pl.plot(finished=True)\n\nif __name__ == '__main__':\n    main()"
      ],
      "outputs": []
    }
  ],
  "nbformat": 4,
  "nbformat_minor": 0
}
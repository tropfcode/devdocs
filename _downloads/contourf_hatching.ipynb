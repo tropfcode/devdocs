{
  "metadata": {
    "language_info": {
      "version": "3.5.3",
      "codemirror_mode": {
        "version": 3,
        "name": "ipython"
      },
      "file_extension": ".py",
      "name": "python",
      "nbconvert_exporter": "python",
      "mimetype": "text/x-python",
      "pygments_lexer": "ipython3"
    },
    "kernelspec": {
      "display_name": "Python 3",
      "language": "python",
      "name": "python3"
    }
  },
  "cells": [
    {
      "execution_count": null,
      "cell_type": "code",
      "metadata": {
        "collapsed": false
      },
      "source": [
        "%matplotlib inline"
      ],
      "outputs": []
    },
    {
      "metadata": {},
      "cell_type": "markdown",
      "source": [
        "\n# Contourf Hatching\n\n\nDemo filled contour plots with hatched patterns.\n\n"
      ]
    },
    {
      "execution_count": null,
      "cell_type": "code",
      "metadata": {
        "collapsed": false
      },
      "source": [
        "import matplotlib.pyplot as plt\nimport numpy as np\n\n# invent some numbers, turning the x and y arrays into simple\n# 2d arrays, which make combining them together easier.\nx = np.linspace(-3, 5, 150).reshape(1, -1)\ny = np.linspace(-3, 5, 120).reshape(-1, 1)\nz = np.cos(x) + np.sin(y)\n\n# we no longer need x and y to be 2 dimensional, so flatten them.\nx, y = x.flatten(), y.flatten()"
      ],
      "outputs": []
    },
    {
      "metadata": {},
      "cell_type": "markdown",
      "source": [
        "Plot 1: the simplest hatched plot with a colorbar\n\n"
      ]
    },
    {
      "execution_count": null,
      "cell_type": "code",
      "metadata": {
        "collapsed": false
      },
      "source": [
        "fig = plt.figure()\ncs = plt.contourf(x, y, z, hatches=['-', '/', '\\\\', '//'],\n                  cmap=plt.get_cmap('gray'),\n                  extend='both', alpha=0.5\n                  )\nplt.colorbar()"
      ],
      "outputs": []
    },
    {
      "metadata": {},
      "cell_type": "markdown",
      "source": [
        "Plot 2: a plot of hatches without color with a legend\n\n"
      ]
    },
    {
      "execution_count": null,
      "cell_type": "code",
      "metadata": {
        "collapsed": false
      },
      "source": [
        "plt.figure()\nn_levels = 6\nplt.contour(x, y, z, n_levels, colors='black', linestyles='-')\ncs = plt.contourf(x, y, z, n_levels, colors='none',\n                  hatches=['.', '/', '\\\\', None, '\\\\\\\\', '*'],\n                  extend='lower'\n                  )\n\n# create a legend for the contour set\nartists, labels = cs.legend_elements()\nplt.legend(artists, labels, handleheight=2)\n\n\nplt.show()"
      ],
      "outputs": []
    }
  ],
  "nbformat": 4,
  "nbformat_minor": 0
}
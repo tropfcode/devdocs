{
  "metadata": {
    "language_info": {
      "version": "3.5.3",
      "codemirror_mode": {
        "version": 3,
        "name": "ipython"
      },
      "file_extension": ".py",
      "name": "python",
      "nbconvert_exporter": "python",
      "mimetype": "text/x-python",
      "pygments_lexer": "ipython3"
    },
    "kernelspec": {
      "display_name": "Python 3",
      "language": "python",
      "name": "python3"
    }
  },
  "cells": [
    {
      "execution_count": null,
      "cell_type": "code",
      "metadata": {
        "collapsed": false
      },
      "source": [
        "%matplotlib inline"
      ],
      "outputs": []
    },
    {
      "metadata": {},
      "cell_type": "markdown",
      "source": [
        "\n# Errorbar Limits\n\n\nIllustration of upper and lower limit symbols on errorbars\n\n"
      ]
    },
    {
      "execution_count": null,
      "cell_type": "code",
      "metadata": {
        "collapsed": false
      },
      "source": [
        "import numpy as np\nimport matplotlib.pyplot as plt"
      ],
      "outputs": []
    },
    {
      "execution_count": null,
      "cell_type": "code",
      "metadata": {
        "collapsed": false
      },
      "source": [
        "fig = plt.figure(0)\nx = np.arange(10.0)\ny = np.sin(np.arange(10.0) / 20.0 * np.pi)\n\nplt.errorbar(x, y, yerr=0.1)\n\ny = np.sin(np.arange(10.0) / 20.0 * np.pi) + 1\nplt.errorbar(x, y, yerr=0.1, uplims=True)\n\ny = np.sin(np.arange(10.0) / 20.0 * np.pi) + 2\nupperlimits = np.array([1, 0] * 5)\nlowerlimits = np.array([0, 1] * 5)\nplt.errorbar(x, y, yerr=0.1, uplims=upperlimits, lolims=lowerlimits)\n\nplt.xlim(-1, 10)"
      ],
      "outputs": []
    },
    {
      "execution_count": null,
      "cell_type": "code",
      "metadata": {
        "collapsed": false
      },
      "source": [
        "fig = plt.figure(1)\nx = np.arange(10.0) / 10.0\ny = (x + 0.1)**2\n\nplt.errorbar(x, y, xerr=0.1, xlolims=True)\ny = (x + 0.1)**3\n\nplt.errorbar(x + 0.6, y, xerr=0.1, xuplims=upperlimits, xlolims=lowerlimits)\n\ny = (x + 0.1)**4\nplt.errorbar(x + 1.2, y, xerr=0.1, xuplims=True)\n\nplt.xlim(-0.2, 2.4)\nplt.ylim(-0.1, 1.3)\n\nplt.show()"
      ],
      "outputs": []
    }
  ],
  "nbformat": 4,
  "nbformat_minor": 0
}
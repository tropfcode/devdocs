{
  "metadata": {
    "language_info": {
      "version": "3.5.3",
      "codemirror_mode": {
        "version": 3,
        "name": "ipython"
      },
      "file_extension": ".py",
      "name": "python",
      "nbconvert_exporter": "python",
      "mimetype": "text/x-python",
      "pygments_lexer": "ipython3"
    },
    "kernelspec": {
      "display_name": "Python 3",
      "language": "python",
      "name": "python3"
    }
  },
  "cells": [
    {
      "execution_count": null,
      "cell_type": "code",
      "metadata": {
        "collapsed": false
      },
      "source": [
        "%matplotlib inline"
      ],
      "outputs": []
    },
    {
      "metadata": {},
      "cell_type": "markdown",
      "source": [
        "\nSharing axis limits and views\n=============================\n\nIt's common to make two or more plots which share an axis, e.g., two\nsubplots with time as a common axis.  When you pan and zoom around on\none, you want the other to move around with you.  To facilitate this,\nmatplotlib Axes support a ``sharex`` and ``sharey`` attribute.  When\nyou create a :func:`~matplotlib.pyplot.subplot` or\n:func:`~matplotlib.pyplot.axes` instance, you can pass in a keyword\nindicating what axes you want to share with\n\n"
      ]
    },
    {
      "execution_count": null,
      "cell_type": "code",
      "metadata": {
        "collapsed": false
      },
      "source": [
        "import numpy as np\nimport matplotlib.pyplot as plt\n\nt = np.arange(0, 10, 0.01)\n\nax1 = plt.subplot(211)\n\nax1.plot(t, np.sin(2*np.pi*t))\n\nax2 = plt.subplot(212, sharex=ax1)\n\nax2.plot(t, np.sin(4*np.pi*t))"
      ],
      "outputs": []
    }
  ],
  "nbformat": 4,
  "nbformat_minor": 0
}
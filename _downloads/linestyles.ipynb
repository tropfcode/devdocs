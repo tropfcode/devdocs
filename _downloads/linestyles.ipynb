{
  "metadata": {
    "language_info": {
      "version": "3.5.3",
      "codemirror_mode": {
        "version": 3,
        "name": "ipython"
      },
      "file_extension": ".py",
      "name": "python",
      "nbconvert_exporter": "python",
      "mimetype": "text/x-python",
      "pygments_lexer": "ipython3"
    },
    "kernelspec": {
      "display_name": "Python 3",
      "language": "python",
      "name": "python3"
    }
  },
  "cells": [
    {
      "execution_count": null,
      "cell_type": "code",
      "metadata": {
        "collapsed": false
      },
      "source": [
        "%matplotlib inline"
      ],
      "outputs": []
    },
    {
      "metadata": {},
      "cell_type": "markdown",
      "source": [
        "\n# Linestyles\n\n\nThis examples showcases different linestyles copying those of Tikz/PGF.\n\n"
      ]
    },
    {
      "execution_count": null,
      "cell_type": "code",
      "metadata": {
        "collapsed": false
      },
      "source": [
        "import numpy as np\nimport matplotlib.pyplot as plt\nfrom collections import OrderedDict\nfrom matplotlib.transforms import blended_transform_factory\n\nlinestyles = OrderedDict(\n    [('solid',               (0, ())),\n     ('loosely dotted',      (0, (1, 10))),\n     ('dotted',              (0, (1, 5))),\n     ('densely dotted',      (0, (1, 1))),\n\n     ('loosely dashed',      (0, (5, 10))),\n     ('dashed',              (0, (5, 5))),\n     ('densely dashed',      (0, (5, 1))),\n\n     ('loosely dashdotted',  (0, (3, 10, 1, 10))),\n     ('dashdotted',          (0, (3, 5, 1, 5))),\n     ('densely dashdotted',  (0, (3, 1, 1, 1))),\n\n     ('loosely dashdotdotted', (0, (3, 10, 1, 10, 1, 10))),\n     ('dashdotdotted',         (0, (3, 5, 1, 5, 1, 5))),\n     ('densely dashdotdotted', (0, (3, 1, 1, 1, 1, 1)))])\n\n\nplt.figure(figsize=(10, 6))\nax = plt.subplot(1, 1, 1)\n\nX, Y = np.linspace(0, 100, 10), np.zeros(10)\nfor i, (name, linestyle) in enumerate(linestyles.items()):\n    ax.plot(X, Y+i, linestyle=linestyle, linewidth=1.5, color='black')\n\nax.set_ylim(-0.5, len(linestyles)-0.5)\nplt.yticks(np.arange(len(linestyles)), linestyles.keys())\nplt.xticks([])\n\n# For each line style, add a text annotation with a small offset from\n# the reference point (0 in Axes coords, y tick value in Data coords).\nreference_transform = blended_transform_factory(ax.transAxes, ax.transData)\nfor i, (name, linestyle) in enumerate(linestyles.items()):\n    ax.annotate(str(linestyle), xy=(0.0, i), xycoords=reference_transform,\n                xytext=(-6, -12), textcoords='offset points', color=\"blue\",\n                fontsize=8, ha=\"right\", family=\"monospace\")\n\nplt.tight_layout()\nplt.show()"
      ],
      "outputs": []
    }
  ],
  "nbformat": 4,
  "nbformat_minor": 0
}
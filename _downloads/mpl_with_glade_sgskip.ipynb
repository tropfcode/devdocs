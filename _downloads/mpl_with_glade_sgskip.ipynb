{
  "metadata": {
    "language_info": {
      "version": "3.5.3",
      "codemirror_mode": {
        "version": 3,
        "name": "ipython"
      },
      "file_extension": ".py",
      "name": "python",
      "nbconvert_exporter": "python",
      "mimetype": "text/x-python",
      "pygments_lexer": "ipython3"
    },
    "kernelspec": {
      "display_name": "Python 3",
      "language": "python",
      "name": "python3"
    }
  },
  "cells": [
    {
      "execution_count": null,
      "cell_type": "code",
      "metadata": {
        "collapsed": false
      },
      "source": [
        "%matplotlib inline"
      ],
      "outputs": []
    },
    {
      "metadata": {},
      "cell_type": "markdown",
      "source": [
        "\n# Matplotlib With Glade\n\n\n\n"
      ]
    },
    {
      "execution_count": null,
      "cell_type": "code",
      "metadata": {
        "collapsed": false
      },
      "source": [
        "from __future__ import print_function\nimport matplotlib\nmatplotlib.use('GTK')\n\nfrom matplotlib.figure import Figure\nfrom matplotlib.axes import Subplot\nfrom matplotlib.backends.backend_gtkagg import FigureCanvasGTKAgg as FigureCanvas\nfrom matplotlib.backends.backend_gtkagg import NavigationToolbar2GTKAgg as NavigationToolbar\nfrom matplotlib.widgets import SpanSelector\n\nfrom numpy import arange, sin, pi\nimport gtk\nimport gtk.glade\n\n\ndef simple_msg(msg, parent=None, title=None):\n    dialog = gtk.MessageDialog(\n        parent=None,\n        type=gtk.MESSAGE_INFO,\n        buttons=gtk.BUTTONS_OK,\n        message_format=msg)\n    if parent is not None:\n        dialog.set_transient_for(parent)\n    if title is not None:\n        dialog.set_title(title)\n    dialog.show()\n    dialog.run()\n    dialog.destroy()\n    return None\n\n\nclass GladeHandlers(object):\n    def on_buttonClickMe_clicked(event):\n        simple_msg('Nothing to say, really',\n                   parent=widgets['windowMain'],\n                   title='Thanks!')\n\n\nclass WidgetsWrapper(object):\n    def __init__(self):\n        self.widgets = gtk.glade.XML('mpl_with_glade.glade')\n        self.widgets.signal_autoconnect(GladeHandlers.__dict__)\n\n        self['windowMain'].connect('destroy', lambda x: gtk.main_quit())\n        self['windowMain'].move(10, 10)\n        self.figure = Figure(figsize=(8, 6), dpi=72)\n        self.axis = self.figure.add_subplot(111)\n\n        t = arange(0.0, 3.0, 0.01)\n        s = sin(2*pi*t)\n        self.axis.plot(t, s)\n        self.axis.set_xlabel('time (s)')\n        self.axis.set_ylabel('voltage')\n\n        self.canvas = FigureCanvas(self.figure)  # a gtk.DrawingArea\n        self.canvas.show()\n        self.canvas.set_size_request(600, 400)\n        self.canvas.set_events(\n            gtk.gdk.BUTTON_PRESS_MASK |\n            gtk.gdk.KEY_PRESS_MASK |\n            gtk.gdk.KEY_RELEASE_MASK\n            )\n        self.canvas.set_flags(gtk.HAS_FOCUS | gtk.CAN_FOCUS)\n        self.canvas.grab_focus()\n\n        def keypress(widget, event):\n            print('key press')\n\n        def buttonpress(widget, event):\n            print('button press')\n\n        self.canvas.connect('key_press_event', keypress)\n        self.canvas.connect('button_press_event', buttonpress)\n\n        def onselect(xmin, xmax):\n            print(xmin, xmax)\n\n        span = SpanSelector(self.axis, onselect, 'horizontal', useblit=False,\n                            rectprops=dict(alpha=0.5, facecolor='red'))\n\n        self['vboxMain'].pack_start(self.canvas, True, True)\n        self['vboxMain'].show()\n\n        # below is optional if you want the navigation toolbar\n        self.navToolbar = NavigationToolbar(self.canvas, self['windowMain'])\n        self.navToolbar.lastDir = '/var/tmp/'\n        self['vboxMain'].pack_start(self.navToolbar)\n        self.navToolbar.show()\n\n        sep = gtk.HSeparator()\n        sep.show()\n        self['vboxMain'].pack_start(sep, True, True)\n\n        self['vboxMain'].reorder_child(self['buttonClickMe'], -1)\n\n    def __getitem__(self, key):\n        return self.widgets.get_widget(key)\n\nwidgets = WidgetsWrapper()\ngtk.main()"
      ],
      "outputs": []
    }
  ],
  "nbformat": 4,
  "nbformat_minor": 0
}
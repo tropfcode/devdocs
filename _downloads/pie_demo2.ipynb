{
  "metadata": {
    "language_info": {
      "version": "3.5.3",
      "codemirror_mode": {
        "version": 3,
        "name": "ipython"
      },
      "file_extension": ".py",
      "name": "python",
      "nbconvert_exporter": "python",
      "mimetype": "text/x-python",
      "pygments_lexer": "ipython3"
    },
    "kernelspec": {
      "display_name": "Python 3",
      "language": "python",
      "name": "python3"
    }
  },
  "cells": [
    {
      "execution_count": null,
      "cell_type": "code",
      "metadata": {
        "collapsed": false
      },
      "source": [
        "%matplotlib inline"
      ],
      "outputs": []
    },
    {
      "metadata": {},
      "cell_type": "markdown",
      "source": [
        "\n# Pie Demo2\n\n\nMake a pie charts of varying size - see\nhttps://matplotlib.org/api/pyplot_api.html#matplotlib.pyplot.pie for the\ndocstring.\n\nThis example shows a basic pie charts with labels optional features,\nlike autolabeling the percentage, offsetting a slice with \"explode\"\nand adding a shadow, in different sizes.\n\n\n"
      ]
    },
    {
      "execution_count": null,
      "cell_type": "code",
      "metadata": {
        "collapsed": false
      },
      "source": [
        "import matplotlib.pyplot as plt\nfrom matplotlib.gridspec import GridSpec\n\n# Some data\n\nlabels = 'Frogs', 'Hogs', 'Dogs', 'Logs'\nfracs = [15, 30, 45, 10]\n\nexplode = (0, 0.05, 0, 0)\n\n# Make square figures and axes\n\nthe_grid = GridSpec(2, 2)\n\nplt.subplot(the_grid[0, 0], aspect=1)\n\nplt.pie(fracs, labels=labels, autopct='%1.1f%%', shadow=True)\n\nplt.subplot(the_grid[0, 1], aspect=1)\n\nplt.pie(fracs, explode=explode, labels=labels, autopct='%.0f%%', shadow=True)\n\nplt.subplot(the_grid[1, 0], aspect=1)\n\npatches, texts, autotexts = plt.pie(fracs, labels=labels,\n                                    autopct='%.0f%%',\n                                    shadow=True, radius=0.5)\n\n# Make the labels on the small plot easier to read.\nfor t in texts:\n    t.set_size('smaller')\nfor t in autotexts:\n    t.set_size('x-small')\nautotexts[0].set_color('y')\n\nplt.subplot(the_grid[1, 1], aspect=1)\n\n# Turn off shadow for tiny plot with exploded slice.\npatches, texts, autotexts = plt.pie(fracs, explode=explode,\n                                    labels=labels, autopct='%.0f%%',\n                                    shadow=False, radius=0.5)\nfor t in texts:\n    t.set_size('smaller')\nfor t in autotexts:\n    t.set_size('x-small')\nautotexts[0].set_color('y')\n\nplt.show()"
      ],
      "outputs": []
    }
  ],
  "nbformat": 4,
  "nbformat_minor": 0
}
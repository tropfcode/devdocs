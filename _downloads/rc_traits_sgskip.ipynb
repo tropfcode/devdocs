{
  "metadata": {
    "language_info": {
      "version": "3.5.3",
      "codemirror_mode": {
        "version": 3,
        "name": "ipython"
      },
      "file_extension": ".py",
      "name": "python",
      "nbconvert_exporter": "python",
      "mimetype": "text/x-python",
      "pygments_lexer": "ipython3"
    },
    "kernelspec": {
      "display_name": "Python 3",
      "language": "python",
      "name": "python3"
    }
  },
  "cells": [
    {
      "execution_count": null,
      "cell_type": "code",
      "metadata": {
        "collapsed": false
      },
      "source": [
        "%matplotlib inline"
      ],
      "outputs": []
    },
    {
      "metadata": {},
      "cell_type": "markdown",
      "source": [
        "\n# Rc Traits\n\n\nHere is some example code showing how to define some representative\nrc properties and construct a Matplotlib artist using traits.\nMatplotlib does not ship with enthought.traits, so you will need to\ninstall it separately.\n\n\n"
      ]
    },
    {
      "execution_count": null,
      "cell_type": "code",
      "metadata": {
        "collapsed": false
      },
      "source": [
        "from __future__ import print_function\n\nimport sys\nimport os\nimport re\nimport traits.api as traits\nfrom matplotlib.artist import Artist\n\ndoprint = True\nflexible_true_trait = traits.Trait(\n   True,\n   {'true': True, 't': True, 'yes': True, 'y': True, 'on': True, True: True,\n    'false': False, 'f': False, 'no': False, 'n': False, 'off': False, False: False\n    })\nflexible_false_trait = traits.Trait(False, flexible_true_trait)\n\ncolors = {\n   'c': '#00bfbf',\n   'b': '#0000ff',\n   'g': '#008000',\n   'k': '#000000',\n   'm': '#bf00bf',\n   'r': '#ff0000',\n   'w': '#ffffff',\n   'y': '#bfbf00',\n   'gold':        '#FFD700',\n   'peachpuff':   '#FFDAB9',\n   'navajowhite': '#FFDEAD',\n   }\n\n\ndef hex2color(s):\n    \"Convert hex string (like html uses, eg, #efefef) to a r,g,b tuple\"\n    return tuple([int(n, 16)/255.0 for n in (s[1:3], s[3:5], s[5:7])])\n\n\nclass RGBA(traits.HasTraits):\n    # r,g,b,a in the range 0-1 with default color 0,0,0,1 (black)\n    r = traits.Range(0., 1., 0.)\n    g = traits.Range(0., 1., 0.)\n    b = traits.Range(0., 1., 0.)\n    a = traits.Range(0., 1., 1.)\n\n    def __init__(self, r=0., g=0., b=0., a=1.):\n        self.r = r\n        self.g = g\n        self.b = b\n        self.a = a\n\n    def __repr__(self):\n        return 'r,g,b,a = (%1.2f, %1.2f, %1.2f, %1.2f)' %\\\n               (self.r, self.g, self.b, self.a)\n\n\ndef tuple_to_rgba(ob, name, val):\n    tup = [float(x) for x in val]\n    if len(tup) == 3:\n        r, g, b = tup\n        return RGBA(r, g, b)\n    elif len(tup) == 4:\n        r, g, b, a = tup\n        return RGBA(r, g, b, a)\n    else:\n        raise ValueError\ntuple_to_rgba.info = 'a RGB or RGBA tuple of floats'\n\n\ndef hex_to_rgba(ob, name, val):\n    rgx = re.compile('^#[0-9A-Fa-f]{6}$')\n\n    if not isinstance(val, six.string_types):\n        raise TypeError\n    if rgx.match(val) is None:\n        raise ValueError\n    r, g, b = hex2color(val)\n    return RGBA(r, g, b, 1.0)\nhex_to_rgba.info = 'a hex color string'\n\n\ndef colorname_to_rgba(ob, name, val):\n    hex = colors[val.lower()]\n    r, g, b = hex2color(hex)\n    return RGBA(r, g, b, 1.0)\ncolorname_to_rgba.info = 'a named color'\n\n\ndef float_to_rgba(ob, name, val):\n    val = float(val)\n    return RGBA(val, val, val, 1.)\nfloat_to_rgba.info = 'a grayscale intensity'\n\n\nColor = traits.Trait(RGBA(), float_to_rgba, colorname_to_rgba, RGBA,\n                     hex_to_rgba, tuple_to_rgba)\n\n\ndef file_exists(ob, name, val):\n    fh = file(val, 'r')\n    return val\n\nlinestyles = ('-', '--', '-.', ':', 'steps', 'None')\nTICKLEFT, TICKRIGHT, TICKUP, TICKDOWN = range(4)\nlinemarkers = (None, '.', ',', 'o', '^', 'v', '<', '>', 's',\n               '+', 'x', 'd', 'D', '|', '_', 'h', 'H',\n               'p', '1', '2', '3', '4',\n               TICKLEFT,\n               TICKRIGHT,\n               TICKUP,\n               TICKDOWN,\n               'None'\n               )\n\n\nclass LineRC(traits.HasTraits):\n    linewidth = traits.Float(0.5)\n    linestyle = traits.Trait(*linestyles)\n    color = Color\n    marker = traits.Trait(*linemarkers)\n    markerfacecolor = Color\n    markeredgecolor = Color\n    markeredgewidth = traits.Float(0.5)\n    markersize = traits.Float(6)\n    antialiased = flexible_true_trait\n    data_clipping = flexible_false_trait\n\n\nclass PatchRC(traits.HasTraits):\n    linewidth = traits.Float(1.0)\n    facecolor = Color\n    edgecolor = Color\n    antialiased = flexible_true_trait\n\ntimezones = 'UTC', 'US/Central', 'ES/Eastern'  # fixme: and many more\nbackends = ('GTKAgg', 'Cairo', 'GDK', 'GTK', 'Agg',\n            'GTKCairo', 'PS', 'SVG', 'Template', 'TkAgg',\n            'WX')\n\n\nclass RC(traits.HasTraits):\n    backend = traits.Trait(*backends)\n    interactive = flexible_false_trait\n    toolbar = traits.Trait('toolbar2', 'classic', None)\n    timezone = traits.Trait(*timezones)\n    lines = traits.Trait(LineRC())\n    patch = traits.Trait(PatchRC())\n\nrc = RC()\nrc.lines.color = 'r'\nif doprint:\n    print('RC')\n    rc.print_traits()\n    print('RC lines')\n    rc.lines.print_traits()\n    print('RC patches')\n    rc.patch.print_traits()\n\n\nclass Patch(Artist, traits.HasTraits):\n    linewidth = traits.Float(0.5)\n    facecolor = Color\n    fc = facecolor\n    edgecolor = Color\n    fill = flexible_true_trait\n\n    def __init__(self,\n                 edgecolor=None,\n                 facecolor=None,\n                 linewidth=None,\n                 antialiased=None,\n                 fill=1,\n                 **kwargs\n                 ):\n        Artist.__init__(self)\n\n        if edgecolor is None:\n            edgecolor = rc.patch.edgecolor\n        if facecolor is None:\n            facecolor = rc.patch.facecolor\n        if linewidth is None:\n            linewidth = rc.patch.linewidth\n        if antialiased is None:\n            antialiased = rc.patch.antialiased\n\n        self.edgecolor = edgecolor\n        self.facecolor = facecolor\n        self.linewidth = linewidth\n        self.antialiased = antialiased\n        self.fill = fill\n\n\np = Patch()\np.facecolor = '#bfbf00'\np.edgecolor = 'gold'\np.facecolor = (1, .5, .5, .25)\np.facecolor = 0.25\np.fill = 'f'\nprint('p.facecolor', type(p.facecolor), p.facecolor)\nprint('p.fill', type(p.fill), p.fill)\nif p.fill_:\n    print('fill')\nelse:\n    print('no fill')\nif doprint:\n    print()\n    print('Patch')\n    p.print_traits()"
      ],
      "outputs": []
    }
  ],
  "nbformat": 4,
  "nbformat_minor": 0
}
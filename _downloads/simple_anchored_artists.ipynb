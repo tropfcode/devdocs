{
  "metadata": {
    "language_info": {
      "version": "3.5.3",
      "codemirror_mode": {
        "version": 3,
        "name": "ipython"
      },
      "file_extension": ".py",
      "name": "python",
      "nbconvert_exporter": "python",
      "mimetype": "text/x-python",
      "pygments_lexer": "ipython3"
    },
    "kernelspec": {
      "display_name": "Python 3",
      "language": "python",
      "name": "python3"
    }
  },
  "cells": [
    {
      "execution_count": null,
      "cell_type": "code",
      "metadata": {
        "collapsed": false
      },
      "source": [
        "%matplotlib inline"
      ],
      "outputs": []
    },
    {
      "metadata": {},
      "cell_type": "markdown",
      "source": [
        "\n# Simple Anchored Artists\n\n\n\n"
      ]
    },
    {
      "execution_count": null,
      "cell_type": "code",
      "metadata": {
        "collapsed": false
      },
      "source": [
        "import matplotlib.pyplot as plt\n\n\ndef draw_text(ax):\n    from matplotlib.offsetbox import AnchoredText\n    at = AnchoredText(\"Figure 1a\",\n                      loc=2, prop=dict(size=8), frameon=True,\n                      )\n    at.patch.set_boxstyle(\"round,pad=0.,rounding_size=0.2\")\n    ax.add_artist(at)\n\n    at2 = AnchoredText(\"Figure 1(b)\",\n                       loc=3, prop=dict(size=8), frameon=True,\n                       bbox_to_anchor=(0., 1.),\n                       bbox_transform=ax.transAxes\n                       )\n    at2.patch.set_boxstyle(\"round,pad=0.,rounding_size=0.2\")\n    ax.add_artist(at2)\n\n\ndef draw_circle(ax):  # circle in the canvas coordinate\n    from mpl_toolkits.axes_grid1.anchored_artists import AnchoredDrawingArea\n    from matplotlib.patches import Circle\n    ada = AnchoredDrawingArea(20, 20, 0, 0,\n                              loc=1, pad=0., frameon=False)\n    p = Circle((10, 10), 10)\n    ada.da.add_artist(p)\n    ax.add_artist(ada)\n\n\ndef draw_ellipse(ax):\n    from mpl_toolkits.axes_grid1.anchored_artists import AnchoredEllipse\n    # draw an ellipse of width=0.1, height=0.15 in the data coordinate\n    ae = AnchoredEllipse(ax.transData, width=0.1, height=0.15, angle=0.,\n                         loc=3, pad=0.5, borderpad=0.4, frameon=True)\n\n    ax.add_artist(ae)\n\n\ndef draw_sizebar(ax):\n    from mpl_toolkits.axes_grid1.anchored_artists import AnchoredSizeBar\n    # draw a horizontal bar with length of 0.1 in Data coordinate\n    # (ax.transData) with a label underneath.\n    asb = AnchoredSizeBar(ax.transData,\n                          0.1,\n                          r\"1$^{\\prime}$\",\n                          loc=8,\n                          pad=0.1, borderpad=0.5, sep=5,\n                          frameon=False)\n    ax.add_artist(asb)\n\n\nif 1:\n    ax = plt.gca()\n    ax.set_aspect(1.)\n\n    draw_text(ax)\n    draw_circle(ax)\n    draw_ellipse(ax)\n    draw_sizebar(ax)\n\n    plt.show()"
      ],
      "outputs": []
    }
  ],
  "nbformat": 4,
  "nbformat_minor": 0
}
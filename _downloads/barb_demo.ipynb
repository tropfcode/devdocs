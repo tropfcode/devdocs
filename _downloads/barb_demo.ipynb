{
  "metadata": {
    "language_info": {
      "version": "3.5.3",
      "codemirror_mode": {
        "version": 3,
        "name": "ipython"
      },
      "file_extension": ".py",
      "name": "python",
      "nbconvert_exporter": "python",
      "mimetype": "text/x-python",
      "pygments_lexer": "ipython3"
    },
    "kernelspec": {
      "display_name": "Python 3",
      "language": "python",
      "name": "python3"
    }
  },
  "cells": [
    {
      "execution_count": null,
      "cell_type": "code",
      "metadata": {
        "collapsed": false
      },
      "source": [
        "%matplotlib inline"
      ],
      "outputs": []
    },
    {
      "metadata": {},
      "cell_type": "markdown",
      "source": [
        "\n# Barb Demo\n\n\nDemonstration of wind barb plots\n\n"
      ]
    },
    {
      "execution_count": null,
      "cell_type": "code",
      "metadata": {
        "collapsed": false
      },
      "source": [
        "import matplotlib.pyplot as plt\nimport numpy as np\n\nx = np.linspace(-5, 5, 5)\nX, Y = np.meshgrid(x, x)\nU, V = 12 * X, 12 * Y\n\ndata = [(-1.5, .5, -6, -6),\n        (1, -1, -46, 46),\n        (-3, -1, 11, -11),\n        (1, 1.5, 80, 80),\n        (0.5, 0.25, 25, 15),\n        (-1.5, -0.5, -5, 40)]\n\ndata = np.array(data, dtype=[('x', np.float32), ('y', np.float32),\n                             ('u', np.float32), ('v', np.float32)])\n\n# Default parameters, uniform grid\nax = plt.subplot(2, 2, 1)\nax.barbs(X, Y, U, V)\n\n# Arbitrary set of vectors, make them longer and change the pivot point\n# (point around which they're rotated) to be the middle\nax = plt.subplot(2, 2, 2)\nax.barbs(data['x'], data['y'], data['u'], data['v'], length=8, pivot='middle')\n\n# Showing colormapping with uniform grid.  Fill the circle for an empty barb,\n# don't round the values, and change some of the size parameters\nax = plt.subplot(2, 2, 3)\nax.barbs(X, Y, U, V, np.sqrt(U * U + V * V), fill_empty=True, rounding=False,\n         sizes=dict(emptybarb=0.25, spacing=0.2, height=0.3))\n\n# Change colors as well as the increments for parts of the barbs\nax = plt.subplot(2, 2, 4)\nax.barbs(data['x'], data['y'], data['u'], data['v'], flagcolor='r',\n         barbcolor=['b', 'g'],\n         barb_increments=dict(half=10, full=20, flag=100), flip_barb=True)\n\n# Masked arrays are also supported\nmasked_u = np.ma.masked_array(data['u'])\nmasked_u[4] = 1000  # Bad value that should not be plotted when masked\nmasked_u[4] = np.ma.masked\n\n# Identical plot to panel 2 in the first figure, but with the point at\n# (0.5, 0.25) missing (masked)\nfig2 = plt.figure()\nax = fig2.add_subplot(1, 1, 1)\nax.barbs(data['x'], data['y'], masked_u, data['v'], length=8, pivot='middle')\n\nplt.show()"
      ],
      "outputs": []
    }
  ],
  "nbformat": 4,
  "nbformat_minor": 0
}
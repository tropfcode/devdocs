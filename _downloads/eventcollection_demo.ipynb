{
  "metadata": {
    "language_info": {
      "version": "3.5.3",
      "codemirror_mode": {
        "version": 3,
        "name": "ipython"
      },
      "file_extension": ".py",
      "name": "python",
      "nbconvert_exporter": "python",
      "mimetype": "text/x-python",
      "pygments_lexer": "ipython3"
    },
    "kernelspec": {
      "display_name": "Python 3",
      "language": "python",
      "name": "python3"
    }
  },
  "cells": [
    {
      "execution_count": null,
      "cell_type": "code",
      "metadata": {
        "collapsed": false
      },
      "source": [
        "%matplotlib inline"
      ],
      "outputs": []
    },
    {
      "metadata": {},
      "cell_type": "markdown",
      "source": [
        "\n# EventCollection Demo\n\n\nPlot two curves, then use EventCollections to mark the locations of the x\nand y data points on the respective axes for each curve\n\n"
      ]
    },
    {
      "execution_count": null,
      "cell_type": "code",
      "metadata": {
        "collapsed": false
      },
      "source": [
        "import matplotlib.pyplot as plt\nfrom matplotlib.collections import EventCollection\nimport numpy as np\n\n# Fixing random state for reproducibility\nnp.random.seed(19680801)\n\n# create random data\nxdata = np.random.random([2, 10])\n\n# split the data into two parts\nxdata1 = xdata[0, :]\nxdata2 = xdata[1, :]\n\n# sort the data so it makes clean curves\nxdata1.sort()\nxdata2.sort()\n\n# create some y data points\nydata1 = xdata1 ** 2\nydata2 = 1 - xdata2 ** 3\n\n# plot the data\nfig = plt.figure()\nax = fig.add_subplot(1, 1, 1)\nax.plot(xdata1, ydata1, 'r', xdata2, ydata2, 'b')\n\n# create the events marking the x data points\nxevents1 = EventCollection(xdata1, color=[1, 0, 0], linelength=0.05)\nxevents2 = EventCollection(xdata2, color=[0, 0, 1], linelength=0.05)\n\n# create the events marking the y data points\nyevents1 = EventCollection(ydata1, color=[1, 0, 0], linelength=0.05,\n                           orientation='vertical')\nyevents2 = EventCollection(ydata2, color=[0, 0, 1], linelength=0.05,\n                           orientation='vertical')\n\n# add the events to the axis\nax.add_collection(xevents1)\nax.add_collection(xevents2)\nax.add_collection(yevents1)\nax.add_collection(yevents2)\n\n# set the limits\nax.set_xlim([0, 1])\nax.set_ylim([0, 1])\n\nax.set_title('line plot with data points')\n\n# display the plot\nplt.show()"
      ],
      "outputs": []
    }
  ],
  "nbformat": 4,
  "nbformat_minor": 0
}
{
  "metadata": {
    "language_info": {
      "version": "3.5.3",
      "codemirror_mode": {
        "version": 3,
        "name": "ipython"
      },
      "file_extension": ".py",
      "name": "python",
      "nbconvert_exporter": "python",
      "mimetype": "text/x-python",
      "pygments_lexer": "ipython3"
    },
    "kernelspec": {
      "display_name": "Python 3",
      "language": "python",
      "name": "python3"
    }
  },
  "cells": [
    {
      "execution_count": null,
      "cell_type": "code",
      "metadata": {
        "collapsed": false
      },
      "source": [
        "%matplotlib inline"
      ],
      "outputs": []
    },
    {
      "metadata": {},
      "cell_type": "markdown",
      "source": [
        "\n# Axes Zoom Effect\n\n\n\n"
      ]
    },
    {
      "execution_count": null,
      "cell_type": "code",
      "metadata": {
        "collapsed": false
      },
      "source": [
        "from matplotlib.transforms import Bbox, TransformedBbox, \\\n    blended_transform_factory\n\nfrom mpl_toolkits.axes_grid1.inset_locator import BboxPatch, BboxConnector,\\\n    BboxConnectorPatch\n\n\ndef connect_bbox(bbox1, bbox2,\n                 loc1a, loc2a, loc1b, loc2b,\n                 prop_lines, prop_patches=None):\n    if prop_patches is None:\n        prop_patches = prop_lines.copy()\n        prop_patches[\"alpha\"] = prop_patches.get(\"alpha\", 1) * 0.2\n\n    c1 = BboxConnector(bbox1, bbox2, loc1=loc1a, loc2=loc2a, **prop_lines)\n    c1.set_clip_on(False)\n    c2 = BboxConnector(bbox1, bbox2, loc1=loc1b, loc2=loc2b, **prop_lines)\n    c2.set_clip_on(False)\n\n    bbox_patch1 = BboxPatch(bbox1, **prop_patches)\n    bbox_patch2 = BboxPatch(bbox2, **prop_patches)\n\n    p = BboxConnectorPatch(bbox1, bbox2,\n                           # loc1a=3, loc2a=2, loc1b=4, loc2b=1,\n                           loc1a=loc1a, loc2a=loc2a, loc1b=loc1b, loc2b=loc2b,\n                           **prop_patches)\n    p.set_clip_on(False)\n\n    return c1, c2, bbox_patch1, bbox_patch2, p\n\n\ndef zoom_effect01(ax1, ax2, xmin, xmax, **kwargs):\n    \"\"\"\n    ax1 : the main axes\n    ax1 : the zoomed axes\n    (xmin,xmax) : the limits of the colored area in both plot axes.\n\n    connect ax1 & ax2. The x-range of (xmin, xmax) in both axes will\n    be marked.  The keywords parameters will be used ti create\n    patches.\n\n    \"\"\"\n\n    trans1 = blended_transform_factory(ax1.transData, ax1.transAxes)\n    trans2 = blended_transform_factory(ax2.transData, ax2.transAxes)\n\n    bbox = Bbox.from_extents(xmin, 0, xmax, 1)\n\n    mybbox1 = TransformedBbox(bbox, trans1)\n    mybbox2 = TransformedBbox(bbox, trans2)\n\n    prop_patches = kwargs.copy()\n    prop_patches[\"ec\"] = \"none\"\n    prop_patches[\"alpha\"] = 0.2\n\n    c1, c2, bbox_patch1, bbox_patch2, p = \\\n        connect_bbox(mybbox1, mybbox2,\n                     loc1a=3, loc2a=2, loc1b=4, loc2b=1,\n                     prop_lines=kwargs, prop_patches=prop_patches)\n\n    ax1.add_patch(bbox_patch1)\n    ax2.add_patch(bbox_patch2)\n    ax2.add_patch(c1)\n    ax2.add_patch(c2)\n    ax2.add_patch(p)\n\n    return c1, c2, bbox_patch1, bbox_patch2, p\n\n\ndef zoom_effect02(ax1, ax2, **kwargs):\n    \"\"\"\n    ax1 : the main axes\n    ax1 : the zoomed axes\n\n    Similar to zoom_effect01.  The xmin & xmax will be taken from the\n    ax1.viewLim.\n    \"\"\"\n\n    tt = ax1.transScale + (ax1.transLimits + ax2.transAxes)\n    trans = blended_transform_factory(ax2.transData, tt)\n\n    mybbox1 = ax1.bbox\n    mybbox2 = TransformedBbox(ax1.viewLim, trans)\n\n    prop_patches = kwargs.copy()\n    prop_patches[\"ec\"] = \"none\"\n    prop_patches[\"alpha\"] = 0.2\n\n    c1, c2, bbox_patch1, bbox_patch2, p = \\\n        connect_bbox(mybbox1, mybbox2,\n                     loc1a=3, loc2a=2, loc1b=4, loc2b=1,\n                     prop_lines=kwargs, prop_patches=prop_patches)\n\n    ax1.add_patch(bbox_patch1)\n    ax2.add_patch(bbox_patch2)\n    ax2.add_patch(c1)\n    ax2.add_patch(c2)\n    ax2.add_patch(p)\n\n    return c1, c2, bbox_patch1, bbox_patch2, p\n\n\nimport matplotlib.pyplot as plt\n\nplt.figure(1, figsize=(5, 5))\nax1 = plt.subplot(221)\nax2 = plt.subplot(212)\nax2.set_xlim(0, 1)\nax2.set_xlim(0, 5)\nzoom_effect01(ax1, ax2, 0.2, 0.8)\n\n\nax1 = plt.subplot(222)\nax1.set_xlim(2, 3)\nax2.set_xlim(0, 5)\nzoom_effect02(ax1, ax2)\n\nplt.show()"
      ],
      "outputs": []
    }
  ],
  "nbformat": 4,
  "nbformat_minor": 0
}
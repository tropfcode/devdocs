{
  "metadata": {
    "language_info": {
      "version": "3.5.3",
      "codemirror_mode": {
        "version": 3,
        "name": "ipython"
      },
      "file_extension": ".py",
      "name": "python",
      "nbconvert_exporter": "python",
      "mimetype": "text/x-python",
      "pygments_lexer": "ipython3"
    },
    "kernelspec": {
      "display_name": "Python 3",
      "language": "python",
      "name": "python3"
    }
  },
  "cells": [
    {
      "execution_count": null,
      "cell_type": "code",
      "metadata": {
        "collapsed": false
      },
      "source": [
        "%matplotlib inline"
      ],
      "outputs": []
    },
    {
      "metadata": {},
      "cell_type": "markdown",
      "source": [
        "\n# Demo Axes Grid\n\n\n\n"
      ]
    },
    {
      "execution_count": null,
      "cell_type": "code",
      "metadata": {
        "collapsed": false
      },
      "source": [
        "import matplotlib.pyplot as plt\nfrom mpl_toolkits.axes_grid1 import ImageGrid\n\n\ndef get_demo_image():\n    import numpy as np\n    from matplotlib.cbook import get_sample_data\n    f = get_sample_data(\"axes_grid/bivariate_normal.npy\", asfileobj=False)\n    z = np.load(f)\n    # z is a numpy array of 15x15\n    return z, (-3, 4, -4, 3)\n\n\ndef demo_simple_grid(fig):\n    \"\"\"\n    A grid of 2x2 images with 0.05 inch pad between images and only\n    the lower-left axes is labeled.\n    \"\"\"\n    grid = ImageGrid(fig, 141,  # similar to subplot(141)\n                     nrows_ncols=(2, 2),\n                     axes_pad=0.05,\n                     label_mode=\"1\",\n                     )\n\n    Z, extent = get_demo_image()\n    for i in range(4):\n        im = grid[i].imshow(Z, extent=extent, interpolation=\"nearest\")\n\n    # This only affects axes in first column and second row as share_all =\n    # False.\n    grid.axes_llc.set_xticks([-2, 0, 2])\n    grid.axes_llc.set_yticks([-2, 0, 2])\n\n\ndef demo_grid_with_single_cbar(fig):\n    \"\"\"\n    A grid of 2x2 images with a single colorbar\n    \"\"\"\n    grid = ImageGrid(fig, 142,  # similar to subplot(142)\n                     nrows_ncols=(2, 2),\n                     axes_pad=0.0,\n                     share_all=True,\n                     label_mode=\"L\",\n                     cbar_location=\"top\",\n                     cbar_mode=\"single\",\n                     )\n\n    Z, extent = get_demo_image()\n    for i in range(4):\n        im = grid[i].imshow(Z, extent=extent, interpolation=\"nearest\")\n    grid.cbar_axes[0].colorbar(im)\n\n    for cax in grid.cbar_axes:\n        cax.toggle_label(False)\n\n    # This affects all axes as share_all = True.\n    grid.axes_llc.set_xticks([-2, 0, 2])\n    grid.axes_llc.set_yticks([-2, 0, 2])\n\n\ndef demo_grid_with_each_cbar(fig):\n    \"\"\"\n    A grid of 2x2 images. Each image has its own colorbar.\n    \"\"\"\n\n    grid = ImageGrid(fig, 143,  # similar to subplot(143)\n                     nrows_ncols=(2, 2),\n                     axes_pad=0.1,\n                     label_mode=\"1\",\n                     share_all=True,\n                     cbar_location=\"top\",\n                     cbar_mode=\"each\",\n                     cbar_size=\"7%\",\n                     cbar_pad=\"2%\",\n                     )\n    Z, extent = get_demo_image()\n    for i in range(4):\n        im = grid[i].imshow(Z, extent=extent, interpolation=\"nearest\")\n        grid.cbar_axes[i].colorbar(im)\n\n    for cax in grid.cbar_axes:\n        cax.toggle_label(False)\n\n    # This affects all axes because we set share_all = True.\n    grid.axes_llc.set_xticks([-2, 0, 2])\n    grid.axes_llc.set_yticks([-2, 0, 2])\n\n\ndef demo_grid_with_each_cbar_labelled(fig):\n    \"\"\"\n    A grid of 2x2 images. Each image has its own colorbar.\n    \"\"\"\n\n    grid = ImageGrid(fig, 144,  # similar to subplot(144)\n                     nrows_ncols=(2, 2),\n                     axes_pad=(0.45, 0.15),\n                     label_mode=\"1\",\n                     share_all=True,\n                     cbar_location=\"right\",\n                     cbar_mode=\"each\",\n                     cbar_size=\"7%\",\n                     cbar_pad=\"2%\",\n                     )\n    Z, extent = get_demo_image()\n\n    # Use a different colorbar range every time\n    limits = ((0, 1), (-2, 2), (-1.7, 1.4), (-1.5, 1))\n    for i in range(4):\n        im = grid[i].imshow(Z, extent=extent, interpolation=\"nearest\",\n                            vmin=limits[i][0], vmax=limits[i][1])\n        grid.cbar_axes[i].colorbar(im)\n\n    for i, cax in enumerate(grid.cbar_axes):\n        cax.set_yticks((limits[i][0], limits[i][1]))\n\n    # This affects all axes because we set share_all = True.\n    grid.axes_llc.set_xticks([-2, 0, 2])\n    grid.axes_llc.set_yticks([-2, 0, 2])\n\n\nif 1:\n    F = plt.figure(1, (10.5, 2.5))\n\n    F.subplots_adjust(left=0.05, right=0.95)\n\n    demo_simple_grid(F)\n    demo_grid_with_single_cbar(F)\n    demo_grid_with_each_cbar(F)\n    demo_grid_with_each_cbar_labelled(F)\n\n    plt.draw()\n    plt.show()"
      ],
      "outputs": []
    }
  ],
  "nbformat": 4,
  "nbformat_minor": 0
}
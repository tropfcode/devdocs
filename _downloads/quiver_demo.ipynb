{
  "metadata": {
    "language_info": {
      "version": "3.5.3",
      "codemirror_mode": {
        "version": 3,
        "name": "ipython"
      },
      "file_extension": ".py",
      "name": "python",
      "nbconvert_exporter": "python",
      "mimetype": "text/x-python",
      "pygments_lexer": "ipython3"
    },
    "kernelspec": {
      "display_name": "Python 3",
      "language": "python",
      "name": "python3"
    }
  },
  "cells": [
    {
      "execution_count": null,
      "cell_type": "code",
      "metadata": {
        "collapsed": false
      },
      "source": [
        "%matplotlib inline"
      ],
      "outputs": []
    },
    {
      "metadata": {},
      "cell_type": "markdown",
      "source": [
        "\n# Demonstration of advanced quiver and quiverkey functions\n\n\nKnown problem: the plot autoscaling does not take into account\nthe arrows, so those on the boundaries are often out of the picture.\nThis is *not* an easy problem to solve in a perfectly general way.\nThe workaround is to manually expand the axes.\n\n"
      ]
    },
    {
      "execution_count": null,
      "cell_type": "code",
      "metadata": {
        "collapsed": false
      },
      "source": [
        "import matplotlib.pyplot as plt\nimport numpy as np\nfrom numpy import ma\n\nX, Y = np.meshgrid(np.arange(0, 2 * np.pi, .2), np.arange(0, 2 * np.pi, .2))\nU = np.cos(X)\nV = np.sin(Y)"
      ],
      "outputs": []
    },
    {
      "execution_count": null,
      "cell_type": "code",
      "metadata": {
        "collapsed": false
      },
      "source": [
        "plt.figure()\nplt.title('Arrows scale with plot width, not view')\nQ = plt.quiver(X, Y, U, V, units='width')\nqk = plt.quiverkey(Q, 0.9, 0.9, 2, r'$2 \\frac{m}{s}$', labelpos='E',\n                   coordinates='figure')"
      ],
      "outputs": []
    },
    {
      "execution_count": null,
      "cell_type": "code",
      "metadata": {
        "collapsed": false
      },
      "source": [
        "plt.figure()\nplt.title(\"pivot='mid'; every third arrow; units='inches'\")\nQ = plt.quiver(X[::3, ::3], Y[::3, ::3], U[::3, ::3], V[::3, ::3],\n               pivot='mid', units='inches')\nqk = plt.quiverkey(Q, 0.9, 0.9, 1, r'$1 \\frac{m}{s}$', labelpos='E',\n                   coordinates='figure')\nplt.scatter(X[::3, ::3], Y[::3, ::3], color='r', s=5)"
      ],
      "outputs": []
    },
    {
      "execution_count": null,
      "cell_type": "code",
      "metadata": {
        "collapsed": false
      },
      "source": [
        "plt.figure()\nplt.title(\"pivot='tip'; scales with x view\")\nM = np.hypot(U, V)\nQ = plt.quiver(X, Y, U, V, M, units='x', pivot='tip', width=0.022,\n               scale=1 / 0.15)\nqk = plt.quiverkey(Q, 0.9, 0.9, 1, r'$1 \\frac{m}{s}$', labelpos='E',\n                   coordinates='figure')\nplt.scatter(X, Y, color='k', s=5)\n\nplt.show()"
      ],
      "outputs": []
    }
  ],
  "nbformat": 4,
  "nbformat_minor": 0
}
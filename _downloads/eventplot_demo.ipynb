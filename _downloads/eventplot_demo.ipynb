{
  "metadata": {
    "language_info": {
      "version": "3.5.3",
      "codemirror_mode": {
        "version": 3,
        "name": "ipython"
      },
      "file_extension": ".py",
      "name": "python",
      "nbconvert_exporter": "python",
      "mimetype": "text/x-python",
      "pygments_lexer": "ipython3"
    },
    "kernelspec": {
      "display_name": "Python 3",
      "language": "python",
      "name": "python3"
    }
  },
  "cells": [
    {
      "execution_count": null,
      "cell_type": "code",
      "metadata": {
        "collapsed": false
      },
      "source": [
        "%matplotlib inline"
      ],
      "outputs": []
    },
    {
      "metadata": {},
      "cell_type": "markdown",
      "source": [
        "\n# Eventplot Demo\n\n\nAn eventplot showing sequences of events with various line properties.\nThe plot is shown in both horizontal and vertical orientations.\n\n"
      ]
    },
    {
      "execution_count": null,
      "cell_type": "code",
      "metadata": {
        "collapsed": false
      },
      "source": [
        "import matplotlib.pyplot as plt\nimport numpy as np\nimport matplotlib\nmatplotlib.rcParams['font.size'] = 8.0\n\n# Fixing random state for reproducibility\nnp.random.seed(19680801)\n\n\n# create random data\ndata1 = np.random.random([6, 50])\n\n# set different colors for each set of positions\ncolors1 = np.array([[1, 0, 0],\n                    [0, 1, 0],\n                    [0, 0, 1],\n                    [1, 1, 0],\n                    [1, 0, 1],\n                    [0, 1, 1]])\n\n# set different line properties for each set of positions\n# note that some overlap\nlineoffsets1 = np.array([-15, -3, 1, 1.5, 6, 10])\nlinelengths1 = [5, 2, 1, 1, 3, 1.5]\n\nfig = plt.figure()\n\n# create a horizontal plot\nax1 = fig.add_subplot(221)\nax1.eventplot(data1, colors=colors1, lineoffsets=lineoffsets1,\n              linelengths=linelengths1)\n\n\n# create a vertical plot\nax2 = fig.add_subplot(223)\nax2.eventplot(data1, colors=colors1, lineoffsets=lineoffsets1,\n              linelengths=linelengths1, orientation='vertical')\n\n# create another set of random data.\n# the gamma distribution is only used fo aesthetic purposes\ndata2 = np.random.gamma(4, size=[60, 50])\n\n# use individual values for the parameters this time\n# these values will be used for all data sets (except lineoffsets2, which\n# sets the increment between each data set in this usage)\ncolors2 = [[0, 0, 0]]\nlineoffsets2 = 1\nlinelengths2 = 1\n\n# create a horizontal plot\nax1 = fig.add_subplot(222)\nax1.eventplot(data2, colors=colors2, lineoffsets=lineoffsets2,\n              linelengths=linelengths2)\n\n\n# create a vertical plot\nax2 = fig.add_subplot(224)\nax2.eventplot(data2, colors=colors2, lineoffsets=lineoffsets2,\n              linelengths=linelengths2, orientation='vertical')\n\nplt.show()"
      ],
      "outputs": []
    }
  ],
  "nbformat": 4,
  "nbformat_minor": 0
}
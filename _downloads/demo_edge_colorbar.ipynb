{
  "metadata": {
    "language_info": {
      "version": "3.5.3",
      "codemirror_mode": {
        "version": 3,
        "name": "ipython"
      },
      "file_extension": ".py",
      "name": "python",
      "nbconvert_exporter": "python",
      "mimetype": "text/x-python",
      "pygments_lexer": "ipython3"
    },
    "kernelspec": {
      "display_name": "Python 3",
      "language": "python",
      "name": "python3"
    }
  },
  "cells": [
    {
      "execution_count": null,
      "cell_type": "code",
      "metadata": {
        "collapsed": false
      },
      "source": [
        "%matplotlib inline"
      ],
      "outputs": []
    },
    {
      "metadata": {},
      "cell_type": "markdown",
      "source": [
        "\n# Demo Edge Colorbar\n\n\n\n"
      ]
    },
    {
      "execution_count": null,
      "cell_type": "code",
      "metadata": {
        "collapsed": false
      },
      "source": [
        "import matplotlib.pyplot as plt\nfrom mpl_toolkits.axes_grid1 import AxesGrid\n\n\ndef get_demo_image():\n    import numpy as np\n    from matplotlib.cbook import get_sample_data\n    f = get_sample_data(\"axes_grid/bivariate_normal.npy\", asfileobj=False)\n    z = np.load(f)\n    # z is a numpy array of 15x15\n    return z, (-3, 4, -4, 3)\n\n\ndef demo_bottom_cbar(fig):\n    \"\"\"\n    A grid of 2x2 images with a colorbar for each column.\n    \"\"\"\n    grid = AxesGrid(fig, 121,  # similar to subplot(132)\n                    nrows_ncols=(2, 2),\n                    axes_pad=0.10,\n                    share_all=True,\n                    label_mode=\"1\",\n                    cbar_location=\"bottom\",\n                    cbar_mode=\"edge\",\n                    cbar_pad=0.25,\n                    cbar_size=\"15%\",\n                    direction=\"column\"\n                    )\n\n    Z, extent = get_demo_image()\n    cmaps = [plt.get_cmap(\"autumn\"), plt.get_cmap(\"summer\")]\n    for i in range(4):\n        im = grid[i].imshow(Z, extent=extent, interpolation=\"nearest\",\n                            cmap=cmaps[i//2])\n        if i % 2:\n            cbar = grid.cbar_axes[i//2].colorbar(im)\n\n    for cax in grid.cbar_axes:\n        cax.toggle_label(True)\n        cax.axis[cax.orientation].set_label(\"Bar\")\n\n    # This affects all axes as share_all = True.\n    grid.axes_llc.set_xticks([-2, 0, 2])\n    grid.axes_llc.set_yticks([-2, 0, 2])\n\n\ndef demo_right_cbar(fig):\n    \"\"\"\n    A grid of 2x2 images. Each row has its own colorbar.\n    \"\"\"\n\n    grid = AxesGrid(F, 122,  # similar to subplot(122)\n                    nrows_ncols=(2, 2),\n                    axes_pad=0.10,\n                    label_mode=\"1\",\n                    share_all=True,\n                    cbar_location=\"right\",\n                    cbar_mode=\"edge\",\n                    cbar_size=\"7%\",\n                    cbar_pad=\"2%\",\n                    )\n    Z, extent = get_demo_image()\n    cmaps = [plt.get_cmap(\"spring\"), plt.get_cmap(\"winter\")]\n    for i in range(4):\n        im = grid[i].imshow(Z, extent=extent, interpolation=\"nearest\",\n                            cmap=cmaps[i//2])\n        if i % 2:\n            grid.cbar_axes[i//2].colorbar(im)\n\n    for cax in grid.cbar_axes:\n        cax.toggle_label(True)\n        cax.axis[cax.orientation].set_label('Foo')\n\n    # This affects all axes because we set share_all = True.\n    grid.axes_llc.set_xticks([-2, 0, 2])\n    grid.axes_llc.set_yticks([-2, 0, 2])\n\n\nif 1:\n    F = plt.figure(1, (5.5, 2.5))\n\n    F.subplots_adjust(left=0.05, right=0.93)\n\n    demo_bottom_cbar(F)\n    demo_right_cbar(F)\n\n    plt.draw()\n    plt.show()"
      ],
      "outputs": []
    }
  ],
  "nbformat": 4,
  "nbformat_minor": 0
}
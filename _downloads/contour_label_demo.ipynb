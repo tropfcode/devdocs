{
  "metadata": {
    "language_info": {
      "version": "3.5.3",
      "codemirror_mode": {
        "version": 3,
        "name": "ipython"
      },
      "file_extension": ".py",
      "name": "python",
      "nbconvert_exporter": "python",
      "mimetype": "text/x-python",
      "pygments_lexer": "ipython3"
    },
    "kernelspec": {
      "display_name": "Python 3",
      "language": "python",
      "name": "python3"
    }
  },
  "cells": [
    {
      "execution_count": null,
      "cell_type": "code",
      "metadata": {
        "collapsed": false
      },
      "source": [
        "%matplotlib inline"
      ],
      "outputs": []
    },
    {
      "metadata": {},
      "cell_type": "markdown",
      "source": [
        "\n# Contour Label Demo\n\n\nIllustrate some of the more advanced things that one can do with\ncontour labels.\n\nSee also contour_demo.py.\n\n"
      ]
    },
    {
      "execution_count": null,
      "cell_type": "code",
      "metadata": {
        "collapsed": false
      },
      "source": [
        "import matplotlib\nimport numpy as np\nimport matplotlib.cm as cm\nimport matplotlib.mlab as mlab\nimport matplotlib.ticker as ticker\nimport matplotlib.pyplot as plt\n\nmatplotlib.rcParams['xtick.direction'] = 'out'\nmatplotlib.rcParams['ytick.direction'] = 'out'"
      ],
      "outputs": []
    },
    {
      "metadata": {},
      "cell_type": "markdown",
      "source": [
        "Define our surface\n\n"
      ]
    },
    {
      "execution_count": null,
      "cell_type": "code",
      "metadata": {
        "collapsed": false
      },
      "source": [
        "delta = 0.025\nx = np.arange(-3.0, 3.0, delta)\ny = np.arange(-2.0, 2.0, delta)\nX, Y = np.meshgrid(x, y)\nZ1 = mlab.bivariate_normal(X, Y, 1.0, 1.0, 0.0, 0.0)\nZ2 = mlab.bivariate_normal(X, Y, 1.5, 0.5, 1, 1)\n# difference of Gaussians\nZ = 10.0 * (Z2 - Z1)"
      ],
      "outputs": []
    },
    {
      "metadata": {},
      "cell_type": "markdown",
      "source": [
        "Make contour labels using creative float classes\nFollows suggestion of Manuel Metz\n\n"
      ]
    },
    {
      "execution_count": null,
      "cell_type": "code",
      "metadata": {
        "collapsed": false
      },
      "source": [
        "plt.figure()\n\n# Basic contour plot\nCS = plt.contour(X, Y, Z)\n\n\n# Define a class that forces representation of float to look a certain way\n# This remove trailing zero so '1.0' becomes '1'\nclass nf(float):\n    def __repr__(self):\n        str = '%.1f' % (self.__float__(),)\n        if str[-1] == '0':\n            return '%.0f' % self.__float__()\n        else:\n            return '%.1f' % self.__float__()\n\n\n# Recast levels to new class\nCS.levels = [nf(val) for val in CS.levels]\n\n# Label levels with specially formatted floats\nif plt.rcParams[\"text.usetex\"]:\n    fmt = r'%r \\%%'\nelse:\n    fmt = '%r %%'\nplt.clabel(CS, CS.levels, inline=True, fmt=fmt, fontsize=10)"
      ],
      "outputs": []
    },
    {
      "metadata": {},
      "cell_type": "markdown",
      "source": [
        "Label contours with arbitrary strings using a dictionary\n\n"
      ]
    },
    {
      "execution_count": null,
      "cell_type": "code",
      "metadata": {
        "collapsed": false
      },
      "source": [
        "plt.figure()\n\n# Basic contour plot\nCS = plt.contour(X, Y, Z)\n\nfmt = {}\nstrs = ['first', 'second', 'third', 'fourth', 'fifth', 'sixth', 'seventh']\nfor l, s in zip(CS.levels, strs):\n    fmt[l] = s\n\n# Label every other level using strings\nplt.clabel(CS, CS.levels[::2], inline=True, fmt=fmt, fontsize=10)"
      ],
      "outputs": []
    },
    {
      "metadata": {},
      "cell_type": "markdown",
      "source": [
        "Use a Formatter\n\n"
      ]
    },
    {
      "execution_count": null,
      "cell_type": "code",
      "metadata": {
        "collapsed": false
      },
      "source": [
        "plt.figure()\n\nCS = plt.contour(X, Y, 100**Z, locator=plt.LogLocator())\nfmt = ticker.LogFormatterMathtext()\nfmt.create_dummy_axis()\nplt.clabel(CS, CS.levels, fmt=fmt)\nplt.title(\"$100^Z$\")\n\nplt.show()"
      ],
      "outputs": []
    }
  ],
  "nbformat": 4,
  "nbformat_minor": 0
}
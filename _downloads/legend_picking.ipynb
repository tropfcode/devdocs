{
  "metadata": {
    "language_info": {
      "version": "3.5.3",
      "codemirror_mode": {
        "version": 3,
        "name": "ipython"
      },
      "file_extension": ".py",
      "name": "python",
      "nbconvert_exporter": "python",
      "mimetype": "text/x-python",
      "pygments_lexer": "ipython3"
    },
    "kernelspec": {
      "display_name": "Python 3",
      "language": "python",
      "name": "python3"
    }
  },
  "cells": [
    {
      "execution_count": null,
      "cell_type": "code",
      "metadata": {
        "collapsed": false
      },
      "source": [
        "%matplotlib inline"
      ],
      "outputs": []
    },
    {
      "metadata": {},
      "cell_type": "markdown",
      "source": [
        "\n# Legend Picking\n\n\nEnable picking on the legend to toggle the original line on and off\n\n"
      ]
    },
    {
      "execution_count": null,
      "cell_type": "code",
      "metadata": {
        "collapsed": false
      },
      "source": [
        "import numpy as np\nimport matplotlib.pyplot as plt\n\nt = np.arange(0.0, 0.2, 0.1)\ny1 = 2*np.sin(2*np.pi*t)\ny2 = 4*np.sin(2*np.pi*2*t)\n\nfig, ax = plt.subplots()\nax.set_title('Click on legend line to toggle line on/off')\nline1, = ax.plot(t, y1, lw=2, color='red', label='1 HZ')\nline2, = ax.plot(t, y2, lw=2, color='blue', label='2 HZ')\nleg = ax.legend(loc='upper left', fancybox=True, shadow=True)\nleg.get_frame().set_alpha(0.4)\n\n\n# we will set up a dict mapping legend line to orig line, and enable\n# picking on the legend line\nlines = [line1, line2]\nlined = dict()\nfor legline, origline in zip(leg.get_lines(), lines):\n    legline.set_picker(5)  # 5 pts tolerance\n    lined[legline] = origline\n\n\ndef onpick(event):\n    # on the pick event, find the orig line corresponding to the\n    # legend proxy line, and toggle the visibility\n    legline = event.artist\n    origline = lined[legline]\n    vis = not origline.get_visible()\n    origline.set_visible(vis)\n    # Change the alpha on the line in the legend so we can see what lines\n    # have been toggled\n    if vis:\n        legline.set_alpha(1.0)\n    else:\n        legline.set_alpha(0.2)\n    fig.canvas.draw()\n\nfig.canvas.mpl_connect('pick_event', onpick)\n\nplt.show()"
      ],
      "outputs": []
    }
  ],
  "nbformat": 4,
  "nbformat_minor": 0
}
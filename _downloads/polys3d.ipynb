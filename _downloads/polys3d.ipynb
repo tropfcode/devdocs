{
  "metadata": {
    "language_info": {
      "version": "3.5.3",
      "codemirror_mode": {
        "version": 3,
        "name": "ipython"
      },
      "file_extension": ".py",
      "name": "python",
      "nbconvert_exporter": "python",
      "mimetype": "text/x-python",
      "pygments_lexer": "ipython3"
    },
    "kernelspec": {
      "display_name": "Python 3",
      "language": "python",
      "name": "python3"
    }
  },
  "cells": [
    {
      "execution_count": null,
      "cell_type": "code",
      "metadata": {
        "collapsed": false
      },
      "source": [
        "%matplotlib inline"
      ],
      "outputs": []
    },
    {
      "metadata": {},
      "cell_type": "markdown",
      "source": [
        "\n# Generate polygons to fill under 3D line graph\n\n\nDemonstrate how to create polygons which fill the space under a line\ngraph. In this example polygons are semi-transparent, creating a sort\nof 'jagged stained glass' effect.\n\n"
      ]
    },
    {
      "execution_count": null,
      "cell_type": "code",
      "metadata": {
        "collapsed": false
      },
      "source": [
        "from mpl_toolkits.mplot3d import Axes3D\nfrom matplotlib.collections import PolyCollection\nimport matplotlib.pyplot as plt\nfrom matplotlib import colors as mcolors\nimport numpy as np\n\n# Fixing random state for reproducibility\nnp.random.seed(19680801)\n\n\ndef cc(arg):\n    '''\n    Shorthand to convert 'named' colors to rgba format at 60% opacity.\n    '''\n    return mcolors.to_rgba(arg, alpha=0.6)\n\n\ndef polygon_under_graph(xlist, ylist):\n    '''\n    Construct the vertex list which defines the polygon filling the space under\n    the (xlist, ylist) line graph.  Assumes the xs are in ascending order.\n    '''\n    return [(xlist[0], 0.)] + list(zip(xlist, ylist)) + [(xlist[-1], 0.)]\n\n\nfig = plt.figure()\nax = fig.gca(projection='3d')\n\n# Make verts a list, verts[i] will be a list of (x,y) pairs defining polygon i\nverts = []\n\n# Set up the x sequence\nxs = np.linspace(0., 10., 26)\n\n# The ith polygon will appear on the plane y = zs[i]\nzs = range(4)\n\nfor i in zs:\n    ys = np.random.rand(len(xs))\n    verts.append(polygon_under_graph(xs, ys))\n\npoly = PolyCollection(verts, facecolors=[cc('r'), cc('g'), cc('b'), cc('y')])\nax.add_collection3d(poly, zs=zs, zdir='y')\n\nax.set_xlabel('X')\nax.set_ylabel('Y')\nax.set_zlabel('Z')\nax.set_xlim(0, 10)\nax.set_ylim(-1, 4)\nax.set_zlim(0, 1)\n\nplt.show()"
      ],
      "outputs": []
    }
  ],
  "nbformat": 4,
  "nbformat_minor": 0
}
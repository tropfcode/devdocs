{
  "metadata": {
    "language_info": {
      "version": "3.5.3",
      "codemirror_mode": {
        "version": 3,
        "name": "ipython"
      },
      "file_extension": ".py",
      "name": "python",
      "nbconvert_exporter": "python",
      "mimetype": "text/x-python",
      "pygments_lexer": "ipython3"
    },
    "kernelspec": {
      "display_name": "Python 3",
      "language": "python",
      "name": "python3"
    }
  },
  "cells": [
    {
      "execution_count": null,
      "cell_type": "code",
      "metadata": {
        "collapsed": false
      },
      "source": [
        "%matplotlib inline"
      ],
      "outputs": []
    },
    {
      "metadata": {},
      "cell_type": "markdown",
      "source": [
        "\n# Rendering math equation using TeX\n\n\nYou can use TeX to render all of your matplotlib text if the rc\nparameter text.usetex is set.  This works currently on the agg and ps\nbackends, and requires that you have tex and the other dependencies\ndescribed at http://matplotlib.org/users/usetex.html\nproperly installed on your system.  The first time you run a script\nyou will see a lot of output from tex and associated tools.  The next\ntime, the run may be silent, as a lot of the information is cached.\n\nNotice how the label for the y axis is provided using unicode!\n\n\n"
      ]
    },
    {
      "execution_count": null,
      "cell_type": "code",
      "metadata": {
        "collapsed": false
      },
      "source": [
        "from __future__ import unicode_literals\nimport numpy as np\nimport matplotlib\nmatplotlib.rcParams['text.usetex'] = True\nmatplotlib.rcParams['text.latex.unicode'] = True\nimport matplotlib.pyplot as plt\n\n\nt = np.linspace(0.0, 1.0, 100)\ns = np.cos(4 * np.pi * t) + 2\n\nfig, ax = plt.subplots(figsize=(6, 4), tight_layout=True)\nax.plot(t, s)\n\nax.set_xlabel(r'\\textbf{time (s)}')\nax.set_ylabel('\\\\textit{Velocity (\\N{DEGREE SIGN}/sec)}', fontsize=16)\nax.set_title(r'\\TeX\\ is Number $\\displaystyle\\sum_{n=1}^\\infty'\n             r'\\frac{-e^{i\\pi}}{2^n}$!', fontsize=16, color='r')\nplt.show()"
      ],
      "outputs": []
    }
  ],
  "nbformat": 4,
  "nbformat_minor": 0
}
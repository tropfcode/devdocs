{
  "metadata": {
    "language_info": {
      "version": "3.5.3",
      "codemirror_mode": {
        "version": 3,
        "name": "ipython"
      },
      "file_extension": ".py",
      "name": "python",
      "nbconvert_exporter": "python",
      "mimetype": "text/x-python",
      "pygments_lexer": "ipython3"
    },
    "kernelspec": {
      "display_name": "Python 3",
      "language": "python",
      "name": "python3"
    }
  },
  "cells": [
    {
      "execution_count": null,
      "cell_type": "code",
      "metadata": {
        "collapsed": false
      },
      "source": [
        "%matplotlib inline"
      ],
      "outputs": []
    },
    {
      "metadata": {},
      "cell_type": "markdown",
      "source": [
        "\n# Create 3D histogram of 2D data\n\n\nDemo of a histogram for 2 dimensional data as a bar graph in 3D.\n\n"
      ]
    },
    {
      "execution_count": null,
      "cell_type": "code",
      "metadata": {
        "collapsed": false
      },
      "source": [
        "from mpl_toolkits.mplot3d import Axes3D\nimport matplotlib.pyplot as plt\nimport numpy as np\n\n# Fixing random state for reproducibility\nnp.random.seed(19680801)\n\n\nfig = plt.figure()\nax = fig.add_subplot(111, projection='3d')\nx, y = np.random.rand(2, 100) * 4\nhist, xedges, yedges = np.histogram2d(x, y, bins=4, range=[[0, 4], [0, 4]])\n\n# Construct arrays for the anchor positions of the 16 bars.\n# Note: np.meshgrid gives arrays in (ny, nx) so we use 'F' to flatten xpos,\n# ypos in column-major order. For numpy >= 1.7, we could instead call meshgrid\n# with indexing='ij'.\nxpos, ypos = np.meshgrid(xedges[:-1] + 0.25, yedges[:-1] + 0.25)\nxpos = xpos.flatten('F')\nypos = ypos.flatten('F')\nzpos = np.zeros_like(xpos)\n\n# Construct arrays with the dimensions for the 16 bars.\ndx = 0.5 * np.ones_like(zpos)\ndy = dx.copy()\ndz = hist.flatten()\n\nax.bar3d(xpos, ypos, zpos, dx, dy, dz, color='b', zsort='average')\n\nplt.show()"
      ],
      "outputs": []
    }
  ],
  "nbformat": 4,
  "nbformat_minor": 0
}
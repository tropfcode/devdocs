{
  "metadata": {
    "language_info": {
      "version": "3.5.3",
      "codemirror_mode": {
        "version": 3,
        "name": "ipython"
      },
      "file_extension": ".py",
      "name": "python",
      "nbconvert_exporter": "python",
      "mimetype": "text/x-python",
      "pygments_lexer": "ipython3"
    },
    "kernelspec": {
      "display_name": "Python 3",
      "language": "python",
      "name": "python3"
    }
  },
  "cells": [
    {
      "execution_count": null,
      "cell_type": "code",
      "metadata": {
        "collapsed": false
      },
      "source": [
        "%matplotlib inline"
      ],
      "outputs": []
    },
    {
      "metadata": {},
      "cell_type": "markdown",
      "source": [
        "\n# Customize Rc\n\n\nI'm not trying to make a good looking figure here, but just to show\nsome examples of customizing rc params on the fly\n\nIf you like to work interactively, and need to create different sets\nof defaults for figures (e.g., one set of defaults for publication, one\nset for interactive exploration), you may want to define some\nfunctions in a custom module that set the defaults, e.g.,::\n\n    def set_pub():\n        rc('font', weight='bold')    # bold fonts are easier to see\n        rc('tick', labelsize=15)     # tick labels bigger\n        rc('lines', lw=1, color='k') # thicker black lines\n        rc('grid', c='0.5', ls='-', lw=0.5)  # solid gray grid lines\n        rc('savefig', dpi=300)       # higher res outputs\n\nThen as you are working interactively, you just need to do::\n\n    >>> set_pub()\n    >>> subplot(111)\n    >>> plot([1,2,3])\n    >>> savefig('myfig')\n    >>> rcdefaults()  # restore the defaults\n\n\n"
      ]
    },
    {
      "execution_count": null,
      "cell_type": "code",
      "metadata": {
        "collapsed": false
      },
      "source": [
        "import matplotlib.pyplot as plt\n\nplt.subplot(311)\nplt.plot([1, 2, 3])\n\n# the axes attributes need to be set before the call to subplot\nplt.rc('font', weight='bold')\nplt.rc('xtick.major', size=5, pad=7)\nplt.rc('xtick', labelsize=15)\n\n# using aliases for color, linestyle and linewidth; gray, solid, thick\nplt.rc('grid', c='0.5', ls='-', lw=5)\nplt.rc('lines', lw=2, color='g')\nplt.subplot(312)\n\nplt.plot([1, 2, 3])\nplt.grid(True)\n\nplt.rcdefaults()\nplt.subplot(313)\nplt.plot([1, 2, 3])\nplt.grid(True)\nplt.show()"
      ],
      "outputs": []
    }
  ],
  "nbformat": 4,
  "nbformat_minor": 0
}
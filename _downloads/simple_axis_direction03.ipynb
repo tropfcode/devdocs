{
  "metadata": {
    "language_info": {
      "version": "3.5.3",
      "codemirror_mode": {
        "version": 3,
        "name": "ipython"
      },
      "file_extension": ".py",
      "name": "python",
      "nbconvert_exporter": "python",
      "mimetype": "text/x-python",
      "pygments_lexer": "ipython3"
    },
    "kernelspec": {
      "display_name": "Python 3",
      "language": "python",
      "name": "python3"
    }
  },
  "cells": [
    {
      "execution_count": null,
      "cell_type": "code",
      "metadata": {
        "collapsed": false
      },
      "source": [
        "%matplotlib inline"
      ],
      "outputs": []
    },
    {
      "metadata": {},
      "cell_type": "markdown",
      "source": [
        "\n# Simple Axis Direction03\n\n\n\n"
      ]
    },
    {
      "execution_count": null,
      "cell_type": "code",
      "metadata": {
        "collapsed": false
      },
      "source": [
        "import matplotlib.pyplot as plt\nimport mpl_toolkits.axisartist as axisartist\n\n\ndef setup_axes(fig, rect):\n    ax = axisartist.Subplot(fig, rect)\n    fig.add_subplot(ax)\n\n    ax.set_yticks([0.2, 0.8])\n    ax.set_xticks([0.2, 0.8])\n\n    return ax\n\n\nfig = plt.figure(1, figsize=(5, 2))\nfig.subplots_adjust(wspace=0.4, bottom=0.3)\n\nax1 = setup_axes(fig, \"121\")\nax1.set_xlabel(\"X-label\")\nax1.set_ylabel(\"Y-label\")\n\nax1.axis[:].invert_ticklabel_direction()\n\nax2 = setup_axes(fig, \"122\")\nax2.set_xlabel(\"X-label\")\nax2.set_ylabel(\"Y-label\")\n\nax2.axis[:].major_ticks.set_tick_out(True)\n\nplt.show()"
      ],
      "outputs": []
    }
  ],
  "nbformat": 4,
  "nbformat_minor": 0
}
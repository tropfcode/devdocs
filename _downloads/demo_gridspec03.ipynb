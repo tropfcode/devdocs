{
  "metadata": {
    "language_info": {
      "version": "3.5.3",
      "codemirror_mode": {
        "version": 3,
        "name": "ipython"
      },
      "file_extension": ".py",
      "name": "python",
      "nbconvert_exporter": "python",
      "mimetype": "text/x-python",
      "pygments_lexer": "ipython3"
    },
    "kernelspec": {
      "display_name": "Python 3",
      "language": "python",
      "name": "python3"
    }
  },
  "cells": [
    {
      "execution_count": null,
      "cell_type": "code",
      "metadata": {
        "collapsed": false
      },
      "source": [
        "%matplotlib inline"
      ],
      "outputs": []
    },
    {
      "metadata": {},
      "cell_type": "markdown",
      "source": [
        "\n# Demo Gridspec03\n\n\n\n"
      ]
    },
    {
      "execution_count": null,
      "cell_type": "code",
      "metadata": {
        "collapsed": false
      },
      "source": [
        "import matplotlib.pyplot as plt\nfrom matplotlib.gridspec import GridSpec\n\n\ndef make_ticklabels_invisible(fig):\n    for i, ax in enumerate(fig.axes):\n        ax.text(0.5, 0.5, \"ax%d\" % (i+1), va=\"center\", ha=\"center\")\n        for tl in ax.get_xticklabels() + ax.get_yticklabels():\n            tl.set_visible(False)\n\n\n# demo 3 : gridspec with subplotpars set.\n\nfig = plt.figure()\n\nfig.suptitle(\"GridSpec w/ different subplotpars\")\n\ngs1 = GridSpec(3, 3)\ngs1.update(left=0.05, right=0.48, wspace=0.05)\nax1 = plt.subplot(gs1[:-1, :])\nax2 = plt.subplot(gs1[-1, :-1])\nax3 = plt.subplot(gs1[-1, -1])\n\ngs2 = GridSpec(3, 3)\ngs2.update(left=0.55, right=0.98, hspace=0.05)\nax4 = plt.subplot(gs2[:, :-1])\nax5 = plt.subplot(gs2[:-1, -1])\nax6 = plt.subplot(gs2[-1, -1])\n\nmake_ticklabels_invisible(fig)\n\nplt.show()"
      ],
      "outputs": []
    }
  ],
  "nbformat": 4,
  "nbformat_minor": 0
}
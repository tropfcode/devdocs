{
  "metadata": {
    "language_info": {
      "version": "3.5.3",
      "codemirror_mode": {
        "version": 3,
        "name": "ipython"
      },
      "file_extension": ".py",
      "name": "python",
      "nbconvert_exporter": "python",
      "mimetype": "text/x-python",
      "pygments_lexer": "ipython3"
    },
    "kernelspec": {
      "display_name": "Python 3",
      "language": "python",
      "name": "python3"
    }
  },
  "cells": [
    {
      "execution_count": null,
      "cell_type": "code",
      "metadata": {
        "collapsed": false
      },
      "source": [
        "%matplotlib inline"
      ],
      "outputs": []
    },
    {
      "metadata": {},
      "cell_type": "markdown",
      "source": [
        "\n# MRI\n\n\n\nThis example illustrates how to read an image (of an MRI) into a NumPy\narray, and display it in greyscale using `imshow`.\n\n\n"
      ]
    },
    {
      "execution_count": null,
      "cell_type": "code",
      "metadata": {
        "collapsed": false
      },
      "source": [
        "import matplotlib.pyplot as plt\nimport matplotlib.cbook as cbook\nimport matplotlib.cm as cm\nimport numpy as np\n\n\n# Data are 256x256 16 bit integers\nwith cbook.get_sample_data('s1045.ima.gz') as dfile:\n    im = np.fromstring(dfile.read(), np.uint16).reshape((256, 256))\n\nfig, ax = plt.subplots(num=\"MRI_demo\")\nax.imshow(im, cmap=cm.gray)\nax.axis('off')\n\nplt.show()"
      ],
      "outputs": []
    }
  ],
  "nbformat": 4,
  "nbformat_minor": 0
}
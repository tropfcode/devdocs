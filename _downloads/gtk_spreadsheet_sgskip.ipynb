{
  "metadata": {
    "language_info": {
      "version": "3.5.3",
      "codemirror_mode": {
        "version": 3,
        "name": "ipython"
      },
      "file_extension": ".py",
      "name": "python",
      "nbconvert_exporter": "python",
      "mimetype": "text/x-python",
      "pygments_lexer": "ipython3"
    },
    "kernelspec": {
      "display_name": "Python 3",
      "language": "python",
      "name": "python3"
    }
  },
  "cells": [
    {
      "execution_count": null,
      "cell_type": "code",
      "metadata": {
        "collapsed": false
      },
      "source": [
        "%matplotlib inline"
      ],
      "outputs": []
    },
    {
      "metadata": {},
      "cell_type": "markdown",
      "source": [
        "\n# GTK Spreadsheet\n\n\nExample of embedding matplotlib in an application and interacting with\na treeview to store data.  Double click on an entry to update plot\ndata\n\n\n"
      ]
    },
    {
      "execution_count": null,
      "cell_type": "code",
      "metadata": {
        "collapsed": false
      },
      "source": [
        "import pygtk\npygtk.require('2.0')\nimport gtk\nfrom gtk import gdk\n\nimport matplotlib\nmatplotlib.use('GTKAgg')  # or 'GTK'\nfrom matplotlib.backends.backend_gtk import FigureCanvasGTK as FigureCanvas\n\nfrom numpy.random import random\nfrom matplotlib.figure import Figure\n\n\nclass DataManager(gtk.Window):\n    numRows, numCols = 20, 10\n\n    data = random((numRows, numCols))\n\n    def __init__(self):\n        gtk.Window.__init__(self)\n        self.set_default_size(600, 600)\n        self.connect('destroy', lambda win: gtk.main_quit())\n\n        self.set_title('GtkListStore demo')\n        self.set_border_width(8)\n\n        vbox = gtk.VBox(False, 8)\n        self.add(vbox)\n\n        label = gtk.Label('Double click a row to plot the data')\n\n        vbox.pack_start(label, False, False)\n\n        sw = gtk.ScrolledWindow()\n        sw.set_shadow_type(gtk.SHADOW_ETCHED_IN)\n        sw.set_policy(gtk.POLICY_NEVER,\n                      gtk.POLICY_AUTOMATIC)\n        vbox.pack_start(sw, True, True)\n\n        model = self.create_model()\n\n        self.treeview = gtk.TreeView(model)\n        self.treeview.set_rules_hint(True)\n\n        # matplotlib stuff\n        fig = Figure(figsize=(6, 4))\n\n        self.canvas = FigureCanvas(fig)  # a gtk.DrawingArea\n        vbox.pack_start(self.canvas, True, True)\n        ax = fig.add_subplot(111)\n        self.line, = ax.plot(self.data[0, :], 'go')  # plot the first row\n\n        self.treeview.connect('row-activated', self.plot_row)\n        sw.add(self.treeview)\n\n        self.add_columns()\n\n        self.add_events(gdk.BUTTON_PRESS_MASK |\n                        gdk.KEY_PRESS_MASK |\n                        gdk.KEY_RELEASE_MASK)\n\n    def plot_row(self, treeview, path, view_column):\n        ind, = path  # get the index into data\n        points = self.data[ind, :]\n        self.line.set_ydata(points)\n        self.canvas.draw()\n\n    def add_columns(self):\n        for i in range(self.numCols):\n            column = gtk.TreeViewColumn('%d' % i, gtk.CellRendererText(), text=i)\n            self.treeview.append_column(column)\n\n    def create_model(self):\n        types = [float]*self.numCols\n        store = gtk.ListStore(*types)\n\n        for row in self.data:\n            store.append(row)\n        return store\n\n\nmanager = DataManager()\nmanager.show_all()\ngtk.main()"
      ],
      "outputs": []
    }
  ],
  "nbformat": 4,
  "nbformat_minor": 0
}
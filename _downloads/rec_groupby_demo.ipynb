{
  "metadata": {
    "language_info": {
      "version": "3.5.3",
      "codemirror_mode": {
        "version": 3,
        "name": "ipython"
      },
      "file_extension": ".py",
      "name": "python",
      "nbconvert_exporter": "python",
      "mimetype": "text/x-python",
      "pygments_lexer": "ipython3"
    },
    "kernelspec": {
      "display_name": "Python 3",
      "language": "python",
      "name": "python3"
    }
  },
  "cells": [
    {
      "execution_count": null,
      "cell_type": "code",
      "metadata": {
        "collapsed": false
      },
      "source": [
        "%matplotlib inline"
      ],
      "outputs": []
    },
    {
      "metadata": {},
      "cell_type": "markdown",
      "source": [
        "\n# Rec Groupby Demo\n\n\n\n"
      ]
    },
    {
      "execution_count": null,
      "cell_type": "code",
      "metadata": {
        "collapsed": false
      },
      "source": [
        "from __future__ import print_function\nimport numpy as np\nimport matplotlib.mlab as mlab\nimport matplotlib.cbook as cbook\n\ndatafile = cbook.get_sample_data('msft.csv', asfileobj=False)\nprint('loading', datafile)\nr = mlab.csv2rec(datafile)\nr.sort()\n\n\ndef daily_return(prices):\n    'an array of daily returns from price array'\n    g = np.zeros_like(prices)\n    g[1:] = (prices[1:] - prices[:-1])/prices[:-1]\n    return g\n\n\ndef volume_code(volume):\n    'code the continuous volume data categorically'\n    ind = np.searchsorted([1e5, 1e6, 5e6, 10e6, 1e7], volume)\n    return ind\n\n# a list of (dtype_name, summary_function, output_dtype_name).\n# rec_summarize will call on each function on the indicated recarray\n# attribute, and the result assigned to output name in the return\n# record array.\nsummaryfuncs = (\n    ('date', lambda x: [thisdate.year for thisdate in x], 'years'),\n    ('date', lambda x: [thisdate.month for thisdate in x], 'months'),\n    ('date', lambda x: [thisdate.weekday() for thisdate in x], 'weekday'),\n    ('adj_close', daily_return, 'dreturn'),\n    ('volume', volume_code, 'volcode'),\n    )\n\nrsum = mlab.rec_summarize(r, summaryfuncs)\n\n# stats is a list of (dtype_name, function, output_dtype_name).\n# rec_groupby will summarize the attribute identified by the\n# dtype_name over the groups in the groupby list, and assign the\n# result to the output_dtype_name\nstats = (\n    ('dreturn', len, 'rcnt'),\n    ('dreturn', np.mean, 'rmean'),\n    ('dreturn', np.median, 'rmedian'),\n    ('dreturn', np.std, 'rsigma'),\n    )\n\n# you can summarize over a single variable, like years or months\nprint('summary by years')\nry = mlab.rec_groupby(rsum, ('years',), stats)\nprint(mlab. rec2txt(ry))\n\nprint('summary by months')\nrm = mlab.rec_groupby(rsum, ('months',), stats)\nprint(mlab.rec2txt(rm))\n\n# or over multiple variables like years and months\nprint('summary by year and month')\nrym = mlab.rec_groupby(rsum, ('years', 'months'), stats)\nprint(mlab.rec2txt(rym))\n\nprint('summary by volume')\nrv = mlab.rec_groupby(rsum, ('volcode',), stats)\nprint(mlab.rec2txt(rv))"
      ],
      "outputs": []
    }
  ],
  "nbformat": 4,
  "nbformat_minor": 0
}
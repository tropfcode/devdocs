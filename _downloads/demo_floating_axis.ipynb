{
  "metadata": {
    "language_info": {
      "version": "3.5.3",
      "codemirror_mode": {
        "version": 3,
        "name": "ipython"
      },
      "file_extension": ".py",
      "name": "python",
      "nbconvert_exporter": "python",
      "mimetype": "text/x-python",
      "pygments_lexer": "ipython3"
    },
    "kernelspec": {
      "display_name": "Python 3",
      "language": "python",
      "name": "python3"
    }
  },
  "cells": [
    {
      "execution_count": null,
      "cell_type": "code",
      "metadata": {
        "collapsed": false
      },
      "source": [
        "%matplotlib inline"
      ],
      "outputs": []
    },
    {
      "metadata": {},
      "cell_type": "markdown",
      "source": [
        "\n# Demo Floating Axis\n\n\nAxis within rectangular frame\n\nThe following code demonstrates how to put a floating polar curve within a\nrectangular box. In order to get a better sense of polar curves, please look at\ndemo_curvelinear_grid.py.\n\n"
      ]
    },
    {
      "execution_count": null,
      "cell_type": "code",
      "metadata": {
        "collapsed": false
      },
      "source": [
        "import numpy as np\nimport matplotlib.pyplot as plt\nimport mpl_toolkits.axisartist.angle_helper as angle_helper\nfrom matplotlib.projections import PolarAxes\nfrom matplotlib.transforms import Affine2D\nfrom mpl_toolkits.axisartist import SubplotHost\nfrom mpl_toolkits.axisartist import GridHelperCurveLinear\n\n\ndef curvelinear_test2(fig):\n    \"\"\"\n    polar projection, but in a rectangular box.\n    \"\"\"\n    global ax1\n    # see demo_curvelinear_grid.py for details\n    tr = Affine2D().scale(np.pi / 180., 1.) + PolarAxes.PolarTransform()\n\n    extreme_finder = angle_helper.ExtremeFinderCycle(20,\n                                                     20,\n                                                     lon_cycle=360,\n                                                     lat_cycle=None,\n                                                     lon_minmax=None,\n                                                     lat_minmax=(0,\n                                                                 np.inf),\n                                                     )\n\n    grid_locator1 = angle_helper.LocatorDMS(12)\n\n    tick_formatter1 = angle_helper.FormatterDMS()\n\n    grid_helper = GridHelperCurveLinear(tr,\n                                        extreme_finder=extreme_finder,\n                                        grid_locator1=grid_locator1,\n                                        tick_formatter1=tick_formatter1\n                                        )\n\n    ax1 = SubplotHost(fig, 1, 1, 1, grid_helper=grid_helper)\n\n    fig.add_subplot(ax1)\n\n    # Now creates floating axis\n\n    # floating axis whose first coordinate (theta) is fixed at 60\n    ax1.axis[\"lat\"] = axis = ax1.new_floating_axis(0, 60)\n    axis.label.set_text(r\"$\\theta = 60^{\\circ}$\")\n    axis.label.set_visible(True)\n\n    # floating axis whose second coordinate (r) is fixed at 6\n    ax1.axis[\"lon\"] = axis = ax1.new_floating_axis(1, 6)\n    axis.label.set_text(r\"$r = 6$\")\n\n    ax1.set_aspect(1.)\n    ax1.set_xlim(-5, 12)\n    ax1.set_ylim(-5, 10)\n\n    ax1.grid(True)\n\nfig = plt.figure(1, figsize=(5, 5))\nfig.clf()\n\ncurvelinear_test2(fig)\n\nplt.show()"
      ],
      "outputs": []
    }
  ],
  "nbformat": 4,
  "nbformat_minor": 0
}
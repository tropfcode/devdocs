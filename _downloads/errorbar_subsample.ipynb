{
  "metadata": {
    "language_info": {
      "version": "3.5.3",
      "codemirror_mode": {
        "version": 3,
        "name": "ipython"
      },
      "file_extension": ".py",
      "name": "python",
      "nbconvert_exporter": "python",
      "mimetype": "text/x-python",
      "pygments_lexer": "ipython3"
    },
    "kernelspec": {
      "display_name": "Python 3",
      "language": "python",
      "name": "python3"
    }
  },
  "cells": [
    {
      "execution_count": null,
      "cell_type": "code",
      "metadata": {
        "collapsed": false
      },
      "source": [
        "%matplotlib inline"
      ],
      "outputs": []
    },
    {
      "metadata": {},
      "cell_type": "markdown",
      "source": [
        "\n# Errorbar Subsample\n\n\nDemo for the errorevery keyword to show data full accuracy data plots with\nfew errorbars.\n\n"
      ]
    },
    {
      "execution_count": null,
      "cell_type": "code",
      "metadata": {
        "collapsed": false
      },
      "source": [
        "import numpy as np\nimport matplotlib.pyplot as plt\n\n# example data\nx = np.arange(0.1, 4, 0.1)\ny = np.exp(-x)\n\n# example variable error bar values\nyerr = 0.1 + 0.1 * np.sqrt(x)\n\n\n# Now switch to a more OO interface to exercise more features.\nfig, axs = plt.subplots(nrows=1, ncols=2, sharex=True)\nax = axs[0]\nax.errorbar(x, y, yerr=yerr)\nax.set_title('all errorbars')\n\nax = axs[1]\nax.errorbar(x, y, yerr=yerr, errorevery=5)\nax.set_title('only every 5th errorbar')\n\n\nfig.suptitle('Errorbar subsampling for better appearance')\n\nplt.show()"
      ],
      "outputs": []
    }
  ],
  "nbformat": 4,
  "nbformat_minor": 0
}
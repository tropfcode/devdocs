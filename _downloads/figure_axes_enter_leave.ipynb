{
  "metadata": {
    "language_info": {
      "version": "3.5.3",
      "codemirror_mode": {
        "version": 3,
        "name": "ipython"
      },
      "file_extension": ".py",
      "name": "python",
      "nbconvert_exporter": "python",
      "mimetype": "text/x-python",
      "pygments_lexer": "ipython3"
    },
    "kernelspec": {
      "display_name": "Python 3",
      "language": "python",
      "name": "python3"
    }
  },
  "cells": [
    {
      "execution_count": null,
      "cell_type": "code",
      "metadata": {
        "collapsed": false
      },
      "source": [
        "%matplotlib inline"
      ],
      "outputs": []
    },
    {
      "metadata": {},
      "cell_type": "markdown",
      "source": [
        "\n# Figure Axes Enter Leave\n\n\nIllustrate the figure and axes enter and leave events by changing the\nframe colors on enter and leave\n\n"
      ]
    },
    {
      "execution_count": null,
      "cell_type": "code",
      "metadata": {
        "collapsed": false
      },
      "source": [
        "from __future__ import print_function\nimport matplotlib.pyplot as plt\n\n\ndef enter_axes(event):\n    print('enter_axes', event.inaxes)\n    event.inaxes.patch.set_facecolor('yellow')\n    event.canvas.draw()\n\n\ndef leave_axes(event):\n    print('leave_axes', event.inaxes)\n    event.inaxes.patch.set_facecolor('white')\n    event.canvas.draw()\n\n\ndef enter_figure(event):\n    print('enter_figure', event.canvas.figure)\n    event.canvas.figure.patch.set_facecolor('red')\n    event.canvas.draw()\n\n\ndef leave_figure(event):\n    print('leave_figure', event.canvas.figure)\n    event.canvas.figure.patch.set_facecolor('grey')\n    event.canvas.draw()"
      ],
      "outputs": []
    },
    {
      "execution_count": null,
      "cell_type": "code",
      "metadata": {
        "collapsed": false
      },
      "source": [
        "fig1, (ax, ax2) = plt.subplots(2, 1)\nfig1.suptitle('mouse hover over figure or axes to trigger events')\n\nfig1.canvas.mpl_connect('figure_enter_event', enter_figure)\nfig1.canvas.mpl_connect('figure_leave_event', leave_figure)\nfig1.canvas.mpl_connect('axes_enter_event', enter_axes)\nfig1.canvas.mpl_connect('axes_leave_event', leave_axes)"
      ],
      "outputs": []
    },
    {
      "execution_count": null,
      "cell_type": "code",
      "metadata": {
        "collapsed": false
      },
      "source": [
        "fig2, (ax, ax2) = plt.subplots(2, 1)\nfig2.suptitle('mouse hover over figure or axes to trigger events')\n\nfig2.canvas.mpl_connect('figure_enter_event', enter_figure)\nfig2.canvas.mpl_connect('figure_leave_event', leave_figure)\nfig2.canvas.mpl_connect('axes_enter_event', enter_axes)\nfig2.canvas.mpl_connect('axes_leave_event', leave_axes)\n\nplt.show()"
      ],
      "outputs": []
    }
  ],
  "nbformat": 4,
  "nbformat_minor": 0
}
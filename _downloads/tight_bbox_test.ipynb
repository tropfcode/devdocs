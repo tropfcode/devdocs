{
  "metadata": {
    "language_info": {
      "version": "3.5.3",
      "codemirror_mode": {
        "version": 3,
        "name": "ipython"
      },
      "file_extension": ".py",
      "name": "python",
      "nbconvert_exporter": "python",
      "mimetype": "text/x-python",
      "pygments_lexer": "ipython3"
    },
    "kernelspec": {
      "display_name": "Python 3",
      "language": "python",
      "name": "python3"
    }
  },
  "cells": [
    {
      "execution_count": null,
      "cell_type": "code",
      "metadata": {
        "collapsed": false
      },
      "source": [
        "%matplotlib inline"
      ],
      "outputs": []
    },
    {
      "metadata": {},
      "cell_type": "markdown",
      "source": [
        "\n# Tight Bbox Test\n\n\n\n"
      ]
    },
    {
      "execution_count": null,
      "cell_type": "code",
      "metadata": {
        "collapsed": false
      },
      "source": [
        "from __future__ import print_function\nimport matplotlib.pyplot as plt\nimport numpy as np\n\nax = plt.axes([0.1, 0.3, 0.5, 0.5])\n\nax.pcolormesh(np.array([[1, 2], [3, 4]]))\nplt.yticks([0.5, 1.5], [\"long long tick label\",\n                        \"tick label\"])\nplt.ylabel(\"My y-label\")\nplt.title(\"Check saved figures for their bboxes\")\nfor ext in [\"png\", \"pdf\", \"svg\", \"svgz\", \"eps\"]:\n    print(\"saving tight_bbox_test.%s\" % (ext,))\n    plt.savefig(\"tight_bbox_test.%s\" % (ext,), bbox_inches=\"tight\")\nplt.show()"
      ],
      "outputs": []
    }
  ],
  "nbformat": 4,
  "nbformat_minor": 0
}
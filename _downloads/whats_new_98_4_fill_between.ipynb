{
  "metadata": {
    "language_info": {
      "version": "3.5.3",
      "codemirror_mode": {
        "version": 3,
        "name": "ipython"
      },
      "file_extension": ".py",
      "name": "python",
      "nbconvert_exporter": "python",
      "mimetype": "text/x-python",
      "pygments_lexer": "ipython3"
    },
    "kernelspec": {
      "display_name": "Python 3",
      "language": "python",
      "name": "python3"
    }
  },
  "cells": [
    {
      "execution_count": null,
      "cell_type": "code",
      "metadata": {
        "collapsed": false
      },
      "source": [
        "%matplotlib inline"
      ],
      "outputs": []
    },
    {
      "metadata": {},
      "cell_type": "markdown",
      "source": [
        "\n=============================\nWhats New 0.98.4 Fill Between\n=============================\n\n\n"
      ]
    },
    {
      "execution_count": null,
      "cell_type": "code",
      "metadata": {
        "collapsed": false
      },
      "source": [
        "import matplotlib.mlab as mlab\nimport matplotlib.pyplot as plt\nimport numpy as np\n\nx = np.arange(0.0, 2, 0.01)\ny1 = np.sin(2*np.pi*x)\ny2 = 1.2*np.sin(4*np.pi*x)\n\nfig, ax = plt.subplots()\nax.plot(x, y1, x, y2, color='black')\nax.fill_between(x, y1, y2, where=y2>y1, facecolor='green')\nax.fill_between(x, y1, y2, where=y2<=y1, facecolor='red')\nax.set_title('fill between where')\n\nplt.show()"
      ],
      "outputs": []
    }
  ],
  "nbformat": 4,
  "nbformat_minor": 0
}
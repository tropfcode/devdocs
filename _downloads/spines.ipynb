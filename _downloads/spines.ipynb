{
  "metadata": {
    "language_info": {
      "version": "3.5.3",
      "codemirror_mode": {
        "version": 3,
        "name": "ipython"
      },
      "file_extension": ".py",
      "name": "python",
      "nbconvert_exporter": "python",
      "mimetype": "text/x-python",
      "pygments_lexer": "ipython3"
    },
    "kernelspec": {
      "display_name": "Python 3",
      "language": "python",
      "name": "python3"
    }
  },
  "cells": [
    {
      "execution_count": null,
      "cell_type": "code",
      "metadata": {
        "collapsed": false
      },
      "source": [
        "%matplotlib inline"
      ],
      "outputs": []
    },
    {
      "metadata": {},
      "cell_type": "markdown",
      "source": [
        "\n# Spines\n\n\nThis demo compares:\n    - normal axes, with spines on all four sides;\n    - an axes with spines only on the left and bottom;\n    - an axes using custom bounds to limit the extent of the spine.\n\n"
      ]
    },
    {
      "execution_count": null,
      "cell_type": "code",
      "metadata": {
        "collapsed": false
      },
      "source": [
        "import numpy as np\nimport matplotlib.pyplot as plt\n\n\nx = np.linspace(0, 2 * np.pi, 100)\ny = 2 * np.sin(x)\n\nfig, (ax0, ax1, ax2) = plt.subplots(nrows=3)\n\nax0.plot(x, y)\nax0.set_title('normal spines')\n\nax1.plot(x, y)\nax1.set_title('bottom-left spines')\n\n# Hide the right and top spines\nax1.spines['right'].set_visible(False)\nax1.spines['top'].set_visible(False)\n# Only show ticks on the left and bottom spines\nax1.yaxis.set_ticks_position('left')\nax1.xaxis.set_ticks_position('bottom')\n\nax2.plot(x, y)\n\n# Only draw spine between the y-ticks\nax2.spines['left'].set_bounds(-1, 1)\n# Hide the right and top spines\nax2.spines['right'].set_visible(False)\nax2.spines['top'].set_visible(False)\n# Only show ticks on the left and bottom spines\nax2.yaxis.set_ticks_position('left')\nax2.xaxis.set_ticks_position('bottom')\n\n# Tweak spacing between subplots to prevent labels from overlapping\nplt.subplots_adjust(hspace=0.5)\nplt.show()"
      ],
      "outputs": []
    }
  ],
  "nbformat": 4,
  "nbformat_minor": 0
}
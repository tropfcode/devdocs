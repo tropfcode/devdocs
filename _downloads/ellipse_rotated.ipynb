{
  "metadata": {
    "language_info": {
      "version": "3.5.3",
      "codemirror_mode": {
        "version": 3,
        "name": "ipython"
      },
      "file_extension": ".py",
      "name": "python",
      "nbconvert_exporter": "python",
      "mimetype": "text/x-python",
      "pygments_lexer": "ipython3"
    },
    "kernelspec": {
      "display_name": "Python 3",
      "language": "python",
      "name": "python3"
    }
  },
  "cells": [
    {
      "execution_count": null,
      "cell_type": "code",
      "metadata": {
        "collapsed": false
      },
      "source": [
        "%matplotlib inline"
      ],
      "outputs": []
    },
    {
      "metadata": {},
      "cell_type": "markdown",
      "source": [
        "\n# Ellipse Rotated\n\n\n\n"
      ]
    },
    {
      "execution_count": null,
      "cell_type": "code",
      "metadata": {
        "collapsed": false
      },
      "source": [
        "import matplotlib.pyplot as plt\nimport numpy as np\nfrom matplotlib.patches import Ellipse\n\ndelta = 45.0  # degrees\n\nangles = np.arange(0, 360 + delta, delta)\nells = [Ellipse((1, 1), 4, 2, a) for a in angles]\n\na = plt.subplot(111, aspect='equal')\n\nfor e in ells:\n    e.set_clip_box(a.bbox)\n    e.set_alpha(0.1)\n    a.add_artist(e)\n\nplt.xlim(-2, 4)\nplt.ylim(-1, 3)\n\nplt.show()"
      ],
      "outputs": []
    }
  ],
  "nbformat": 4,
  "nbformat_minor": 0
}
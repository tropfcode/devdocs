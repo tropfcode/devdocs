{
  "metadata": {
    "language_info": {
      "version": "3.5.3",
      "codemirror_mode": {
        "version": 3,
        "name": "ipython"
      },
      "file_extension": ".py",
      "name": "python",
      "nbconvert_exporter": "python",
      "mimetype": "text/x-python",
      "pygments_lexer": "ipython3"
    },
    "kernelspec": {
      "display_name": "Python 3",
      "language": "python",
      "name": "python3"
    }
  },
  "cells": [
    {
      "execution_count": null,
      "cell_type": "code",
      "metadata": {
        "collapsed": false
      },
      "source": [
        "%matplotlib inline"
      ],
      "outputs": []
    },
    {
      "metadata": {},
      "cell_type": "markdown",
      "source": [
        "\n# Multicolored lines\n\n\nThis example shows how to make a multi-colored line. In this example, the line\nis colored based on its derivative.\n\n"
      ]
    },
    {
      "execution_count": null,
      "cell_type": "code",
      "metadata": {
        "collapsed": false
      },
      "source": [
        "import numpy as np\nimport matplotlib.pyplot as plt\nfrom matplotlib.collections import LineCollection\nfrom matplotlib.colors import ListedColormap, BoundaryNorm\n\nx = np.linspace(0, 3 * np.pi, 500)\ny = np.sin(x)\ndydx = np.cos(0.5 * (x[:-1] + x[1:]))  # first derivative\n\n# Create a set of line segments so that we can color them individually\n# This creates the points as a N x 1 x 2 array so that we can stack points\n# together easily to get the segments. The segments array for line collection\n# needs to be (numlines) x (points per line) x 2 (for x and y)\npoints = np.array([x, y]).T.reshape(-1, 1, 2)\nsegments = np.concatenate([points[:-1], points[1:]], axis=1)\n\nfig, axs = plt.subplots(2, 1, sharex=True, sharey=True)\n\n# Create a continuous norm to map from data points to colors\nnorm = plt.Normalize(dydx.min(), dydx.max())\nlc = LineCollection(segments, cmap='viridis', norm=norm)\n# Set the values used for colormapping\nlc.set_array(dydx)\nlc.set_linewidth(2)\nline = axs[0].add_collection(lc)\nfig.colorbar(line, ax=axs[0])\n\n# Use a boundary norm instead\ncmap = ListedColormap(['r', 'g', 'b'])\nnorm = BoundaryNorm([-1, -0.5, 0.5, 1], cmap.N)\nlc = LineCollection(segments, cmap=cmap, norm=norm)\nlc.set_array(dydx)\nlc.set_linewidth(2)\nline = axs[1].add_collection(lc)\nfig.colorbar(line, ax=axs[1])\n\naxs[0].set_xlim(x.min(), x.max())\naxs[0].set_ylim(-1.1, 1.1)\nplt.show()"
      ],
      "outputs": []
    }
  ],
  "nbformat": 4,
  "nbformat_minor": 0
}
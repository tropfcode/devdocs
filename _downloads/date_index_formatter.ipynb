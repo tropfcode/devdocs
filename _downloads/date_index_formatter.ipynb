{
  "metadata": {
    "language_info": {
      "version": "3.5.3",
      "codemirror_mode": {
        "version": 3,
        "name": "ipython"
      },
      "file_extension": ".py",
      "name": "python",
      "nbconvert_exporter": "python",
      "mimetype": "text/x-python",
      "pygments_lexer": "ipython3"
    },
    "kernelspec": {
      "display_name": "Python 3",
      "language": "python",
      "name": "python3"
    }
  },
  "cells": [
    {
      "execution_count": null,
      "cell_type": "code",
      "metadata": {
        "collapsed": false
      },
      "source": [
        "%matplotlib inline"
      ],
      "outputs": []
    },
    {
      "metadata": {},
      "cell_type": "markdown",
      "source": [
        "\n# Custom tick formatter for time series\n\n\nWhen plotting time series, e.g., financial time series, one often wants\nto leave out days on which there is no data, i.e. weekends.  The example\nbelow shows how to use an 'index formatter' to achieve the desired plot\n\n"
      ]
    },
    {
      "execution_count": null,
      "cell_type": "code",
      "metadata": {
        "collapsed": false
      },
      "source": [
        "from __future__ import print_function\nimport numpy as np\nimport matplotlib.pyplot as plt\nimport matplotlib.cbook as cbook\nimport matplotlib.ticker as ticker\n\n# Load a numpy record array from yahoo csv data with fields date, open, close,\n# volume, adj_close from the mpl-data/example directory. The record array\n# stores the date as an np.datetime64 with a day unit ('D') in the date column.\nwith cbook.get_sample_data('goog.npz') as datafile:\n    r = np.load(datafile)['price_data'].view(np.recarray)\nr = r[-30:]  # get the last 30 days\n# Matplotlib works better with datetime.datetime than np.datetime64, but the\n# latter is more portable.\ndate = r.date.astype('O')\n\n# first we'll do it the default way, with gaps on weekends\nfig, axes = plt.subplots(ncols=2, figsize=(8, 4))\nax = axes[0]\nax.plot(date, r.adj_close, 'o-')\nax.set_title(\"Default\")\nfig.autofmt_xdate()\n\n# next we'll write a custom formatter\nN = len(r)\nind = np.arange(N)  # the evenly spaced plot indices\n\n\ndef format_date(x, pos=None):\n    thisind = np.clip(int(x + 0.5), 0, N - 1)\n    return date[thisind].strftime('%Y-%m-%d')\n\nax = axes[1]\nax.plot(ind, r.adj_close, 'o-')\nax.xaxis.set_major_formatter(ticker.FuncFormatter(format_date))\nax.set_title(\"Custom tick formatter\")\nfig.autofmt_xdate()\n\nplt.show()"
      ],
      "outputs": []
    }
  ],
  "nbformat": 4,
  "nbformat_minor": 0
}
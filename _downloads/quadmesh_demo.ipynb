{
  "metadata": {
    "language_info": {
      "version": "3.5.3",
      "codemirror_mode": {
        "version": 3,
        "name": "ipython"
      },
      "file_extension": ".py",
      "name": "python",
      "nbconvert_exporter": "python",
      "mimetype": "text/x-python",
      "pygments_lexer": "ipython3"
    },
    "kernelspec": {
      "display_name": "Python 3",
      "language": "python",
      "name": "python3"
    }
  },
  "cells": [
    {
      "execution_count": null,
      "cell_type": "code",
      "metadata": {
        "collapsed": false
      },
      "source": [
        "%matplotlib inline"
      ],
      "outputs": []
    },
    {
      "metadata": {},
      "cell_type": "markdown",
      "source": [
        "\n# QuadMesh Demo\n\n\npcolormesh uses a QuadMesh, a faster generalization of pcolor, but\nwith some restrictions.\n\nThis demo illustrates a bug in quadmesh with masked data.\n\n"
      ]
    },
    {
      "execution_count": null,
      "cell_type": "code",
      "metadata": {
        "collapsed": false
      },
      "source": [
        "import numpy as np\nfrom matplotlib.pyplot import figure, show, savefig\nfrom matplotlib import cm, colors\nfrom numpy import ma\n\nn = 12\nx = np.linspace(-1.5, 1.5, n)\ny = np.linspace(-1.5, 1.5, n * 2)\nX, Y = np.meshgrid(x, y)\nQx = np.cos(Y) - np.cos(X)\nQz = np.sin(Y) + np.sin(X)\nQx = (Qx + 1.1)\nZ = np.sqrt(X**2 + Y**2) / 5\nZ = (Z - Z.min()) / (Z.max() - Z.min())\n\n# The color array can include masked values:\nZm = ma.masked_where(np.abs(Qz) < 0.5 * np.max(Qz), Z)\n\nfig = figure()\nax = fig.add_subplot(121)\nax.pcolormesh(Qx, Qz, Z, shading='gouraud')\nax.set_title('Without masked values')\n\nax = fig.add_subplot(122)\n#  You can control the color of the masked region:\n# cmap = cm.RdBu\n# cmap.set_bad('y', 1.0)\n# ax.pcolormesh(Qx, Qz, Zm, cmap=cmap)\n#  Or use the default, which is transparent:\ncol = ax.pcolormesh(Qx, Qz, Zm, shading='gouraud')\nax.set_title('With masked values')\n\n\nshow()"
      ],
      "outputs": []
    }
  ],
  "nbformat": 4,
  "nbformat_minor": 0
}
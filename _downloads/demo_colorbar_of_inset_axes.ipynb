{
  "metadata": {
    "language_info": {
      "version": "3.5.3",
      "codemirror_mode": {
        "version": 3,
        "name": "ipython"
      },
      "file_extension": ".py",
      "name": "python",
      "nbconvert_exporter": "python",
      "mimetype": "text/x-python",
      "pygments_lexer": "ipython3"
    },
    "kernelspec": {
      "display_name": "Python 3",
      "language": "python",
      "name": "python3"
    }
  },
  "cells": [
    {
      "execution_count": null,
      "cell_type": "code",
      "metadata": {
        "collapsed": false
      },
      "source": [
        "%matplotlib inline"
      ],
      "outputs": []
    },
    {
      "metadata": {},
      "cell_type": "markdown",
      "source": [
        "\n# Demo Colorbar of Inset Axes\n\n\n\n"
      ]
    },
    {
      "execution_count": null,
      "cell_type": "code",
      "metadata": {
        "collapsed": false
      },
      "source": [
        "import matplotlib.pyplot as plt\n\nfrom mpl_toolkits.axes_grid1.inset_locator import inset_axes, zoomed_inset_axes\nfrom mpl_toolkits.axes_grid1.colorbar import colorbar\n\n\ndef get_demo_image():\n    from matplotlib.cbook import get_sample_data\n    import numpy as np\n    f = get_sample_data(\"axes_grid/bivariate_normal.npy\", asfileobj=False)\n    z = np.load(f)\n    # z is a numpy array of 15x15\n    return z, (-3, 4, -4, 3)\n\n\nfig, ax = plt.subplots(figsize=[5, 4])\n\nZ, extent = get_demo_image()\n\nax.set(aspect=1,\n       xlim=(-15, 15),\n       ylim=(-20, 5))\n\n\naxins = zoomed_inset_axes(ax, 2, loc=2)  # zoom = 6\nim = axins.imshow(Z, extent=extent, interpolation=\"nearest\",\n                  origin=\"lower\")\n\nplt.xticks(visible=False)\nplt.yticks(visible=False)\n\n\n# colorbar\ncax = inset_axes(axins,\n                 width=\"5%\",  # width = 10% of parent_bbox width\n                 height=\"100%\",  # height : 50%\n                 loc=3,\n                 bbox_to_anchor=(1.05, 0., 1, 1),\n                 bbox_transform=axins.transAxes,\n                 borderpad=0,\n                 )\n\ncolorbar(im, cax=cax)\n\nplt.show()"
      ],
      "outputs": []
    }
  ],
  "nbformat": 4,
  "nbformat_minor": 0
}
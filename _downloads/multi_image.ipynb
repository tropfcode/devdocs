{
  "metadata": {
    "language_info": {
      "version": "3.5.3",
      "codemirror_mode": {
        "version": 3,
        "name": "ipython"
      },
      "file_extension": ".py",
      "name": "python",
      "nbconvert_exporter": "python",
      "mimetype": "text/x-python",
      "pygments_lexer": "ipython3"
    },
    "kernelspec": {
      "display_name": "Python 3",
      "language": "python",
      "name": "python3"
    }
  },
  "cells": [
    {
      "execution_count": null,
      "cell_type": "code",
      "metadata": {
        "collapsed": false
      },
      "source": [
        "%matplotlib inline"
      ],
      "outputs": []
    },
    {
      "metadata": {},
      "cell_type": "markdown",
      "source": [
        "\n# Multi Image\n\n\nMake a set of images with a single colormap, norm, and colorbar.\n\nIt also illustrates colorbar tick labelling with a multiplier.\n\n"
      ]
    },
    {
      "execution_count": null,
      "cell_type": "code",
      "metadata": {
        "collapsed": false
      },
      "source": [
        "from matplotlib.pyplot import figure, show, axes, sci\nfrom matplotlib import cm, colors\nfrom matplotlib.font_manager import FontProperties\nimport numpy as np\n\nNr = 3\nNc = 2\n\nfig = figure()\ncmap = cm.cool\n\nfigtitle = 'Multiple images'\nt = fig.text(0.5, 0.95, figtitle,\n             horizontalalignment='center',\n             fontproperties=FontProperties(size=16))\n\ncax = fig.add_axes([0.2, 0.08, 0.6, 0.04])\n\nw = 0.4\nh = 0.22\nax = []\nimages = []\nvmin = 1e40\nvmax = -1e40\nfor i in range(Nr):\n    for j in range(Nc):\n        pos = [0.075 + j * 1.1 * w, 0.18 + i * 1.2 * h, w, h]\n        a = fig.add_axes(pos)\n        if i > 0:\n            a.set_xticklabels([])\n        # Make some fake data with a range that varies\n        # somewhat from one plot to the next.\n        data = ((1 + i + j) / 10) * np.random.rand(10, 20) * 1e-6\n        dd = data.ravel()\n        # Manually find the min and max of all colors for\n        # use in setting the color scale.\n        vmin = min(vmin, np.min(dd))\n        vmax = max(vmax, np.max(dd))\n        images.append(a.imshow(data, cmap=cmap))\n\n        ax.append(a)\n\n# Set the first image as the master, with all the others\n# observing it for changes in cmap or norm.\n\n\nclass ImageFollower(object):\n    'update image in response to changes in clim or cmap on another image'\n\n    def __init__(self, follower):\n        self.follower = follower\n\n    def __call__(self, leader):\n        self.follower.set_cmap(leader.get_cmap())\n        self.follower.set_clim(leader.get_clim())\n\n\nnorm = colors.Normalize(vmin=vmin, vmax=vmax)\nfor i, im in enumerate(images):\n    im.set_norm(norm)\n    if i > 0:\n        images[0].callbacksSM.connect('changed', ImageFollower(im))\n\n# The colorbar is also based on this master image.\nfig.colorbar(images[0], cax, orientation='horizontal')\n\n# We need the following only if we want to run this interactively and\n# modify the colormap:\n\naxes(ax[0])     # Return the current axes to the first one,\nsci(images[0])  # because the current image must be in current axes.\n\nshow()"
      ],
      "outputs": []
    }
  ],
  "nbformat": 4,
  "nbformat_minor": 0
}
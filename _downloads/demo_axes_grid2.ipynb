{
  "metadata": {
    "language_info": {
      "version": "3.5.3",
      "codemirror_mode": {
        "version": 3,
        "name": "ipython"
      },
      "file_extension": ".py",
      "name": "python",
      "nbconvert_exporter": "python",
      "mimetype": "text/x-python",
      "pygments_lexer": "ipython3"
    },
    "kernelspec": {
      "display_name": "Python 3",
      "language": "python",
      "name": "python3"
    }
  },
  "cells": [
    {
      "execution_count": null,
      "cell_type": "code",
      "metadata": {
        "collapsed": false
      },
      "source": [
        "%matplotlib inline"
      ],
      "outputs": []
    },
    {
      "metadata": {},
      "cell_type": "markdown",
      "source": [
        "\n# Demo Axes Grid2\n\n\n\n"
      ]
    },
    {
      "execution_count": null,
      "cell_type": "code",
      "metadata": {
        "collapsed": false
      },
      "source": [
        "import matplotlib.pyplot as plt\nfrom mpl_toolkits.axes_grid1 import ImageGrid\nimport numpy as np\n\n\ndef get_demo_image():\n    from matplotlib.cbook import get_sample_data\n    f = get_sample_data(\"axes_grid/bivariate_normal.npy\", asfileobj=False)\n    z = np.load(f)\n    # z is a numpy array of 15x15\n    return z, (-3, 4, -4, 3)\n\n\ndef add_inner_title(ax, title, loc, size=None, **kwargs):\n    from matplotlib.offsetbox import AnchoredText\n    from matplotlib.patheffects import withStroke\n    if size is None:\n        size = dict(size=plt.rcParams['legend.fontsize'])\n    at = AnchoredText(title, loc=loc, prop=size,\n                      pad=0., borderpad=0.5,\n                      frameon=False, **kwargs)\n    ax.add_artist(at)\n    at.txt._text.set_path_effects([withStroke(foreground=\"w\", linewidth=3)])\n    return at\n\nif 1:\n    F = plt.figure(1, (6, 6))\n    F.clf()\n\n    # prepare images\n    Z, extent = get_demo_image()\n    ZS = [Z[i::3, :] for i in range(3)]\n    extent = extent[0], extent[1]/3., extent[2], extent[3]\n\n    # demo 1 : colorbar at each axes\n\n    grid = ImageGrid(F, 211,  # similar to subplot(111)\n                     nrows_ncols=(1, 3),\n                     direction=\"row\",\n                     axes_pad=0.05,\n                     add_all=True,\n                     label_mode=\"1\",\n                     share_all=True,\n                     cbar_location=\"top\",\n                     cbar_mode=\"each\",\n                     cbar_size=\"7%\",\n                     cbar_pad=\"1%\",\n                     )\n\n    for ax, z in zip(grid, ZS):\n        im = ax.imshow(\n            z, origin=\"lower\", extent=extent, interpolation=\"nearest\")\n        ax.cax.colorbar(im)\n\n    for ax, im_title in zip(grid, [\"Image 1\", \"Image 2\", \"Image 3\"]):\n        t = add_inner_title(ax, im_title, loc=3)\n        t.patch.set_alpha(0.5)\n\n    for ax, z in zip(grid, ZS):\n        ax.cax.toggle_label(True)\n        #axis = ax.cax.axis[ax.cax.orientation]\n        #axis.label.set_text(\"counts s$^{-1}$\")\n        #axis.label.set_size(10)\n        #axis.major_ticklabels.set_size(6)\n\n    # changing the colorbar ticks\n    grid[1].cax.set_xticks([-1, 0, 1])\n    grid[2].cax.set_xticks([-1, 0, 1])\n\n    grid[0].set_xticks([-2, 0])\n    grid[0].set_yticks([-2, 0, 2])\n\n    # demo 2 : shared colorbar\n\n    grid2 = ImageGrid(F, 212,\n                      nrows_ncols=(1, 3),\n                      direction=\"row\",\n                      axes_pad=0.05,\n                      add_all=True,\n                      label_mode=\"1\",\n                      share_all=True,\n                      cbar_location=\"right\",\n                      cbar_mode=\"single\",\n                      cbar_size=\"10%\",\n                      cbar_pad=0.05,\n                      )\n\n    grid2[0].set_xlabel(\"X\")\n    grid2[0].set_ylabel(\"Y\")\n\n    vmax, vmin = np.max(ZS), np.min(ZS)\n    import matplotlib.colors\n    norm = matplotlib.colors.Normalize(vmax=vmax, vmin=vmin)\n\n    for ax, z in zip(grid2, ZS):\n        im = ax.imshow(z, norm=norm,\n                       origin=\"lower\", extent=extent,\n                       interpolation=\"nearest\")\n\n    # With cbar_mode=\"single\", cax attribute of all axes are identical.\n    ax.cax.colorbar(im)\n    ax.cax.toggle_label(True)\n\n    for ax, im_title in zip(grid2, [\"(a)\", \"(b)\", \"(c)\"]):\n        t = add_inner_title(ax, im_title, loc=2)\n        t.patch.set_ec(\"none\")\n        t.patch.set_alpha(0.5)\n\n    grid2[0].set_xticks([-2, 0])\n    grid2[0].set_yticks([-2, 0, 2])\n\n    plt.draw()\n    plt.show()"
      ],
      "outputs": []
    }
  ],
  "nbformat": 4,
  "nbformat_minor": 0
}
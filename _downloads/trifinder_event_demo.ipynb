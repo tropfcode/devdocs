{
  "metadata": {
    "language_info": {
      "version": "3.5.3",
      "codemirror_mode": {
        "version": 3,
        "name": "ipython"
      },
      "file_extension": ".py",
      "name": "python",
      "nbconvert_exporter": "python",
      "mimetype": "text/x-python",
      "pygments_lexer": "ipython3"
    },
    "kernelspec": {
      "display_name": "Python 3",
      "language": "python",
      "name": "python3"
    }
  },
  "cells": [
    {
      "execution_count": null,
      "cell_type": "code",
      "metadata": {
        "collapsed": false
      },
      "source": [
        "%matplotlib inline"
      ],
      "outputs": []
    },
    {
      "metadata": {},
      "cell_type": "markdown",
      "source": [
        "\n# Trifinder Event Demo\n\n\nExample showing the use of a TriFinder object.  As the mouse is moved over the\ntriangulation, the triangle under the cursor is highlighted and the index of\nthe triangle is displayed in the plot title.\n\n"
      ]
    },
    {
      "execution_count": null,
      "cell_type": "code",
      "metadata": {
        "collapsed": false
      },
      "source": [
        "import matplotlib.pyplot as plt\nfrom matplotlib.tri import Triangulation\nfrom matplotlib.patches import Polygon\nimport numpy as np\nimport math\n\n\ndef update_polygon(tri):\n    if tri == -1:\n        points = [0, 0, 0]\n    else:\n        points = triangulation.triangles[tri]\n    xs = triangulation.x[points]\n    ys = triangulation.y[points]\n    polygon.set_xy(list(zip(xs, ys)))\n\n\ndef motion_notify(event):\n    if event.inaxes is None:\n        tri = -1\n    else:\n        tri = trifinder(event.xdata, event.ydata)\n    update_polygon(tri)\n    plt.title('In triangle %i' % tri)\n    event.canvas.draw()\n\n\n# Create a Triangulation.\nn_angles = 16\nn_radii = 5\nmin_radius = 0.25\nradii = np.linspace(min_radius, 0.95, n_radii)\nangles = np.linspace(0, 2*math.pi, n_angles, endpoint=False)\nangles = np.repeat(angles[..., np.newaxis], n_radii, axis=1)\nangles[:, 1::2] += math.pi / n_angles\nx = (radii*np.cos(angles)).flatten()\ny = (radii*np.sin(angles)).flatten()\ntriangulation = Triangulation(x, y)\nxmid = x[triangulation.triangles].mean(axis=1)\nymid = y[triangulation.triangles].mean(axis=1)\nmask = np.where(xmid*xmid + ymid*ymid < min_radius*min_radius, 1, 0)\ntriangulation.set_mask(mask)\n\n# Use the triangulation's default TriFinder object.\ntrifinder = triangulation.get_trifinder()\n\n# Setup plot and callbacks.\nplt.subplot(111, aspect='equal')\nplt.triplot(triangulation, 'bo-')\npolygon = Polygon([[0, 0], [0, 0]], facecolor='y')  # dummy data for xs,ys\nupdate_polygon(-1)\nplt.gca().add_patch(polygon)\nplt.gcf().canvas.mpl_connect('motion_notify_event', motion_notify)\nplt.show()"
      ],
      "outputs": []
    }
  ],
  "nbformat": 4,
  "nbformat_minor": 0
}
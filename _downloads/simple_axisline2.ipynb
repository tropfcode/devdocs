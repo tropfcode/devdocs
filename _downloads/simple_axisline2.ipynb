{
  "metadata": {
    "language_info": {
      "version": "3.5.3",
      "codemirror_mode": {
        "version": 3,
        "name": "ipython"
      },
      "file_extension": ".py",
      "name": "python",
      "nbconvert_exporter": "python",
      "mimetype": "text/x-python",
      "pygments_lexer": "ipython3"
    },
    "kernelspec": {
      "display_name": "Python 3",
      "language": "python",
      "name": "python3"
    }
  },
  "cells": [
    {
      "execution_count": null,
      "cell_type": "code",
      "metadata": {
        "collapsed": false
      },
      "source": [
        "%matplotlib inline"
      ],
      "outputs": []
    },
    {
      "metadata": {},
      "cell_type": "markdown",
      "source": [
        "\n# Simple Axisline2\n\n\n\n"
      ]
    },
    {
      "execution_count": null,
      "cell_type": "code",
      "metadata": {
        "collapsed": false
      },
      "source": [
        "import matplotlib.pyplot as plt\nfrom mpl_toolkits.axisartist.axislines import SubplotZero\nimport numpy as np\n\nfig = plt.figure(1, (4, 3))\n\n# a subplot with two additional axis, \"xzero\" and \"yzero\". \"xzero\" is\n# y=0 line, and \"yzero\" is x=0 line.\nax = SubplotZero(fig, 1, 1, 1)\nfig.add_subplot(ax)\n\n# make xzero axis (horizontal axis line through y=0) visible.\nax.axis[\"xzero\"].set_visible(True)\nax.axis[\"xzero\"].label.set_text(\"Axis Zero\")\n\n# make other axis (bottom, top, right) invisible.\nfor n in [\"bottom\", \"top\", \"right\"]:\n    ax.axis[n].set_visible(False)\n\nxx = np.arange(0, 2*np.pi, 0.01)\nax.plot(xx, np.sin(xx))\n\nplt.show()"
      ],
      "outputs": []
    }
  ],
  "nbformat": 4,
  "nbformat_minor": 0
}
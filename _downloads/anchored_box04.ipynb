{
  "metadata": {
    "language_info": {
      "version": "3.5.3",
      "codemirror_mode": {
        "version": 3,
        "name": "ipython"
      },
      "file_extension": ".py",
      "name": "python",
      "nbconvert_exporter": "python",
      "mimetype": "text/x-python",
      "pygments_lexer": "ipython3"
    },
    "kernelspec": {
      "display_name": "Python 3",
      "language": "python",
      "name": "python3"
    }
  },
  "cells": [
    {
      "execution_count": null,
      "cell_type": "code",
      "metadata": {
        "collapsed": false
      },
      "source": [
        "%matplotlib inline"
      ],
      "outputs": []
    },
    {
      "metadata": {},
      "cell_type": "markdown",
      "source": [
        "\n# Anchored Box04\n\n\n\n"
      ]
    },
    {
      "execution_count": null,
      "cell_type": "code",
      "metadata": {
        "collapsed": false
      },
      "source": [
        "from matplotlib.patches import Ellipse\nimport matplotlib.pyplot as plt\nfrom matplotlib.offsetbox import (AnchoredOffsetbox, DrawingArea, HPacker,\n                                  TextArea)\n\n\nfig, ax = plt.subplots(figsize=(3, 3))\n\nbox1 = TextArea(\" Test : \", textprops=dict(color=\"k\"))\n\nbox2 = DrawingArea(60, 20, 0, 0)\nel1 = Ellipse((10, 10), width=16, height=5, angle=30, fc=\"r\")\nel2 = Ellipse((30, 10), width=16, height=5, angle=170, fc=\"g\")\nel3 = Ellipse((50, 10), width=16, height=5, angle=230, fc=\"b\")\nbox2.add_artist(el1)\nbox2.add_artist(el2)\nbox2.add_artist(el3)\n\nbox = HPacker(children=[box1, box2],\n              align=\"center\",\n              pad=0, sep=5)\n\nanchored_box = AnchoredOffsetbox(loc=3,\n                                 child=box, pad=0.,\n                                 frameon=True,\n                                 bbox_to_anchor=(0., 1.02),\n                                 bbox_transform=ax.transAxes,\n                                 borderpad=0.,\n                                 )\n\nax.add_artist(anchored_box)\n\nfig.subplots_adjust(top=0.8)\nplt.show()"
      ],
      "outputs": []
    }
  ],
  "nbformat": 4,
  "nbformat_minor": 0
}
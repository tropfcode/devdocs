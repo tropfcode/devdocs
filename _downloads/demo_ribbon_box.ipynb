{
  "metadata": {
    "language_info": {
      "version": "3.5.3",
      "codemirror_mode": {
        "version": 3,
        "name": "ipython"
      },
      "file_extension": ".py",
      "name": "python",
      "nbconvert_exporter": "python",
      "mimetype": "text/x-python",
      "pygments_lexer": "ipython3"
    },
    "kernelspec": {
      "display_name": "Python 3",
      "language": "python",
      "name": "python3"
    }
  },
  "cells": [
    {
      "execution_count": null,
      "cell_type": "code",
      "metadata": {
        "collapsed": false
      },
      "source": [
        "%matplotlib inline"
      ],
      "outputs": []
    },
    {
      "metadata": {},
      "cell_type": "markdown",
      "source": [
        "\n# Demo Ribbon Box\n\n\n\n"
      ]
    },
    {
      "execution_count": null,
      "cell_type": "code",
      "metadata": {
        "collapsed": false
      },
      "source": [
        "import matplotlib.pyplot as plt\nimport numpy as np\nfrom matplotlib.image import BboxImage\n\nfrom matplotlib._png import read_png\nimport matplotlib.colors\nfrom matplotlib.cbook import get_sample_data\n\n\nclass RibbonBox(object):\n\n    original_image = read_png(get_sample_data(\"Minduka_Present_Blue_Pack.png\",\n                                              asfileobj=False))\n    cut_location = 70\n    b_and_h = original_image[:, :, 2]\n    color = original_image[:, :, 2] - original_image[:, :, 0]\n    alpha = original_image[:, :, 3]\n    nx = original_image.shape[1]\n\n    def __init__(self, color):\n        rgb = matplotlib.colors.to_rgba(color)[:3]\n\n        im = np.empty(self.original_image.shape,\n                      self.original_image.dtype)\n\n        im[:, :, :3] = self.b_and_h[:, :, np.newaxis]\n        im[:, :, :3] -= self.color[:, :, np.newaxis]*(1. - np.array(rgb))\n        im[:, :, 3] = self.alpha\n\n        self.im = im\n\n    def get_stretched_image(self, stretch_factor):\n        stretch_factor = max(stretch_factor, 1)\n        ny, nx, nch = self.im.shape\n        ny2 = int(ny*stretch_factor)\n\n        stretched_image = np.empty((ny2, nx, nch),\n                                   self.im.dtype)\n        cut = self.im[self.cut_location, :, :]\n        stretched_image[:, :, :] = cut\n        stretched_image[:self.cut_location, :, :] = \\\n            self.im[:self.cut_location, :, :]\n        stretched_image[-(ny - self.cut_location):, :, :] = \\\n            self.im[-(ny - self.cut_location):, :, :]\n\n        self._cached_im = stretched_image\n        return stretched_image\n\n\nclass RibbonBoxImage(BboxImage):\n    zorder = 1\n\n    def __init__(self, bbox, color,\n                 cmap=None,\n                 norm=None,\n                 interpolation=None,\n                 origin=None,\n                 filternorm=1,\n                 filterrad=4.0,\n                 resample=False,\n                 **kwargs\n                 ):\n\n        BboxImage.__init__(self, bbox,\n                           cmap=cmap,\n                           norm=norm,\n                           interpolation=interpolation,\n                           origin=origin,\n                           filternorm=filternorm,\n                           filterrad=filterrad,\n                           resample=resample,\n                           **kwargs\n                           )\n\n        self._ribbonbox = RibbonBox(color)\n        self._cached_ny = None\n\n    def draw(self, renderer, *args, **kwargs):\n\n        bbox = self.get_window_extent(renderer)\n        stretch_factor = bbox.height / bbox.width\n\n        ny = int(stretch_factor*self._ribbonbox.nx)\n        if self._cached_ny != ny:\n            arr = self._ribbonbox.get_stretched_image(stretch_factor)\n            self.set_array(arr)\n            self._cached_ny = ny\n\n        BboxImage.draw(self, renderer, *args, **kwargs)\n\n\nif 1:\n    from matplotlib.transforms import Bbox, TransformedBbox\n    from matplotlib.ticker import ScalarFormatter\n\n    # Fixing random state for reproducibility\n    np.random.seed(19680801)\n\n    fig, ax = plt.subplots()\n\n    years = np.arange(2004, 2009)\n    box_colors = [(0.8, 0.2, 0.2),\n                  (0.2, 0.8, 0.2),\n                  (0.2, 0.2, 0.8),\n                  (0.7, 0.5, 0.8),\n                  (0.3, 0.8, 0.7),\n                  ]\n    heights = np.random.random(years.shape) * 7000 + 3000\n\n    fmt = ScalarFormatter(useOffset=False)\n    ax.xaxis.set_major_formatter(fmt)\n\n    for year, h, bc in zip(years, heights, box_colors):\n        bbox0 = Bbox.from_extents(year - 0.4, 0., year + 0.4, h)\n        bbox = TransformedBbox(bbox0, ax.transData)\n        rb_patch = RibbonBoxImage(bbox, bc, interpolation=\"bicubic\")\n\n        ax.add_artist(rb_patch)\n\n        ax.annotate(r\"%d\" % (int(h/100.)*100),\n                    (year, h), va=\"bottom\", ha=\"center\")\n\n    patch_gradient = BboxImage(ax.bbox,\n                               interpolation=\"bicubic\",\n                               zorder=0.1,\n                               )\n    gradient = np.zeros((2, 2, 4), dtype=float)\n    gradient[:, :, :3] = [1, 1, 0.]\n    gradient[:, :, 3] = [[0.1, 0.3], [0.3, 0.5]]  # alpha channel\n    patch_gradient.set_array(gradient)\n    ax.add_artist(patch_gradient)\n\n    ax.set_xlim(years[0] - 0.5, years[-1] + 0.5)\n    ax.set_ylim(0, 10000)\n\n    fig.savefig('ribbon_box.png')\n    plt.show()"
      ],
      "outputs": []
    }
  ],
  "nbformat": 4,
  "nbformat_minor": 0
}
{
  "metadata": {
    "language_info": {
      "version": "3.5.3",
      "codemirror_mode": {
        "version": 3,
        "name": "ipython"
      },
      "file_extension": ".py",
      "name": "python",
      "nbconvert_exporter": "python",
      "mimetype": "text/x-python",
      "pygments_lexer": "ipython3"
    },
    "kernelspec": {
      "display_name": "Python 3",
      "language": "python",
      "name": "python3"
    }
  },
  "cells": [
    {
      "execution_count": null,
      "cell_type": "code",
      "metadata": {
        "collapsed": false
      },
      "source": [
        "%matplotlib inline"
      ],
      "outputs": []
    },
    {
      "metadata": {},
      "cell_type": "markdown",
      "source": [
        "\n# Tick locators\n\n\nShow the different tick locators.\n\n"
      ]
    },
    {
      "execution_count": null,
      "cell_type": "code",
      "metadata": {
        "collapsed": false
      },
      "source": [
        "import numpy as np\nimport matplotlib.pyplot as plt\nimport matplotlib.ticker as ticker\n\n\n# Setup a plot such that only the bottom spine is shown\ndef setup(ax):\n    ax.spines['right'].set_color('none')\n    ax.spines['left'].set_color('none')\n    ax.yaxis.set_major_locator(ticker.NullLocator())\n    ax.spines['top'].set_color('none')\n    ax.xaxis.set_ticks_position('bottom')\n    ax.tick_params(which='major', width=1.00)\n    ax.tick_params(which='major', length=5)\n    ax.tick_params(which='minor', width=0.75)\n    ax.tick_params(which='minor', length=2.5)\n    ax.set_xlim(0, 5)\n    ax.set_ylim(0, 1)\n    ax.patch.set_alpha(0.0)\n\n\nplt.figure(figsize=(8, 6))\nn = 8\n\n# Null Locator\nax = plt.subplot(n, 1, 1)\nsetup(ax)\nax.xaxis.set_major_locator(ticker.NullLocator())\nax.xaxis.set_minor_locator(ticker.NullLocator())\nax.text(0.0, 0.1, \"NullLocator()\", fontsize=14, transform=ax.transAxes)\n\n# Multiple Locator\nax = plt.subplot(n, 1, 2)\nsetup(ax)\nax.xaxis.set_major_locator(ticker.MultipleLocator(0.5))\nax.xaxis.set_minor_locator(ticker.MultipleLocator(0.1))\nax.text(0.0, 0.1, \"MultipleLocator(0.5)\", fontsize=14,\n        transform=ax.transAxes)\n\n# Fixed Locator\nax = plt.subplot(n, 1, 3)\nsetup(ax)\nmajors = [0, 1, 5]\nax.xaxis.set_major_locator(ticker.FixedLocator(majors))\nminors = np.linspace(0, 1, 11)[1:-1]\nax.xaxis.set_minor_locator(ticker.FixedLocator(minors))\nax.text(0.0, 0.1, \"FixedLocator([0, 1, 5])\", fontsize=14,\n        transform=ax.transAxes)\n\n# Linear Locator\nax = plt.subplot(n, 1, 4)\nsetup(ax)\nax.xaxis.set_major_locator(ticker.LinearLocator(3))\nax.xaxis.set_minor_locator(ticker.LinearLocator(31))\nax.text(0.0, 0.1, \"LinearLocator(numticks=3)\",\n        fontsize=14, transform=ax.transAxes)\n\n# Index Locator\nax = plt.subplot(n, 1, 5)\nsetup(ax)\nax.plot(range(0, 5), [0]*5, color='White')\nax.xaxis.set_major_locator(ticker.IndexLocator(base=.5, offset=.25))\nax.text(0.0, 0.1, \"IndexLocator(base=0.5, offset=0.25)\",\n        fontsize=14, transform=ax.transAxes)\n\n# Auto Locator\nax = plt.subplot(n, 1, 6)\nsetup(ax)\nax.xaxis.set_major_locator(ticker.AutoLocator())\nax.xaxis.set_minor_locator(ticker.AutoMinorLocator())\nax.text(0.0, 0.1, \"AutoLocator()\", fontsize=14, transform=ax.transAxes)\n\n# MaxN Locator\nax = plt.subplot(n, 1, 7)\nsetup(ax)\nax.xaxis.set_major_locator(ticker.MaxNLocator(4))\nax.xaxis.set_minor_locator(ticker.MaxNLocator(40))\nax.text(0.0, 0.1, \"MaxNLocator(n=4)\", fontsize=14, transform=ax.transAxes)\n\n# Log Locator\nax = plt.subplot(n, 1, 8)\nsetup(ax)\nax.set_xlim(10**3, 10**10)\nax.set_xscale('log')\nax.xaxis.set_major_locator(ticker.LogLocator(base=10.0, numticks=15))\nax.text(0.0, 0.1, \"LogLocator(base=10, numticks=15)\",\n        fontsize=15, transform=ax.transAxes)\n\n# Push the top of the top axes outside the figure because we only show the\n# bottom spine.\nplt.subplots_adjust(left=0.05, right=0.95, bottom=0.05, top=1.05)\n\nplt.show()"
      ],
      "outputs": []
    }
  ],
  "nbformat": 4,
  "nbformat_minor": 0
}
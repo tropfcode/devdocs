{
  "metadata": {
    "language_info": {
      "version": "3.5.3",
      "codemirror_mode": {
        "version": 3,
        "name": "ipython"
      },
      "file_extension": ".py",
      "name": "python",
      "nbconvert_exporter": "python",
      "mimetype": "text/x-python",
      "pygments_lexer": "ipython3"
    },
    "kernelspec": {
      "display_name": "Python 3",
      "language": "python",
      "name": "python3"
    }
  },
  "cells": [
    {
      "execution_count": null,
      "cell_type": "code",
      "metadata": {
        "collapsed": false
      },
      "source": [
        "%matplotlib inline"
      ],
      "outputs": []
    },
    {
      "metadata": {},
      "cell_type": "markdown",
      "source": [
        "\n# Embedding In Wx3\n\n\nCopyright (C) 2003-2004 Andrew Straw, Jeremy O'Donoghue and others\n\nLicense: This work is licensed under the PSF. A copy should be included\nwith this source code, and is also available at\nhttp://www.python.org/psf/license.html\n\nThis is yet another example of using matplotlib with wx.  Hopefully\nthis is pretty full-featured:\n\n  - both matplotlib toolbar and WX buttons manipulate plot\n  - full wxApp framework, including widget interaction\n  - XRC (XML wxWidgets resource) file to create GUI (made with XRCed)\n\nThis was derived from embedding_in_wx and dynamic_image_wxagg.\n\nThanks to matplotlib and wx teams for creating such great software!\n\n\n"
      ]
    },
    {
      "execution_count": null,
      "cell_type": "code",
      "metadata": {
        "collapsed": false
      },
      "source": [
        "from __future__ import print_function\n\n# matplotlib requires wxPython 2.8+\n# set the wxPython version in lib\\site-packages\\wx.pth file\n# or if you have wxversion installed un-comment the lines below\n#import wxversion\n#wxversion.ensureMinimal('2.8')\n\nimport sys\nimport time\nimport os\nimport gc\nimport matplotlib\nmatplotlib.use('WXAgg')\nimport matplotlib.cm as cm\nimport matplotlib.cbook as cbook\nfrom matplotlib.backends.backend_wxagg import Toolbar, FigureCanvasWxAgg\nfrom matplotlib.figure import Figure\nimport numpy as np\n\nimport wx\nimport wx.xrc as xrc\n\nERR_TOL = 1e-5  # floating point slop for peak-detection\n\n\nmatplotlib.rc('image', origin='lower')\n\n\nclass PlotPanel(wx.Panel):\n    def __init__(self, parent):\n        wx.Panel.__init__(self, parent, -1)\n\n        self.fig = Figure((5, 4), 75)\n        self.canvas = FigureCanvasWxAgg(self, -1, self.fig)\n        self.toolbar = Toolbar(self.canvas)  # matplotlib toolbar\n        self.toolbar.Realize()\n        # self.toolbar.set_active([0,1])\n\n        # Now put all into a sizer\n        sizer = wx.BoxSizer(wx.VERTICAL)\n        # This way of adding to sizer allows resizing\n        sizer.Add(self.canvas, 1, wx.LEFT | wx.TOP | wx.GROW)\n        # Best to allow the toolbar to resize!\n        sizer.Add(self.toolbar, 0, wx.GROW)\n        self.SetSizer(sizer)\n        self.Fit()\n\n    def init_plot_data(self):\n        a = self.fig.add_subplot(111)\n\n        x = np.arange(120.0) * 2 * np.pi / 60.0\n        y = np.arange(100.0) * 2 * np.pi / 50.0\n        self.x, self.y = np.meshgrid(x, y)\n        z = np.sin(self.x) + np.cos(self.y)\n        self.im = a.imshow(z, cmap=cm.RdBu)  # , interpolation='nearest')\n\n        zmax = np.max(z) - ERR_TOL\n        ymax_i, xmax_i = np.nonzero(z >= zmax)\n        if self.im.origin == 'upper':\n            ymax_i = z.shape[0] - ymax_i\n        self.lines = a.plot(xmax_i, ymax_i, 'ko')\n\n        self.toolbar.update()  # Not sure why this is needed - ADS\n\n    def GetToolBar(self):\n        # You will need to override GetToolBar if you are using an\n        # unmanaged toolbar in your frame\n        return self.toolbar\n\n    def OnWhiz(self, evt):\n        self.x += np.pi / 15\n        self.y += np.pi / 20\n        z = np.sin(self.x) + np.cos(self.y)\n        self.im.set_array(z)\n\n        zmax = np.max(z) - ERR_TOL\n        ymax_i, xmax_i = np.nonzero(z >= zmax)\n        if self.im.origin == 'upper':\n            ymax_i = z.shape[0] - ymax_i\n        self.lines[0].set_data(xmax_i, ymax_i)\n\n        self.canvas.draw()\n\n    def onEraseBackground(self, evt):\n        # this is supposed to prevent redraw flicker on some X servers...\n        pass\n\n\nclass MyApp(wx.App):\n    def OnInit(self):\n        xrcfile = cbook.get_sample_data('embedding_in_wx3.xrc',\n                                        asfileobj=False)\n        print('loading', xrcfile)\n\n        self.res = xrc.XmlResource(xrcfile)\n\n        # main frame and panel ---------\n\n        self.frame = self.res.LoadFrame(None, \"MainFrame\")\n        self.panel = xrc.XRCCTRL(self.frame, \"MainPanel\")\n\n        # matplotlib panel -------------\n\n        # container for matplotlib panel (I like to make a container\n        # panel for our panel so I know where it'll go when in XRCed.)\n        plot_container = xrc.XRCCTRL(self.frame, \"plot_container_panel\")\n        sizer = wx.BoxSizer(wx.VERTICAL)\n\n        # matplotlib panel itself\n        self.plotpanel = PlotPanel(plot_container)\n        self.plotpanel.init_plot_data()\n\n        # wx boilerplate\n        sizer.Add(self.plotpanel, 1, wx.EXPAND)\n        plot_container.SetSizer(sizer)\n\n        # whiz button ------------------\n        whiz_button = xrc.XRCCTRL(self.frame, \"whiz_button\")\n        whiz_button.Bind(wx.EVT_BUTTON, self.plotpanel.OnWhiz)\n\n        # bang button ------------------\n        bang_button = xrc.XRCCTRL(self.frame, \"bang_button\")\n        bang_button.Bind(wx.EVT_BUTTON, self.OnBang)\n\n        # final setup ------------------\n        sizer = self.panel.GetSizer()\n        self.frame.Show(1)\n\n        self.SetTopWindow(self.frame)\n\n        return True\n\n    def OnBang(self, event):\n        bang_count = xrc.XRCCTRL(self.frame, \"bang_count\")\n        bangs = bang_count.GetValue()\n        bangs = int(bangs) + 1\n        bang_count.SetValue(str(bangs))\n\nif __name__ == '__main__':\n    app = MyApp(0)\n    app.MainLoop()"
      ],
      "outputs": []
    }
  ],
  "nbformat": 4,
  "nbformat_minor": 0
}
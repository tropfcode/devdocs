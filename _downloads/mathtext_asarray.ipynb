{
  "metadata": {
    "language_info": {
      "version": "3.5.3",
      "codemirror_mode": {
        "version": 3,
        "name": "ipython"
      },
      "file_extension": ".py",
      "name": "python",
      "nbconvert_exporter": "python",
      "mimetype": "text/x-python",
      "pygments_lexer": "ipython3"
    },
    "kernelspec": {
      "display_name": "Python 3",
      "language": "python",
      "name": "python3"
    }
  },
  "cells": [
    {
      "execution_count": null,
      "cell_type": "code",
      "metadata": {
        "collapsed": false
      },
      "source": [
        "%matplotlib inline"
      ],
      "outputs": []
    },
    {
      "metadata": {},
      "cell_type": "markdown",
      "source": [
        "\n# A mathtext image as numpy array\n\n\nThis example shows how to make images from LaTeX strings.\n\n"
      ]
    },
    {
      "execution_count": null,
      "cell_type": "code",
      "metadata": {
        "collapsed": false
      },
      "source": [
        "import matplotlib.mathtext as mathtext\nimport matplotlib.pyplot as plt\nimport matplotlib\nmatplotlib.rc('image', origin='upper')\n\nparser = mathtext.MathTextParser(\"Bitmap\")\nparser.to_png('test2.png',\n              r'$\\left[\\left\\lfloor\\frac{5}{\\frac{\\left(3\\right)}{4}} '\n              r'y\\right)\\right]$', color='green', fontsize=14, dpi=100)\n\nrgba1, depth1 = parser.to_rgba(\n    r'IQ: $\\sigma_i=15$', color='blue', fontsize=20, dpi=200)\nrgba2, depth2 = parser.to_rgba(\n    r'some other string', color='red', fontsize=20, dpi=200)\n\nfig = plt.figure()\nfig.figimage(rgba1.astype(float)/255., 100, 100)\nfig.figimage(rgba2.astype(float)/255., 100, 300)\n\nplt.show()"
      ],
      "outputs": []
    }
  ],
  "nbformat": 4,
  "nbformat_minor": 0
}
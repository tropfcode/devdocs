{
  "metadata": {
    "language_info": {
      "version": "3.5.3",
      "codemirror_mode": {
        "version": 3,
        "name": "ipython"
      },
      "file_extension": ".py",
      "name": "python",
      "nbconvert_exporter": "python",
      "mimetype": "text/x-python",
      "pygments_lexer": "ipython3"
    },
    "kernelspec": {
      "display_name": "Python 3",
      "language": "python",
      "name": "python3"
    }
  },
  "cells": [
    {
      "execution_count": null,
      "cell_type": "code",
      "metadata": {
        "collapsed": false
      },
      "source": [
        "%matplotlib inline"
      ],
      "outputs": []
    },
    {
      "metadata": {},
      "cell_type": "markdown",
      "source": [
        "\n# Demo Gridspec06\n\n\n\n"
      ]
    },
    {
      "execution_count": null,
      "cell_type": "code",
      "metadata": {
        "collapsed": false
      },
      "source": [
        "import matplotlib.pyplot as plt\nimport matplotlib.gridspec as gridspec\nimport numpy as np\nfrom itertools import product\n\n\ndef squiggle_xy(a, b, c, d):\n    i = np.arange(0.0, 2*np.pi, 0.05)\n    return np.sin(i*a)*np.cos(i*b), np.sin(i*c)*np.cos(i*d)\n\n\nfig = plt.figure(figsize=(8, 8))\n\n# gridspec inside gridspec\nouter_grid = gridspec.GridSpec(4, 4, wspace=0.0, hspace=0.0)\n\nfor i in range(16):\n    inner_grid = gridspec.GridSpecFromSubplotSpec(3, 3,\n            subplot_spec=outer_grid[i], wspace=0.0, hspace=0.0)\n    a = i // 4 + 1\n    b = i % 4 + 1\n    for j, (c, d) in enumerate(product(range(1, 4), repeat=2)):\n        ax = plt.Subplot(fig, inner_grid[j])\n        ax.plot(*squiggle_xy(a, b, c, d))\n        ax.set_xticks([])\n        ax.set_yticks([])\n        fig.add_subplot(ax)\n\nall_axes = fig.get_axes()\n\n#show only the outside spines\nfor ax in all_axes:\n    for sp in ax.spines.values():\n        sp.set_visible(False)\n    if ax.is_first_row():\n        ax.spines['top'].set_visible(True)\n    if ax.is_last_row():\n        ax.spines['bottom'].set_visible(True)\n    if ax.is_first_col():\n        ax.spines['left'].set_visible(True)\n    if ax.is_last_col():\n        ax.spines['right'].set_visible(True)\n\nplt.show()"
      ],
      "outputs": []
    }
  ],
  "nbformat": 4,
  "nbformat_minor": 0
}
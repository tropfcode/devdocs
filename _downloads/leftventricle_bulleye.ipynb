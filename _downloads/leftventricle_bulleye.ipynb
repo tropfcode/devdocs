{
  "metadata": {
    "language_info": {
      "version": "3.5.3",
      "codemirror_mode": {
        "version": 3,
        "name": "ipython"
      },
      "file_extension": ".py",
      "name": "python",
      "nbconvert_exporter": "python",
      "mimetype": "text/x-python",
      "pygments_lexer": "ipython3"
    },
    "kernelspec": {
      "display_name": "Python 3",
      "language": "python",
      "name": "python3"
    }
  },
  "cells": [
    {
      "execution_count": null,
      "cell_type": "code",
      "metadata": {
        "collapsed": false
      },
      "source": [
        "%matplotlib inline"
      ],
      "outputs": []
    },
    {
      "metadata": {},
      "cell_type": "markdown",
      "source": [
        "\n# Leftventricle Bulleye\n\n\nThis example demonstrates how to create the 17 segment model for the left\nventricle recommended by the American Heart Association (AHA).\n\n"
      ]
    },
    {
      "execution_count": null,
      "cell_type": "code",
      "metadata": {
        "collapsed": false
      },
      "source": [
        "import numpy as np\nimport matplotlib as mpl\nimport matplotlib.pyplot as plt\n\n\ndef bullseye_plot(ax, data, segBold=None, cmap=None, norm=None):\n    \"\"\"\n    Bullseye representation for the left ventricle.\n\n    Parameters\n    ----------\n    ax : axes\n    data : list of int and float\n        The intensity values for each of the 17 segments\n    segBold: list of int, optional\n        A list with the segments to highlight\n    cmap : ColorMap or None, optional\n        Optional argument to set the desired colormap\n    norm : Normalize or None, optional\n        Optional argument to normalize data into the [0.0, 1.0] range\n\n\n    Notes\n    -----\n    This function create the 17 segment model for the left ventricle according\n    to the American Heart Association (AHA) [1]_\n\n    References\n    ----------\n    .. [1] M. D. Cerqueira, N. J. Weissman, V. Dilsizian, A. K. Jacobs,\n        S. Kaul, W. K. Laskey, D. J. Pennell, J. A. Rumberger, T. Ryan,\n        and M. S. Verani, \"Standardized myocardial segmentation and\n        nomenclature for tomographic imaging of the heart\",\n        Circulation, vol. 105, no. 4, pp. 539-542, 2002.\n    \"\"\"\n    if segBold is None:\n        segBold = []\n\n    linewidth = 2\n    data = np.array(data).ravel()\n\n    if cmap is None:\n        cmap = plt.cm.viridis\n\n    if norm is None:\n        norm = mpl.colors.Normalize(vmin=data.min(), vmax=data.max())\n\n    theta = np.linspace(0, 2 * np.pi, 768)\n    r = np.linspace(0.2, 1, 4)\n\n    # Create the bound for the segment 17\n    for i in range(r.shape[0]):\n        ax.plot(theta, np.repeat(r[i], theta.shape), '-k', lw=linewidth)\n\n    # Create the bounds for the segments  1-12\n    for i in range(6):\n        theta_i = np.deg2rad(i * 60)\n        ax.plot([theta_i, theta_i], [r[1], 1], '-k', lw=linewidth)\n\n    # Create the bounds for the segments 13-16\n    for i in range(4):\n        theta_i = np.deg2rad(i * 90 - 45)\n        ax.plot([theta_i, theta_i], [r[0], r[1]], '-k', lw=linewidth)\n\n    # Fill the segments 1-6\n    r0 = r[2:4]\n    r0 = np.repeat(r0[:, np.newaxis], 128, axis=1).T\n    for i in range(6):\n        # First segment start at 60 degrees\n        theta0 = theta[i * 128:i * 128 + 128] + np.deg2rad(60)\n        theta0 = np.repeat(theta0[:, np.newaxis], 2, axis=1)\n        z = np.ones((128, 2)) * data[i]\n        ax.pcolormesh(theta0, r0, z, cmap=cmap, norm=norm)\n        if i + 1 in segBold:\n            ax.plot(theta0, r0, '-k', lw=linewidth + 2)\n            ax.plot(theta0[0], [r[2], r[3]], '-k', lw=linewidth + 1)\n            ax.plot(theta0[-1], [r[2], r[3]], '-k', lw=linewidth + 1)\n\n    # Fill the segments 7-12\n    r0 = r[1:3]\n    r0 = np.repeat(r0[:, np.newaxis], 128, axis=1).T\n    for i in range(6):\n        # First segment start at 60 degrees\n        theta0 = theta[i * 128:i * 128 + 128] + np.deg2rad(60)\n        theta0 = np.repeat(theta0[:, np.newaxis], 2, axis=1)\n        z = np.ones((128, 2)) * data[i + 6]\n        ax.pcolormesh(theta0, r0, z, cmap=cmap, norm=norm)\n        if i + 7 in segBold:\n            ax.plot(theta0, r0, '-k', lw=linewidth + 2)\n            ax.plot(theta0[0], [r[1], r[2]], '-k', lw=linewidth + 1)\n            ax.plot(theta0[-1], [r[1], r[2]], '-k', lw=linewidth + 1)\n\n    # Fill the segments 13-16\n    r0 = r[0:2]\n    r0 = np.repeat(r0[:, np.newaxis], 192, axis=1).T\n    for i in range(4):\n        # First segment start at 45 degrees\n        theta0 = theta[i * 192:i * 192 + 192] + np.deg2rad(45)\n        theta0 = np.repeat(theta0[:, np.newaxis], 2, axis=1)\n        z = np.ones((192, 2)) * data[i + 12]\n        ax.pcolormesh(theta0, r0, z, cmap=cmap, norm=norm)\n        if i + 13 in segBold:\n            ax.plot(theta0, r0, '-k', lw=linewidth + 2)\n            ax.plot(theta0[0], [r[0], r[1]], '-k', lw=linewidth + 1)\n            ax.plot(theta0[-1], [r[0], r[1]], '-k', lw=linewidth + 1)\n\n    # Fill the segments 17\n    if data.size == 17:\n        r0 = np.array([0, r[0]])\n        r0 = np.repeat(r0[:, np.newaxis], theta.size, axis=1).T\n        theta0 = np.repeat(theta[:, np.newaxis], 2, axis=1)\n        z = np.ones((theta.size, 2)) * data[16]\n        ax.pcolormesh(theta0, r0, z, cmap=cmap, norm=norm)\n        if 17 in segBold:\n            ax.plot(theta0, r0, '-k', lw=linewidth + 2)\n\n    ax.set_ylim([0, 1])\n    ax.set_yticklabels([])\n    ax.set_xticklabels([])\n\n\n# Create the fake data\ndata = np.array(range(17)) + 1\n\n\n# Make a figure and axes with dimensions as desired.\nfig, ax = plt.subplots(figsize=(12, 8), nrows=1, ncols=3,\n                       subplot_kw=dict(projection='polar'))\nfig.canvas.set_window_title('Left Ventricle Bulls Eyes (AHA)')\n\n# Create the axis for the colorbars\naxl = fig.add_axes([0.14, 0.15, 0.2, 0.05])\naxl2 = fig.add_axes([0.41, 0.15, 0.2, 0.05])\naxl3 = fig.add_axes([0.69, 0.15, 0.2, 0.05])\n\n\n# Set the colormap and norm to correspond to the data for which\n# the colorbar will be used.\ncmap = mpl.cm.viridis\nnorm = mpl.colors.Normalize(vmin=1, vmax=17)\n\n# ColorbarBase derives from ScalarMappable and puts a colorbar\n# in a specified axes, so it has everything needed for a\n# standalone colorbar.  There are many more kwargs, but the\n# following gives a basic continuous colorbar with ticks\n# and labels.\ncb1 = mpl.colorbar.ColorbarBase(axl, cmap=cmap, norm=norm,\n                                orientation='horizontal')\ncb1.set_label('Some Units')\n\n\n# Set the colormap and norm to correspond to the data for which\n# the colorbar will be used.\ncmap2 = mpl.cm.cool\nnorm2 = mpl.colors.Normalize(vmin=1, vmax=17)\n\n# ColorbarBase derives from ScalarMappable and puts a colorbar\n# in a specified axes, so it has everything needed for a\n# standalone colorbar.  There are many more kwargs, but the\n# following gives a basic continuous colorbar with ticks\n# and labels.\ncb2 = mpl.colorbar.ColorbarBase(axl2, cmap=cmap2, norm=norm2,\n                                orientation='horizontal')\ncb2.set_label('Some other units')\n\n\n# The second example illustrates the use of a ListedColormap, a\n# BoundaryNorm, and extended ends to show the \"over\" and \"under\"\n# value colors.\ncmap3 = mpl.colors.ListedColormap(['r', 'g', 'b', 'c'])\ncmap3.set_over('0.35')\ncmap3.set_under('0.75')\n\n# If a ListedColormap is used, the length of the bounds array must be\n# one greater than the length of the color list.  The bounds must be\n# monotonically increasing.\nbounds = [2, 3, 7, 9, 15]\nnorm3 = mpl.colors.BoundaryNorm(bounds, cmap3.N)\ncb3 = mpl.colorbar.ColorbarBase(axl3, cmap=cmap3, norm=norm3,\n                                # to use 'extend', you must\n                                # specify two extra boundaries:\n                                boundaries=[0] + bounds + [18],\n                                extend='both',\n                                ticks=bounds,  # optional\n                                spacing='proportional',\n                                orientation='horizontal')\ncb3.set_label('Discrete intervals, some other units')\n\n\n# Create the 17 segment model\nbullseye_plot(ax[0], data, cmap=cmap, norm=norm)\nax[0].set_title('Bulls Eye (AHA)')\n\nbullseye_plot(ax[1], data, cmap=cmap2, norm=norm2)\nax[1].set_title('Bulls Eye (AHA)')\n\nbullseye_plot(ax[2], data, segBold=[3, 5, 6, 11, 12, 16],\n              cmap=cmap3, norm=norm3)\nax[2].set_title('Segments [3,5,6,11,12,16] in bold')\n\nplt.show()"
      ],
      "outputs": []
    }
  ],
  "nbformat": 4,
  "nbformat_minor": 0
}
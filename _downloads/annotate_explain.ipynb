{
  "metadata": {
    "language_info": {
      "version": "3.5.3",
      "codemirror_mode": {
        "version": 3,
        "name": "ipython"
      },
      "file_extension": ".py",
      "name": "python",
      "nbconvert_exporter": "python",
      "mimetype": "text/x-python",
      "pygments_lexer": "ipython3"
    },
    "kernelspec": {
      "display_name": "Python 3",
      "language": "python",
      "name": "python3"
    }
  },
  "cells": [
    {
      "execution_count": null,
      "cell_type": "code",
      "metadata": {
        "collapsed": false
      },
      "source": [
        "%matplotlib inline"
      ],
      "outputs": []
    },
    {
      "metadata": {},
      "cell_type": "markdown",
      "source": [
        "\n# Annotate Explain\n\n\n\n"
      ]
    },
    {
      "execution_count": null,
      "cell_type": "code",
      "metadata": {
        "collapsed": false
      },
      "source": [
        "import matplotlib.pyplot as plt\nimport matplotlib.patches as mpatches\nfrom mpl_toolkits.axes_grid1.axes_grid import AxesGrid\nfrom matplotlib.offsetbox import AnchoredText\n\nx1, y1 = 0.3, 0.3\nx2, y2 = 0.7, 0.7\n\nfig = plt.figure(1, figsize=(8, 3))\nfig.clf()\n\n\ndef add_at(ax, t, loc=2):\n    fp = dict(size=10)\n    _at = AnchoredText(t, loc=loc, prop=fp)\n    ax.add_artist(_at)\n    return _at\n\n\ngrid = AxesGrid(fig, 111, (1, 4), label_mode=\"1\", share_all=True)\n\ngrid[0].set_autoscale_on(False)\n\nax = grid[0]\nax.plot([x1, x2], [y1, y2], \".\")\nel = mpatches.Ellipse((x1, y1), 0.3, 0.4, angle=30, alpha=0.2)\nax.add_artist(el)\nax.annotate(\"\",\n            xy=(x1, y1), xycoords='data',\n            xytext=(x2, y2), textcoords='data',\n            arrowprops=dict(arrowstyle=\"-\",\n                            color=\"0.5\",\n                            patchB=None,\n                            shrinkB=0,\n                            connectionstyle=\"arc3,rad=0.3\",\n                            ),\n            )\n\nadd_at(ax, \"connect\", loc=2)\n\nax = grid[1]\nax.plot([x1, x2], [y1, y2], \".\")\nel = mpatches.Ellipse((x1, y1), 0.3, 0.4, angle=30, alpha=0.2)\nax.add_artist(el)\nax.annotate(\"\",\n            xy=(x1, y1), xycoords='data',\n            xytext=(x2, y2), textcoords='data',\n            arrowprops=dict(arrowstyle=\"-\",\n                            color=\"0.5\",\n                            patchB=el,\n                            shrinkB=0,\n                            connectionstyle=\"arc3,rad=0.3\",\n                            ),\n            )\n\nadd_at(ax, \"clip\", loc=2)\n\n\nax = grid[2]\nax.plot([x1, x2], [y1, y2], \".\")\nel = mpatches.Ellipse((x1, y1), 0.3, 0.4, angle=30, alpha=0.2)\nax.add_artist(el)\nax.annotate(\"\",\n            xy=(x1, y1), xycoords='data',\n            xytext=(x2, y2), textcoords='data',\n            arrowprops=dict(arrowstyle=\"-\",\n                            color=\"0.5\",\n                            patchB=el,\n                            shrinkB=5,\n                            connectionstyle=\"arc3,rad=0.3\",\n                            ),\n            )\n\nadd_at(ax, \"shrink\", loc=2)\n\n\nax = grid[3]\nax.plot([x1, x2], [y1, y2], \".\")\nel = mpatches.Ellipse((x1, y1), 0.3, 0.4, angle=30, alpha=0.2)\nax.add_artist(el)\nax.annotate(\"\",\n            xy=(x1, y1), xycoords='data',\n            xytext=(x2, y2), textcoords='data',\n            arrowprops=dict(arrowstyle=\"fancy\",\n                            color=\"0.5\",\n                            patchB=el,\n                            shrinkB=5,\n                            connectionstyle=\"arc3,rad=0.3\",\n                            ),\n            )\n\nadd_at(ax, \"mutate\", loc=2)\n\ngrid[0].set_xlim(0, 1)\ngrid[0].set_ylim(0, 1)\ngrid[0].axis[\"bottom\"].toggle(ticklabels=False)\ngrid[0].axis[\"left\"].toggle(ticklabels=False)\nfig.subplots_adjust(left=0.05, right=0.95, bottom=0.05, top=0.95)\n\nplt.show()"
      ],
      "outputs": []
    }
  ],
  "nbformat": 4,
  "nbformat_minor": 0
}
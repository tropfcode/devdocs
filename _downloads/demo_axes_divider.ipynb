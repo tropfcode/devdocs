{
  "metadata": {
    "language_info": {
      "version": "3.5.3",
      "codemirror_mode": {
        "version": 3,
        "name": "ipython"
      },
      "file_extension": ".py",
      "name": "python",
      "nbconvert_exporter": "python",
      "mimetype": "text/x-python",
      "pygments_lexer": "ipython3"
    },
    "kernelspec": {
      "display_name": "Python 3",
      "language": "python",
      "name": "python3"
    }
  },
  "cells": [
    {
      "execution_count": null,
      "cell_type": "code",
      "metadata": {
        "collapsed": false
      },
      "source": [
        "%matplotlib inline"
      ],
      "outputs": []
    },
    {
      "metadata": {},
      "cell_type": "markdown",
      "source": [
        "\n# Demo Axes Divider\n\n\n\n"
      ]
    },
    {
      "execution_count": null,
      "cell_type": "code",
      "metadata": {
        "collapsed": false
      },
      "source": [
        "import matplotlib.pyplot as plt\n\n\ndef get_demo_image():\n    import numpy as np\n    from matplotlib.cbook import get_sample_data\n    f = get_sample_data(\"axes_grid/bivariate_normal.npy\", asfileobj=False)\n    z = np.load(f)\n    # z is a numpy array of 15x15\n    return z, (-3, 4, -4, 3)\n\n\ndef demo_simple_image(ax):\n    Z, extent = get_demo_image()\n\n    im = ax.imshow(Z, extent=extent, interpolation=\"nearest\")\n    cb = plt.colorbar(im)\n    plt.setp(cb.ax.get_yticklabels(), visible=False)\n\n\ndef demo_locatable_axes_hard(fig1):\n\n    from mpl_toolkits.axes_grid1 \\\n        import SubplotDivider, LocatableAxes, Size\n\n    divider = SubplotDivider(fig1, 2, 2, 2, aspect=True)\n\n    # axes for image\n    ax = LocatableAxes(fig1, divider.get_position())\n\n    # axes for colorbar\n    ax_cb = LocatableAxes(fig1, divider.get_position())\n\n    h = [Size.AxesX(ax),  # main axes\n         Size.Fixed(0.05),  # padding, 0.1 inch\n         Size.Fixed(0.2),  # colorbar, 0.3 inch\n         ]\n\n    v = [Size.AxesY(ax)]\n\n    divider.set_horizontal(h)\n    divider.set_vertical(v)\n\n    ax.set_axes_locator(divider.new_locator(nx=0, ny=0))\n    ax_cb.set_axes_locator(divider.new_locator(nx=2, ny=0))\n\n    fig1.add_axes(ax)\n    fig1.add_axes(ax_cb)\n\n    ax_cb.axis[\"left\"].toggle(all=False)\n    ax_cb.axis[\"right\"].toggle(ticks=True)\n\n    Z, extent = get_demo_image()\n\n    im = ax.imshow(Z, extent=extent, interpolation=\"nearest\")\n    plt.colorbar(im, cax=ax_cb)\n    plt.setp(ax_cb.get_yticklabels(), visible=False)\n\n\ndef demo_locatable_axes_easy(ax):\n    from mpl_toolkits.axes_grid1 import make_axes_locatable\n\n    divider = make_axes_locatable(ax)\n\n    ax_cb = divider.new_horizontal(size=\"5%\", pad=0.05)\n    fig1 = ax.get_figure()\n    fig1.add_axes(ax_cb)\n\n    Z, extent = get_demo_image()\n    im = ax.imshow(Z, extent=extent, interpolation=\"nearest\")\n\n    plt.colorbar(im, cax=ax_cb)\n    ax_cb.yaxis.tick_right()\n    for tl in ax_cb.get_yticklabels():\n        tl.set_visible(False)\n    ax_cb.yaxis.tick_right()\n\n\ndef demo_images_side_by_side(ax):\n    from mpl_toolkits.axes_grid1 import make_axes_locatable\n\n    divider = make_axes_locatable(ax)\n\n    Z, extent = get_demo_image()\n    ax2 = divider.new_horizontal(size=\"100%\", pad=0.05)\n    fig1 = ax.get_figure()\n    fig1.add_axes(ax2)\n\n    ax.imshow(Z, extent=extent, interpolation=\"nearest\")\n    ax2.imshow(Z, extent=extent, interpolation=\"nearest\")\n    for tl in ax2.get_yticklabels():\n        tl.set_visible(False)\n\n\ndef demo():\n\n    fig1 = plt.figure(1, (6, 6))\n    fig1.clf()\n\n    # PLOT 1\n    # simple image & colorbar\n    ax = fig1.add_subplot(2, 2, 1)\n    demo_simple_image(ax)\n\n    # PLOT 2\n    # image and colorbar whose location is adjusted in the drawing time.\n    # a hard way\n\n    demo_locatable_axes_hard(fig1)\n\n    # PLOT 3\n    # image and colorbar whose location is adjusted in the drawing time.\n    # a easy way\n\n    ax = fig1.add_subplot(2, 2, 3)\n    demo_locatable_axes_easy(ax)\n\n    # PLOT 4\n    # two images side by side with fixed padding.\n\n    ax = fig1.add_subplot(2, 2, 4)\n    demo_images_side_by_side(ax)\n\n    plt.draw()\n    plt.show()\n\n\ndemo()"
      ],
      "outputs": []
    }
  ],
  "nbformat": 4,
  "nbformat_minor": 0
}
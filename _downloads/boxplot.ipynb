{
  "metadata": {
    "language_info": {
      "version": "3.5.3",
      "codemirror_mode": {
        "version": 3,
        "name": "ipython"
      },
      "file_extension": ".py",
      "name": "python",
      "nbconvert_exporter": "python",
      "mimetype": "text/x-python",
      "pygments_lexer": "ipython3"
    },
    "kernelspec": {
      "display_name": "Python 3",
      "language": "python",
      "name": "python3"
    }
  },
  "cells": [
    {
      "execution_count": null,
      "cell_type": "code",
      "metadata": {
        "collapsed": false
      },
      "source": [
        "%matplotlib inline"
      ],
      "outputs": []
    },
    {
      "metadata": {},
      "cell_type": "markdown",
      "source": [
        "\n# Artist customization in box plots\n\n\nThis example demonstrates how to use the various kwargs\nto fully customize box plots. The first figure demonstrates\nhow to remove and add individual components (note that the\nmean is the only value not shown by default). The second\nfigure demonstrates how the styles of the artists can\nbe customized. It also demonstrates how to set the limit\nof the whiskers to specific percentiles (lower right axes)\n\nA good general reference on boxplots and their history can be found\nhere: http://vita.had.co.nz/papers/boxplots.pdf\n\n\n"
      ]
    },
    {
      "execution_count": null,
      "cell_type": "code",
      "metadata": {
        "collapsed": false
      },
      "source": [
        "import numpy as np\nimport matplotlib.pyplot as plt\n\n# fake data\nnp.random.seed(19680801)\ndata = np.random.lognormal(size=(37, 4), mean=1.5, sigma=1.75)\nlabels = list('ABCD')\nfs = 10  # fontsize"
      ],
      "outputs": []
    },
    {
      "metadata": {},
      "cell_type": "markdown",
      "source": [
        "Demonstrate how to toggle the display of different elements:\n\n"
      ]
    },
    {
      "execution_count": null,
      "cell_type": "code",
      "metadata": {
        "collapsed": false
      },
      "source": [
        "fig, axes = plt.subplots(nrows=2, ncols=3, figsize=(6, 6), sharey=True)\naxes[0, 0].boxplot(data, labels=labels)\naxes[0, 0].set_title('Default', fontsize=fs)\n\naxes[0, 1].boxplot(data, labels=labels, showmeans=True)\naxes[0, 1].set_title('showmeans=True', fontsize=fs)\n\naxes[0, 2].boxplot(data, labels=labels, showmeans=True, meanline=True)\naxes[0, 2].set_title('showmeans=True,\\nmeanline=True', fontsize=fs)\n\naxes[1, 0].boxplot(data, labels=labels, showbox=False, showcaps=False)\ntufte_title = 'Tufte Style \\n(showbox=False,\\nshowcaps=False)'\naxes[1, 0].set_title(tufte_title, fontsize=fs)\n\naxes[1, 1].boxplot(data, labels=labels, notch=True, bootstrap=10000)\naxes[1, 1].set_title('notch=True,\\nbootstrap=10000', fontsize=fs)\n\naxes[1, 2].boxplot(data, labels=labels, showfliers=False)\naxes[1, 2].set_title('showfliers=False', fontsize=fs)\n\nfor ax in axes.flatten():\n    ax.set_yscale('log')\n    ax.set_yticklabels([])\n\nfig.subplots_adjust(hspace=0.4)\nplt.show()"
      ],
      "outputs": []
    },
    {
      "metadata": {},
      "cell_type": "markdown",
      "source": [
        "Demonstrate how to customize the display different elements:\n\n"
      ]
    },
    {
      "execution_count": null,
      "cell_type": "code",
      "metadata": {
        "collapsed": false
      },
      "source": [
        "boxprops = dict(linestyle='--', linewidth=3, color='darkgoldenrod')\nflierprops = dict(marker='o', markerfacecolor='green', markersize=12,\n                  linestyle='none')\nmedianprops = dict(linestyle='-.', linewidth=2.5, color='firebrick')\nmeanpointprops = dict(marker='D', markeredgecolor='black',\n                      markerfacecolor='firebrick')\nmeanlineprops = dict(linestyle='--', linewidth=2.5, color='purple')\n\nfig, axes = plt.subplots(nrows=2, ncols=3, figsize=(6, 6), sharey=True)\naxes[0, 0].boxplot(data, boxprops=boxprops)\naxes[0, 0].set_title('Custom boxprops', fontsize=fs)\n\naxes[0, 1].boxplot(data, flierprops=flierprops, medianprops=medianprops)\naxes[0, 1].set_title('Custom medianprops\\nand flierprops', fontsize=fs)\n\naxes[0, 2].boxplot(data, whis='range')\naxes[0, 2].set_title('whis=\"range\"', fontsize=fs)\n\naxes[1, 0].boxplot(data, meanprops=meanpointprops, meanline=False,\n                   showmeans=True)\naxes[1, 0].set_title('Custom mean\\nas point', fontsize=fs)\n\naxes[1, 1].boxplot(data, meanprops=meanlineprops, meanline=True,\n                   showmeans=True)\naxes[1, 1].set_title('Custom mean\\nas line', fontsize=fs)\n\naxes[1, 2].boxplot(data, whis=[15, 85])\naxes[1, 2].set_title('whis=[15, 85]\\n#percentiles', fontsize=fs)\n\nfor ax in axes.flatten():\n    ax.set_yscale('log')\n    ax.set_yticklabels([])\n\nfig.suptitle(\"I never said they'd be pretty\")\nfig.subplots_adjust(hspace=0.4)\nplt.show()"
      ],
      "outputs": []
    }
  ],
  "nbformat": 4,
  "nbformat_minor": 0
}
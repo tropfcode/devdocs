{
  "metadata": {
    "language_info": {
      "version": "3.5.3",
      "codemirror_mode": {
        "version": 3,
        "name": "ipython"
      },
      "file_extension": ".py",
      "name": "python",
      "nbconvert_exporter": "python",
      "mimetype": "text/x-python",
      "pygments_lexer": "ipython3"
    },
    "kernelspec": {
      "display_name": "Python 3",
      "language": "python",
      "name": "python3"
    }
  },
  "cells": [
    {
      "execution_count": null,
      "cell_type": "code",
      "metadata": {
        "collapsed": false
      },
      "source": [
        "%matplotlib inline"
      ],
      "outputs": []
    },
    {
      "metadata": {},
      "cell_type": "markdown",
      "source": [
        "\n# Styling with cycler\n\n\nDemo of custom property-cycle settings to control colors and other style\nproperties for multi-line plots.\n\nThis example demonstrates two different APIs:\n\n    1. Setting the default rc parameter specifying the property cycle.\n       This affects all subsequent axes (but not axes already created).\n    2. Setting the property cycle for a single pair of axes.\n\n"
      ]
    },
    {
      "execution_count": null,
      "cell_type": "code",
      "metadata": {
        "collapsed": false
      },
      "source": [
        "from cycler import cycler\nimport numpy as np\nimport matplotlib.pyplot as plt\n\n\nx = np.linspace(0, 2 * np.pi)\noffsets = np.linspace(0, 2*np.pi, 4, endpoint=False)\n# Create array with shifted-sine curve along each column\nyy = np.transpose([np.sin(x + phi) for phi in offsets])\n\n# 1. Setting prop cycle on default rc parameter\nplt.rc('lines', linewidth=4)\nplt.rc('axes', prop_cycle=(cycler('color', ['r', 'g', 'b', 'y']) +\n                           cycler('linestyle', ['-', '--', ':', '-.'])))\nfig, (ax0, ax1) = plt.subplots(nrows=2)\nax0.plot(yy)\nax0.set_title('Set default color cycle to rgby')\n\n# 2. Define prop cycle for single set of axes\nax1.set_prop_cycle(cycler('color', ['c', 'm', 'y', 'k']) +\n                   cycler('lw', [1, 2, 3, 4]))\nax1.plot(yy)\nax1.set_title('Set axes color cycle to cmyk')\n\n# Tweak spacing between subplots to prevent labels from overlapping\nfig.subplots_adjust(hspace=0.3)\nplt.show()"
      ],
      "outputs": []
    }
  ],
  "nbformat": 4,
  "nbformat_minor": 0
}
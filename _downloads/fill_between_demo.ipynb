{
  "metadata": {
    "language_info": {
      "version": "3.5.3",
      "codemirror_mode": {
        "version": 3,
        "name": "ipython"
      },
      "file_extension": ".py",
      "name": "python",
      "nbconvert_exporter": "python",
      "mimetype": "text/x-python",
      "pygments_lexer": "ipython3"
    },
    "kernelspec": {
      "display_name": "Python 3",
      "language": "python",
      "name": "python3"
    }
  },
  "cells": [
    {
      "execution_count": null,
      "cell_type": "code",
      "metadata": {
        "collapsed": false
      },
      "source": [
        "%matplotlib inline"
      ],
      "outputs": []
    },
    {
      "metadata": {},
      "cell_type": "markdown",
      "source": [
        "\n# Filling the area between lines\n\n\nThis example shows how to use ``fill_between`` to color between lines based on\nuser-defined logic.\n\n"
      ]
    },
    {
      "execution_count": null,
      "cell_type": "code",
      "metadata": {
        "collapsed": false
      },
      "source": [
        "import matplotlib.pyplot as plt\nimport numpy as np\n\nx = np.arange(0.0, 2, 0.01)\ny1 = np.sin(2 * np.pi * x)\ny2 = 1.2 * np.sin(4 * np.pi * x)"
      ],
      "outputs": []
    },
    {
      "execution_count": null,
      "cell_type": "code",
      "metadata": {
        "collapsed": false
      },
      "source": [
        "fig, (ax1, ax2, ax3) = plt.subplots(3, 1, sharex=True)\n\nax1.fill_between(x, 0, y1)\nax1.set_ylabel('between y1 and 0')\n\nax2.fill_between(x, y1, 1)\nax2.set_ylabel('between y1 and 1')\n\nax3.fill_between(x, y1, y2)\nax3.set_ylabel('between y1 and y2')\nax3.set_xlabel('x')"
      ],
      "outputs": []
    },
    {
      "metadata": {},
      "cell_type": "markdown",
      "source": [
        "Now fill between y1 and y2 where a logical condition is met.  Note\nthis is different than calling\n``fill_between(x[where], y1[where], y2[where] ...)``\nbecause of edge effects over multiple contiguous regions.\n\n"
      ]
    },
    {
      "execution_count": null,
      "cell_type": "code",
      "metadata": {
        "collapsed": false
      },
      "source": [
        "fig, (ax, ax1) = plt.subplots(2, 1, sharex=True)\nax.plot(x, y1, x, y2, color='black')\nax.fill_between(x, y1, y2, where=y2 >= y1, facecolor='green', interpolate=True)\nax.fill_between(x, y1, y2, where=y2 <= y1, facecolor='red', interpolate=True)\nax.set_title('fill between where')\n\n# Test support for masked arrays.\ny2 = np.ma.masked_greater(y2, 1.0)\nax1.plot(x, y1, x, y2, color='black')\nax1.fill_between(x, y1, y2, where=y2 >= y1,\n                 facecolor='green', interpolate=True)\nax1.fill_between(x, y1, y2, where=y2 <= y1,\n                 facecolor='red', interpolate=True)\nax1.set_title('Now regions with y2>1 are masked')"
      ],
      "outputs": []
    },
    {
      "metadata": {},
      "cell_type": "markdown",
      "source": [
        "This example illustrates a problem; because of the data\ngridding, there are undesired unfilled triangles at the crossover\npoints.  A brute-force solution would be to interpolate all\narrays to a very fine grid before plotting.\n\n"
      ]
    },
    {
      "metadata": {},
      "cell_type": "markdown",
      "source": [
        "Use transforms to create axes spans where a certain condition is satisfied:\n\n"
      ]
    },
    {
      "execution_count": null,
      "cell_type": "code",
      "metadata": {
        "collapsed": false
      },
      "source": [
        "fig, ax = plt.subplots()\ny = np.sin(4 * np.pi * x)\nax.plot(x, y, color='black')\n\n# use data coordinates for the x-axis and the axes coordinates for the y-axis\nimport matplotlib.transforms as mtransforms\ntrans = mtransforms.blended_transform_factory(ax.transData, ax.transAxes)\ntheta = 0.9\nax.axhline(theta, color='green', lw=2, alpha=0.5)\nax.axhline(-theta, color='red', lw=2, alpha=0.5)\nax.fill_between(x, 0, 1, where=y > theta,\n                facecolor='green', alpha=0.5, transform=trans)\nax.fill_between(x, 0, 1, where=y < -theta,\n                facecolor='red', alpha=0.5, transform=trans)\n\n\nplt.show()"
      ],
      "outputs": []
    }
  ],
  "nbformat": 4,
  "nbformat_minor": 0
}
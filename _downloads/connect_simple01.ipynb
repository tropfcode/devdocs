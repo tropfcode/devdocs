{
  "metadata": {
    "language_info": {
      "version": "3.5.3",
      "codemirror_mode": {
        "version": 3,
        "name": "ipython"
      },
      "file_extension": ".py",
      "name": "python",
      "nbconvert_exporter": "python",
      "mimetype": "text/x-python",
      "pygments_lexer": "ipython3"
    },
    "kernelspec": {
      "display_name": "Python 3",
      "language": "python",
      "name": "python3"
    }
  },
  "cells": [
    {
      "execution_count": null,
      "cell_type": "code",
      "metadata": {
        "collapsed": false
      },
      "source": [
        "%matplotlib inline"
      ],
      "outputs": []
    },
    {
      "metadata": {},
      "cell_type": "markdown",
      "source": [
        "\n# Connect Simple01\n\n\n\n"
      ]
    },
    {
      "execution_count": null,
      "cell_type": "code",
      "metadata": {
        "collapsed": false
      },
      "source": [
        "from matplotlib.patches import ConnectionPatch\nimport matplotlib.pyplot as plt\n\nfig, (ax1, ax2) = plt.subplots(1, 2, figsize=(6, 3))\n\nxyA = (0.2, 0.2)\nxyB = (0.8, 0.8)\ncoordsA = \"data\"\ncoordsB = \"data\"\ncon = ConnectionPatch(xyA, xyB, coordsA, coordsB,\n                      arrowstyle=\"-|>\", shrinkA=5, shrinkB=5,\n                      mutation_scale=20, fc=\"w\")\nax1.plot([xyA[0], xyB[0]], [xyA[1], xyB[1]], \"o\")\nax1.add_artist(con)\n\nxy = (0.3, 0.2)\ncoordsA = \"data\"\ncoordsB = \"data\"\ncon = ConnectionPatch(xyA=xy, xyB=xy, coordsA=coordsA, coordsB=coordsB,\n                      axesA=ax2, axesB=ax1,\n                      arrowstyle=\"->\", shrinkB=5)\nax2.add_artist(con)\n\nax1.set_xlim(0, 1)\nax1.set_ylim(0, 1)\nax2.set_xlim(0, .5)\nax2.set_ylim(0, .5)\n\nplt.show()"
      ],
      "outputs": []
    }
  ],
  "nbformat": 4,
  "nbformat_minor": 0
}
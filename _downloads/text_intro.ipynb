{
  "metadata": {
    "language_info": {
      "version": "3.5.3",
      "codemirror_mode": {
        "version": 3,
        "name": "ipython"
      },
      "file_extension": ".py",
      "name": "python",
      "nbconvert_exporter": "python",
      "mimetype": "text/x-python",
      "pygments_lexer": "ipython3"
    },
    "kernelspec": {
      "display_name": "Python 3",
      "language": "python",
      "name": "python3"
    }
  },
  "cells": [
    {
      "execution_count": null,
      "cell_type": "code",
      "metadata": {
        "collapsed": false
      },
      "source": [
        "%matplotlib inline"
      ],
      "outputs": []
    },
    {
      "metadata": {},
      "cell_type": "markdown",
      "source": [
        "\nText introduction\n=================\n\nIntroduction to plotting and working with text in Matplotlib.\n\nMatplotlib has extensive text support, including support for\nmathematical expressions, truetype support for raster and\nvector outputs, newline separated text with arbitrary\nrotations, and unicode support.\n\nBecause it embeds fonts directly in output documents, e.g., for postscript\nor PDF, what you see on the screen is what you get in the hardcopy.\n`FreeType <https://www.freetype.org/>`_ support\nproduces very nice, antialiased fonts, that look good even at small\nraster sizes.  matplotlib includes its own\n:mod:`matplotlib.font_manager` (thanks to Paul Barrett), which\nimplements a cross platform, `W3C <http://www.w3.org/>`\ncompliant font finding algorithm.\n\nThe user has a great deal of control over text properties (font size, font\nweight, text location and color, etc.) with sensible defaults set in\nthe `rc file <http://matplotlib.org/users/customizing.html>`.\nAnd significantly, for those interested in mathematical\nor scientific figures, matplotlib implements a large number of TeX\nmath symbols and commands, supporting `mathematical expressions\n<sphx_glr_tutorials_text_mathtext.py>` anywhere in your figure.\n\n\nBasic text commands\n===================\n\nThe following commands are used to create text in the pyplot\ninterface\n\n* :func:`~matplotlib.pyplot.text` - add text at an arbitrary location to the ``Axes``;\n  :meth:`matplotlib.axes.Axes.text` in the API.\n\n* :func:`~matplotlib.pyplot.xlabel` - add a label to the x-axis;\n  :meth:`matplotlib.axes.Axes.set_xlabel` in the API.\n\n* :func:`~matplotlib.pyplot.ylabel` - add a label to the y-axis;\n  :meth:`matplotlib.axes.Axes.set_ylabel` in the API.\n\n* :func:`~matplotlib.pyplot.title` - add a title to the ``Axes``;\n  :meth:`matplotlib.axes.Axes.set_title` in the API.\n\n* :func:`~matplotlib.pyplot.figtext` - add text at an arbitrary location to the ``Figure``;\n  :meth:`matplotlib.figure.Figure.text` in the API.\n\n* :func:`~matplotlib.pyplot.suptitle` - add a title to the ``Figure``;\n  :meth:`matplotlib.figure.Figure.suptitle` in the API.\n\n* :func:`~matplotlib.pyplot.annotate` - add an annotation, with\n   optional arrow, to the ``Axes`` ; :meth:`matplotlib.axes.Axes.annotate`\n   in the API.\n\nAll of these functions create and return a\n:func:`matplotlib.text.Text` instance, which can be configured with a\nvariety of font and other properties.  The example below shows all of\nthese commands in action.\n\n"
      ]
    },
    {
      "execution_count": null,
      "cell_type": "code",
      "metadata": {
        "collapsed": false
      },
      "source": [
        "import matplotlib.pyplot as plt\n\nfig = plt.figure()\nfig.suptitle('bold figure suptitle', fontsize=14, fontweight='bold')\n\nax = fig.add_subplot(111)\nfig.subplots_adjust(top=0.85)\nax.set_title('axes title')\n\nax.set_xlabel('xlabel')\nax.set_ylabel('ylabel')\n\nax.text(3, 8, 'boxed italics text in data coords', style='italic',\n        bbox={'facecolor': 'red', 'alpha': 0.5, 'pad': 10})\n\nax.text(2, 6, r'an equation: $E=mc^2$', fontsize=15)\n\nax.text(3, 2, u'unicode: Institut f\\374r Festk\\366rperphysik')\n\nax.text(0.95, 0.01, 'colored text in axes coords',\n        verticalalignment='bottom', horizontalalignment='right',\n        transform=ax.transAxes,\n        color='green', fontsize=15)\n\n\nax.plot([2], [1], 'o')\nax.annotate('annotate', xy=(2, 1), xytext=(3, 4),\n            arrowprops=dict(facecolor='black', shrink=0.05))\n\nax.axis([0, 10, 0, 10])\n\nplt.show()"
      ],
      "outputs": []
    }
  ],
  "nbformat": 4,
  "nbformat_minor": 0
}
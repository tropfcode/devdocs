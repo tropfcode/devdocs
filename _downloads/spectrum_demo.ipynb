{
  "metadata": {
    "language_info": {
      "version": "3.5.3",
      "codemirror_mode": {
        "version": 3,
        "name": "ipython"
      },
      "file_extension": ".py",
      "name": "python",
      "nbconvert_exporter": "python",
      "mimetype": "text/x-python",
      "pygments_lexer": "ipython3"
    },
    "kernelspec": {
      "display_name": "Python 3",
      "language": "python",
      "name": "python3"
    }
  },
  "cells": [
    {
      "execution_count": null,
      "cell_type": "code",
      "metadata": {
        "collapsed": false
      },
      "source": [
        "%matplotlib inline"
      ],
      "outputs": []
    },
    {
      "metadata": {},
      "cell_type": "markdown",
      "source": [
        "\n# Spectrum Representations\n\n\nThe plots show different spectrum representations of a sine signal with\nadditive noise. A (frequency) spectrum of a discrete-time signal is calculated\nby utilizing the fast Fourier transform (FFT).\n\n"
      ]
    },
    {
      "execution_count": null,
      "cell_type": "code",
      "metadata": {
        "collapsed": false
      },
      "source": [
        "import matplotlib.pyplot as plt\nimport numpy as np\n\n\nnp.random.seed(0)\n\ndt = 0.01  # sampling interval\nFs = 1 / dt  # sampling frequency\nt = np.arange(0, 10, dt)\n\n# generate noise:\nnse = np.random.randn(len(t))\nr = np.exp(-t / 0.05)\ncnse = np.convolve(nse, r) * dt\ncnse = cnse[:len(t)]\n\ns = 0.1 * np.sin(4 * np.pi * t) + cnse  # the signal\n\nfig, axes = plt.subplots(nrows=3, ncols=2, figsize=(7, 7))\n\n# plot time signal:\naxes[0, 0].set_title(\"Signal\")\naxes[0, 0].plot(t, s, color='C0')\naxes[0, 0].set_xlabel(\"Time\")\naxes[0, 0].set_ylabel(\"Amplitude\")\n\n# plot different spectrum types:\naxes[1, 0].set_title(\"Magnitude Spectrum\")\naxes[1, 0].magnitude_spectrum(s, Fs=Fs, color='C1')\n\naxes[1, 1].set_title(\"Log. Magnitude Spectrum\")\naxes[1, 1].magnitude_spectrum(s, Fs=Fs, scale='dB', color='C1')\n\naxes[2, 0].set_title(\"Phase Spectrum \")\naxes[2, 0].phase_spectrum(s, Fs=Fs, color='C2')\n\naxes[2, 1].set_title(\"Angle Spectrum\")\naxes[2, 1].angle_spectrum(s, Fs=Fs, color='C2')\n\naxes[0, 1].remove()  # don't display empty ax\n\nfig.tight_layout()\nplt.show()"
      ],
      "outputs": []
    }
  ],
  "nbformat": 4,
  "nbformat_minor": 0
}
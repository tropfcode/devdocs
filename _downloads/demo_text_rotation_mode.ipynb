{
  "metadata": {
    "language_info": {
      "version": "3.5.3",
      "codemirror_mode": {
        "version": 3,
        "name": "ipython"
      },
      "file_extension": ".py",
      "name": "python",
      "nbconvert_exporter": "python",
      "mimetype": "text/x-python",
      "pygments_lexer": "ipython3"
    },
    "kernelspec": {
      "display_name": "Python 3",
      "language": "python",
      "name": "python3"
    }
  },
  "cells": [
    {
      "execution_count": null,
      "cell_type": "code",
      "metadata": {
        "collapsed": false
      },
      "source": [
        "%matplotlib inline"
      ],
      "outputs": []
    },
    {
      "metadata": {},
      "cell_type": "markdown",
      "source": [
        "\n# Demo Text Rotation Mode\n\n\n\n"
      ]
    },
    {
      "execution_count": null,
      "cell_type": "code",
      "metadata": {
        "collapsed": false
      },
      "source": [
        "from mpl_toolkits.axes_grid1.axes_grid import ImageGrid\n\n\ndef test_rotation_mode(fig, mode, subplot_location):\n    ha_list = \"left center right\".split()\n    va_list = \"top center baseline bottom\".split()\n    grid = ImageGrid(fig, subplot_location,\n                     nrows_ncols=(len(va_list), len(ha_list)),\n                     share_all=True, aspect=True,\n                     # label_mode='1',\n                     cbar_mode=None)\n\n    for ha, ax in zip(ha_list, grid.axes_row[-1]):\n        ax.axis[\"bottom\"].label.set_text(ha)\n\n    grid.axes_row[0][1].set_title(mode, size=\"large\")\n\n    for va, ax in zip(va_list, grid.axes_column[0]):\n        ax.axis[\"left\"].label.set_text(va)\n\n    i = 0\n    for va in va_list:\n        for ha in ha_list:\n            ax = grid[i]\n            for axis in ax.axis.values():\n                axis.toggle(ticks=False, ticklabels=False)\n\n            ax.text(0.5, 0.5, \"Tpg\",\n                    size=\"large\", rotation=40,\n                    bbox=dict(boxstyle=\"square,pad=0.\",\n                              ec=\"none\", fc=\"0.5\", alpha=0.5),\n                    ha=ha, va=va,\n                    rotation_mode=mode)\n            ax.axvline(0.5)\n            ax.axhline(0.5)\n            i += 1\n\n\nif 1:\n    import matplotlib.pyplot as plt\n    fig = plt.figure(1, figsize=(5.5, 4))\n    fig.clf()\n\n    test_rotation_mode(fig, \"default\", 121)\n    test_rotation_mode(fig, \"anchor\", 122)\n    plt.show()"
      ],
      "outputs": []
    }
  ],
  "nbformat": 4,
  "nbformat_minor": 0
}
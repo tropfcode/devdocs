{
  "metadata": {
    "language_info": {
      "version": "3.5.3",
      "codemirror_mode": {
        "version": 3,
        "name": "ipython"
      },
      "file_extension": ".py",
      "name": "python",
      "nbconvert_exporter": "python",
      "mimetype": "text/x-python",
      "pygments_lexer": "ipython3"
    },
    "kernelspec": {
      "display_name": "Python 3",
      "language": "python",
      "name": "python3"
    }
  },
  "cells": [
    {
      "execution_count": null,
      "cell_type": "code",
      "metadata": {
        "collapsed": false
      },
      "source": [
        "%matplotlib inline"
      ],
      "outputs": []
    },
    {
      "metadata": {},
      "cell_type": "markdown",
      "source": [
        "\n# Demo Colorbar with Axes Divider\n\n\n\n"
      ]
    },
    {
      "execution_count": null,
      "cell_type": "code",
      "metadata": {
        "collapsed": false
      },
      "source": [
        "import matplotlib.pyplot as plt\nfrom mpl_toolkits.axes_grid1.axes_divider import make_axes_locatable\n\nfrom mpl_toolkits.axes_grid1.colorbar import colorbar\n# from matplotlib.pyplot import colorbar\n\nfig = plt.figure(1, figsize=(6, 3))\nfig.subplots_adjust(wspace=0.5)\n\nax1 = fig.add_subplot(121)\nim1 = ax1.imshow([[1, 2], [3, 4]])\n\nax1_divider = make_axes_locatable(ax1)\ncax1 = ax1_divider.append_axes(\"right\", size=\"7%\", pad=\"2%\")\ncb1 = colorbar(im1, cax=cax1)\n\nax2 = fig.add_subplot(122)\nim2 = ax2.imshow([[1, 2], [3, 4]])\n\nax2_divider = make_axes_locatable(ax2)\ncax2 = ax2_divider.append_axes(\"top\", size=\"7%\", pad=\"2%\")\ncb2 = colorbar(im2, cax=cax2, orientation=\"horizontal\")\ncax2.xaxis.set_ticks_position(\"top\")\nplt.show()"
      ],
      "outputs": []
    }
  ],
  "nbformat": 4,
  "nbformat_minor": 0
}
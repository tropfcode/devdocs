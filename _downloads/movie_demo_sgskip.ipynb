{
  "metadata": {
    "language_info": {
      "version": "3.5.3",
      "codemirror_mode": {
        "version": 3,
        "name": "ipython"
      },
      "file_extension": ".py",
      "name": "python",
      "nbconvert_exporter": "python",
      "mimetype": "text/x-python",
      "pygments_lexer": "ipython3"
    },
    "kernelspec": {
      "display_name": "Python 3",
      "language": "python",
      "name": "python3"
    }
  },
  "cells": [
    {
      "execution_count": null,
      "cell_type": "code",
      "metadata": {
        "collapsed": false
      },
      "source": [
        "%matplotlib inline"
      ],
      "outputs": []
    },
    {
      "metadata": {},
      "cell_type": "markdown",
      "source": [
        "\n# Movie Demo\n\n\n\n"
      ]
    },
    {
      "execution_count": null,
      "cell_type": "code",
      "metadata": {
        "collapsed": false
      },
      "source": [
        "from __future__ import print_function\n\nimport subprocess\nimport matplotlib.pyplot as plt\nimport numpy as np\n\n# Fixing random state for reproducibility\nnp.random.seed(19680801)\n\n\nfiles = []\n\nfig, ax = plt.subplots(figsize=(5, 5))\nfor i in range(50):  # 50 frames\n    plt.cla()\n    plt.imshow(np.random.rand(5, 5), interpolation='nearest')\n    fname = '_tmp%03d.png' % i\n    print('Saving frame', fname)\n    plt.savefig(fname)\n    files.append(fname)\n\nprint('Making movie animation.mpg - this may take a while')\nsubprocess.call(\"mencoder 'mf://_tmp*.png' -mf type=png:fps=10 -ovc lavc \"\n                \"-lavcopts vcodec=wmv2 -oac copy -o animation.mpg\", shell=True)\n\n# cleanup\nfor fname in files:\n    os.remove(fname)"
      ],
      "outputs": []
    }
  ],
  "nbformat": 4,
  "nbformat_minor": 0
}
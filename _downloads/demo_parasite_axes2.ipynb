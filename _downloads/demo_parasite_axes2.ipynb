{
  "metadata": {
    "language_info": {
      "version": "3.5.3",
      "codemirror_mode": {
        "version": 3,
        "name": "ipython"
      },
      "file_extension": ".py",
      "name": "python",
      "nbconvert_exporter": "python",
      "mimetype": "text/x-python",
      "pygments_lexer": "ipython3"
    },
    "kernelspec": {
      "display_name": "Python 3",
      "language": "python",
      "name": "python3"
    }
  },
  "cells": [
    {
      "execution_count": null,
      "cell_type": "code",
      "metadata": {
        "collapsed": false
      },
      "source": [
        "%matplotlib inline"
      ],
      "outputs": []
    },
    {
      "metadata": {},
      "cell_type": "markdown",
      "source": [
        "\n# Demo Parasite Axes2\n\n\nParasite axis demo\n\nThe following code is an example of a parasite axis. It aims to show a user how\nto plot multiple different values onto one single plot. Notice how in this\nexample, par1 and par2 are both calling twinx meaning both are tied directly to\nthe x-axis. From there, each of those two axis can behave separately from the\neach other, meaning they can take on separate values from themselves as well as\nthe x-axis.\n\n"
      ]
    },
    {
      "execution_count": null,
      "cell_type": "code",
      "metadata": {
        "collapsed": false
      },
      "source": [
        "from mpl_toolkits.axes_grid1 import host_subplot\nimport mpl_toolkits.axisartist as AA\nimport matplotlib.pyplot as plt\n\nhost = host_subplot(111, axes_class=AA.Axes)\nplt.subplots_adjust(right=0.75)\n\npar1 = host.twinx()\npar2 = host.twinx()\n\noffset = 60\nnew_fixed_axis = par2.get_grid_helper().new_fixed_axis\npar2.axis[\"right\"] = new_fixed_axis(loc=\"right\",\n                                    axes=par2,\n                                    offset=(offset, 0))\n\npar2.axis[\"right\"].toggle(all=True)\n\nhost.set_xlim(0, 2)\nhost.set_ylim(0, 2)\n\nhost.set_xlabel(\"Distance\")\nhost.set_ylabel(\"Density\")\npar1.set_ylabel(\"Temperature\")\npar2.set_ylabel(\"Velocity\")\n\np1, = host.plot([0, 1, 2], [0, 1, 2], label=\"Density\")\np2, = par1.plot([0, 1, 2], [0, 3, 2], label=\"Temperature\")\np3, = par2.plot([0, 1, 2], [50, 30, 15], label=\"Velocity\")\n\npar1.set_ylim(0, 4)\npar2.set_ylim(1, 65)\n\nhost.legend()\n\nhost.axis[\"left\"].label.set_color(p1.get_color())\npar1.axis[\"right\"].label.set_color(p2.get_color())\npar2.axis[\"right\"].label.set_color(p3.get_color())\n\nplt.draw()\nplt.show()"
      ],
      "outputs": []
    }
  ],
  "nbformat": 4,
  "nbformat_minor": 0
}
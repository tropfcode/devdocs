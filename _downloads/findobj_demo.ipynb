{
  "metadata": {
    "language_info": {
      "version": "3.5.3",
      "codemirror_mode": {
        "version": 3,
        "name": "ipython"
      },
      "file_extension": ".py",
      "name": "python",
      "nbconvert_exporter": "python",
      "mimetype": "text/x-python",
      "pygments_lexer": "ipython3"
    },
    "kernelspec": {
      "display_name": "Python 3",
      "language": "python",
      "name": "python3"
    }
  },
  "cells": [
    {
      "execution_count": null,
      "cell_type": "code",
      "metadata": {
        "collapsed": false
      },
      "source": [
        "%matplotlib inline"
      ],
      "outputs": []
    },
    {
      "metadata": {},
      "cell_type": "markdown",
      "source": [
        "\n# Findobj Demo\n\n\nRecursively find all objects that match some criteria\n\n"
      ]
    },
    {
      "execution_count": null,
      "cell_type": "code",
      "metadata": {
        "collapsed": false
      },
      "source": [
        "import numpy as np\nimport matplotlib.pyplot as plt\nimport matplotlib.text as text\n\na = np.arange(0, 3, .02)\nb = np.arange(0, 3, .02)\nc = np.exp(a)\nd = c[::-1]\n\nfig, ax = plt.subplots()\nplt.plot(a, c, 'k--', a, d, 'k:', a, c + d, 'k')\nplt.legend(('Model length', 'Data length', 'Total message length'),\n           loc='upper center', shadow=True)\nplt.ylim([-1, 20])\nplt.grid(False)\nplt.xlabel('Model complexity --->')\nplt.ylabel('Message length --->')\nplt.title('Minimum Message Length')\n\n\n# match on arbitrary function\ndef myfunc(x):\n    return hasattr(x, 'set_color') and not hasattr(x, 'set_facecolor')\n\n\nfor o in fig.findobj(myfunc):\n    o.set_color('blue')\n\n# match on class instances\nfor o in fig.findobj(text.Text):\n    o.set_fontstyle('italic')\n\n\nplt.show()"
      ],
      "outputs": []
    }
  ],
  "nbformat": 4,
  "nbformat_minor": 0
}
{
  "metadata": {
    "language_info": {
      "version": "3.5.3",
      "codemirror_mode": {
        "version": 3,
        "name": "ipython"
      },
      "file_extension": ".py",
      "name": "python",
      "nbconvert_exporter": "python",
      "mimetype": "text/x-python",
      "pygments_lexer": "ipython3"
    },
    "kernelspec": {
      "display_name": "Python 3",
      "language": "python",
      "name": "python3"
    }
  },
  "cells": [
    {
      "execution_count": null,
      "cell_type": "code",
      "metadata": {
        "collapsed": false
      },
      "source": [
        "%matplotlib inline"
      ],
      "outputs": []
    },
    {
      "metadata": {},
      "cell_type": "markdown",
      "source": [
        "\n# Boxplot Demo\n\n\nExample boxplot code\n\n"
      ]
    },
    {
      "execution_count": null,
      "cell_type": "code",
      "metadata": {
        "collapsed": false
      },
      "source": [
        "import numpy as np\nimport matplotlib.pyplot as plt\n\n# Fixing random state for reproducibility\nnp.random.seed(19680801)\n\n# fake up some data\nspread = np.random.rand(50) * 100\ncenter = np.ones(25) * 50\nflier_high = np.random.rand(10) * 100 + 100\nflier_low = np.random.rand(10) * -100\ndata = np.concatenate((spread, center, flier_high, flier_low), 0)"
      ],
      "outputs": []
    },
    {
      "execution_count": null,
      "cell_type": "code",
      "metadata": {
        "collapsed": false
      },
      "source": [
        "fig1, ax1 = plt.subplots()\nax1.set_title('Basic Plot')\nax1.boxplot(data)"
      ],
      "outputs": []
    },
    {
      "execution_count": null,
      "cell_type": "code",
      "metadata": {
        "collapsed": false
      },
      "source": [
        "fig2, ax2 = plt.subplots()\nax2.set_title('Notched boxes')\nax2.boxplot(data, notch=True)"
      ],
      "outputs": []
    },
    {
      "execution_count": null,
      "cell_type": "code",
      "metadata": {
        "collapsed": false
      },
      "source": [
        "green_diamond = dict(markerfacecolor='g', marker='D')\nfig3, ax3 = plt.subplots()\nax3.set_title('Changed Outlier Symbols')\nax3.boxplot(data, flierprops=green_diamond)"
      ],
      "outputs": []
    },
    {
      "execution_count": null,
      "cell_type": "code",
      "metadata": {
        "collapsed": false
      },
      "source": [
        "fig4, ax4 = plt.subplots()\nax4.set_title('Hide Outlier Points')\nax4.boxplot(data, showfliers=False)"
      ],
      "outputs": []
    },
    {
      "execution_count": null,
      "cell_type": "code",
      "metadata": {
        "collapsed": false
      },
      "source": [
        "red_square = dict(markerfacecolor='r', marker='s')\nfig5, ax5 = plt.subplots()\nax5.set_title('Horizontal Boxes')\nax5.boxplot(data, vert=False, flierprops=red_square)"
      ],
      "outputs": []
    },
    {
      "execution_count": null,
      "cell_type": "code",
      "metadata": {
        "collapsed": false
      },
      "source": [
        "fig6, ax6 = plt.subplots()\nax6.set_title('Shorter Whisker Length')\nax6.boxplot(data, flierprops=red_square, vert=False, whis=0.75)"
      ],
      "outputs": []
    },
    {
      "metadata": {},
      "cell_type": "markdown",
      "source": [
        "Fake up some more data\n\n"
      ]
    },
    {
      "execution_count": null,
      "cell_type": "code",
      "metadata": {
        "collapsed": false
      },
      "source": [
        "spread = np.random.rand(50) * 100\ncenter = np.ones(25) * 40\nflier_high = np.random.rand(10) * 100 + 100\nflier_low = np.random.rand(10) * -100\nd2 = np.concatenate((spread, center, flier_high, flier_low), 0)\ndata.shape = (-1, 1)\nd2.shape = (-1, 1)"
      ],
      "outputs": []
    },
    {
      "metadata": {},
      "cell_type": "markdown",
      "source": [
        "Making a 2-D array only works if all the columns are the\nsame length.  If they are not, then use a list instead.\nThis is actually more efficient because boxplot converts\na 2-D array into a list of vectors internally anyway.\n\n"
      ]
    },
    {
      "execution_count": null,
      "cell_type": "code",
      "metadata": {
        "collapsed": false
      },
      "source": [
        "data = [data, d2, d2[::2,0]]\nfig7, ax7 = plt.subplots()\nax7.set_title('Multiple Samples with Different sizes')\nax7.boxplot(data)\n\nplt.show()"
      ],
      "outputs": []
    }
  ],
  "nbformat": 4,
  "nbformat_minor": 0
}
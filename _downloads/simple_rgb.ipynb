{
  "metadata": {
    "language_info": {
      "version": "3.5.3",
      "codemirror_mode": {
        "version": 3,
        "name": "ipython"
      },
      "file_extension": ".py",
      "name": "python",
      "nbconvert_exporter": "python",
      "mimetype": "text/x-python",
      "pygments_lexer": "ipython3"
    },
    "kernelspec": {
      "display_name": "Python 3",
      "language": "python",
      "name": "python3"
    }
  },
  "cells": [
    {
      "execution_count": null,
      "cell_type": "code",
      "metadata": {
        "collapsed": false
      },
      "source": [
        "%matplotlib inline"
      ],
      "outputs": []
    },
    {
      "metadata": {},
      "cell_type": "markdown",
      "source": [
        "\n# Simple RGB\n\n\n\n"
      ]
    },
    {
      "execution_count": null,
      "cell_type": "code",
      "metadata": {
        "collapsed": false
      },
      "source": [
        "import matplotlib.pyplot as plt\n\nfrom mpl_toolkits.axes_grid1.axes_rgb import RGBAxes\n\n\ndef get_demo_image():\n    import numpy as np\n    from matplotlib.cbook import get_sample_data\n    f = get_sample_data(\"axes_grid/bivariate_normal.npy\", asfileobj=False)\n    z = np.load(f)\n    # z is a numpy array of 15x15\n    return z, (-3, 4, -4, 3)\n\n\ndef get_rgb():\n    Z, extent = get_demo_image()\n\n    Z[Z < 0] = 0.\n    Z = Z / Z.max()\n\n    R = Z[:13, :13]\n    G = Z[2:, 2:]\n    B = Z[:13, 2:]\n\n    return R, G, B\n\n\nfig = plt.figure(1)\nax = RGBAxes(fig, [0.1, 0.1, 0.8, 0.8])\n\nr, g, b = get_rgb()\nkwargs = dict(origin=\"lower\", interpolation=\"nearest\")\nax.imshow_rgb(r, g, b, **kwargs)\n\nax.RGB.set_xlim(0., 9.5)\nax.RGB.set_ylim(0.9, 10.6)\n\nplt.show()"
      ],
      "outputs": []
    }
  ],
  "nbformat": 4,
  "nbformat_minor": 0
}
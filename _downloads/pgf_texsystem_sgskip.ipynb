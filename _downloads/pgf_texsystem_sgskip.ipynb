{
  "metadata": {
    "language_info": {
      "version": "3.5.3",
      "codemirror_mode": {
        "version": 3,
        "name": "ipython"
      },
      "file_extension": ".py",
      "name": "python",
      "nbconvert_exporter": "python",
      "mimetype": "text/x-python",
      "pygments_lexer": "ipython3"
    },
    "kernelspec": {
      "display_name": "Python 3",
      "language": "python",
      "name": "python3"
    }
  },
  "cells": [
    {
      "execution_count": null,
      "cell_type": "code",
      "metadata": {
        "collapsed": false
      },
      "source": [
        "%matplotlib inline"
      ],
      "outputs": []
    },
    {
      "metadata": {},
      "cell_type": "markdown",
      "source": [
        "\n# Pgf Texsystem\n\n\n\n"
      ]
    },
    {
      "execution_count": null,
      "cell_type": "code",
      "metadata": {
        "collapsed": false
      },
      "source": [
        "# -*- coding: utf-8 -*-\n\nimport matplotlib as mpl\nmpl.use(\"pgf\")\npgf_with_pdflatex = {\n    \"pgf.texsystem\": \"pdflatex\",\n    \"pgf.preamble\": [\n         r\"\\usepackage[utf8x]{inputenc}\",\n         r\"\\usepackage[T1]{fontenc}\",\n         r\"\\usepackage{cmbright}\",\n         ]\n}\nmpl.rcParams.update(pgf_with_pdflatex)\n\nimport matplotlib.pyplot as plt\nplt.figure(figsize=(4.5, 2.5))\nplt.plot(range(5))\nplt.text(0.5, 3., \"serif\", family=\"serif\")\nplt.text(0.5, 2., \"monospace\", family=\"monospace\")\nplt.text(2.5, 2., \"sans-serif\", family=\"sans-serif\")\nplt.xlabel(u\"\u00b5 is not $\\\\mu$\")\nplt.tight_layout(.5)\n\nplt.savefig(\"pgf_texsystem.pdf\")\nplt.savefig(\"pgf_texsystem.png\")"
      ],
      "outputs": []
    }
  ],
  "nbformat": 4,
  "nbformat_minor": 0
}
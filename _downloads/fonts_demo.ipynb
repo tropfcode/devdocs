{
  "metadata": {
    "language_info": {
      "version": "3.5.3",
      "codemirror_mode": {
        "version": 3,
        "name": "ipython"
      },
      "file_extension": ".py",
      "name": "python",
      "nbconvert_exporter": "python",
      "mimetype": "text/x-python",
      "pygments_lexer": "ipython3"
    },
    "kernelspec": {
      "display_name": "Python 3",
      "language": "python",
      "name": "python3"
    }
  },
  "cells": [
    {
      "execution_count": null,
      "cell_type": "code",
      "metadata": {
        "collapsed": false
      },
      "source": [
        "%matplotlib inline"
      ],
      "outputs": []
    },
    {
      "metadata": {},
      "cell_type": "markdown",
      "source": [
        "\n# Fonts Demo\n\n\nShow how to set custom font properties.\n\nFor interactive users, you can also use kwargs to the text command,\nwhich requires less typing.  See examples/fonts_demo_kw.py\n\n"
      ]
    },
    {
      "execution_count": null,
      "cell_type": "code",
      "metadata": {
        "collapsed": false
      },
      "source": [
        "from matplotlib.font_manager import FontProperties\nimport matplotlib.pyplot as plt\n\nplt.subplot(111, facecolor='w')\n\nfont0 = FontProperties()\nalignment = {'horizontalalignment': 'center', 'verticalalignment': 'baseline'}\n# Show family options\n\nfamilies = ['serif', 'sans-serif', 'cursive', 'fantasy', 'monospace']\n\nfont1 = font0.copy()\nfont1.set_size('large')\n\nt = plt.text(-0.8, 0.9, 'family', fontproperties=font1,\n             **alignment)\n\nyp = [0.8, 0.7, 0.6, 0.5, 0.4, 0.3, 0.2]\n\nfor k, family in enumerate(families):\n    font = font0.copy()\n    font.set_family(family)\n    t = plt.text(-0.8, yp[k], family, fontproperties=font,\n                 **alignment)\n\n# Show style options\n\nstyles = ['normal', 'italic', 'oblique']\n\nt = plt.text(-0.4, 0.9, 'style', fontproperties=font1,\n             **alignment)\n\nfor k, style in enumerate(styles):\n    font = font0.copy()\n    font.set_family('sans-serif')\n    font.set_style(style)\n    t = plt.text(-0.4, yp[k], style, fontproperties=font,\n                 **alignment)\n\n# Show variant options\n\nvariants = ['normal', 'small-caps']\n\nt = plt.text(0.0, 0.9, 'variant', fontproperties=font1,\n             **alignment)\n\nfor k, variant in enumerate(variants):\n    font = font0.copy()\n    font.set_family('serif')\n    font.set_variant(variant)\n    t = plt.text(0.0, yp[k], variant, fontproperties=font,\n                 **alignment)\n\n# Show weight options\n\nweights = ['light', 'normal', 'medium', 'semibold', 'bold', 'heavy', 'black']\n\nt = plt.text(0.4, 0.9, 'weight', fontproperties=font1,\n             **alignment)\n\nfor k, weight in enumerate(weights):\n    font = font0.copy()\n    font.set_weight(weight)\n    t = plt.text(0.4, yp[k], weight, fontproperties=font,\n                 **alignment)\n\n# Show size options\n\nsizes = ['xx-small', 'x-small', 'small', 'medium', 'large',\n         'x-large', 'xx-large']\n\nt = plt.text(0.8, 0.9, 'size', fontproperties=font1,\n             **alignment)\n\nfor k, size in enumerate(sizes):\n    font = font0.copy()\n    font.set_size(size)\n    t = plt.text(0.8, yp[k], size, fontproperties=font,\n                 **alignment)\n\n# Show bold italic\n\nfont = font0.copy()\nfont.set_style('italic')\nfont.set_weight('bold')\nfont.set_size('x-small')\nt = plt.text(-0.4, 0.1, 'bold italic', fontproperties=font,\n             **alignment)\n\nfont = font0.copy()\nfont.set_style('italic')\nfont.set_weight('bold')\nfont.set_size('medium')\nt = plt.text(-0.4, 0.2, 'bold italic', fontproperties=font,\n             **alignment)\n\nfont = font0.copy()\nfont.set_style('italic')\nfont.set_weight('bold')\nfont.set_size('x-large')\nt = plt.text(-0.4, 0.3, 'bold italic', fontproperties=font,\n             **alignment)\n\nplt.axis([-1, 1, 0, 1])\n\nplt.show()"
      ],
      "outputs": []
    }
  ],
  "nbformat": 4,
  "nbformat_minor": 0
}
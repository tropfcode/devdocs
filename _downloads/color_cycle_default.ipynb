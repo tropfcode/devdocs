{
  "metadata": {
    "language_info": {
      "version": "3.5.3",
      "codemirror_mode": {
        "version": 3,
        "name": "ipython"
      },
      "file_extension": ".py",
      "name": "python",
      "nbconvert_exporter": "python",
      "mimetype": "text/x-python",
      "pygments_lexer": "ipython3"
    },
    "kernelspec": {
      "display_name": "Python 3",
      "language": "python",
      "name": "python3"
    }
  },
  "cells": [
    {
      "execution_count": null,
      "cell_type": "code",
      "metadata": {
        "collapsed": false
      },
      "source": [
        "%matplotlib inline"
      ],
      "outputs": []
    },
    {
      "metadata": {},
      "cell_type": "markdown",
      "source": [
        "\n# Colors in the default property cycle\n\n\nDisplay the colors from the default prop_cycle.\n\n"
      ]
    },
    {
      "execution_count": null,
      "cell_type": "code",
      "metadata": {
        "collapsed": false
      },
      "source": [
        "import numpy as np\nimport matplotlib.pyplot as plt\n\n\nprop_cycle = plt.rcParams['axes.prop_cycle']\ncolors = prop_cycle.by_key()['color']\n\nlwbase = plt.rcParams['lines.linewidth']\nthin = float('%.1f' % (lwbase / 2))\nthick = lwbase * 3\n\nfig, axs = plt.subplots(nrows=2, ncols=2, sharex=True, sharey=True)\nfor icol in range(2):\n    if icol == 0:\n        lwx, lwy = thin, lwbase\n    else:\n        lwx, lwy = lwbase, thick\n    for irow in range(2):\n        for i, color in enumerate(colors):\n            axs[irow, icol].axhline(i, color=color, lw=lwx)\n            axs[irow, icol].axvline(i, color=color, lw=lwy)\n\n    axs[1, icol].set_facecolor('k')\n    axs[1, icol].xaxis.set_ticks(np.arange(0, 10, 2))\n    axs[0, icol].set_title('line widths (pts): %.1f, %.1f' % (lwx, lwy),\n                           fontsize='medium')\n\nfor irow in range(2):\n    axs[irow, 0].yaxis.set_ticks(np.arange(0, 10, 2))\n\nfig.suptitle('Colors in the default prop_cycle', fontsize='large')\n\nplt.show()"
      ],
      "outputs": []
    }
  ],
  "nbformat": 4,
  "nbformat_minor": 0
}
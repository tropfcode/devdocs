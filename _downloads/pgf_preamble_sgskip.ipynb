{
  "metadata": {
    "language_info": {
      "version": "3.5.3",
      "codemirror_mode": {
        "version": 3,
        "name": "ipython"
      },
      "file_extension": ".py",
      "name": "python",
      "nbconvert_exporter": "python",
      "mimetype": "text/x-python",
      "pygments_lexer": "ipython3"
    },
    "kernelspec": {
      "display_name": "Python 3",
      "language": "python",
      "name": "python3"
    }
  },
  "cells": [
    {
      "execution_count": null,
      "cell_type": "code",
      "metadata": {
        "collapsed": false
      },
      "source": [
        "%matplotlib inline"
      ],
      "outputs": []
    },
    {
      "metadata": {},
      "cell_type": "markdown",
      "source": [
        "\n# Pgf Preamble\n\n\n\n"
      ]
    },
    {
      "execution_count": null,
      "cell_type": "code",
      "metadata": {
        "collapsed": false
      },
      "source": [
        "# -*- coding: utf-8 -*-\nfrom __future__ import (absolute_import, division, print_function,\n                        unicode_literals)\n\nimport six\n\nimport matplotlib as mpl\nmpl.use(\"pgf\")\npgf_with_custom_preamble = {\n    \"font.family\": \"serif\",  # use serif/main font for text elements\n    \"text.usetex\": True,     # use inline math for ticks\n    \"pgf.rcfonts\": False,    # don't setup fonts from rc parameters\n    \"pgf.preamble\": [\n         \"\\\\usepackage{units}\",          # load additional packages\n         \"\\\\usepackage{metalogo}\",\n         \"\\\\usepackage{unicode-math}\",   # unicode math setup\n         r\"\\setmathfont{xits-math.otf}\",\n         r\"\\setmainfont{DejaVu Serif}\",  # serif font via preamble\n         ]\n}\nmpl.rcParams.update(pgf_with_custom_preamble)\n\nimport matplotlib.pyplot as plt\nplt.figure(figsize=(4.5, 2.5))\nplt.plot(range(5))\nplt.xlabel(\"unicode text: \u044f, \u03c8, \u20ac, \u00fc, \\\\unitfrac[10]{\u00b0}{\u00b5m}\")\nplt.ylabel(\"\\\\XeLaTeX\")\nplt.legend([\"unicode math: $\u03bb=\u2211_i^\u221e \u03bc_i^2$\"])\nplt.tight_layout(.5)\n\nplt.savefig(\"pgf_preamble.pdf\")\nplt.savefig(\"pgf_preamble.png\")"
      ],
      "outputs": []
    }
  ],
  "nbformat": 4,
  "nbformat_minor": 0
}
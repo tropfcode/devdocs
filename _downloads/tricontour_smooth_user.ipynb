{
  "metadata": {
    "language_info": {
      "version": "3.5.3",
      "codemirror_mode": {
        "version": 3,
        "name": "ipython"
      },
      "file_extension": ".py",
      "name": "python",
      "nbconvert_exporter": "python",
      "mimetype": "text/x-python",
      "pygments_lexer": "ipython3"
    },
    "kernelspec": {
      "display_name": "Python 3",
      "language": "python",
      "name": "python3"
    }
  },
  "cells": [
    {
      "execution_count": null,
      "cell_type": "code",
      "metadata": {
        "collapsed": false
      },
      "source": [
        "%matplotlib inline"
      ],
      "outputs": []
    },
    {
      "metadata": {},
      "cell_type": "markdown",
      "source": [
        "\n# Tricontour Smooth User\n\n\nDemonstrates high-resolution tricontouring on user-defined triangular grids\nwith matplotlib.tri.UniformTriRefiner\n\n"
      ]
    },
    {
      "execution_count": null,
      "cell_type": "code",
      "metadata": {
        "collapsed": false
      },
      "source": [
        "import matplotlib.tri as tri\nimport matplotlib.pyplot as plt\nimport matplotlib.cm as cm\nimport numpy as np\nimport math\n\n\n#-----------------------------------------------------------------------------\n# Analytical test function\n#-----------------------------------------------------------------------------\ndef function_z(x, y):\n    \"\"\" A function of 2 variables \"\"\"\n    r1 = np.sqrt((0.5 - x)**2 + (0.5 - y)**2)\n    theta1 = np.arctan2(0.5 - x, 0.5 - y)\n    r2 = np.sqrt((-x - 0.2)**2 + (-y - 0.2)**2)\n    theta2 = np.arctan2(-x - 0.2, -y - 0.2)\n    z = -(2 * (np.exp((r1 / 10)**2) - 1) * 30. * np.cos(7. * theta1) +\n          (np.exp((r2 / 10)**2) - 1) * 30. * np.cos(11. * theta2) +\n          0.7 * (x**2 + y**2))\n    return (np.max(z) - z) / (np.max(z) - np.min(z))\n\n#-----------------------------------------------------------------------------\n# Creating a Triangulation\n#-----------------------------------------------------------------------------\n# First create the x and y coordinates of the points.\nn_angles = 20\nn_radii = 10\nmin_radius = 0.15\nradii = np.linspace(min_radius, 0.95, n_radii)\n\nangles = np.linspace(0, 2 * math.pi, n_angles, endpoint=False)\nangles = np.repeat(angles[..., np.newaxis], n_radii, axis=1)\nangles[:, 1::2] += math.pi / n_angles\n\nx = (radii * np.cos(angles)).flatten()\ny = (radii * np.sin(angles)).flatten()\nz = function_z(x, y)\n\n# Now create the Triangulation.\n# (Creating a Triangulation without specifying the triangles results in the\n# Delaunay triangulation of the points.)\ntriang = tri.Triangulation(x, y)\n\n# Mask off unwanted triangles.\nxmid = x[triang.triangles].mean(axis=1)\nymid = y[triang.triangles].mean(axis=1)\nmask = np.where(xmid * xmid + ymid * ymid < min_radius * min_radius, 1, 0)\ntriang.set_mask(mask)\n\n#-----------------------------------------------------------------------------\n# Refine data\n#-----------------------------------------------------------------------------\nrefiner = tri.UniformTriRefiner(triang)\ntri_refi, z_test_refi = refiner.refine_field(z, subdiv=3)\n\n#-----------------------------------------------------------------------------\n# Plot the triangulation and the high-res iso-contours\n#-----------------------------------------------------------------------------\nplt.figure()\nplt.gca().set_aspect('equal')\nplt.triplot(triang, lw=0.5, color='white')\n\nlevels = np.arange(0., 1., 0.025)\ncmap = cm.get_cmap(name='terrain', lut=None)\nplt.tricontourf(tri_refi, z_test_refi, levels=levels, cmap=cmap)\nplt.tricontour(tri_refi, z_test_refi, levels=levels,\n               colors=['0.25', '0.5', '0.5', '0.5', '0.5'],\n               linewidths=[1.0, 0.5, 0.5, 0.5, 0.5])\n\nplt.title(\"High-resolution tricontouring\")\n\nplt.show()"
      ],
      "outputs": []
    }
  ],
  "nbformat": 4,
  "nbformat_minor": 0
}
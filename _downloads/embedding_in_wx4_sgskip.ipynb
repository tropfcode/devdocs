{
  "metadata": {
    "language_info": {
      "version": "3.5.3",
      "codemirror_mode": {
        "version": 3,
        "name": "ipython"
      },
      "file_extension": ".py",
      "name": "python",
      "nbconvert_exporter": "python",
      "mimetype": "text/x-python",
      "pygments_lexer": "ipython3"
    },
    "kernelspec": {
      "display_name": "Python 3",
      "language": "python",
      "name": "python3"
    }
  },
  "cells": [
    {
      "execution_count": null,
      "cell_type": "code",
      "metadata": {
        "collapsed": false
      },
      "source": [
        "%matplotlib inline"
      ],
      "outputs": []
    },
    {
      "metadata": {},
      "cell_type": "markdown",
      "source": [
        "\n# Embedding In Wx4\n\n\nAn example of how to use wx or wxagg in an application with a custom\ntoolbar\n\n"
      ]
    },
    {
      "execution_count": null,
      "cell_type": "code",
      "metadata": {
        "collapsed": false
      },
      "source": [
        "# matplotlib requires wxPython 2.8+\n# set the wxPython version in lib\\site-packages\\wx.pth file\n# or if you have wxversion installed un-comment the lines below\n#import wxversion\n#wxversion.ensureMinimal('2.8')\n\nfrom numpy import arange, sin, pi\n\nimport matplotlib\n\nmatplotlib.use('WXAgg')\nfrom matplotlib.backends.backend_wxagg import FigureCanvasWxAgg as FigureCanvas\nfrom matplotlib.backends.backend_wxagg import NavigationToolbar2WxAgg\n\nfrom matplotlib.backends.backend_wx import _load_bitmap\nfrom matplotlib.figure import Figure\nfrom numpy.random import rand\n\nimport wx\n\n\nclass MyNavigationToolbar(NavigationToolbar2WxAgg):\n    \"\"\"\n    Extend the default wx toolbar with your own event handlers\n    \"\"\"\n    ON_CUSTOM = wx.NewId()\n\n    def __init__(self, canvas, cankill):\n        NavigationToolbar2WxAgg.__init__(self, canvas)\n\n        # for simplicity I'm going to reuse a bitmap from wx, you'll\n        # probably want to add your own.\n        if 'phoenix' in wx.PlatformInfo:\n            self.AddTool(self.ON_CUSTOM, 'Click me',\n                         _load_bitmap('back.png'),\n                         'Activate custom contol')\n            self.Bind(wx.EVT_TOOL, self._on_custom, id=self.ON_CUSTOM)\n        else:\n            self.AddSimpleTool(self.ON_CUSTOM, _load_bitmap('back.png'),\n                               'Click me', 'Activate custom contol')\n            self.Bind(wx.EVT_TOOL, self._on_custom, id=self.ON_CUSTOM)\n\n    def _on_custom(self, evt):\n        # add some text to the axes in a random location in axes (0,1)\n        # coords) with a random color\n\n        # get the axes\n        ax = self.canvas.figure.axes[0]\n\n        # generate a random location can color\n        x, y = tuple(rand(2))\n        rgb = tuple(rand(3))\n\n        # add the text and draw\n        ax.text(x, y, 'You clicked me',\n                transform=ax.transAxes,\n                color=rgb)\n        self.canvas.draw()\n        evt.Skip()\n\n\nclass CanvasFrame(wx.Frame):\n    def __init__(self):\n        wx.Frame.__init__(self, None, -1,\n                          'CanvasFrame', size=(550, 350))\n\n        self.figure = Figure(figsize=(5, 4), dpi=100)\n        self.axes = self.figure.add_subplot(111)\n        t = arange(0.0, 3.0, 0.01)\n        s = sin(2 * pi * t)\n\n        self.axes.plot(t, s)\n\n        self.canvas = FigureCanvas(self, -1, self.figure)\n\n        self.sizer = wx.BoxSizer(wx.VERTICAL)\n        self.sizer.Add(self.canvas, 1, wx.TOP | wx.LEFT | wx.EXPAND)\n        # Capture the paint message\n        self.Bind(wx.EVT_PAINT, self.OnPaint)\n\n        self.toolbar = MyNavigationToolbar(self.canvas, True)\n        self.toolbar.Realize()\n        # By adding toolbar in sizer, we are able to put it at the bottom\n        # of the frame - so appearance is closer to GTK version.\n        self.sizer.Add(self.toolbar, 0, wx.LEFT | wx.EXPAND)\n\n        # update the axes menu on the toolbar\n        self.toolbar.update()\n        self.SetSizer(self.sizer)\n        self.Fit()\n\n    def OnPaint(self, event):\n        self.canvas.draw()\n        event.Skip()\n\n\nclass App(wx.App):\n    def OnInit(self):\n        'Create the main window and insert the custom frame'\n        frame = CanvasFrame()\n        frame.Show(True)\n\n        return True\n\napp = App(0)\napp.MainLoop()"
      ],
      "outputs": []
    }
  ],
  "nbformat": 4,
  "nbformat_minor": 0
}
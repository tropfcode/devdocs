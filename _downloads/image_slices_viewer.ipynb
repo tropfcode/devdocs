{
  "metadata": {
    "language_info": {
      "version": "3.5.3",
      "codemirror_mode": {
        "version": 3,
        "name": "ipython"
      },
      "file_extension": ".py",
      "name": "python",
      "nbconvert_exporter": "python",
      "mimetype": "text/x-python",
      "pygments_lexer": "ipython3"
    },
    "kernelspec": {
      "display_name": "Python 3",
      "language": "python",
      "name": "python3"
    }
  },
  "cells": [
    {
      "execution_count": null,
      "cell_type": "code",
      "metadata": {
        "collapsed": false
      },
      "source": [
        "%matplotlib inline"
      ],
      "outputs": []
    },
    {
      "metadata": {},
      "cell_type": "markdown",
      "source": [
        "\n# Image Slices Viewer\n\n\nThis example demonstrates how to scroll through 2D image slices of a 3D array.\n\n"
      ]
    },
    {
      "execution_count": null,
      "cell_type": "code",
      "metadata": {
        "collapsed": false
      },
      "source": [
        "from __future__ import print_function\n\nimport numpy as np\nimport matplotlib.pyplot as plt\n\n\nclass IndexTracker(object):\n    def __init__(self, ax, X):\n        self.ax = ax\n        ax.set_title('use scroll wheel to navigate images')\n\n        self.X = X\n        rows, cols, self.slices = X.shape\n        self.ind = self.slices//2\n\n        self.im = ax.imshow(self.X[:, :, self.ind])\n        self.update()\n\n    def onscroll(self, event):\n        print(\"%s %s\" % (event.button, event.step))\n        if event.button == 'up':\n            self.ind = (self.ind + 1) % self.slices\n        else:\n            self.ind = (self.ind - 1) % self.slices\n        self.update()\n\n    def update(self):\n        self.im.set_data(self.X[:, :, self.ind])\n        ax.set_ylabel('slice %s' % self.ind)\n        self.im.axes.figure.canvas.draw()\n\n\nfig, ax = plt.subplots(1, 1)\n\nX = np.random.rand(20, 20, 40)\n\ntracker = IndexTracker(ax, X)\n\n\nfig.canvas.mpl_connect('scroll_event', tracker.onscroll)\nplt.show()"
      ],
      "outputs": []
    }
  ],
  "nbformat": 4,
  "nbformat_minor": 0
}
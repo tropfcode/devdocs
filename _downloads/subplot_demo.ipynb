{
  "metadata": {
    "language_info": {
      "version": "3.5.3",
      "codemirror_mode": {
        "version": 3,
        "name": "ipython"
      },
      "file_extension": ".py",
      "name": "python",
      "nbconvert_exporter": "python",
      "mimetype": "text/x-python",
      "pygments_lexer": "ipython3"
    },
    "kernelspec": {
      "display_name": "Python 3",
      "language": "python",
      "name": "python3"
    }
  },
  "cells": [
    {
      "execution_count": null,
      "cell_type": "code",
      "metadata": {
        "collapsed": false
      },
      "source": [
        "%matplotlib inline"
      ],
      "outputs": []
    },
    {
      "metadata": {},
      "cell_type": "markdown",
      "source": [
        "\n# Basic Subplot Demo\n\n\nDemo with two subplots.\nFor more options, see\n`sphx_glr_gallery_subplots_axes_and_figures_subplots_demo.py`\n\n"
      ]
    },
    {
      "execution_count": null,
      "cell_type": "code",
      "metadata": {
        "collapsed": false
      },
      "source": [
        "import numpy as np\nimport matplotlib.pyplot as plt\n\n# Data for plotting\nx1 = np.linspace(0.0, 5.0)\nx2 = np.linspace(0.0, 2.0)\ny1 = np.cos(2 * np.pi * x1) * np.exp(-x1)\ny2 = np.cos(2 * np.pi * x2)\n\n# Create two subplots sharing y axis\nfig, (ax1, ax2) = plt.subplots(2, sharey=True)\n\nax1.plot(x1, y1, 'ko-')\nax1.set(title='A tale of 2 subplots', ylabel='Damped oscillation')\n\nax2.plot(x2, y2, 'r.-')\nax2.set(xlabel='time (s)', ylabel='Undamped')\n\nplt.show()"
      ],
      "outputs": []
    }
  ],
  "nbformat": 4,
  "nbformat_minor": 0
}
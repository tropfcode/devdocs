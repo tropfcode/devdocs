{
  "metadata": {
    "language_info": {
      "version": "3.5.3",
      "codemirror_mode": {
        "version": 3,
        "name": "ipython"
      },
      "file_extension": ".py",
      "name": "python",
      "nbconvert_exporter": "python",
      "mimetype": "text/x-python",
      "pygments_lexer": "ipython3"
    },
    "kernelspec": {
      "display_name": "Python 3",
      "language": "python",
      "name": "python3"
    }
  },
  "cells": [
    {
      "execution_count": null,
      "cell_type": "code",
      "metadata": {
        "collapsed": false
      },
      "source": [
        "%matplotlib inline"
      ],
      "outputs": []
    },
    {
      "metadata": {},
      "cell_type": "markdown",
      "source": [
        "\n# Custom Ticker1\n\n\nThe new ticker code was designed to explicitly support user customized\nticking.  The documentation\nhttp://matplotlib.org/matplotlib.ticker.html details this\nprocess.  That code defines a lot of preset tickers but was primarily\ndesigned to be user extensible.\n\nIn this example a user defined function is used to format the ticks in\nmillions of dollars on the y axis\n\n"
      ]
    },
    {
      "execution_count": null,
      "cell_type": "code",
      "metadata": {
        "collapsed": false
      },
      "source": [
        "from matplotlib.ticker import FuncFormatter\nimport matplotlib.pyplot as plt\nimport numpy as np\n\nx = np.arange(4)\nmoney = [1.5e5, 2.5e6, 5.5e6, 2.0e7]\n\n\ndef millions(x, pos):\n    'The two args are the value and tick position'\n    return '$%1.1fM' % (x * 1e-6)\n\n\nformatter = FuncFormatter(millions)\n\nfig, ax = plt.subplots()\nax.yaxis.set_major_formatter(formatter)\nplt.bar(x, money)\nplt.xticks(x, ('Bill', 'Fred', 'Mary', 'Sue'))\nplt.show()"
      ],
      "outputs": []
    }
  ],
  "nbformat": 4,
  "nbformat_minor": 0
}
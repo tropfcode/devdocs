{
  "metadata": {
    "language_info": {
      "version": "3.5.3",
      "codemirror_mode": {
        "version": 3,
        "name": "ipython"
      },
      "file_extension": ".py",
      "name": "python",
      "nbconvert_exporter": "python",
      "mimetype": "text/x-python",
      "pygments_lexer": "ipython3"
    },
    "kernelspec": {
      "display_name": "Python 3",
      "language": "python",
      "name": "python3"
    }
  },
  "cells": [
    {
      "execution_count": null,
      "cell_type": "code",
      "metadata": {
        "collapsed": false
      },
      "source": [
        "%matplotlib inline"
      ],
      "outputs": []
    },
    {
      "metadata": {},
      "cell_type": "markdown",
      "source": [
        "\n# Connectionstyle Demo\n\n\n\n"
      ]
    },
    {
      "execution_count": null,
      "cell_type": "code",
      "metadata": {
        "collapsed": false
      },
      "source": [
        "import matplotlib.pyplot as plt\nimport matplotlib.patches as mpatches\nfrom mpl_toolkits.axes_grid1.axes_grid import AxesGrid\nfrom matplotlib.offsetbox import AnchoredText\n\n\nfig = plt.figure(1, figsize=(8, 5))\nfig.clf()\n\n\ndef add_at(ax, t, loc=2):\n    fp = dict(size=8)\n    _at = AnchoredText(t, loc=loc, prop=fp)\n    ax.add_artist(_at)\n    return _at\n\n\ngrid = AxesGrid(fig, 111, (3, 5), label_mode=\"1\", share_all=True)\n\ngrid[0].set_autoscale_on(False)\n\nx1, y1 = 0.3, 0.3\nx2, y2 = 0.7, 0.7\n\n\ndef demo_con_style(ax, connectionstyle, label=None):\n    if label is None:\n        label = connectionstyle\n\n    x1, y1 = 0.3, 0.2\n    x2, y2 = 0.8, 0.6\n\n    ax.plot([x1, x2], [y1, y2], \".\")\n    ax.annotate(\"\",\n                xy=(x1, y1), xycoords='data',\n                xytext=(x2, y2), textcoords='data',\n                arrowprops=dict(arrowstyle=\"->\",\n                                color=\"0.5\",\n                                shrinkA=5, shrinkB=5,\n                                patchA=None,\n                                patchB=None,\n                                connectionstyle=connectionstyle,\n                                ),\n                )\n\n    add_at(ax, label, loc=2)\n\n\ncolumn = grid.axes_column[0]\n\ndemo_con_style(column[0], \"angle3,angleA=90,angleB=0\",\n               label=\"angle3,\\nangleA=90,\\nangleB=0\")\ndemo_con_style(column[1], \"angle3,angleA=0,angleB=90\",\n               label=\"angle3,\\nangleA=0,\\nangleB=90\")\n\ncolumn = grid.axes_column[1]\n\ndemo_con_style(column[0], \"arc3,rad=0.\")\ndemo_con_style(column[1], \"arc3,rad=0.3\")\ndemo_con_style(column[2], \"arc3,rad=-0.3\")\n\ncolumn = grid.axes_column[2]\n\ndemo_con_style(column[0], \"angle,angleA=-90,angleB=180,rad=0\",\n               label=\"angle,\\nangleA=-90,\\nangleB=180,\\nrad=0\")\ndemo_con_style(column[1], \"angle,angleA=-90,angleB=180,rad=5\",\n               label=\"angle,\\nangleA=-90,\\nangleB=180,\\nrad=5\")\ndemo_con_style(column[2], \"angle,angleA=-90,angleB=10,rad=5\",\n               label=\"angle,\\nangleA=-90,\\nangleB=10,\\nrad=0\")\n\ncolumn = grid.axes_column[3]\n\ndemo_con_style(column[0], \"arc,angleA=-90,angleB=0,armA=30,armB=30,rad=0\",\n               label=\"arc,\\nangleA=-90,\\nangleB=0,\\narmA=30,\\narmB=30,\\nrad=0\")\ndemo_con_style(column[1], \"arc,angleA=-90,angleB=0,armA=30,armB=30,rad=5\",\n               label=\"arc,\\nangleA=-90,\\nangleB=0,\\narmA=30,\\narmB=30,\\nrad=5\")\ndemo_con_style(column[2], \"arc,angleA=-90,angleB=0,armA=0,armB=40,rad=0\",\n               label=\"arc,\\nangleA=-90,\\nangleB=0,\\narmA=0,\\narmB=40,\\nrad=0\")\n\ncolumn = grid.axes_column[4]\n\ndemo_con_style(column[0], \"bar,fraction=0.3\",\n               label=\"bar,\\nfraction=0.3\")\ndemo_con_style(column[1], \"bar,fraction=-0.3\",\n               label=\"bar,\\nfraction=-0.3\")\ndemo_con_style(column[2], \"bar,angle=180,fraction=-0.2\",\n               label=\"bar,\\nangle=180,\\nfraction=-0.2\")\n\ngrid[0].set_xlim(0, 1)\ngrid[0].set_ylim(0, 1)\ngrid.axes_llc.axis[\"bottom\"].toggle(ticklabels=False)\ngrid.axes_llc.axis[\"left\"].toggle(ticklabels=False)\nfig.subplots_adjust(left=0.05, right=0.95, bottom=0.05, top=0.95)\n\nplt.show()"
      ],
      "outputs": []
    }
  ],
  "nbformat": 4,
  "nbformat_minor": 0
}
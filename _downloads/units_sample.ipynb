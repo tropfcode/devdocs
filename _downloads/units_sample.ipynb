{
  "metadata": {
    "language_info": {
      "version": "3.5.3",
      "codemirror_mode": {
        "version": 3,
        "name": "ipython"
      },
      "file_extension": ".py",
      "name": "python",
      "nbconvert_exporter": "python",
      "mimetype": "text/x-python",
      "pygments_lexer": "ipython3"
    },
    "kernelspec": {
      "display_name": "Python 3",
      "language": "python",
      "name": "python3"
    }
  },
  "cells": [
    {
      "execution_count": null,
      "cell_type": "code",
      "metadata": {
        "collapsed": false
      },
      "source": [
        "%matplotlib inline"
      ],
      "outputs": []
    },
    {
      "metadata": {},
      "cell_type": "markdown",
      "source": [
        "\n# Inches and Centimeters\n\n\nThe example illustrates the ability to override default x and y units (ax1) to\ninches and centimeters using the `xunits` and `yunits` parameters for the\n`plot` function. Note that conversions are applied to get numbers to correct\nunits.\n\n.. only:: builder_html\n\n   This example requires :download:`basic_units.py <basic_units.py>`\n\n\n"
      ]
    },
    {
      "execution_count": null,
      "cell_type": "code",
      "metadata": {
        "collapsed": false
      },
      "source": [
        "from basic_units import cm, inch\nimport matplotlib.pyplot as plt\nimport numpy as np\n\ncms = cm * np.arange(0, 10, 2)\n\nfig = plt.figure()\n\nax1 = fig.add_subplot(2, 2, 1)\nax1.plot(cms, cms)\n\nax2 = fig.add_subplot(2, 2, 2)\nax2.plot(cms, cms, xunits=cm, yunits=inch)\n\nax3 = fig.add_subplot(2, 2, 3)\nax3.plot(cms, cms, xunits=inch, yunits=cm)\nax3.set_xlim(3, 6)  # scalars are interpreted in current units\n\nax4 = fig.add_subplot(2, 2, 4)\nax4.plot(cms, cms, xunits=inch, yunits=inch)\nax4.set_xlim(3*cm, 6*cm)  # cm are converted to inches\n\nplt.show()"
      ],
      "outputs": []
    }
  ],
  "nbformat": 4,
  "nbformat_minor": 0
}
{
  "metadata": {
    "language_info": {
      "version": "3.5.3",
      "codemirror_mode": {
        "version": 3,
        "name": "ipython"
      },
      "file_extension": ".py",
      "name": "python",
      "nbconvert_exporter": "python",
      "mimetype": "text/x-python",
      "pygments_lexer": "ipython3"
    },
    "kernelspec": {
      "display_name": "Python 3",
      "language": "python",
      "name": "python3"
    }
  },
  "cells": [
    {
      "execution_count": null,
      "cell_type": "code",
      "metadata": {
        "collapsed": false
      },
      "source": [
        "%matplotlib inline"
      ],
      "outputs": []
    },
    {
      "metadata": {},
      "cell_type": "markdown",
      "source": [
        "\n# Embedding In QT5\n\n\nSimple Qt5 application embedding Matplotlib canvases\n\nCopyright (C) 2005 Florent Rougon\n              2006 Darren Dale\n              2015 Jens H Nielsen\n\nThis file is an example program for Matplotlib. It may be used and\nmodified with no restriction; raw copies as well as modified versions\nmay be distributed without limitation.\n\n"
      ]
    },
    {
      "execution_count": null,
      "cell_type": "code",
      "metadata": {
        "collapsed": false
      },
      "source": [
        "from __future__ import unicode_literals\nimport sys\nimport os\nimport random\nimport matplotlib\n# Make sure that we are using QT5\nmatplotlib.use('Qt5Agg')\n# Uncomment this line before running, it breaks sphinx-gallery builds\n# from PyQt5 import QtCore, QtWidgets\n\nfrom numpy import arange, sin, pi\nfrom matplotlib.backends.backend_qt5agg import FigureCanvasQTAgg as FigureCanvas\nfrom matplotlib.figure import Figure\n\nprogname = os.path.basename(sys.argv[0])\nprogversion = \"0.1\"\n\n\nclass MyMplCanvas(FigureCanvas):\n    \"\"\"Ultimately, this is a QWidget (as well as a FigureCanvasAgg, etc.).\"\"\"\n\n    def __init__(self, parent=None, width=5, height=4, dpi=100):\n        fig = Figure(figsize=(width, height), dpi=dpi)\n        self.axes = fig.add_subplot(111)\n\n        self.compute_initial_figure()\n\n        FigureCanvas.__init__(self, fig)\n        self.setParent(parent)\n\n        FigureCanvas.setSizePolicy(self,\n                                   QtWidgets.QSizePolicy.Expanding,\n                                   QtWidgets.QSizePolicy.Expanding)\n        FigureCanvas.updateGeometry(self)\n\n    def compute_initial_figure(self):\n        pass\n\n\nclass MyStaticMplCanvas(MyMplCanvas):\n    \"\"\"Simple canvas with a sine plot.\"\"\"\n\n    def compute_initial_figure(self):\n        t = arange(0.0, 3.0, 0.01)\n        s = sin(2*pi*t)\n        self.axes.plot(t, s)\n\n\nclass MyDynamicMplCanvas(MyMplCanvas):\n    \"\"\"A canvas that updates itself every second with a new plot.\"\"\"\n\n    def __init__(self, *args, **kwargs):\n        MyMplCanvas.__init__(self, *args, **kwargs)\n        timer = QtCore.QTimer(self)\n        timer.timeout.connect(self.update_figure)\n        timer.start(1000)\n\n    def compute_initial_figure(self):\n        self.axes.plot([0, 1, 2, 3], [1, 2, 0, 4], 'r')\n\n    def update_figure(self):\n        # Build a list of 4 random integers between 0 and 10 (both inclusive)\n        l = [random.randint(0, 10) for i in range(4)]\n        self.axes.cla()\n        self.axes.plot([0, 1, 2, 3], l, 'r')\n        self.draw()\n\n\nclass ApplicationWindow(QtWidgets.QMainWindow):\n    def __init__(self):\n        QtWidgets.QMainWindow.__init__(self)\n        self.setAttribute(QtCore.Qt.WA_DeleteOnClose)\n        self.setWindowTitle(\"application main window\")\n\n        self.file_menu = QtWidgets.QMenu('&File', self)\n        self.file_menu.addAction('&Quit', self.fileQuit,\n                                 QtCore.Qt.CTRL + QtCore.Qt.Key_Q)\n        self.menuBar().addMenu(self.file_menu)\n\n        self.help_menu = QtWidgets.QMenu('&Help', self)\n        self.menuBar().addSeparator()\n        self.menuBar().addMenu(self.help_menu)\n\n        self.help_menu.addAction('&About', self.about)\n\n        self.main_widget = QtWidgets.QWidget(self)\n\n        l = QtWidgets.QVBoxLayout(self.main_widget)\n        sc = MyStaticMplCanvas(self.main_widget, width=5, height=4, dpi=100)\n        dc = MyDynamicMplCanvas(self.main_widget, width=5, height=4, dpi=100)\n        l.addWidget(sc)\n        l.addWidget(dc)\n\n        self.main_widget.setFocus()\n        self.setCentralWidget(self.main_widget)\n\n        self.statusBar().showMessage(\"All hail matplotlib!\", 2000)\n\n    def fileQuit(self):\n        self.close()\n\n    def closeEvent(self, ce):\n        self.fileQuit()\n\n    def about(self):\n        QtWidgets.QMessageBox.about(self, \"About\",\n                                    \"\"\"embedding_in_qt5.py example\nCopyright 2005 Florent Rougon, 2006 Darren Dale, 2015 Jens H Nielsen\n\nThis program is a simple example of a Qt5 application embedding matplotlib\ncanvases.\n\nIt may be used and modified with no restriction; raw copies as well as\nmodified versions may be distributed without limitation.\n\nThis is modified from the embedding in qt4 example to show the difference\nbetween qt4 and qt5\"\"\"\n                                )\n\n\nqApp = QtWidgets.QApplication(sys.argv)\n\naw = ApplicationWindow()\naw.setWindowTitle(\"%s\" % progname)\naw.show()\nsys.exit(qApp.exec_())\n#qApp.exec_()"
      ],
      "outputs": []
    }
  ],
  "nbformat": 4,
  "nbformat_minor": 0
}
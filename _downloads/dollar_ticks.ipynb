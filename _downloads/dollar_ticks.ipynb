{
  "metadata": {
    "language_info": {
      "version": "3.5.3",
      "codemirror_mode": {
        "version": 3,
        "name": "ipython"
      },
      "file_extension": ".py",
      "name": "python",
      "nbconvert_exporter": "python",
      "mimetype": "text/x-python",
      "pygments_lexer": "ipython3"
    },
    "kernelspec": {
      "display_name": "Python 3",
      "language": "python",
      "name": "python3"
    }
  },
  "cells": [
    {
      "execution_count": null,
      "cell_type": "code",
      "metadata": {
        "collapsed": false
      },
      "source": [
        "%matplotlib inline"
      ],
      "outputs": []
    },
    {
      "metadata": {},
      "cell_type": "markdown",
      "source": [
        "\n# Dollar Ticks\n\n\n\n"
      ]
    },
    {
      "execution_count": null,
      "cell_type": "code",
      "metadata": {
        "collapsed": false
      },
      "source": [
        "import numpy as np\nimport matplotlib.pyplot as plt\nimport matplotlib.ticker as ticker\n\n# Fixing random state for reproducibility\nnp.random.seed(19680801)\n\nfig = plt.figure()\nax = fig.add_subplot(111)\nax.plot(100*np.random.rand(20))\n\nformatter = ticker.FormatStrFormatter('$%1.2f')\nax.yaxis.set_major_formatter(formatter)\n\nfor tick in ax.yaxis.get_major_ticks():\n    tick.label1On = False\n    tick.label2On = True\n    tick.label2.set_color('green')\n\nplt.show()"
      ],
      "outputs": []
    }
  ],
  "nbformat": 4,
  "nbformat_minor": 0
}
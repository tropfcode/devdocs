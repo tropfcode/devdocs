{
  "metadata": {
    "language_info": {
      "version": "3.5.3",
      "codemirror_mode": {
        "version": 3,
        "name": "ipython"
      },
      "file_extension": ".py",
      "name": "python",
      "nbconvert_exporter": "python",
      "mimetype": "text/x-python",
      "pygments_lexer": "ipython3"
    },
    "kernelspec": {
      "display_name": "Python 3",
      "language": "python",
      "name": "python3"
    }
  },
  "cells": [
    {
      "execution_count": null,
      "cell_type": "code",
      "metadata": {
        "collapsed": false
      },
      "source": [
        "%matplotlib inline"
      ],
      "outputs": []
    },
    {
      "metadata": {},
      "cell_type": "markdown",
      "source": [
        "\n# Font Table TTF\n\n\nMatplotlib has support for FreeType fonts.  Here's a little example\nusing the 'table' command to build a font table that shows the glyphs\nby character code.\n\nUsage python font_table_ttf.py somefile.ttf\n\n\n"
      ]
    },
    {
      "execution_count": null,
      "cell_type": "code",
      "metadata": {
        "collapsed": false
      },
      "source": [
        "import sys\nimport os\n\nimport matplotlib\nfrom matplotlib.ft2font import FT2Font\nfrom matplotlib.font_manager import FontProperties\nimport matplotlib.pyplot as plt\n\nimport six\nfrom six import unichr\n\n# the font table grid\n\nlabelc = ['0', '1', '2', '3', '4', '5', '6', '7', '8', '9',\n          'A', 'B', 'C', 'D', 'E', 'F']\nlabelr = ['00', '10', '20', '30', '40', '50', '60', '70', '80', '90',\n          'A0', 'B0', 'C0', 'D0', 'E0', 'F0']\n\nif len(sys.argv) > 1:\n    fontname = sys.argv[1]\nelse:\n    fontname = os.path.join(matplotlib.get_data_path(),\n                            'fonts', 'ttf', 'DejaVuSans.ttf')\n\nfont = FT2Font(fontname)\ncodes = sorted(font.get_charmap().items())\n\n# a 16,16 array of character strings\nchars = [['' for c in range(16)] for r in range(16)]\ncolors = [[(0.95, 0.95, 0.95) for c in range(16)] for r in range(16)]\n\nplt.figure(figsize=(8, 4), dpi=120)\nfor ccode, glyphind in codes:\n    if ccode >= 256:\n        continue\n    r, c = divmod(ccode, 16)\n    s = unichr(ccode)\n    chars[r][c] = s\n\nlightgrn = (0.5, 0.8, 0.5)\nplt.title(fontname)\ntab = plt.table(cellText=chars,\n                rowLabels=labelr,\n                colLabels=labelc,\n                rowColours=[lightgrn] * 16,\n                colColours=[lightgrn] * 16,\n                cellColours=colors,\n                cellLoc='center',\n                loc='upper left')\n\nfor key, cell in tab.get_celld().items():\n    row, col = key\n    if row > 0 and col > 0:\n        cell.set_text_props(fontproperties=FontProperties(fname=fontname))\nplt.axis('off')\nplt.show()"
      ],
      "outputs": []
    }
  ],
  "nbformat": 4,
  "nbformat_minor": 0
}
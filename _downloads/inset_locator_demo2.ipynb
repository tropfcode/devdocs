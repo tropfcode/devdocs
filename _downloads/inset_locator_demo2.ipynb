{
  "metadata": {
    "language_info": {
      "version": "3.5.3",
      "codemirror_mode": {
        "version": 3,
        "name": "ipython"
      },
      "file_extension": ".py",
      "name": "python",
      "nbconvert_exporter": "python",
      "mimetype": "text/x-python",
      "pygments_lexer": "ipython3"
    },
    "kernelspec": {
      "display_name": "Python 3",
      "language": "python",
      "name": "python3"
    }
  },
  "cells": [
    {
      "execution_count": null,
      "cell_type": "code",
      "metadata": {
        "collapsed": false
      },
      "source": [
        "%matplotlib inline"
      ],
      "outputs": []
    },
    {
      "metadata": {},
      "cell_type": "markdown",
      "source": [
        "\n# Inset Locator Demo2\n\n\n\n"
      ]
    },
    {
      "execution_count": null,
      "cell_type": "code",
      "metadata": {
        "collapsed": false
      },
      "source": [
        "import matplotlib.pyplot as plt\n\nfrom mpl_toolkits.axes_grid1.inset_locator import zoomed_inset_axes\nfrom mpl_toolkits.axes_grid1.inset_locator import mark_inset\n\nimport numpy as np\n\n\ndef get_demo_image():\n    from matplotlib.cbook import get_sample_data\n    import numpy as np\n    f = get_sample_data(\"axes_grid/bivariate_normal.npy\", asfileobj=False)\n    z = np.load(f)\n    # z is a numpy array of 15x15\n    return z, (-3, 4, -4, 3)\n\nfig, ax = plt.subplots(figsize=[5, 4])\n\n# prepare the demo image\nZ, extent = get_demo_image()\nZ2 = np.zeros([150, 150], dtype=\"d\")\nny, nx = Z.shape\nZ2[30:30 + ny, 30:30 + nx] = Z\n\n# extent = [-3, 4, -4, 3]\nax.imshow(Z2, extent=extent, interpolation=\"nearest\",\n          origin=\"lower\")\n\naxins = zoomed_inset_axes(ax, 6, loc=1)  # zoom = 6\naxins.imshow(Z2, extent=extent, interpolation=\"nearest\",\n             origin=\"lower\")\n\n# sub region of the original image\nx1, x2, y1, y2 = -1.5, -0.9, -2.5, -1.9\naxins.set_xlim(x1, x2)\naxins.set_ylim(y1, y2)\n# fix the number of ticks on the inset axes\naxins.yaxis.get_major_locator().set_params(nbins=7)\naxins.xaxis.get_major_locator().set_params(nbins=7)\n\nplt.xticks(visible=False)\nplt.yticks(visible=False)\n\n# draw a bbox of the region of the inset axes in the parent axes and\n# connecting lines between the bbox and the inset axes area\nmark_inset(ax, axins, loc1=2, loc2=4, fc=\"none\", ec=\"0.5\")\n\nplt.draw()\nplt.show()"
      ],
      "outputs": []
    }
  ],
  "nbformat": 4,
  "nbformat_minor": 0
}
{
  "metadata": {
    "language_info": {
      "version": "3.5.3",
      "codemirror_mode": {
        "version": 3,
        "name": "ipython"
      },
      "file_extension": ".py",
      "name": "python",
      "nbconvert_exporter": "python",
      "mimetype": "text/x-python",
      "pygments_lexer": "ipython3"
    },
    "kernelspec": {
      "display_name": "Python 3",
      "language": "python",
      "name": "python3"
    }
  },
  "cells": [
    {
      "execution_count": null,
      "cell_type": "code",
      "metadata": {
        "collapsed": false
      },
      "source": [
        "%matplotlib inline"
      ],
      "outputs": []
    },
    {
      "metadata": {},
      "cell_type": "markdown",
      "source": [
        "\n# Saving an animation\n\n\nThis example showcases the same animations as `basic_example.py`, but instead\nof displaying the animation to the user, it writes to files using a\nMovieWriter instance.\n\n"
      ]
    },
    {
      "execution_count": null,
      "cell_type": "code",
      "metadata": {
        "collapsed": false
      },
      "source": [
        "import numpy as np\nimport matplotlib\nmatplotlib.use(\"Agg\")\nimport matplotlib.pyplot as plt\nimport matplotlib.animation as animation\n\n\ndef update_line(num, data, line):\n    line.set_data(data[..., :num])\n    return line,\n\n# Fixing random state for reproducibility\nnp.random.seed(19680801)\n\n\n# Set up formatting for the movie files\nWriter = animation.writers['ffmpeg']\nwriter = Writer(fps=15, metadata=dict(artist='Me'), bitrate=1800)\n\n\nfig1 = plt.figure()\n\ndata = np.random.rand(2, 25)\nl, = plt.plot([], [], 'r-')\nplt.xlim(0, 1)\nplt.ylim(0, 1)\nplt.xlabel('x')\nplt.title('test')\nline_ani = animation.FuncAnimation(fig1, update_line, 25, fargs=(data, l),\n                                   interval=50, blit=True)\nline_ani.save('lines.mp4', writer=writer)\n\nfig2 = plt.figure()\n\nx = np.arange(-9, 10)\ny = np.arange(-9, 10).reshape(-1, 1)\nbase = np.hypot(x, y)\nims = []\nfor add in np.arange(15):\n    ims.append((plt.pcolor(x, y, base + add, norm=plt.Normalize(0, 30)),))\n\nim_ani = animation.ArtistAnimation(fig2, ims, interval=50, repeat_delay=3000,\n                                   blit=True)\nim_ani.save('im.mp4', writer=writer)"
      ],
      "outputs": []
    }
  ],
  "nbformat": 4,
  "nbformat_minor": 0
}
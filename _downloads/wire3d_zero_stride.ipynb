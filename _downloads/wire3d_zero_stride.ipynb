{
  "metadata": {
    "language_info": {
      "version": "3.5.3",
      "codemirror_mode": {
        "version": 3,
        "name": "ipython"
      },
      "file_extension": ".py",
      "name": "python",
      "nbconvert_exporter": "python",
      "mimetype": "text/x-python",
      "pygments_lexer": "ipython3"
    },
    "kernelspec": {
      "display_name": "Python 3",
      "language": "python",
      "name": "python3"
    }
  },
  "cells": [
    {
      "execution_count": null,
      "cell_type": "code",
      "metadata": {
        "collapsed": false
      },
      "source": [
        "%matplotlib inline"
      ],
      "outputs": []
    },
    {
      "metadata": {},
      "cell_type": "markdown",
      "source": [
        "\n# 3D wireframe plots in one direction\n\n\nDemonstrates that setting rstride or cstride to 0 causes wires to not be\ngenerated in the corresponding direction.\n\n"
      ]
    },
    {
      "execution_count": null,
      "cell_type": "code",
      "metadata": {
        "collapsed": false
      },
      "source": [
        "from mpl_toolkits.mplot3d import axes3d\nimport matplotlib.pyplot as plt\n\n\nfig, [ax1, ax2] = plt.subplots(2, 1, figsize=(8, 12), subplot_kw={'projection': '3d'})\n\n# Get the test data\nX, Y, Z = axes3d.get_test_data(0.05)\n\n# Give the first plot only wireframes of the type y = c\nax1.plot_wireframe(X, Y, Z, rstride=10, cstride=0)\nax1.set_title(\"Column (x) stride set to 0\")\n\n# Give the second plot only wireframes of the type x = c\nax2.plot_wireframe(X, Y, Z, rstride=0, cstride=10)\nax2.set_title(\"Row (y) stride set to 0\")\n\nplt.tight_layout()\nplt.show()"
      ],
      "outputs": []
    }
  ],
  "nbformat": 4,
  "nbformat_minor": 0
}
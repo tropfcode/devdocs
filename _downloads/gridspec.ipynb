{
  "metadata": {
    "language_info": {
      "version": "3.5.3",
      "codemirror_mode": {
        "version": 3,
        "name": "ipython"
      },
      "file_extension": ".py",
      "name": "python",
      "nbconvert_exporter": "python",
      "mimetype": "text/x-python",
      "pygments_lexer": "ipython3"
    },
    "kernelspec": {
      "display_name": "Python 3",
      "language": "python",
      "name": "python3"
    }
  },
  "cells": [
    {
      "execution_count": null,
      "cell_type": "code",
      "metadata": {
        "collapsed": false
      },
      "source": [
        "%matplotlib inline"
      ],
      "outputs": []
    },
    {
      "metadata": {},
      "cell_type": "markdown",
      "source": [
        "\n# Customizing Location of Subplot Using GridSpec\n\n\nHow to create grid-shaped combinations of axes.\n\n    :class:`~matplotlib.gridspec.GridSpec`\n        specifies the geometry of the grid that a subplot will be\n        placed in. The number of rows and number of columns of the grid\n        need to be set. Optionally, the subplot layout parameters\n        (e.g., left, right, etc.) can be tuned.\n\n    :class:`~matplotlib.gridspec.SubplotSpec`\n        specifies the location of the subplot in the given *GridSpec*.\n\n    :func:`~matplotlib.pyplot.subplot2grid`\n        a helper function that is similar to :func:`~matplotlib.pyplot.subplot`\n        but uses 0-based indexing and let subplot to occupy multiple cells.\n\n"
      ]
    },
    {
      "execution_count": null,
      "cell_type": "code",
      "metadata": {
        "collapsed": false
      },
      "source": [
        "import matplotlib.pyplot as plt\nimport matplotlib.gridspec as gridspec"
      ],
      "outputs": []
    },
    {
      "metadata": {},
      "cell_type": "markdown",
      "source": [
        "Basic Example of using subplot2grid\n===================================\n\n"
      ]
    },
    {
      "execution_count": null,
      "cell_type": "code",
      "metadata": {
        "collapsed": false
      },
      "source": [
        "# To use :func:`~matplotlib.pyplot.subplot2grid`, you provide geometry of\n# the grid and the location of the subplot in the grid. For a simple\n# single-cell subplot\n\nfig = plt.figure()\nax = plt.subplot2grid((2, 2), (0, 0))\n\n# is identical to\n\nfig = plt.figure()\nax = plt.subplot(2, 2, 1)"
      ],
      "outputs": []
    },
    {
      "metadata": {},
      "cell_type": "markdown",
      "source": [
        "Note that, unlike Matplotlib's subplot, the index starts from 0 in GridSpec.\n\nTo create a subplot that spans multiple cells:\n\n"
      ]
    },
    {
      "execution_count": null,
      "cell_type": "code",
      "metadata": {
        "collapsed": false
      },
      "source": [
        "fig = plt.figure()\nax2 = plt.subplot2grid((3, 3), (1, 0), colspan=2)\nax3 = plt.subplot2grid((3, 3), (1, 2), rowspan=2)"
      ],
      "outputs": []
    },
    {
      "metadata": {},
      "cell_type": "markdown",
      "source": [
        "For example, see the output of the following commands:\n\n"
      ]
    },
    {
      "execution_count": null,
      "cell_type": "code",
      "metadata": {
        "collapsed": false
      },
      "source": [
        "ax1 = plt.subplot2grid((3, 3), (0, 0), colspan=3)\nax2 = plt.subplot2grid((3, 3), (1, 0), colspan=2)\nax3 = plt.subplot2grid((3, 3), (1, 2), rowspan=2)\nax4 = plt.subplot2grid((3, 3), (2, 0))\nax5 = plt.subplot2grid((3, 3), (2, 1))"
      ],
      "outputs": []
    },
    {
      "metadata": {},
      "cell_type": "markdown",
      "source": [
        "GridSpec and SubplotSpec\n========================\n\nYou can create :class:`~matplotlib.gridspec.GridSpec` explicitly and use\nthem to create a subplot.\n\nFor example:\n\n"
      ]
    },
    {
      "execution_count": null,
      "cell_type": "code",
      "metadata": {
        "collapsed": false
      },
      "source": [
        "fig = plt.figure()\nax = plt.subplot2grid((2, 2), (0, 0))\n\n# is equal to:\n\nfig = plt.figure()\ngs = gridspec.GridSpec(2, 2)\nax = plt.subplot(gs[0, 0])\n\n# A GridSpec instance provides array-like (2d or 1d) indexing that\n# returns the SubplotSpec instance. For a SubplotSpec that spans multiple\n# cells, use slice. ::\n\nax2 = plt.subplot(gs[1, :-1])\nax3 = plt.subplot(gs[1:, -1])"
      ],
      "outputs": []
    },
    {
      "metadata": {},
      "cell_type": "markdown",
      "source": [
        "The above example becomes ::\n\n"
      ]
    },
    {
      "execution_count": null,
      "cell_type": "code",
      "metadata": {
        "collapsed": false
      },
      "source": [
        "fig = plt.figure()\ngs = gridspec.GridSpec(3, 3)\nax1 = plt.subplot(gs[0, :])\nax2 = plt.subplot(gs[1, :-1])\nax3 = plt.subplot(gs[1:, -1])\nax4 = plt.subplot(gs[-1, 0])\nax5 = plt.subplot(gs[-1, -2])"
      ],
      "outputs": []
    },
    {
      "metadata": {},
      "cell_type": "markdown",
      "source": [
        "Adjust GridSpec layout\n======================\n\nWhen a GridSpec is explicitly used, you can adjust the layout\nparameters of subplots that are created from the GridSpec. ::\n\n"
      ]
    },
    {
      "execution_count": null,
      "cell_type": "code",
      "metadata": {
        "collapsed": false
      },
      "source": [
        "fig = plt.figure()\ngs1 = gridspec.GridSpec(3, 3)\ngs1.update(left=0.05, right=0.48, wspace=0.05)"
      ],
      "outputs": []
    },
    {
      "metadata": {},
      "cell_type": "markdown",
      "source": [
        "This is similar to :func:`~matplotlib.pyplot.subplots_adjust`, but it only\naffects the subplots that are created from the given GridSpec.\n\nFor example, see this code and the resulting figure:\n\n"
      ]
    },
    {
      "execution_count": null,
      "cell_type": "code",
      "metadata": {
        "collapsed": false
      },
      "source": [
        "fig = plt.figure()\ngs1 = gridspec.GridSpec(3, 3)\ngs1.update(left=0.05, right=0.48, wspace=0.05)\nax1 = plt.subplot(gs1[:-1, :])\nax2 = plt.subplot(gs1[-1, :-1])\nax3 = plt.subplot(gs1[-1, -1])\n\nfig = plt.figure()\ngs2 = gridspec.GridSpec(3, 3)\ngs2.update(left=0.55, right=0.98, hspace=0.05)\nax4 = plt.subplot(gs2[:, :-1])\nax5 = plt.subplot(gs2[:-1, -1])\nax6 = plt.subplot(gs2[-1, -1])"
      ],
      "outputs": []
    },
    {
      "metadata": {},
      "cell_type": "markdown",
      "source": [
        "GridSpec using SubplotSpec\n==========================\n\nYou can create GridSpec from the :class:`~matplotlib.gridspec.SubplotSpec`,\nin which case its layout parameters are set to that of the location of\nthe given SubplotSpec.\n\n"
      ]
    },
    {
      "execution_count": null,
      "cell_type": "code",
      "metadata": {
        "collapsed": false
      },
      "source": [
        "fig = plt.figure()\ngs0 = gridspec.GridSpec(1, 2)\n\ngs00 = gridspec.GridSpecFromSubplotSpec(3, 3, subplot_spec=gs0[0])\ngs01 = gridspec.GridSpecFromSubplotSpec(3, 3, subplot_spec=gs0[1])"
      ],
      "outputs": []
    },
    {
      "metadata": {},
      "cell_type": "markdown",
      "source": [
        "A Complex Nested GridSpec using SubplotSpec\n===========================================\n\nHere's a more sophisticated example of nested GridSpec where we put\na box around each cell of the outer 4x4 grid, by hiding appropriate\nspines in each of the inner 3x3 grids.\n\n"
      ]
    },
    {
      "execution_count": null,
      "cell_type": "code",
      "metadata": {
        "collapsed": false
      },
      "source": [
        "import numpy as np\nfrom itertools import product\n\n\ndef squiggle_xy(a, b, c, d, i=np.arange(0.0, 2*np.pi, 0.05)):\n    return np.sin(i*a)*np.cos(i*b), np.sin(i*c)*np.cos(i*d)\n\nfig = plt.figure(figsize=(8, 8))\n\n# gridspec inside gridspec\nouter_grid = gridspec.GridSpec(4, 4, wspace=0.0, hspace=0.0)\n\nfor i in range(16):\n    inner_grid = gridspec.GridSpecFromSubplotSpec(\n      3, 3, subplot_spec=outer_grid[i], wspace=0.0, hspace=0.0)\n    a, b = int(i/4)+1, i % 4+1\n    for j, (c, d) in enumerate(product(range(1, 4), repeat=2)):\n        ax = plt.Subplot(fig, inner_grid[j])\n        ax.plot(*squiggle_xy(a, b, c, d))\n        ax.set_xticks([])\n        ax.set_yticks([])\n        fig.add_subplot(ax)\n\nall_axes = fig.get_axes()\n\n# show only the outside spines\nfor ax in all_axes:\n    for sp in ax.spines.values():\n        sp.set_visible(False)\n    if ax.is_first_row():\n        ax.spines['top'].set_visible(True)\n    if ax.is_last_row():\n        ax.spines['bottom'].set_visible(True)\n    if ax.is_first_col():\n        ax.spines['left'].set_visible(True)\n    if ax.is_last_col():\n        ax.spines['right'].set_visible(True)\n\nplt.show()\n\n# GridSpec with Varying Cell Sizes\n# ================================\n#\n# By default, GridSpec creates cells of equal sizes. You can adjust\n# relative heights and widths of rows and columns. Note that absolute\n# values are meaningless, only their relative ratios matter.\n\nfig = plt.figure()\ngs = gridspec.GridSpec(2, 2,\n                       width_ratios=[1, 2],\n                       height_ratios=[4, 1]\n                       )\n\nax1 = plt.subplot(gs[0])\nax2 = plt.subplot(gs[1])\nax3 = plt.subplot(gs[2])\nax4 = plt.subplot(gs[3])"
      ],
      "outputs": []
    }
  ],
  "nbformat": 4,
  "nbformat_minor": 0
}
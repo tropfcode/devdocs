{
  "metadata": {
    "language_info": {
      "version": "3.5.3",
      "codemirror_mode": {
        "version": 3,
        "name": "ipython"
      },
      "file_extension": ".py",
      "name": "python",
      "nbconvert_exporter": "python",
      "mimetype": "text/x-python",
      "pygments_lexer": "ipython3"
    },
    "kernelspec": {
      "display_name": "Python 3",
      "language": "python",
      "name": "python3"
    }
  },
  "cells": [
    {
      "execution_count": null,
      "cell_type": "code",
      "metadata": {
        "collapsed": false
      },
      "source": [
        "%matplotlib inline"
      ],
      "outputs": []
    },
    {
      "metadata": {},
      "cell_type": "markdown",
      "source": [
        "\n# Tool Manager\n\n\nThis example demonstrates how to:\n\n* Modify the Toolbar\n* Create tools\n* Add tools\n* Remove tools\n\nUsing `matplotlib.backend_managers.ToolManager`\n\n"
      ]
    },
    {
      "execution_count": null,
      "cell_type": "code",
      "metadata": {
        "collapsed": false
      },
      "source": [
        "from __future__ import print_function\nimport matplotlib\nmatplotlib.use('GTK3Cairo')\nmatplotlib.rcParams['toolbar'] = 'toolmanager'\nimport matplotlib.pyplot as plt\nfrom matplotlib.backend_tools import ToolBase, ToolToggleBase\nfrom gi.repository import Gtk, Gdk\n\n\nclass ListTools(ToolBase):\n    '''List all the tools controlled by the `ToolManager`'''\n    # keyboard shortcut\n    default_keymap = 'm'\n    description = 'List Tools'\n\n    def trigger(self, *args, **kwargs):\n        print('_' * 80)\n        print(\"{0:12} {1:45} {2}\".format(\n            'Name (id)', 'Tool description', 'Keymap'))\n        print('-' * 80)\n        tools = self.toolmanager.tools\n        for name in sorted(tools):\n            if not tools[name].description:\n                continue\n            keys = ', '.join(sorted(self.toolmanager.get_tool_keymap(name)))\n            print(\"{0:12} {1:45} {2}\".format(\n                name, tools[name].description, keys))\n        print('_' * 80)\n        print(\"Active Toggle tools\")\n        print(\"{0:12} {1:45}\".format(\"Group\", \"Active\"))\n        print('-' * 80)\n        for group, active in self.toolmanager.active_toggle.items():\n            print(\"{0:12} {1:45}\".format(str(group), str(active)))\n\n\nclass GroupHideTool(ToolToggleBase):\n    '''Show lines with a given gid'''\n    default_keymap = 'G'\n    description = 'Show by gid'\n    default_toggled = True\n\n    def __init__(self, *args, **kwargs):\n        self.gid = kwargs.pop('gid')\n        ToolToggleBase.__init__(self, *args, **kwargs)\n\n    def enable(self, *args):\n        self.set_lines_visibility(True)\n\n    def disable(self, *args):\n        self.set_lines_visibility(False)\n\n    def set_lines_visibility(self, state):\n        gr_lines = []\n        for ax in self.figure.get_axes():\n            for line in ax.get_lines():\n                if line.get_gid() == self.gid:\n                    line.set_visible(state)\n        self.figure.canvas.draw()\n\n\nfig = plt.figure()\nplt.plot([1, 2, 3], gid='mygroup')\nplt.plot([2, 3, 4], gid='unknown')\nplt.plot([3, 2, 1], gid='mygroup')\n\n# Add the custom tools that we created\nfig.canvas.manager.toolmanager.add_tool('List', ListTools)\nfig.canvas.manager.toolmanager.add_tool('Show', GroupHideTool, gid='mygroup')\n\n\n# Add an existing tool to new group `foo`.\n# It can be added as many times as we want\nfig.canvas.manager.toolbar.add_tool('zoom', 'foo')\n\n# Remove the forward button\nfig.canvas.manager.toolmanager.remove_tool('forward')\n\n# To add a custom tool to the toolbar at specific location inside\n# the navigation group\nfig.canvas.manager.toolbar.add_tool('Show', 'navigation', 1)\n\nplt.show()"
      ],
      "outputs": []
    }
  ],
  "nbformat": 4,
  "nbformat_minor": 0
}
{
  "metadata": {
    "language_info": {
      "version": "3.5.3",
      "codemirror_mode": {
        "version": 3,
        "name": "ipython"
      },
      "file_extension": ".py",
      "name": "python",
      "nbconvert_exporter": "python",
      "mimetype": "text/x-python",
      "pygments_lexer": "ipython3"
    },
    "kernelspec": {
      "display_name": "Python 3",
      "language": "python",
      "name": "python3"
    }
  },
  "cells": [
    {
      "execution_count": null,
      "cell_type": "code",
      "metadata": {
        "collapsed": false
      },
      "source": [
        "%matplotlib inline"
      ],
      "outputs": []
    },
    {
      "metadata": {},
      "cell_type": "markdown",
      "source": [
        "\n# Contour Image\n\n\nTest combinations of contouring, filled contouring, and image plotting.\nFor contour labelling, see contour_demo.py.\n\nThe emphasis in this demo is on showing how to make contours register\ncorrectly on images, and on how to get both of them oriented as\ndesired.  In particular, note the usage of the \"origin\" and \"extent\"\nkeyword arguments to imshow and contour.\n\n"
      ]
    },
    {
      "execution_count": null,
      "cell_type": "code",
      "metadata": {
        "collapsed": false
      },
      "source": [
        "import matplotlib.pyplot as plt\nimport numpy as np\nfrom matplotlib import mlab, cm\n\n# Default delta is large because that makes it fast, and it illustrates\n# the correct registration between image and contours.\ndelta = 0.5\n\nextent = (-3, 4, -4, 3)\n\nx = np.arange(-3.0, 4.001, delta)\ny = np.arange(-4.0, 3.001, delta)\nX, Y = np.meshgrid(x, y)\nZ1 = mlab.bivariate_normal(X, Y, 1.0, 1.0, 0.0, 0.0)\nZ2 = mlab.bivariate_normal(X, Y, 1.5, 0.5, 1, 1)\nZ = (Z1 - Z2) * 10\n\n# Boost the upper limit to avoid truncation errors.\nlevels = np.arange(-2.0, 1.601, 0.4)\n\nnorm = cm.colors.Normalize(vmax=abs(Z).max(), vmin=-abs(Z).max())\ncmap = cm.PRGn\n\nfig = plt.figure()\nfig.subplots_adjust(hspace=0.3)\n\n\nplt.subplot(2, 2, 1)\n\ncset1 = plt.contourf(X, Y, Z, levels,\n                     cmap=cm.get_cmap(cmap, len(levels) - 1), norm=norm)\n# It is not necessary, but for the colormap, we need only the\n# number of levels minus 1.  To avoid discretization error, use\n# either this number or a large number such as the default (256).\n\n# If we want lines as well as filled regions, we need to call\n# contour separately; don't try to change the edgecolor or edgewidth\n# of the polygons in the collections returned by contourf.\n# Use levels output from previous call to guarantee they are the same.\n\ncset2 = plt.contour(X, Y, Z, cset1.levels, colors='k')\n\n# We don't really need dashed contour lines to indicate negative\n# regions, so let's turn them off.\n\nfor c in cset2.collections:\n    c.set_linestyle('solid')\n\n# It is easier here to make a separate call to contour than\n# to set up an array of colors and linewidths.\n# We are making a thick green line as a zero contour.\n# Specify the zero level as a tuple with only 0 in it.\n\ncset3 = plt.contour(X, Y, Z, (0,), colors='g', linewidths=2)\nplt.title('Filled contours')\nplt.colorbar(cset1)\n\n\nplt.subplot(2, 2, 2)\n\nplt.imshow(Z, extent=extent, cmap=cmap, norm=norm)\nv = plt.axis()\nplt.contour(Z, levels, colors='k', origin='upper', extent=extent)\nplt.axis(v)\nplt.title(\"Image, origin 'upper'\")\n\nplt.subplot(2, 2, 3)\n\nplt.imshow(Z, origin='lower', extent=extent, cmap=cmap, norm=norm)\nv = plt.axis()\nplt.contour(Z, levels, colors='k', origin='lower', extent=extent)\nplt.axis(v)\nplt.title(\"Image, origin 'lower'\")\n\nplt.subplot(2, 2, 4)\n\n# We will use the interpolation \"nearest\" here to show the actual\n# image pixels.\n# Note that the contour lines don't extend to the edge of the box.\n# This is intentional. The Z values are defined at the center of each\n# image pixel (each color block on the following subplot), so the\n# domain that is contoured does not extend beyond these pixel centers.\nim = plt.imshow(Z, interpolation='nearest', extent=extent,\n                cmap=cmap, norm=norm)\nv = plt.axis()\nplt.contour(Z, levels, colors='k', origin='image', extent=extent)\nplt.axis(v)\nylim = plt.get(plt.gca(), 'ylim')\nplt.setp(plt.gca(), ylim=ylim[::-1])\nplt.title(\"Origin from rc, reversed y-axis\")\nplt.colorbar(im)\n\nplt.tight_layout()\nplt.show()"
      ],
      "outputs": []
    }
  ],
  "nbformat": 4,
  "nbformat_minor": 0
}
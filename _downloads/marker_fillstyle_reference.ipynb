{
  "metadata": {
    "language_info": {
      "version": "3.5.3",
      "codemirror_mode": {
        "version": 3,
        "name": "ipython"
      },
      "file_extension": ".py",
      "name": "python",
      "nbconvert_exporter": "python",
      "mimetype": "text/x-python",
      "pygments_lexer": "ipython3"
    },
    "kernelspec": {
      "display_name": "Python 3",
      "language": "python",
      "name": "python3"
    }
  },
  "cells": [
    {
      "execution_count": null,
      "cell_type": "code",
      "metadata": {
        "collapsed": false
      },
      "source": [
        "%matplotlib inline"
      ],
      "outputs": []
    },
    {
      "metadata": {},
      "cell_type": "markdown",
      "source": [
        "\n# Marker filling-styles\n\n\nReference for marker fill-styles included with Matplotlib.\n\n"
      ]
    },
    {
      "execution_count": null,
      "cell_type": "code",
      "metadata": {
        "collapsed": false
      },
      "source": [
        "import numpy as np\nimport matplotlib.pyplot as plt\nfrom matplotlib.lines import Line2D\n\n\npoints = np.ones(5)  # Draw 3 points for each line\ntext_style = dict(horizontalalignment='right', verticalalignment='center',\n                  fontsize=12, fontdict={'family': 'monospace'})\nmarker_style = dict(color='cornflowerblue', linestyle=':', marker='o',\n                    markersize=15, markerfacecoloralt='gray')\n\n\ndef format_axes(ax):\n    ax.margins(0.2)\n    ax.set_axis_off()\n\n\ndef nice_repr(text):\n    return repr(text).lstrip('u')\n\n\nfig, ax = plt.subplots()\n\n# Plot all fill styles.\nfor y, fill_style in enumerate(Line2D.fillStyles):\n    ax.text(-0.5, y, nice_repr(fill_style), **text_style)\n    ax.plot(y * points, fillstyle=fill_style, **marker_style)\n    format_axes(ax)\n    ax.set_title('fill style')\n\nplt.show()"
      ],
      "outputs": []
    }
  ],
  "nbformat": 4,
  "nbformat_minor": 0
}
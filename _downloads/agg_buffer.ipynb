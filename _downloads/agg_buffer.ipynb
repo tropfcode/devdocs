{
  "metadata": {
    "language_info": {
      "version": "3.5.3",
      "codemirror_mode": {
        "version": 3,
        "name": "ipython"
      },
      "file_extension": ".py",
      "name": "python",
      "nbconvert_exporter": "python",
      "mimetype": "text/x-python",
      "pygments_lexer": "ipython3"
    },
    "kernelspec": {
      "display_name": "Python 3",
      "language": "python",
      "name": "python3"
    }
  },
  "cells": [
    {
      "execution_count": null,
      "cell_type": "code",
      "metadata": {
        "collapsed": false
      },
      "source": [
        "%matplotlib inline"
      ],
      "outputs": []
    },
    {
      "metadata": {},
      "cell_type": "markdown",
      "source": [
        "\n# Agg Buffer\n\n\nUse backend agg to access the figure canvas as an RGB string and then\nconvert it to an array and pass it to Pillow for rendering.\n\n"
      ]
    },
    {
      "execution_count": null,
      "cell_type": "code",
      "metadata": {
        "collapsed": false
      },
      "source": [
        "import numpy as np\n\nimport matplotlib.pyplot as plt\nfrom matplotlib.backends.backend_agg import FigureCanvasAgg\n\n\ntry:\n    from PIL import Image\nexcept ImportError:\n    raise SystemExit(\"Pillow must be installed to run this example\")\n\nplt.plot([1, 2, 3])\n\ncanvas = plt.get_current_fig_manager().canvas\n\nagg = canvas.switch_backends(FigureCanvasAgg)\nagg.draw()\ns = agg.tostring_rgb()\n\n# get the width and the height to resize the matrix\nl, b, w, h = agg.figure.bbox.bounds\nw, h = int(w), int(h)\n\nX = np.fromstring(s, np.uint8).reshape((h, w, 3))\n\ntry:\n    im = Image.fromstring(\"RGB\", (w, h), s)\nexcept Exception:\n    im = Image.frombytes(\"RGB\", (w, h), s)\n\n# Uncomment this line to display the image using ImageMagick's\n# `display` tool.\n# im.show()"
      ],
      "outputs": []
    }
  ],
  "nbformat": 4,
  "nbformat_minor": 0
}
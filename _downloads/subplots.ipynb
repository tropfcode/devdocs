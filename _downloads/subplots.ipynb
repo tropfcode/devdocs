{
  "metadata": {
    "language_info": {
      "version": "3.5.3",
      "codemirror_mode": {
        "version": 3,
        "name": "ipython"
      },
      "file_extension": ".py",
      "name": "python",
      "nbconvert_exporter": "python",
      "mimetype": "text/x-python",
      "pygments_lexer": "ipython3"
    },
    "kernelspec": {
      "display_name": "Python 3",
      "language": "python",
      "name": "python3"
    }
  },
  "cells": [
    {
      "execution_count": null,
      "cell_type": "code",
      "metadata": {
        "collapsed": false
      },
      "source": [
        "%matplotlib inline"
      ],
      "outputs": []
    },
    {
      "metadata": {},
      "cell_type": "markdown",
      "source": [
        "\n# Animated subplots\n\n\nThis example uses subclassing, but there is no reason that the proper function\ncouldn't be set up and then use FuncAnimation. The code is long, but not\nreally complex. The length is due solely to the fact that there are a total of\n9 lines that need to be changed for the animation as well as 3 subplots that\nneed initial set up.\n\n\n"
      ]
    },
    {
      "execution_count": null,
      "cell_type": "code",
      "metadata": {
        "collapsed": false
      },
      "source": [
        "import numpy as np\nimport matplotlib.pyplot as plt\nfrom matplotlib.lines import Line2D\nimport matplotlib.animation as animation\n\n\nclass SubplotAnimation(animation.TimedAnimation):\n    def __init__(self):\n        fig = plt.figure()\n        ax1 = fig.add_subplot(1, 2, 1)\n        ax2 = fig.add_subplot(2, 2, 2)\n        ax3 = fig.add_subplot(2, 2, 4)\n\n        self.t = np.linspace(0, 80, 400)\n        self.x = np.cos(2 * np.pi * self.t / 10.)\n        self.y = np.sin(2 * np.pi * self.t / 10.)\n        self.z = 10 * self.t\n\n        ax1.set_xlabel('x')\n        ax1.set_ylabel('y')\n        self.line1 = Line2D([], [], color='black')\n        self.line1a = Line2D([], [], color='red', linewidth=2)\n        self.line1e = Line2D(\n            [], [], color='red', marker='o', markeredgecolor='r')\n        ax1.add_line(self.line1)\n        ax1.add_line(self.line1a)\n        ax1.add_line(self.line1e)\n        ax1.set_xlim(-1, 1)\n        ax1.set_ylim(-2, 2)\n        ax1.set_aspect('equal', 'datalim')\n\n        ax2.set_xlabel('y')\n        ax2.set_ylabel('z')\n        self.line2 = Line2D([], [], color='black')\n        self.line2a = Line2D([], [], color='red', linewidth=2)\n        self.line2e = Line2D(\n            [], [], color='red', marker='o', markeredgecolor='r')\n        ax2.add_line(self.line2)\n        ax2.add_line(self.line2a)\n        ax2.add_line(self.line2e)\n        ax2.set_xlim(-1, 1)\n        ax2.set_ylim(0, 800)\n\n        ax3.set_xlabel('x')\n        ax3.set_ylabel('z')\n        self.line3 = Line2D([], [], color='black')\n        self.line3a = Line2D([], [], color='red', linewidth=2)\n        self.line3e = Line2D(\n            [], [], color='red', marker='o', markeredgecolor='r')\n        ax3.add_line(self.line3)\n        ax3.add_line(self.line3a)\n        ax3.add_line(self.line3e)\n        ax3.set_xlim(-1, 1)\n        ax3.set_ylim(0, 800)\n\n        animation.TimedAnimation.__init__(self, fig, interval=50, blit=True)\n\n    def _draw_frame(self, framedata):\n        i = framedata\n        head = i - 1\n        head_slice = (self.t > self.t[i] - 1.0) & (self.t < self.t[i])\n\n        self.line1.set_data(self.x[:i], self.y[:i])\n        self.line1a.set_data(self.x[head_slice], self.y[head_slice])\n        self.line1e.set_data(self.x[head], self.y[head])\n\n        self.line2.set_data(self.y[:i], self.z[:i])\n        self.line2a.set_data(self.y[head_slice], self.z[head_slice])\n        self.line2e.set_data(self.y[head], self.z[head])\n\n        self.line3.set_data(self.x[:i], self.z[:i])\n        self.line3a.set_data(self.x[head_slice], self.z[head_slice])\n        self.line3e.set_data(self.x[head], self.z[head])\n\n        self._drawn_artists = [self.line1, self.line1a, self.line1e,\n                               self.line2, self.line2a, self.line2e,\n                               self.line3, self.line3a, self.line3e]\n\n    def new_frame_seq(self):\n        return iter(range(self.t.size))\n\n    def _init_draw(self):\n        lines = [self.line1, self.line1a, self.line1e,\n                 self.line2, self.line2a, self.line2e,\n                 self.line3, self.line3a, self.line3e]\n        for l in lines:\n            l.set_data([], [])\n\nani = SubplotAnimation()\n# ani.save('test_sub.mp4')\nplt.show()"
      ],
      "outputs": []
    }
  ],
  "nbformat": 4,
  "nbformat_minor": 0
}
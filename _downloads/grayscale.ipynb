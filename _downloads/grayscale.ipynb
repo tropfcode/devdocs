{
  "metadata": {
    "language_info": {
      "version": "3.5.3",
      "codemirror_mode": {
        "version": 3,
        "name": "ipython"
      },
      "file_extension": ".py",
      "name": "python",
      "nbconvert_exporter": "python",
      "mimetype": "text/x-python",
      "pygments_lexer": "ipython3"
    },
    "kernelspec": {
      "display_name": "Python 3",
      "language": "python",
      "name": "python3"
    }
  },
  "cells": [
    {
      "execution_count": null,
      "cell_type": "code",
      "metadata": {
        "collapsed": false
      },
      "source": [
        "%matplotlib inline"
      ],
      "outputs": []
    },
    {
      "metadata": {},
      "cell_type": "markdown",
      "source": [
        "\n# Grayscale style sheet\n\n\nThis example demonstrates the \"grayscale\" style sheet, which changes all colors\nthat are defined as rc parameters to grayscale. Note, however, that not all\nplot elements default to colors defined by an rc parameter.\n\n\n"
      ]
    },
    {
      "execution_count": null,
      "cell_type": "code",
      "metadata": {
        "collapsed": false
      },
      "source": [
        "import numpy as np\nimport matplotlib.pyplot as plt\n\n# Fixing random state for reproducibility\nnp.random.seed(19680801)\n\n\ndef color_cycle_example(ax):\n    L = 6\n    x = np.linspace(0, L)\n    ncolors = len(plt.rcParams['axes.prop_cycle'])\n    shift = np.linspace(0, L, ncolors, endpoint=False)\n    for s in shift:\n        ax.plot(x, np.sin(x + s), 'o-')\n\n\ndef image_and_patch_example(ax):\n    ax.imshow(np.random.random(size=(20, 20)), interpolation='none')\n    c = plt.Circle((5, 5), radius=5, label='patch')\n    ax.add_patch(c)\n\n\nplt.style.use('grayscale')\n\nfig, (ax1, ax2) = plt.subplots(ncols=2)\nfig.suptitle(\"'grayscale' style sheet\")\n\ncolor_cycle_example(ax1)\nimage_and_patch_example(ax2)\n\nplt.show()"
      ],
      "outputs": []
    }
  ],
  "nbformat": 4,
  "nbformat_minor": 0
}
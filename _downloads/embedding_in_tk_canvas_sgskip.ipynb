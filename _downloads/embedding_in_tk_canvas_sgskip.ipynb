{
  "metadata": {
    "language_info": {
      "version": "3.5.3",
      "codemirror_mode": {
        "version": 3,
        "name": "ipython"
      },
      "file_extension": ".py",
      "name": "python",
      "nbconvert_exporter": "python",
      "mimetype": "text/x-python",
      "pygments_lexer": "ipython3"
    },
    "kernelspec": {
      "display_name": "Python 3",
      "language": "python",
      "name": "python3"
    }
  },
  "cells": [
    {
      "execution_count": null,
      "cell_type": "code",
      "metadata": {
        "collapsed": false
      },
      "source": [
        "%matplotlib inline"
      ],
      "outputs": []
    },
    {
      "metadata": {},
      "cell_type": "markdown",
      "source": [
        "\n# Embedding in Tk Canvas\n\n\nEmbedding plots in a Tk Canvas.\n\n"
      ]
    },
    {
      "execution_count": null,
      "cell_type": "code",
      "metadata": {
        "collapsed": false
      },
      "source": [
        "import matplotlib as mpl\nimport numpy as np\nimport sys\nif sys.version_info[0] < 3:\n    import Tkinter as tk\nelse:\n    import tkinter as tk\nimport matplotlib.backends.tkagg as tkagg\nfrom matplotlib.backends.backend_agg import FigureCanvasAgg\n\n\ndef draw_figure(canvas, figure, loc=(0, 0)):\n    \"\"\" Draw a matplotlib figure onto a Tk canvas\n\n    loc: location of top-left corner of figure on canvas in pixels.\n    Inspired by matplotlib source: lib/matplotlib/backends/backend_tkagg.py\n    \"\"\"\n    figure_canvas_agg = FigureCanvasAgg(figure)\n    figure_canvas_agg.draw()\n    figure_x, figure_y, figure_w, figure_h = figure.bbox.bounds\n    figure_w, figure_h = int(figure_w), int(figure_h)\n    photo = tk.PhotoImage(master=canvas, width=figure_w, height=figure_h)\n\n    # Position: convert from top-left anchor to center anchor\n    canvas.create_image(loc[0] + figure_w/2, loc[1] + figure_h/2, image=photo)\n\n    # Unfortunately, there's no accessor for the pointer to the native renderer\n    tkagg.blit(photo, figure_canvas_agg.get_renderer()._renderer, colormode=2)\n\n    # Return a handle which contains a reference to the photo object\n    # which must be kept live or else the picture disappears\n    return photo\n\n# Create a canvas\nw, h = 300, 200\nwindow = tk.Tk()\nwindow.title(\"A figure in a canvas\")\ncanvas = tk.Canvas(window, width=w, height=h)\ncanvas.pack()\n\n# Generate some example data\nX = np.linspace(0, 2 * np.pi, 50)\nY = np.sin(X)\n\n# Create the figure we desire to add to an existing canvas\nfig = mpl.figure.Figure(figsize=(2, 1))\nax = fig.add_axes([0, 0, 1, 1])\nax.plot(X, Y)\n\n# Keep this handle alive, or else figure will disappear\nfig_x, fig_y = 100, 100\nfig_photo = draw_figure(canvas, fig, loc=(fig_x, fig_y))\nfig_w, fig_h = fig_photo.width(), fig_photo.height()\n\n# Add more elements to the canvas, potentially on top of the figure\ncanvas.create_line(200, 50, fig_x + fig_w / 2, fig_y + fig_h / 2)\ncanvas.create_text(200, 50, text=\"Zero-crossing\", anchor=\"s\")\n\n# Let Tk take over\ntk.mainloop()"
      ],
      "outputs": []
    }
  ],
  "nbformat": 4,
  "nbformat_minor": 0
}
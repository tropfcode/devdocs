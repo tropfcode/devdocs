{
  "metadata": {
    "language_info": {
      "version": "3.5.3",
      "codemirror_mode": {
        "version": 3,
        "name": "ipython"
      },
      "file_extension": ".py",
      "name": "python",
      "nbconvert_exporter": "python",
      "mimetype": "text/x-python",
      "pygments_lexer": "ipython3"
    },
    "kernelspec": {
      "display_name": "Python 3",
      "language": "python",
      "name": "python3"
    }
  },
  "cells": [
    {
      "execution_count": null,
      "cell_type": "code",
      "metadata": {
        "collapsed": false
      },
      "source": [
        "%matplotlib inline"
      ],
      "outputs": []
    },
    {
      "metadata": {},
      "cell_type": "markdown",
      "source": [
        "\n# Manual Contour\n\n\nExample of displaying your own contour lines and polygons using ContourSet.\n\n"
      ]
    },
    {
      "execution_count": null,
      "cell_type": "code",
      "metadata": {
        "collapsed": false
      },
      "source": [
        "import matplotlib.pyplot as plt\nfrom matplotlib.contour import ContourSet\nimport matplotlib.cm as cm"
      ],
      "outputs": []
    },
    {
      "metadata": {},
      "cell_type": "markdown",
      "source": [
        "Contour lines for each level are a list/tuple of polygons.\n\n"
      ]
    },
    {
      "execution_count": null,
      "cell_type": "code",
      "metadata": {
        "collapsed": false
      },
      "source": [
        "lines0 = [[[0, 0], [0, 4]]]\nlines1 = [[[2, 0], [1, 2], [1, 3]]]\nlines2 = [[[3, 0], [3, 2]], [[3, 3], [3, 4]]]  # Note two lines."
      ],
      "outputs": []
    },
    {
      "metadata": {},
      "cell_type": "markdown",
      "source": [
        "Filled contours between two levels are also a list/tuple of polygons.\nPoints can be ordered clockwise or anticlockwise.\n\n"
      ]
    },
    {
      "execution_count": null,
      "cell_type": "code",
      "metadata": {
        "collapsed": false
      },
      "source": [
        "filled01 = [[[0, 0], [0, 4], [1, 3], [1, 2], [2, 0]]]\nfilled12 = [[[2, 0], [3, 0], [3, 2], [1, 3], [1, 2]],   # Note two polygons.\n            [[1, 4], [3, 4], [3, 3]]]"
      ],
      "outputs": []
    },
    {
      "execution_count": null,
      "cell_type": "code",
      "metadata": {
        "collapsed": false
      },
      "source": [
        "plt.figure()\n\n# Filled contours using filled=True.\ncs = ContourSet(plt.gca(), [0, 1, 2], [filled01, filled12], filled=True, cmap=cm.bone)\ncbar = plt.colorbar(cs)\n\n# Contour lines (non-filled).\nlines = ContourSet(plt.gca(), [0, 1, 2], [lines0, lines1, lines2], cmap=cm.cool,\n                   linewidths=3)\ncbar.add_lines(lines)\n\nplt.axis([-0.5, 3.5, -0.5, 4.5])\nplt.title('User-specified contours')"
      ],
      "outputs": []
    },
    {
      "metadata": {},
      "cell_type": "markdown",
      "source": [
        "Multiple filled contour lines can be specified in a single list of polygon\nvertices along with a list of vertex kinds (code types) as described in the\nPath class.  This is particularly useful for polygons with holes.\nHere a code type of 1 is a MOVETO, and 2 is a LINETO.\n\n"
      ]
    },
    {
      "execution_count": null,
      "cell_type": "code",
      "metadata": {
        "collapsed": false
      },
      "source": [
        "plt.figure()\nfilled01 = [[[0, 0], [3, 0], [3, 3], [0, 3], [1, 1], [1, 2], [2, 2], [2, 1]]]\nkinds01 = [[1, 2, 2, 2, 1, 2, 2, 2]]\ncs = ContourSet(plt.gca(), [0, 1], [filled01], [kinds01], filled=True)\ncbar = plt.colorbar(cs)\n\nplt.axis([-0.5, 3.5, -0.5, 3.5])\nplt.title('User specified filled contours with holes')\n\nplt.show()"
      ],
      "outputs": []
    }
  ],
  "nbformat": 4,
  "nbformat_minor": 0
}
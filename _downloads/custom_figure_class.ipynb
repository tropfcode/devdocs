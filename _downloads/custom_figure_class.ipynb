{
  "metadata": {
    "language_info": {
      "version": "3.5.3",
      "codemirror_mode": {
        "version": 3,
        "name": "ipython"
      },
      "file_extension": ".py",
      "name": "python",
      "nbconvert_exporter": "python",
      "mimetype": "text/x-python",
      "pygments_lexer": "ipython3"
    },
    "kernelspec": {
      "display_name": "Python 3",
      "language": "python",
      "name": "python3"
    }
  },
  "cells": [
    {
      "execution_count": null,
      "cell_type": "code",
      "metadata": {
        "collapsed": false
      },
      "source": [
        "%matplotlib inline"
      ],
      "outputs": []
    },
    {
      "metadata": {},
      "cell_type": "markdown",
      "source": [
        "\n# Custom Figure Class\n\n\nYou can pass a custom Figure constructor to figure if you want to derive from\nthe default Figure.  This simple example creates a figure with a figure title.\n\n"
      ]
    },
    {
      "execution_count": null,
      "cell_type": "code",
      "metadata": {
        "collapsed": false
      },
      "source": [
        "from matplotlib.pyplot import figure, show\nfrom matplotlib.figure import Figure\n\n\nclass MyFigure(Figure):\n    def __init__(self, *args, **kwargs):\n        \"\"\"\n        custom kwarg figtitle is a figure title\n        \"\"\"\n        figtitle = kwargs.pop('figtitle', 'hi mom')\n        Figure.__init__(self, *args, **kwargs)\n        self.text(0.5, 0.95, figtitle, ha='center')\n\n\nfig = figure(FigureClass=MyFigure, figtitle='my title')\nax = fig.add_subplot(111)\nax.plot([1, 2, 3])\n\nshow()"
      ],
      "outputs": []
    }
  ],
  "nbformat": 4,
  "nbformat_minor": 0
}
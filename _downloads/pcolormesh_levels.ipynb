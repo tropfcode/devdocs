{
  "metadata": {
    "language_info": {
      "version": "3.5.3",
      "codemirror_mode": {
        "version": 3,
        "name": "ipython"
      },
      "file_extension": ".py",
      "name": "python",
      "nbconvert_exporter": "python",
      "mimetype": "text/x-python",
      "pygments_lexer": "ipython3"
    },
    "kernelspec": {
      "display_name": "Python 3",
      "language": "python",
      "name": "python3"
    }
  },
  "cells": [
    {
      "execution_count": null,
      "cell_type": "code",
      "metadata": {
        "collapsed": false
      },
      "source": [
        "%matplotlib inline"
      ],
      "outputs": []
    },
    {
      "metadata": {},
      "cell_type": "markdown",
      "source": [
        "\n# pcolormesh\n\n\nShows how to combine Normalization and Colormap instances to draw\n\"levels\" in pcolor, pcolormesh and imshow type plots in a similar\nway to the levels keyword argument to contour/contourf.\n\n\n"
      ]
    },
    {
      "execution_count": null,
      "cell_type": "code",
      "metadata": {
        "collapsed": false
      },
      "source": [
        "import matplotlib.pyplot as plt\nfrom matplotlib.colors import BoundaryNorm\nfrom matplotlib.ticker import MaxNLocator\nimport numpy as np\n\n\n# make these smaller to increase the resolution\ndx, dy = 0.05, 0.05\n\n# generate 2 2d grids for the x & y bounds\ny, x = np.mgrid[slice(1, 5 + dy, dy),\n                slice(1, 5 + dx, dx)]\n\nz = np.sin(x)**10 + np.cos(10 + y*x) * np.cos(x)\n\n# x and y are bounds, so z should be the value *inside* those bounds.\n# Therefore, remove the last value from the z array.\nz = z[:-1, :-1]\nlevels = MaxNLocator(nbins=15).tick_values(z.min(), z.max())\n\n\n# pick the desired colormap, sensible levels, and define a normalization\n# instance which takes data values and translates those into levels.\ncmap = plt.get_cmap('PiYG')\nnorm = BoundaryNorm(levels, ncolors=cmap.N, clip=True)\n\nfig, (ax0, ax1) = plt.subplots(nrows=2)\n\nim = ax0.pcolormesh(x, y, z, cmap=cmap, norm=norm)\nfig.colorbar(im, ax=ax0)\nax0.set_title('pcolormesh with levels')\n\n\n# contours are *point* based plots, so convert our bound into point\n# centers\ncf = ax1.contourf(x[:-1, :-1] + dx/2.,\n                  y[:-1, :-1] + dy/2., z, levels=levels,\n                  cmap=cmap)\nfig.colorbar(cf, ax=ax1)\nax1.set_title('contourf with levels')\n\n# adjust spacing between subplots so `ax1` title and `ax0` tick labels\n# don't overlap\nfig.tight_layout()\n\nplt.show()"
      ],
      "outputs": []
    }
  ],
  "nbformat": 4,
  "nbformat_minor": 0
}
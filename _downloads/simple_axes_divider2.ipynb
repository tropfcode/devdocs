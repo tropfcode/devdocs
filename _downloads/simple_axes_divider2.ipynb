{
  "metadata": {
    "language_info": {
      "version": "3.5.3",
      "codemirror_mode": {
        "version": 3,
        "name": "ipython"
      },
      "file_extension": ".py",
      "name": "python",
      "nbconvert_exporter": "python",
      "mimetype": "text/x-python",
      "pygments_lexer": "ipython3"
    },
    "kernelspec": {
      "display_name": "Python 3",
      "language": "python",
      "name": "python3"
    }
  },
  "cells": [
    {
      "execution_count": null,
      "cell_type": "code",
      "metadata": {
        "collapsed": false
      },
      "source": [
        "%matplotlib inline"
      ],
      "outputs": []
    },
    {
      "metadata": {},
      "cell_type": "markdown",
      "source": [
        "\n# Simple Axes Divider 2\n\n\n\n"
      ]
    },
    {
      "execution_count": null,
      "cell_type": "code",
      "metadata": {
        "collapsed": false
      },
      "source": [
        "import mpl_toolkits.axes_grid1.axes_size as Size\nfrom mpl_toolkits.axes_grid1 import Divider\nimport matplotlib.pyplot as plt\n\nfig1 = plt.figure(1, (5.5, 4.))\n\n# the rect parameter will be ignore as we will set axes_locator\nrect = (0.1, 0.1, 0.8, 0.8)\nax = [fig1.add_axes(rect, label=\"%d\" % i) for i in range(4)]\n\nhoriz = [Size.Scaled(1.5), Size.Fixed(.5), Size.Scaled(1.),\n         Size.Scaled(.5)]\n\nvert = [Size.Scaled(1.), Size.Fixed(.5), Size.Scaled(1.5)]\n\n# divide the axes rectangle into grid whose size is specified by horiz * vert\ndivider = Divider(fig1, rect, horiz, vert, aspect=False)\n\nax[0].set_axes_locator(divider.new_locator(nx=0, ny=0))\nax[1].set_axes_locator(divider.new_locator(nx=0, ny=2))\nax[2].set_axes_locator(divider.new_locator(nx=2, ny=2))\nax[3].set_axes_locator(divider.new_locator(nx=2, nx1=4, ny=0))\n\nfor ax1 in ax:\n    plt.setp(ax1.get_xticklabels()+ax1.get_yticklabels(),\n             visible=False)\n\nplt.show()"
      ],
      "outputs": []
    }
  ],
  "nbformat": 4,
  "nbformat_minor": 0
}
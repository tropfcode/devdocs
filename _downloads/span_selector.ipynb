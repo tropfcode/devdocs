{
  "metadata": {
    "language_info": {
      "version": "3.5.3",
      "codemirror_mode": {
        "version": 3,
        "name": "ipython"
      },
      "file_extension": ".py",
      "name": "python",
      "nbconvert_exporter": "python",
      "mimetype": "text/x-python",
      "pygments_lexer": "ipython3"
    },
    "kernelspec": {
      "display_name": "Python 3",
      "language": "python",
      "name": "python3"
    }
  },
  "cells": [
    {
      "execution_count": null,
      "cell_type": "code",
      "metadata": {
        "collapsed": false
      },
      "source": [
        "%matplotlib inline"
      ],
      "outputs": []
    },
    {
      "metadata": {},
      "cell_type": "markdown",
      "source": [
        "\n# Span Selector\n\n\nThe SpanSelector is a mouse widget to select a xmin/xmax range and plot the\ndetail view of the selected region in the lower axes\n\n"
      ]
    },
    {
      "execution_count": null,
      "cell_type": "code",
      "metadata": {
        "collapsed": false
      },
      "source": [
        "import numpy as np\nimport matplotlib.pyplot as plt\nfrom matplotlib.widgets import SpanSelector\n\n# Fixing random state for reproducibility\nnp.random.seed(19680801)\n\nfig = plt.figure(figsize=(8, 6))\nax = fig.add_subplot(211, facecolor='#FFFFCC')\n\nx = np.arange(0.0, 5.0, 0.01)\ny = np.sin(2*np.pi*x) + 0.5*np.random.randn(len(x))\n\nax.plot(x, y, '-')\nax.set_ylim(-2, 2)\nax.set_title('Press left mouse button and drag to test')\n\nax2 = fig.add_subplot(212, facecolor='#FFFFCC')\nline2, = ax2.plot(x, y, '-')\n\n\ndef onselect(xmin, xmax):\n    indmin, indmax = np.searchsorted(x, (xmin, xmax))\n    indmax = min(len(x) - 1, indmax)\n\n    thisx = x[indmin:indmax]\n    thisy = y[indmin:indmax]\n    line2.set_data(thisx, thisy)\n    ax2.set_xlim(thisx[0], thisx[-1])\n    ax2.set_ylim(thisy.min(), thisy.max())\n    fig.canvas.draw()\n\n# set useblit True on gtkagg for enhanced performance\nspan = SpanSelector(ax, onselect, 'horizontal', useblit=True,\n                    rectprops=dict(alpha=0.5, facecolor='red'))\n\n\nplt.show()"
      ],
      "outputs": []
    }
  ],
  "nbformat": 4,
  "nbformat_minor": 0
}
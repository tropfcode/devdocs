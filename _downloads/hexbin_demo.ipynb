{
  "metadata": {
    "language_info": {
      "version": "3.5.3",
      "codemirror_mode": {
        "version": 3,
        "name": "ipython"
      },
      "file_extension": ".py",
      "name": "python",
      "nbconvert_exporter": "python",
      "mimetype": "text/x-python",
      "pygments_lexer": "ipython3"
    },
    "kernelspec": {
      "display_name": "Python 3",
      "language": "python",
      "name": "python3"
    }
  },
  "cells": [
    {
      "execution_count": null,
      "cell_type": "code",
      "metadata": {
        "collapsed": false
      },
      "source": [
        "%matplotlib inline"
      ],
      "outputs": []
    },
    {
      "metadata": {},
      "cell_type": "markdown",
      "source": [
        "\n# Hexbin Demo\n\n\nPlotting hexbins with Matplotlib.\n\nHexbin is an axes method or pyplot function that is essentially\na pcolor of a 2-D histogram with hexagonal cells.  It can be\nmuch more informative than a scatter plot. In the first subplot\nbelow, try substituting 'scatter' for 'hexbin'.\n\n"
      ]
    },
    {
      "execution_count": null,
      "cell_type": "code",
      "metadata": {
        "collapsed": false
      },
      "source": [
        "import numpy as np\nimport matplotlib.pyplot as plt\nimport matplotlib.mlab as mlab\n\n# Fixing random state for reproducibility\nnp.random.seed(19680801)\n\nn = 100000\nx = np.random.standard_normal(n)\ny = 2.0 + 3.0 * x + 4.0 * np.random.standard_normal(n)\nxmin = x.min()\nxmax = x.max()\nymin = y.min()\nymax = y.max()\n\nfig, axs = plt.subplots(ncols=2, sharey=True, figsize=(7, 4))\nfig.subplots_adjust(hspace=0.5, left=0.07, right=0.93)\nax = axs[0]\nhb = ax.hexbin(x, y, gridsize=50, cmap='inferno')\nax.axis([xmin, xmax, ymin, ymax])\nax.set_title(\"Hexagon binning\")\ncb = fig.colorbar(hb, ax=ax)\ncb.set_label('counts')\n\nax = axs[1]\nhb = ax.hexbin(x, y, gridsize=50, bins='log', cmap='inferno')\nax.axis([xmin, xmax, ymin, ymax])\nax.set_title(\"With a log color scale\")\ncb = fig.colorbar(hb, ax=ax)\ncb.set_label('log10(N)')\n\nplt.show()"
      ],
      "outputs": []
    },
    {
      "metadata": {},
      "cell_type": "markdown",
      "source": [
        "Below we'll simulate some 2-D probability distributions, and show how to\nvisualize them with Matplotlib.\n\n"
      ]
    },
    {
      "execution_count": null,
      "cell_type": "code",
      "metadata": {
        "collapsed": false
      },
      "source": [
        "delta = 0.025\nx = y = np.arange(-3.0, 3.0, delta)\nX, Y = np.meshgrid(x, y)\nZ1 = mlab.bivariate_normal(X, Y, 1.0, 1.0, 0.0, 0.0)\nZ2 = mlab.bivariate_normal(X, Y, 1.5, 0.5, 1, 1)\nZ = Z2 - Z1  # difference of Gaussians\n\nx = X.ravel()\ny = Y.ravel()\nz = Z.ravel()\n\n# make some points 20 times more common than others, but same mean\nxcond = (-1 < x) & (x < 1)\nycond = (-2 < y) & (y < 0)\ncond = xcond & ycond\nxnew = x[cond]\nynew = y[cond]\nznew = z[cond]\nfor i in range(20):\n    x = np.hstack((x, xnew))\n    y = np.hstack((y, ynew))\n    z = np.hstack((z, znew))\n\nxmin = x.min()\nxmax = x.max()\nymin = y.min()\nymax = y.max()\n\ngridsize = 30\n\nfig, (ax0, ax1) = plt.subplots(2, 1)\n\nc = ax0.hexbin(x, y, C=z, gridsize=gridsize, marginals=True, cmap=plt.cm.RdBu,\n               vmax=abs(z).max(), vmin=-abs(z).max())\nax0.axis([xmin, xmax, ymin, ymax])\ncb = fig.colorbar(c, ax=ax0)\ncb.set_label('mean value')\n\nc = ax1.hexbin(x, y, gridsize=gridsize, cmap=plt.cm.Blues_r)\nax1.axis([xmin, xmax, ymin, ymax])\ncb = fig.colorbar(c, ax=ax1)\ncb.set_label('N observations')\n\nplt.show()"
      ],
      "outputs": []
    }
  ],
  "nbformat": 4,
  "nbformat_minor": 0
}
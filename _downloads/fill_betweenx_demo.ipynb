{
  "metadata": {
    "language_info": {
      "version": "3.5.3",
      "codemirror_mode": {
        "version": 3,
        "name": "ipython"
      },
      "file_extension": ".py",
      "name": "python",
      "nbconvert_exporter": "python",
      "mimetype": "text/x-python",
      "pygments_lexer": "ipython3"
    },
    "kernelspec": {
      "display_name": "Python 3",
      "language": "python",
      "name": "python3"
    }
  },
  "cells": [
    {
      "execution_count": null,
      "cell_type": "code",
      "metadata": {
        "collapsed": false
      },
      "source": [
        "%matplotlib inline"
      ],
      "outputs": []
    },
    {
      "metadata": {},
      "cell_type": "markdown",
      "source": [
        "\n# Fill Betweenx Demo\n\n\nUsing ``fill_betweenx`` to color between two horizontal curves.\n\n"
      ]
    },
    {
      "execution_count": null,
      "cell_type": "code",
      "metadata": {
        "collapsed": false
      },
      "source": [
        "import matplotlib.pyplot as plt\nimport numpy as np\n\n\ny = np.arange(0.0, 2, 0.01)\nx1 = np.sin(2 * np.pi * y)\nx2 = 1.2 * np.sin(4 * np.pi * y)\n\nfig, [ax1, ax2, ax3] = plt.subplots(3, 1, sharex=True)\n\nax1.fill_betweenx(y, 0, x1)\nax1.set_ylabel('(x1, 0)')\n\nax2.fill_betweenx(y, x1, 1)\nax2.set_ylabel('(x1, 1)')\n\nax3.fill_betweenx(y, x1, x2)\nax3.set_ylabel('(x1, x2)')\nax3.set_xlabel('x')\n\n# now fill between x1 and x2 where a logical condition is met.  Note\n# this is different than calling\n#   fill_between(y[where], x1[where], x2[where])\n# because of edge effects over multiple contiguous regions.\n\nfig, [ax, ax1] = plt.subplots(2, 1, sharex=True)\nax.plot(x1, y, x2, y, color='black')\nax.fill_betweenx(y, x1, x2, where=x2 >= x1, facecolor='green')\nax.fill_betweenx(y, x1, x2, where=x2 <= x1, facecolor='red')\nax.set_title('fill between where')\n\n# Test support for masked arrays.\nx2 = np.ma.masked_greater(x2, 1.0)\nax1.plot(x1, y, x2, y, color='black')\nax1.fill_betweenx(y, x1, x2, where=x2 >= x1, facecolor='green')\nax1.fill_betweenx(y, x1, x2, where=x2 <= x1, facecolor='red')\nax1.set_title('Now regions with x2 > 1 are masked')\n\n# This example illustrates a problem; because of the data\n# gridding, there are undesired unfilled triangles at the crossover\n# points.  A brute-force solution would be to interpolate all\n# arrays to a very fine grid before plotting.\n\nplt.show()"
      ],
      "outputs": []
    }
  ],
  "nbformat": 4,
  "nbformat_minor": 0
}
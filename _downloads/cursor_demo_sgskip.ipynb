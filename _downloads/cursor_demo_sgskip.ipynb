{
  "metadata": {
    "language_info": {
      "version": "3.5.3",
      "codemirror_mode": {
        "version": 3,
        "name": "ipython"
      },
      "file_extension": ".py",
      "name": "python",
      "nbconvert_exporter": "python",
      "mimetype": "text/x-python",
      "pygments_lexer": "ipython3"
    },
    "kernelspec": {
      "display_name": "Python 3",
      "language": "python",
      "name": "python3"
    }
  },
  "cells": [
    {
      "execution_count": null,
      "cell_type": "code",
      "metadata": {
        "collapsed": false
      },
      "source": [
        "%matplotlib inline"
      ],
      "outputs": []
    },
    {
      "metadata": {},
      "cell_type": "markdown",
      "source": [
        "\n# Cursor Demo\n\n\nThis example shows how to use matplotlib to provide a data cursor.  It\nuses matplotlib to draw the cursor and may be a slow since this\nrequires redrawing the figure with every mouse move.\n\nFaster cursoring is possible using native GUI drawing, as in\nwxcursor_demo.py.\n\nThe mpldatacursor and mplcursors third-party packages can be used to achieve a\nsimilar effect.  See\n\n    https://github.com/joferkington/mpldatacursor\n    https://github.com/anntzer/mplcursors\n\n"
      ]
    },
    {
      "execution_count": null,
      "cell_type": "code",
      "metadata": {
        "collapsed": false
      },
      "source": [
        "from __future__ import print_function\nimport matplotlib.pyplot as plt\nimport numpy as np\n\n\nclass Cursor(object):\n    def __init__(self, ax):\n        self.ax = ax\n        self.lx = ax.axhline(color='k')  # the horiz line\n        self.ly = ax.axvline(color='k')  # the vert line\n\n        # text location in axes coords\n        self.txt = ax.text(0.7, 0.9, '', transform=ax.transAxes)\n\n    def mouse_move(self, event):\n        if not event.inaxes:\n            return\n\n        x, y = event.xdata, event.ydata\n        # update the line positions\n        self.lx.set_ydata(y)\n        self.ly.set_xdata(x)\n\n        self.txt.set_text('x=%1.2f, y=%1.2f' % (x, y))\n        plt.draw()\n\n\nclass SnaptoCursor(object):\n    \"\"\"\n    Like Cursor but the crosshair snaps to the nearest x,y point\n    For simplicity, I'm assuming x is sorted\n    \"\"\"\n\n    def __init__(self, ax, x, y):\n        self.ax = ax\n        self.lx = ax.axhline(color='k')  # the horiz line\n        self.ly = ax.axvline(color='k')  # the vert line\n        self.x = x\n        self.y = y\n        # text location in axes coords\n        self.txt = ax.text(0.7, 0.9, '', transform=ax.transAxes)\n\n    def mouse_move(self, event):\n\n        if not event.inaxes:\n            return\n\n        x, y = event.xdata, event.ydata\n\n        indx = min(np.searchsorted(self.x, [x])[0], len(self.x) - 1)\n        x = self.x[indx]\n        y = self.y[indx]\n        # update the line positions\n        self.lx.set_ydata(y)\n        self.ly.set_xdata(x)\n\n        self.txt.set_text('x=%1.2f, y=%1.2f' % (x, y))\n        print('x=%1.2f, y=%1.2f' % (x, y))\n        plt.draw()\n\nt = np.arange(0.0, 1.0, 0.01)\ns = np.sin(2 * 2 * np.pi * t)\nfig, ax = plt.subplots()\n\n# cursor = Cursor(ax)\ncursor = SnaptoCursor(ax, t, s)\nplt.connect('motion_notify_event', cursor.mouse_move)\n\nax.plot(t, s, 'o')\nplt.axis([0, 1, -1, 1])\nplt.show()"
      ],
      "outputs": []
    }
  ],
  "nbformat": 4,
  "nbformat_minor": 0
}
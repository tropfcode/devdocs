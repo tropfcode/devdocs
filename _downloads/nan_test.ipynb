{
  "metadata": {
    "language_info": {
      "version": "3.5.3",
      "codemirror_mode": {
        "version": 3,
        "name": "ipython"
      },
      "file_extension": ".py",
      "name": "python",
      "nbconvert_exporter": "python",
      "mimetype": "text/x-python",
      "pygments_lexer": "ipython3"
    },
    "kernelspec": {
      "display_name": "Python 3",
      "language": "python",
      "name": "python3"
    }
  },
  "cells": [
    {
      "execution_count": null,
      "cell_type": "code",
      "metadata": {
        "collapsed": false
      },
      "source": [
        "%matplotlib inline"
      ],
      "outputs": []
    },
    {
      "metadata": {},
      "cell_type": "markdown",
      "source": [
        "\n# Nan Test\n\n\nExample: simple line plots with NaNs inserted.\n\n"
      ]
    },
    {
      "execution_count": null,
      "cell_type": "code",
      "metadata": {
        "collapsed": false
      },
      "source": [
        "import numpy as np\nimport matplotlib.pyplot as plt\n\nt = np.arange(0.0, 1.0 + 0.01, 0.01)\ns = np.cos(2 * 2 * np.pi * t)\nt[41:60] = np.nan\n\nplt.subplot(2, 1, 1)\nplt.plot(t, s, '-', lw=2)\n\nplt.xlabel('time (s)')\nplt.ylabel('voltage (mV)')\nplt.title('A sine wave with a gap of NaNs between 0.4 and 0.6')\nplt.grid(True)\n\nplt.subplot(2, 1, 2)\nt[0] = np.nan\nt[-1] = np.nan\nplt.plot(t, s, '-', lw=2)\nplt.title('Also with NaN in first and last point')\n\nplt.xlabel('time (s)')\nplt.ylabel('more nans')\nplt.grid(True)\n\nplt.tight_layout()\nplt.show()"
      ],
      "outputs": []
    }
  ],
  "nbformat": 4,
  "nbformat_minor": 0
}
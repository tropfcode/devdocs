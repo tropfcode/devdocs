{
  "metadata": {
    "language_info": {
      "version": "3.5.3",
      "codemirror_mode": {
        "version": 3,
        "name": "ipython"
      },
      "file_extension": ".py",
      "name": "python",
      "nbconvert_exporter": "python",
      "mimetype": "text/x-python",
      "pygments_lexer": "ipython3"
    },
    "kernelspec": {
      "display_name": "Python 3",
      "language": "python",
      "name": "python3"
    }
  },
  "cells": [
    {
      "execution_count": null,
      "cell_type": "code",
      "metadata": {
        "collapsed": false
      },
      "source": [
        "%matplotlib inline"
      ],
      "outputs": []
    },
    {
      "metadata": {},
      "cell_type": "markdown",
      "source": [
        "\n# Embedding In Tk\n\n\n\n"
      ]
    },
    {
      "execution_count": null,
      "cell_type": "code",
      "metadata": {
        "collapsed": false
      },
      "source": [
        "import matplotlib\nmatplotlib.use('TkAgg')\n\nfrom numpy import arange, sin, pi\nfrom matplotlib.backends.backend_tkagg import FigureCanvasTkAgg, NavigationToolbar2TkAgg\n# implement the default mpl key bindings\nfrom matplotlib.backend_bases import key_press_handler\n\n\nfrom matplotlib.figure import Figure\n\nimport sys\nif sys.version_info[0] < 3:\n    import Tkinter as Tk\nelse:\n    import tkinter as Tk\n\nroot = Tk.Tk()\nroot.wm_title(\"Embedding in TK\")\n\n\nf = Figure(figsize=(5, 4), dpi=100)\na = f.add_subplot(111)\nt = arange(0.0, 3.0, 0.01)\ns = sin(2*pi*t)\n\na.plot(t, s)\n\n\n# a tk.DrawingArea\ncanvas = FigureCanvasTkAgg(f, master=root)\ncanvas.show()\ncanvas.get_tk_widget().pack(side=Tk.TOP, fill=Tk.BOTH, expand=1)\n\ntoolbar = NavigationToolbar2TkAgg(canvas, root)\ntoolbar.update()\ncanvas._tkcanvas.pack(side=Tk.TOP, fill=Tk.BOTH, expand=1)\n\n\ndef on_key_event(event):\n    print('you pressed %s' % event.key)\n    key_press_handler(event, canvas, toolbar)\n\ncanvas.mpl_connect('key_press_event', on_key_event)\n\n\ndef _quit():\n    root.quit()     # stops mainloop\n    root.destroy()  # this is necessary on Windows to prevent\n                    # Fatal Python Error: PyEval_RestoreThread: NULL tstate\n\nbutton = Tk.Button(master=root, text='Quit', command=_quit)\nbutton.pack(side=Tk.BOTTOM)\n\nTk.mainloop()\n# If you put root.destroy() here, it will cause an error if\n# the window is closed with the window manager."
      ],
      "outputs": []
    }
  ],
  "nbformat": 4,
  "nbformat_minor": 0
}
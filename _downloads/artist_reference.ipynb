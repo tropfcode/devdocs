{
  "metadata": {
    "language_info": {
      "version": "3.5.3",
      "codemirror_mode": {
        "version": 3,
        "name": "ipython"
      },
      "file_extension": ".py",
      "name": "python",
      "nbconvert_exporter": "python",
      "mimetype": "text/x-python",
      "pygments_lexer": "ipython3"
    },
    "kernelspec": {
      "display_name": "Python 3",
      "language": "python",
      "name": "python3"
    }
  },
  "cells": [
    {
      "execution_count": null,
      "cell_type": "code",
      "metadata": {
        "collapsed": false
      },
      "source": [
        "%matplotlib inline"
      ],
      "outputs": []
    },
    {
      "metadata": {},
      "cell_type": "markdown",
      "source": [
        "\n# Reference for matplotlib artists\n\n\nThis example displays several of matplotlib's graphics primitives (artists)\ndrawn using matplotlib API. A full list of artists and the documentation is\navailable at http://matplotlib.org/api/artist_api.html.\n\nCopyright (c) 2010, Bartosz Telenczuk\nBSD License\n\n"
      ]
    },
    {
      "execution_count": null,
      "cell_type": "code",
      "metadata": {
        "collapsed": false
      },
      "source": [
        "import matplotlib.pyplot as plt\nimport numpy as np\nimport matplotlib.path as mpath\nimport matplotlib.lines as mlines\nimport matplotlib.patches as mpatches\nfrom matplotlib.collections import PatchCollection\n\n\nplt.rcdefaults()\n\n\ndef label(xy, text):\n    y = xy[1] - 0.15  # shift y-value for label so that it's below the artist\n    plt.text(xy[0], y, text, ha=\"center\", family='sans-serif', size=14)\n\n\nfig, ax = plt.subplots()\n# create 3x3 grid to plot the artists\ngrid = np.mgrid[0.2:0.8:3j, 0.2:0.8:3j].reshape(2, -1).T\n\npatches = []\n\n# add a circle\ncircle = mpatches.Circle(grid[0], 0.1, ec=\"none\")\npatches.append(circle)\nlabel(grid[0], \"Circle\")\n\n# add a rectangle\nrect = mpatches.Rectangle(grid[1] - [0.025, 0.05], 0.05, 0.1, ec=\"none\")\npatches.append(rect)\nlabel(grid[1], \"Rectangle\")\n\n# add a wedge\nwedge = mpatches.Wedge(grid[2], 0.1, 30, 270, ec=\"none\")\npatches.append(wedge)\nlabel(grid[2], \"Wedge\")\n\n# add a Polygon\npolygon = mpatches.RegularPolygon(grid[3], 5, 0.1)\npatches.append(polygon)\nlabel(grid[3], \"Polygon\")\n\n# add an ellipse\nellipse = mpatches.Ellipse(grid[4], 0.2, 0.1)\npatches.append(ellipse)\nlabel(grid[4], \"Ellipse\")\n\n# add an arrow\narrow = mpatches.Arrow(grid[5, 0] - 0.05, grid[5, 1] - 0.05, 0.1, 0.1,\n                       width=0.1)\npatches.append(arrow)\nlabel(grid[5], \"Arrow\")\n\n# add a path patch\nPath = mpath.Path\npath_data = [\n    (Path.MOVETO, [0.018, -0.11]),\n    (Path.CURVE4, [-0.031, -0.051]),\n    (Path.CURVE4, [-0.115, 0.073]),\n    (Path.CURVE4, [-0.03, 0.073]),\n    (Path.LINETO, [-0.011, 0.039]),\n    (Path.CURVE4, [0.043, 0.121]),\n    (Path.CURVE4, [0.075, -0.005]),\n    (Path.CURVE4, [0.035, -0.027]),\n    (Path.CLOSEPOLY, [0.018, -0.11])]\ncodes, verts = zip(*path_data)\npath = mpath.Path(verts + grid[6], codes)\npatch = mpatches.PathPatch(path)\npatches.append(patch)\nlabel(grid[6], \"PathPatch\")\n\n# add a fancy box\nfancybox = mpatches.FancyBboxPatch(\n    grid[7] - [0.025, 0.05], 0.05, 0.1,\n    boxstyle=mpatches.BoxStyle(\"Round\", pad=0.02))\npatches.append(fancybox)\nlabel(grid[7], \"FancyBboxPatch\")\n\n# add a line\nx, y = np.array([[-0.06, 0.0, 0.1], [0.05, -0.05, 0.05]])\nline = mlines.Line2D(x + grid[8, 0], y + grid[8, 1], lw=5., alpha=0.3)\nlabel(grid[8], \"Line2D\")\n\ncolors = np.linspace(0, 1, len(patches))\ncollection = PatchCollection(patches, cmap=plt.cm.hsv, alpha=0.3)\ncollection.set_array(np.array(colors))\nax.add_collection(collection)\nax.add_line(line)\n\nplt.axis('equal')\nplt.axis('off')\nplt.tight_layout()\n\nplt.show()"
      ],
      "outputs": []
    }
  ],
  "nbformat": 4,
  "nbformat_minor": 0
}
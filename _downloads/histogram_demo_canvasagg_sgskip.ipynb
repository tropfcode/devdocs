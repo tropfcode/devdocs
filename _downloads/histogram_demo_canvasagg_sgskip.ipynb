{
  "metadata": {
    "language_info": {
      "version": "3.5.3",
      "codemirror_mode": {
        "version": 3,
        "name": "ipython"
      },
      "file_extension": ".py",
      "name": "python",
      "nbconvert_exporter": "python",
      "mimetype": "text/x-python",
      "pygments_lexer": "ipython3"
    },
    "kernelspec": {
      "display_name": "Python 3",
      "language": "python",
      "name": "python3"
    }
  },
  "cells": [
    {
      "execution_count": null,
      "cell_type": "code",
      "metadata": {
        "collapsed": false
      },
      "source": [
        "%matplotlib inline"
      ],
      "outputs": []
    },
    {
      "metadata": {},
      "cell_type": "markdown",
      "source": [
        "\n# Histogram Demo CanvasAgg\n\n\nThis is an example that shows you how to work directly with the agg\nfigure canvas to create a figure using the pythonic API.\n\nIn this example, the contents of the agg canvas are extracted to a\nstring, which can in turn be passed off to PIL or put in a numeric\narray\n\n\n\n"
      ]
    },
    {
      "execution_count": null,
      "cell_type": "code",
      "metadata": {
        "collapsed": false
      },
      "source": [
        "from matplotlib.backends.backend_agg import FigureCanvasAgg\nfrom matplotlib.figure import Figure\nfrom matplotlib.mlab import normpdf\nimport numpy as np\n\nfig = Figure(figsize=(5, 4), dpi=100)\nax = fig.add_subplot(111)\n\ncanvas = FigureCanvasAgg(fig)\n\nmu, sigma = 100, 15\nx = mu + sigma * np.random.randn(10000)\n\n# the histogram of the data\nn, bins, patches = ax.hist(x, 50, normed=1)\n\n# add a 'best fit' line\ny = normpdf(bins, mu, sigma)\nline, = ax.plot(bins, y, 'r--')\nline.set_linewidth(1)\n\nax.set_xlabel('Smarts')\nax.set_ylabel('Probability')\nax.set_title(r'$\\mathrm{Histogram of IQ: }\\mu=100, \\sigma=15$')\n\nax.set_xlim((40, 160))\nax.set_ylim((0, 0.03))\n\ncanvas.draw()\n\ns = canvas.tostring_rgb()  # save this and convert to bitmap as needed\n\n# Get the figure dimensions for creating bitmaps or NumPy arrays,\n# etc.\nl, b, w, h = fig.bbox.bounds\nw, h = int(w), int(h)\n\nif 0:\n    # Convert to a NumPy array\n    X = np.fromstring(s, np.uint8).reshape((h, w, 3))\n\nif 0:\n    # pass off to PIL\n    from PIL import Image\n    im = Image.fromstring(\"RGB\", (w, h), s)\n    im.show()"
      ],
      "outputs": []
    }
  ],
  "nbformat": 4,
  "nbformat_minor": 0
}
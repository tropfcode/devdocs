{
  "metadata": {
    "language_info": {
      "version": "3.5.3",
      "codemirror_mode": {
        "version": 3,
        "name": "ipython"
      },
      "file_extension": ".py",
      "name": "python",
      "nbconvert_exporter": "python",
      "mimetype": "text/x-python",
      "pygments_lexer": "ipython3"
    },
    "kernelspec": {
      "display_name": "Python 3",
      "language": "python",
      "name": "python3"
    }
  },
  "cells": [
    {
      "execution_count": null,
      "cell_type": "code",
      "metadata": {
        "collapsed": false
      },
      "source": [
        "%matplotlib inline"
      ],
      "outputs": []
    },
    {
      "metadata": {},
      "cell_type": "markdown",
      "source": [
        "\n# Anchored Box03\n\n\n\n"
      ]
    },
    {
      "execution_count": null,
      "cell_type": "code",
      "metadata": {
        "collapsed": false
      },
      "source": [
        "from matplotlib.patches import Ellipse\nimport matplotlib.pyplot as plt\nfrom mpl_toolkits.axes_grid1.anchored_artists import AnchoredAuxTransformBox\n\n\nfig, ax = plt.subplots(figsize=(3, 3))\n\nbox = AnchoredAuxTransformBox(ax.transData, loc=2)\nel = Ellipse((0, 0), width=0.1, height=0.4, angle=30)  # in data coordinates!\nbox.drawing_area.add_artist(el)\n\nax.add_artist(box)\n\nplt.show()"
      ],
      "outputs": []
    }
  ],
  "nbformat": 4,
  "nbformat_minor": 0
}
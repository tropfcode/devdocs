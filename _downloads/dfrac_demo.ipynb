{
  "metadata": {
    "language_info": {
      "version": "3.5.3",
      "codemirror_mode": {
        "version": 3,
        "name": "ipython"
      },
      "file_extension": ".py",
      "name": "python",
      "nbconvert_exporter": "python",
      "mimetype": "text/x-python",
      "pygments_lexer": "ipython3"
    },
    "kernelspec": {
      "display_name": "Python 3",
      "language": "python",
      "name": "python3"
    }
  },
  "cells": [
    {
      "execution_count": null,
      "cell_type": "code",
      "metadata": {
        "collapsed": false
      },
      "source": [
        "%matplotlib inline"
      ],
      "outputs": []
    },
    {
      "metadata": {},
      "cell_type": "markdown",
      "source": [
        "\n=========================================\nThe difference between \\\\dfrac and \\\\frac\n=========================================\n\nIn this example, the differences between the \\\\dfrac and \\\\frac TeX macros are\nillustrated; in particular, the difference between display style and text style\nfractions when using Mathtex.\n\n.. versionadded:: 2.1\n\n<div class=\"alert alert-info\"><h4>Note</h4><p>To use \\\\dfrac with the LaTeX engine (text.usetex : True), you need to\n    import the amsmath package with the text.latex.preamble rc, which is\n    an unsupported feature; therefore, it is probably a better idea to just\n    use the \\\\displaystyle option before the \\\\frac macro to get this behavior\n    with the LaTeX engine.</p></div>\n\n\n"
      ]
    },
    {
      "execution_count": null,
      "cell_type": "code",
      "metadata": {
        "collapsed": false
      },
      "source": [
        "import matplotlib.pyplot as plt\n\nfig = plt.figure(figsize=(5.25, 0.75))\nfig.text(0.5, 0.3, r'\\dfrac: $\\dfrac{a}{b}$',\n         horizontalalignment='center', verticalalignment='center')\nfig.text(0.5, 0.7, r'\\frac: $\\frac{a}{b}$',\n         horizontalalignment='center', verticalalignment='center')\nplt.show()"
      ],
      "outputs": []
    }
  ],
  "nbformat": 4,
  "nbformat_minor": 0
}
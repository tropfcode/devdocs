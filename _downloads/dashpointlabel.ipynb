{
  "metadata": {
    "language_info": {
      "version": "3.5.3",
      "codemirror_mode": {
        "version": 3,
        "name": "ipython"
      },
      "file_extension": ".py",
      "name": "python",
      "nbconvert_exporter": "python",
      "mimetype": "text/x-python",
      "pygments_lexer": "ipython3"
    },
    "kernelspec": {
      "display_name": "Python 3",
      "language": "python",
      "name": "python3"
    }
  },
  "cells": [
    {
      "execution_count": null,
      "cell_type": "code",
      "metadata": {
        "collapsed": false
      },
      "source": [
        "%matplotlib inline"
      ],
      "outputs": []
    },
    {
      "metadata": {},
      "cell_type": "markdown",
      "source": [
        "\n# Dashpoint Label\n\n\n\n"
      ]
    },
    {
      "execution_count": null,
      "cell_type": "code",
      "metadata": {
        "collapsed": false
      },
      "source": [
        "import matplotlib.pyplot as plt\n\nDATA = ((1, 3),\n        (2, 4),\n        (3, 1),\n        (4, 2))\n# dash_style =\n#     direction, length, (text)rotation, dashrotation, push\n# (The parameters are varied to show their effects,\n# not for visual appeal).\ndash_style = (\n    (0, 20, -15, 30, 10),\n    (1, 30, 0, 15, 10),\n    (0, 40, 15, 15, 10),\n    (1, 20, 30, 60, 10))\n\nfig, ax = plt.subplots()\n\n(x, y) = zip(*DATA)\nax.plot(x, y, marker='o')\nfor i in range(len(DATA)):\n    (x, y) = DATA[i]\n    (dd, dl, r, dr, dp) = dash_style[i]\n    # print('dashlen call %d' % dl)\n    t = ax.text(x, y, str((x, y)), withdash=True,\n                dashdirection=dd,\n                dashlength=dl,\n                rotation=r,\n                dashrotation=dr,\n                dashpush=dp,\n                )\n\nax.set_xlim((0.0, 5.0))\nax.set_ylim((0.0, 5.0))\n\nplt.show()"
      ],
      "outputs": []
    }
  ],
  "nbformat": 4,
  "nbformat_minor": 0
}
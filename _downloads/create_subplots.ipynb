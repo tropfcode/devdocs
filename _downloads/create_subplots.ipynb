{
  "metadata": {
    "language_info": {
      "version": "3.5.3",
      "codemirror_mode": {
        "version": 3,
        "name": "ipython"
      },
      "file_extension": ".py",
      "name": "python",
      "nbconvert_exporter": "python",
      "mimetype": "text/x-python",
      "pygments_lexer": "ipython3"
    },
    "kernelspec": {
      "display_name": "Python 3",
      "language": "python",
      "name": "python3"
    }
  },
  "cells": [
    {
      "execution_count": null,
      "cell_type": "code",
      "metadata": {
        "collapsed": false
      },
      "source": [
        "%matplotlib inline"
      ],
      "outputs": []
    },
    {
      "metadata": {},
      "cell_type": "markdown",
      "source": [
        "\nEasily creating subplots\n========================\n\nIn early versions of matplotlib, if you wanted to use the pythonic API\nand create a figure instance and from that create a grid of subplots,\npossibly with shared axes, it involved a fair amount of boilerplate\ncode.  e.g.\n\n"
      ]
    },
    {
      "execution_count": null,
      "cell_type": "code",
      "metadata": {
        "collapsed": false
      },
      "source": [
        "import matplotlib.pyplot as plt\nimport numpy as np\n\nx = np.random.randn(50)\n\n# old style\nfig = plt.figure()\nax1 = fig.add_subplot(221)\nax2 = fig.add_subplot(222, sharex=ax1, sharey=ax1)\nax3 = fig.add_subplot(223, sharex=ax1, sharey=ax1)\nax3 = fig.add_subplot(224, sharex=ax1, sharey=ax1)"
      ],
      "outputs": []
    },
    {
      "metadata": {},
      "cell_type": "markdown",
      "source": [
        "Fernando Perez has provided a nice top level method to create in\n:func:`~matplotlib.pyplots.subplots` (note the \"s\" at the end)\neverything at once, and turn on x and y sharing for the whole bunch.\nYou can either unpack the axes individually::\n\n"
      ]
    },
    {
      "execution_count": null,
      "cell_type": "code",
      "metadata": {
        "collapsed": false
      },
      "source": [
        "# new style method 1; unpack the axes\nfig, ((ax1, ax2), (ax3, ax4)) = plt.subplots(2, 2, sharex=True, sharey=True)\nax1.plot(x)"
      ],
      "outputs": []
    },
    {
      "metadata": {},
      "cell_type": "markdown",
      "source": [
        "or get them back as a numrows x numcolumns object array which supports\nnumpy indexing\n\n"
      ]
    },
    {
      "execution_count": null,
      "cell_type": "code",
      "metadata": {
        "collapsed": false
      },
      "source": [
        "# new style method 2; use an axes array\nfig, axs = plt.subplots(2, 2, sharex=True, sharey=True)\naxs[0, 0].plot(x)"
      ],
      "outputs": []
    }
  ],
  "nbformat": 4,
  "nbformat_minor": 0
}